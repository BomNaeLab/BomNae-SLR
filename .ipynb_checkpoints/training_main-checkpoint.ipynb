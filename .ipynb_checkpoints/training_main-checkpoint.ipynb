{
 "cells": [
  {
   "cell_type": "code",
   "id": "initial_id",
   "metadata": {
    "collapsed": true,
    "ExecuteTime": {
     "end_time": "2024-10-13T09:11:13.383264Z",
     "start_time": "2024-10-13T09:11:11.410258Z"
    }
   },
   "source": [
    "# import preprocess as prep\n",
    "import SLR_model\n",
    "import numpy as np\n",
    "import tensorflow as tf\n",
    "from tensorflow import keras\n",
    "import time\n",
    "import os\n",
    "import json\n",
    "import importlib\n",
    "from matplotlib import pyplot as plt\n",
    "import preprocess\n",
    "# from preprocess import person\n",
    "\n",
    "# model will output multiple(5) results/sec, how are we gonna handle it?"
   ],
   "outputs": [],
   "execution_count": 2
  },
  {
   "cell_type": "code",
   "id": "6787d32d",
   "metadata": {
    "ExecuteTime": {
     "end_time": "2024-10-13T09:11:13.402201Z",
     "start_time": "2024-10-13T09:11:13.386254Z"
    }
   },
   "source": [
    " # reload model file\n",
    "importlib.reload(SLR_model)\n",
    "importlib.reload(preprocess)"
   ],
   "outputs": [
    {
     "data": {
      "text/plain": [
       "<module 'preprocess' from 'C:\\\\Users\\\\shd\\\\Documents\\\\capstone\\\\BomNae-SLR\\\\preprocess.py'>"
      ]
     },
     "execution_count": 3,
     "metadata": {},
     "output_type": "execute_result"
    }
   ],
   "execution_count": 3
  },
  {
   "cell_type": "code",
   "id": "000d0485",
   "metadata": {
    "ExecuteTime": {
     "end_time": "2024-10-13T09:11:13.472964Z",
     "start_time": "2024-10-13T09:11:13.467981Z"
    }
   },
   "source": [
    "# Configurations\n",
    "load_size = 256 # number of data to be loaded at once\n",
    "epochs = 20\n",
    "batch_size = 16\n",
    "save_dir = \"saves\"\n",
    "load_dir = \"saves\"\n",
    "# load_path = \"C:/Users/jerry/Desktop/hly/2024-2/cap/BN_SLR/BomNae-SLR/checkpoints.keras\"\n"
   ],
   "outputs": [],
   "execution_count": 4
  },
  {
   "cell_type": "code",
   "id": "1834ce55",
   "metadata": {
    "ExecuteTime": {
     "end_time": "2024-10-13T09:11:13.481934Z",
     "start_time": "2024-10-13T09:11:13.478944Z"
    }
   },
   "source": [
    "model = SLR_model.get_model()"
   ],
   "outputs": [],
   "execution_count": 5
  },
  {
   "cell_type": "code",
   "execution_count": 21,
   "id": "a5bfbc39",
   "metadata": {
    "ExecuteTime": {
     "end_time": "2024-10-08T06:26:43.685444Z",
     "start_time": "2024-10-08T06:26:43.683444Z"
    }
   },
   "outputs": [],
   "source": [
    "# hand input shape: (batch, time, h, w, channels)\n",
    "# pose input shape: (batch, time, channel, features)"
   ]
  },
  {
   "cell_type": "code",
   "execution_count": 24,
   "id": "0526011b",
   "metadata": {
    "ExecuteTime": {
     "end_time": "2024-10-08T06:26:46.059598Z",
     "start_time": "2024-10-08T06:26:46.057598Z"
    }
   },
   "outputs": [],
   "source": [
    "# # 세이브된 모델 로드\n",
    "# load_path = os.join(load_dir, \"check_00-00-00.keras\")\n",
    "# model = SLR_model.load_model(load_path)"
   ]
  },
  {
   "cell_type": "code",
   "execution_count": 1,
   "id": "c4b5a386",
   "metadata": {
    "ExecuteTime": {
     "end_time": "2024-10-08T06:26:46.530597Z",
     "start_time": "2024-10-08T06:26:46.527597Z"
    }
   },
   "outputs": [],
   "source": [
    "# # 안될때 (강제중지 + 초기화)\n",
    "# tf.keras.backend.clear_session()"
   ]
  },
  {
   "cell_type": "code",
   "execution_count": null,
   "id": "0c5c05bc",
   "metadata": {
    "ExecuteTime": {
     "end_time": "2024-10-11T01:39:46.059413Z",
     "start_time": "2024-10-11T01:39:45.416414Z"
    }
   },
   "outputs": [],
   "source": [
    "# l_raws=[]\n",
    "# r_raws=[]\n",
    "# p_raws=[]\n",
    "# y_raws=[]\n",
    "\n",
    "\n",
    "# save_suffix = time.strftime(\"_%d-%H-%M\", time.localtime(time.time()))\n",
    "# check_path = os.path.join(save_dir, \"check\"+save_suffix)\n",
    "# hist_path = os.path.join(save_dir, \"hist\"+save_suffix+\".json\")\n",
    "\n",
    "# model_checkpoint_callback = keras.callbacks.ModelCheckpoint(\n",
    "#     filepath=f'{check_path}.keras',\n",
    "#     monitor='binary_accuracy',\n",
    "#     mode='max',\n",
    "#     save_freq='epoch',\n",
    "#     save_best_only=True)\n",
    "\n",
    "\n",
    "\n",
    "# l_raw, r_raw, p_raw, y_raw = preprocess.load_data(f\"1/1\")\n",
    "\n",
    "# l_raws.append(l_raw)\n",
    "# r_raws.append(r_raw)\n",
    "# p_raws.append(p_raw)\n",
    "# y_raws.append(y_raw)\n",
    "\n",
    "\n",
    "# l_train, each = SLR_model.serialize(l_raws)\n",
    "# r_train, each = SLR_model.serialize(r_raws)\n",
    "# p_train, each = SLR_model.serialize(p_raws, stride=2)\n",
    "# y_train = np.repeat(y_raws, each)\n",
    "# y_train = SLR_model.num_arr2bin(y_train, 12)\n",
    "# x_train = (l_train, r_train, p_train)\n",
    "\n",
    "# # dataset = SLR_model.convert_to_dataset(x_train, y_train, batch_size)\n",
    "# hist = model.fit(x_train, y_train, batch_size = 2, epochs=epochs, callbacks=[model_checkpoint_callback])\n",
    "\n",
    "# with open(hist_path, 'w') as file:\n",
    "#     json.dump(hist.history, file)\n"
   ]
  },
  {
   "cell_type": "code",
   "id": "92dcc80486858dd7",
   "metadata": {
    "jupyter": {
     "is_executing": true
    },
    "ExecuteTime": {
     "start_time": "2024-10-13T09:11:18.614464Z"
    }
   },
   "source": [
    " # reload model file\n",
    "importlib.reload(SLR_model)\n",
    "importlib.reload(preprocess)\n",
    "end_file=preprocess.getoutputdir()\n",
    "\n",
    "save_suffix = time.strftime(\"_%d-%H-%M\", time.localtime(time.time()))\n",
    "check_path = os.path.join(save_dir, \"check\"+save_suffix)\n",
    "hist_path = os.path.join(save_dir, \"hist\"+save_suffix+\".json\")\n",
    "\n",
    "model_checkpoint_callback = keras.callbacks.ModelCheckpoint(\n",
    "    # filepath=f'{check_path}.keras',\n",
    "    filepath=\"check_13_15_10.keras\",\n",
    "    monitor='binary_accuracy',\n",
    "    mode='max',\n",
    "    save_freq='epoch',\n",
    "    save_best_only=True)\n",
    "\n",
    "for i in range(10):\n",
    "    for i in range(1,17):\n",
    "        load_size_j=load_size\n",
    "        l_raws=[]\n",
    "        r_raws=[]\n",
    "        p_raws=[]\n",
    "        y_raws=[]\n",
    "        loss_weights_raws=[]\n",
    "        start_word=\" \"\n",
    "        \n",
    "        for j in os.listdir(os.path.join(preprocess.getoutputdir(),str(i))):\n",
    "            l_raw, r_raw, p_raw, y_raw, loss_weights_raw = preprocess.load_data(f\"{i}/{j}\")\n",
    "            l_raws.append(l_raw)\n",
    "            r_raws.append(r_raw)\n",
    "            p_raws.append(p_raw)\n",
    "            y_raws.append(y_raw)\n",
    "            loss_weights_raws.append(loss_weights_raw)\n",
    "            if len(l_raws)==0:\n",
    "                start_word = j\n",
    "            else:\n",
    "                end_word = j\n",
    "            if len(l_raws)>=load_size:\n",
    "                print(f\"person:{i} : {start_word} ~ {end_word}\")\n",
    "                l_train, each = SLR_model.serialize(l_raws)\n",
    "                r_train, each = SLR_model.serialize(r_raws)\n",
    "                p_train, each, sample_weights = SLR_model.serialize(p_raws, stride=2, loss_weights_list=loss_weights_raws)\n",
    "                x_train = (l_train, r_train, p_train)\n",
    "                \n",
    "                y_train = np.repeat(y_raws, each)\n",
    "                y_train = SLR_model.num_arr2bin(y_train, 12)\n",
    "    \n",
    "                dataset = SLR_model.convert_to_dataset(x_train, y_train, batch_size, sample_weights)\n",
    "                hist = model.fit(dataset, epochs=epochs, callbacks=[model_checkpoint_callback])\n",
    "                \n",
    "                with open(hist_path, 'w') as file:\n",
    "                    json.dump(hist.history, file)\n",
    "                l_raws.clear()\n",
    "                r_raws.clear()\n",
    "                p_raws.clear()\n",
    "                y_raws.clear()\n",
    "                loss_weights_raws.clear()\n",
    "        if len(l_raws)>0:\n",
    "            l_train, each = SLR_model.serialize(l_raws)\n",
    "            r_train, each = SLR_model.serialize(r_raws)\n",
    "            p_train, each, sample_weights = SLR_model.serialize(p_raws, stride=2, loss_weights_list=loss_weights_raws)\n",
    "            x_train = (l_train, r_train, p_train)\n",
    "            \n",
    "            y_train = np.repeat(y_raws, each)\n",
    "            y_train = SLR_model.num_arr2bin(y_train, 12)\n",
    "    \n",
    "            dataset = SLR_model.convert_to_dataset(x_train, y_train, batch_size, sample_weights)\n",
    "            hist = model.fit(dataset, epochs=epochs, callbacks=[model_checkpoint_callback])\n",
    "            \n",
    "            with open(hist_path, 'w') as file:\n",
    "                json.dump(hist.history, file)\n",
    "\n",
    "    "
   ],
   "outputs": [
    {
     "name": "stdout",
     "output_type": "stream",
     "text": [
      "person:1 :   ~ 0256.npz\n",
      "Epoch 1/20\n",
      "\u001B[1m168/168\u001B[0m \u001B[32m━━━━━━━━━━━━━━━━━━━━\u001B[0m\u001B[37m\u001B[0m \u001B[1m3s\u001B[0m 2ms/step - binary_accuracy: 0.6671 - loss: 0.3549\n",
      "Epoch 2/20\n",
      "\u001B[1m168/168\u001B[0m \u001B[32m━━━━━━━━━━━━━━━━━━━━\u001B[0m\u001B[37m\u001B[0m \u001B[1m0s\u001B[0m 2ms/step - binary_accuracy: 0.6134 - loss: 0.3404\n",
      "Epoch 3/20\n",
      "\u001B[1m168/168\u001B[0m \u001B[32m━━━━━━━━━━━━━━━━━━━━\u001B[0m\u001B[37m\u001B[0m \u001B[1m0s\u001B[0m 2ms/step - binary_accuracy: 0.6113 - loss: 0.3317\n",
      "Epoch 4/20\n",
      "\u001B[1m168/168\u001B[0m \u001B[32m━━━━━━━━━━━━━━━━━━━━\u001B[0m\u001B[37m\u001B[0m \u001B[1m0s\u001B[0m 2ms/step - binary_accuracy: 0.6136 - loss: 0.3264\n",
      "Epoch 5/20\n",
      "\u001B[1m168/168\u001B[0m \u001B[32m━━━━━━━━━━━━━━━━━━━━\u001B[0m\u001B[37m\u001B[0m \u001B[1m0s\u001B[0m 2ms/step - binary_accuracy: 0.6142 - loss: 0.3226\n",
      "Epoch 6/20\n",
      "\u001B[1m168/168\u001B[0m \u001B[32m━━━━━━━━━━━━━━━━━━━━\u001B[0m\u001B[37m\u001B[0m \u001B[1m0s\u001B[0m 2ms/step - binary_accuracy: 0.6160 - loss: 0.3195\n",
      "Epoch 7/20\n",
      "\u001B[1m168/168\u001B[0m \u001B[32m━━━━━━━━━━━━━━━━━━━━\u001B[0m\u001B[37m\u001B[0m \u001B[1m0s\u001B[0m 2ms/step - binary_accuracy: 0.6183 - loss: 0.3168\n",
      "Epoch 8/20\n",
      "\u001B[1m168/168\u001B[0m \u001B[32m━━━━━━━━━━━━━━━━━━━━\u001B[0m\u001B[37m\u001B[0m \u001B[1m0s\u001B[0m 2ms/step - binary_accuracy: 0.6219 - loss: 0.3145\n",
      "Epoch 9/20\n",
      "\u001B[1m168/168\u001B[0m \u001B[32m━━━━━━━━━━━━━━━━━━━━\u001B[0m\u001B[37m\u001B[0m \u001B[1m0s\u001B[0m 2ms/step - binary_accuracy: 0.6252 - loss: 0.3124\n",
      "Epoch 10/20\n",
      "\u001B[1m168/168\u001B[0m \u001B[32m━━━━━━━━━━━━━━━━━━━━\u001B[0m\u001B[37m\u001B[0m \u001B[1m0s\u001B[0m 2ms/step - binary_accuracy: 0.6303 - loss: 0.3106\n",
      "Epoch 11/20\n",
      "\u001B[1m168/168\u001B[0m \u001B[32m━━━━━━━━━━━━━━━━━━━━\u001B[0m\u001B[37m\u001B[0m \u001B[1m0s\u001B[0m 2ms/step - binary_accuracy: 0.6354 - loss: 0.3089\n",
      "Epoch 12/20\n",
      "\u001B[1m168/168\u001B[0m \u001B[32m━━━━━━━━━━━━━━━━━━━━\u001B[0m\u001B[37m\u001B[0m \u001B[1m0s\u001B[0m 2ms/step - binary_accuracy: 0.6403 - loss: 0.3073\n",
      "Epoch 13/20\n",
      "\u001B[1m168/168\u001B[0m \u001B[32m━━━━━━━━━━━━━━━━━━━━\u001B[0m\u001B[37m\u001B[0m \u001B[1m0s\u001B[0m 2ms/step - binary_accuracy: 0.6440 - loss: 0.3059\n",
      "Epoch 14/20\n",
      "\u001B[1m168/168\u001B[0m \u001B[32m━━━━━━━━━━━━━━━━━━━━\u001B[0m\u001B[37m\u001B[0m \u001B[1m0s\u001B[0m 2ms/step - binary_accuracy: 0.6486 - loss: 0.3046\n",
      "Epoch 15/20\n",
      "\u001B[1m168/168\u001B[0m \u001B[32m━━━━━━━━━━━━━━━━━━━━\u001B[0m\u001B[37m\u001B[0m \u001B[1m0s\u001B[0m 2ms/step - binary_accuracy: 0.6536 - loss: 0.3032\n",
      "Epoch 16/20\n",
      "\u001B[1m168/168\u001B[0m \u001B[32m━━━━━━━━━━━━━━━━━━━━\u001B[0m\u001B[37m\u001B[0m \u001B[1m0s\u001B[0m 2ms/step - binary_accuracy: 0.6574 - loss: 0.3020\n",
      "Epoch 17/20\n",
      "\u001B[1m168/168\u001B[0m \u001B[32m━━━━━━━━━━━━━━━━━━━━\u001B[0m\u001B[37m\u001B[0m \u001B[1m0s\u001B[0m 2ms/step - binary_accuracy: 0.6623 - loss: 0.3005\n",
      "Epoch 18/20\n",
      "\u001B[1m168/168\u001B[0m \u001B[32m━━━━━━━━━━━━━━━━━━━━\u001B[0m\u001B[37m\u001B[0m \u001B[1m0s\u001B[0m 2ms/step - binary_accuracy: 0.6656 - loss: 0.2993\n",
      "Epoch 19/20\n",
      "\u001B[1m168/168\u001B[0m \u001B[32m━━━━━━━━━━━━━━━━━━━━\u001B[0m\u001B[37m\u001B[0m \u001B[1m0s\u001B[0m 2ms/step - binary_accuracy: 0.6697 - loss: 0.2981\n",
      "Epoch 20/20\n",
      "\u001B[1m168/168\u001B[0m \u001B[32m━━━━━━━━━━━━━━━━━━━━\u001B[0m\u001B[37m\u001B[0m \u001B[1m0s\u001B[0m 2ms/step - binary_accuracy: 0.6727 - loss: 0.2967\n"
     ]
    }
   ],
   "execution_count": null
  },
  {
   "cell_type": "code",
   "id": "14bad08f",
   "metadata": {
    "ExecuteTime": {
     "end_time": "2024-10-13T07:02:08.416813Z",
     "start_time": "2024-10-13T07:02:08.339437Z"
    }
   },
   "source": [
    "plt.plot(range(len(hist.history['loss'])), hist.history['loss'])\n",
    "plt.scatter(range(len(hist.history['loss'])), hist.history['loss'])\n",
    "plt.xlabel(\"epochs\")\n",
    "plt.ylabel(\"loss\")\n",
    "plt.legend([\"loss\"])\n",
    "plt.ylim((0,1))\n",
    "plt.show()"
   ],
   "outputs": [
    {
     "data": {
      "text/plain": [
       "<Figure size 640x480 with 1 Axes>"
      ],
      "image/png": "[encoded data removed]"
     },
     "metadata": {},
     "output_type": "display_data"
    }
   ],
   "execution_count": 7
  },
  {
   "cell_type": "code",
   "id": "c47fff4c",
   "metadata": {
    "ExecuteTime": {
     "end_time": "2024-10-13T07:03:14.857430Z",
     "start_time": "2024-10-13T07:03:14.852446Z"
    }
   },
   "source": [
    "model.metrics_names"
   ],
   "outputs": [
    {
     "data": {
      "text/plain": [
       "['loss', 'compile_metrics']"
      ]
     },
     "execution_count": 8,
     "metadata": {},
     "output_type": "execute_result"
    }
   ],
   "execution_count": 8
  },
  {
   "metadata": {},
   "cell_type": "code",
   "outputs": [],
   "execution_count": null,
   "source": "",
   "id": "fedd1aad3ed6ed7c"
  }
 ],
 "metadata": {
  "kernelspec": {
   "display_name": "slr",
   "language": "python",
   "name": "python3"
  },
  "language_info": {
   "codemirror_mode": {
    "name": "ipython",
    "version": 3
   },
   "file_extension": ".py",
   "mimetype": "text/x-python",
   "name": "python",
   "nbconvert_exporter": "python",
   "pygments_lexer": "ipython3",
   "version": "3.9.20"
  }
 },
 "nbformat": 4,
 "nbformat_minor": 5
}
