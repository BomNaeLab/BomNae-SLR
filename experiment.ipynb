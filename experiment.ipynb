{
 "cells": [
  {
   "cell_type": "code",
   "execution_count": 39,
   "id": "initial_id",
   "metadata": {
    "collapsed": true,
    "jupyter": {
     "outputs_hidden": true
    }
   },
   "outputs": [],
   "source": [
    "import tensorflow as tf\n",
    "import keras\n",
    "from keras import Model\n",
    "from keras import layers\n",
    "from keras import optimizers\n",
    "import numpy as np\n",
    "import matplotlib.pyplot as plt\n",
    "import SLR_model\n",
    "import importlib\n",
    "# from sklearn.model_selection import train_test_split"
   ]
  },
  {
   "cell_type": "code",
   "execution_count": 5,
   "id": "6bd6fb47",
   "metadata": {},
   "outputs": [
    {
     "data": {
      "text/plain": [
       "<module 'SLR_model' from 'c:\\\\Users\\\\jerry\\\\Desktop\\\\hly\\\\2024-2\\\\cap\\\\BN_SLR\\\\BomNae-SLR-1\\\\SLR_model.py'>"
      ]
     },
     "execution_count": 5,
     "metadata": {},
     "output_type": "execute_result"
    }
   ],
   "source": [
    "importlib.reload(SLR_model)"
   ]
  },
  {
   "cell_type": "code",
   "execution_count": 6,
   "id": "ad8327d9",
   "metadata": {},
   "outputs": [],
   "source": [
    "load_size = 32"
   ]
  },
  {
   "cell_type": "code",
   "execution_count": 8,
   "id": "f5cc781f",
   "metadata": {},
   "outputs": [],
   "source": [
    "# dummy x_raw data\n",
    "l_raws = []\n",
    "duration_list = []\n",
    "for i in range(load_size):\n",
    "    h_elem = np.zeros(shape=(4,5,3))\n",
    "    # p_elem = np.zeros(shape=(3,10))\n",
    "    # comb_elem = [h_elem, h_elem, p_elem]\n",
    "    x_elem = []\n",
    "    duration = (np.random.randint(70,91))\n",
    "    duration_list.append(duration)\n",
    "    for j in range(duration): # frame size\n",
    "        x_elem.append(h_elem)\n",
    "        # x_elem.append(comb_elem)\n",
    "    l_raws.append(x_elem)\n",
    "r_raws = []\n",
    "for i in range(load_size):\n",
    "    h_elem = np.zeros(shape=(4,5,3))\n",
    "    # p_elem = np.zeros(shape=(3,10))\n",
    "    # comb_elem = [h_elem, h_elem, p_elem]\n",
    "    x_elem = []\n",
    "    duration = duration_list[i]\n",
    "    for j in range(duration): # frame size\n",
    "        x_elem.append(h_elem)\n",
    "        # x_elem.append(comb_elem)\n",
    "    r_raws.append(x_elem)\n",
    "p_raws = []\n",
    "for i in range(load_size):\n",
    "    # h_elem = np.zeros(shape=(4,5,3))\n",
    "    p_elem = np.zeros(shape=(3,10))\n",
    "    # comb_elem = [h_elem, h_elem, p_elem]\n",
    "    x_elem = []\n",
    "    duration = duration_list[i]\n",
    "    for j in range(duration): # frame size\n",
    "        # x_elem.append(h_elem)\n",
    "        x_elem.append(p_elem)\n",
    "        # x_elem.append(comb_elem)\n",
    "    p_raws.append(x_elem)\n",
    "    \n",
    "loss_weights_raws = []\n",
    "for i in range(load_size):\n",
    "    x_elem = []\n",
    "    duration = duration_list[i]\n",
    "    for j in range(duration): # frame size\n",
    "        x_elem.append(1.0)\n",
    "    loss_weights_raws.append(x_elem)\n",
    "\n",
    "# dummy y_raw data\n",
    "# y_raw = np.random.randint(0,1024,load_size)\n",
    "y_raws = np.zeros(shape=(load_size,), dtype=np.int32)"
   ]
  },
  {
   "cell_type": "code",
   "execution_count": 24,
   "id": "4f3e1d60",
   "metadata": {},
   "outputs": [
    {
     "data": {
      "text/plain": [
       "<module 'SLR_model' from 'c:\\\\Users\\\\jerry\\\\Desktop\\\\hly\\\\2024-2\\\\cap\\\\BN_SLR\\\\BomNae-SLR-1\\\\SLR_model.py'>"
      ]
     },
     "execution_count": 24,
     "metadata": {},
     "output_type": "execute_result"
    }
   ],
   "source": [
    "importlib.reload(SLR_model)"
   ]
  },
  {
   "cell_type": "code",
   "execution_count": 37,
   "id": "d3c528c4",
   "metadata": {},
   "outputs": [
    {
     "name": "stdout",
     "output_type": "stream",
     "text": [
      "32 32\n",
      "y_train shape: ( (113, 12) ,  113 )\n",
      "(16, 12)\n"
     ]
    }
   ],
   "source": [
    "batch_size = 16\n",
    "model = SLR_model.get_model()\n",
    "\n",
    "l_train, each = SLR_model.serialize(l_raws)\n",
    "r_train, each = SLR_model.serialize(r_raws)\n",
    "print(len(p_raws), len(loss_weights_raws))\n",
    "p_train, each, loss_weights = SLR_model.serialize(p_raws, stride=2, loss_weights_list=loss_weights_raws)\n",
    "y_train_truth = np.repeat(y_raws, each)\n",
    "y_train_truth = SLR_model.num_arr2bin(y_train_truth, 12)\n",
    "# check\n",
    "y_train = (y_train_truth, loss_weights)\n",
    "x_train = (l_train, r_train, p_train)\n",
    "\n",
    "print(\"y_train shape: (\", y_train[0].shape,', ', len(y_train[1]), ')')\n",
    "dataset = SLR_model.convert_to_dataset(x_train, y_train, batch_size)\n",
    "for i in dataset:\n",
    "    print(i[1][0].shape)\n",
    "    break\n",
    "# hist = model.fit(dataset, epochs=1)\n"
   ]
  },
  {
   "cell_type": "code",
   "execution_count": null,
   "id": "cd130e2c",
   "metadata": {},
   "outputs": [],
   "source": []
  },
  {
   "cell_type": "code",
   "execution_count": null,
   "id": "37b9236e",
   "metadata": {},
   "outputs": [],
   "source": []
  },
  {
   "cell_type": "markdown",
   "id": "18300b6e",
   "metadata": {},
   "source": [
    "---\n",
    "**keras layer test**"
   ]
  },
  {
   "cell_type": "code",
   "execution_count": 102,
   "id": "0ce9f1fe",
   "metadata": {},
   "outputs": [
    {
     "data": {
      "text/plain": [
       "TensorShape([18, 32, 3, 3])"
      ]
     },
     "execution_count": 102,
     "metadata": {},
     "output_type": "execute_result"
    }
   ],
   "source": [
    "inputs = layers.Input(shape=(32, 3, 10), batch_size=18)\n",
    "# frame channel feat\n",
    "d2 = layers.Dense(3, activation='relu')\n",
    "outputs = layers.TimeDistributed(d2)(inputs)\n",
    "outputs.shape"
   ]
  },
  {
   "cell_type": "code",
   "execution_count": 103,
   "id": "630e52eb",
   "metadata": {},
   "outputs": [
    {
     "data": {
      "text/plain": [
       "TensorShape([18, 3, 32, 3, 1])"
      ]
     },
     "execution_count": 103,
     "metadata": {},
     "output_type": "execute_result"
    }
   ],
   "source": [
    "outputs = layers.Permute((2, 1, 3))(outputs)\n",
    "outputs = tf.expand_dims(outputs, axis=4)\n",
    "outputs.shape"
   ]
  },
  {
   "cell_type": "code",
   "execution_count": 104,
   "id": "72c2ec84",
   "metadata": {},
   "outputs": [],
   "source": [
    "xyz = tf.split(outputs, 3, axis = 1)"
   ]
  },
  {
   "cell_type": "code",
   "execution_count": 105,
   "id": "50248481",
   "metadata": {},
   "outputs": [
    {
     "data": {
      "text/plain": [
       "[<KerasTensor: shape=(18, 1, 32, 3, 1) dtype=float32 (created by layer 'tf.split_3')>,\n",
       " <KerasTensor: shape=(18, 1, 32, 3, 1) dtype=float32 (created by layer 'tf.split_3')>,\n",
       " <KerasTensor: shape=(18, 1, 32, 3, 1) dtype=float32 (created by layer 'tf.split_3')>]"
      ]
     },
     "execution_count": 105,
     "metadata": {},
     "output_type": "execute_result"
    }
   ],
   "source": [
    "xyz"
   ]
  },
  {
   "cell_type": "code",
   "execution_count": 147,
   "id": "b0b57ca9",
   "metadata": {},
   "outputs": [
    {
     "data": {
      "text/plain": [
       "TensorShape([18, 1, 16, 1, 1])"
      ]
     },
     "execution_count": 147,
     "metadata": {},
     "output_type": "execute_result"
    }
   ],
   "source": [
    "c2 = layers.Conv2D(1, (17,3))\n",
    "x = c2(xyz[0])\n",
    "y = c2(xyz[1])\n",
    "z = c2(xyz[2])\n",
    "x.shape"
   ]
  },
  {
   "cell_type": "code",
   "execution_count": 148,
   "id": "0db9f99b",
   "metadata": {},
   "outputs": [
    {
     "data": {
      "text/plain": [
       "TensorShape([18, 16])"
      ]
     },
     "execution_count": 148,
     "metadata": {},
     "output_type": "execute_result"
    }
   ],
   "source": [
    "x = tf.squeeze(x)\n",
    "y = tf.squeeze(y)\n",
    "z = tf.squeeze(z)\n",
    "x.shape"
   ]
  },
  {
   "cell_type": "code",
   "execution_count": 151,
   "id": "401ccee7",
   "metadata": {},
   "outputs": [
    {
     "data": {
      "text/plain": [
       "TensorShape([18, 16, 3])"
      ]
     },
     "execution_count": 151,
     "metadata": {},
     "output_type": "execute_result"
    }
   ],
   "source": [
    "o = tf.stack([x,y,z], axis=2)\n",
    "# o = tf.concat([x,y,z], axis = 0)\n",
    "o.shape"
   ]
  },
  {
   "cell_type": "code",
   "execution_count": 43,
   "id": "26bbd566",
   "metadata": {},
   "outputs": [
    {
     "data": {
      "text/plain": [
       "<KerasTensor: shape=(32, 3, 16, 2) dtype=float32 (created by layer 'tf.compat.v1.squeeze_3')>"
      ]
     },
     "execution_count": 43,
     "metadata": {},
     "output_type": "execute_result"
    }
   ],
   "source": [
    "tf.squeeze(outputs)"
   ]
  },
  {
   "cell_type": "markdown",
   "id": "58655265",
   "metadata": {},
   "source": [
    "- hand model layer test -"
   ]
  },
  {
   "cell_type": "code",
   "execution_count": 145,
   "id": "fc5ba74d",
   "metadata": {},
   "outputs": [
    {
     "data": {
      "text/plain": [
       "TensorShape([32, 16, 2, 3, 1])"
      ]
     },
     "execution_count": 145,
     "metadata": {},
     "output_type": "execute_result"
    }
   ],
   "source": [
    "inputs = layers.Input(shape=(63, 4, 5, 3), batch_size=32)\n",
    "# frame, w, h, channel\n",
    "c21d = Conv2Plus1D(kernel_size=(33,3,3), strides=(2, 1, 1))\n",
    "outputs = c21d(inputs)\n",
    "outputs.shape"
   ]
  },
  {
   "cell_type": "code",
   "execution_count": 59,
   "id": "0a416794",
   "metadata": {},
   "outputs": [
    {
     "data": {
      "text/plain": [
       "TensorShape([32, 96])"
      ]
     },
     "execution_count": 59,
     "metadata": {},
     "output_type": "execute_result"
    }
   ],
   "source": [
    "o2 = layers.Flatten()(outputs)\n",
    "o2.shape"
   ]
  },
  {
   "cell_type": "code",
   "execution_count": 146,
   "id": "7704b34b",
   "metadata": {},
   "outputs": [
    {
     "data": {
      "text/plain": [
       "TensorShape([32, 16, 6])"
      ]
     },
     "execution_count": 146,
     "metadata": {},
     "output_type": "execute_result"
    }
   ],
   "source": [
    "o2 = outputs\n",
    "o2 = layers.Reshape((16, o2.shape[2] * o2.shape[3]* o2.shape[4]))(o2)\n",
    "o2.shape"
   ]
  },
  {
   "cell_type": "markdown",
   "id": "451beb40",
   "metadata": {},
   "source": [
    "- combined layer test"
   ]
  },
  {
   "cell_type": "code",
   "execution_count": 161,
   "id": "2bc944cf",
   "metadata": {},
   "outputs": [
    {
     "data": {
      "text/plain": [
       "TensorShape([32, 240])"
      ]
     },
     "execution_count": 161,
     "metadata": {},
     "output_type": "execute_result"
    }
   ],
   "source": [
    "l_res = layers.Input(shape=(16, 6), batch_size=32)\n",
    "r_res = layers.Input(shape=(16, 6), batch_size=32)\n",
    "p_res = layers.Input(shape=(16, 3), batch_size=32)\n",
    "fl = layers.Flatten()\n",
    "lflt =fl(l_res)\n",
    "rflt = fl(r_res)\n",
    "pflt = fl(p_res)\n",
    "ult_flat = tf.concat([lflt, rflt, pflt], axis = 1)\n",
    "ult_flat.shape"
   ]
  },
  {
   "cell_type": "markdown",
   "id": "6e39bd82",
   "metadata": {},
   "source": [
    "**layer test**\n",
    "\n",
    "---\n",
    "\n",
    "**other experiments**"
   ]
  },
  {
   "cell_type": "code",
   "execution_count": 138,
   "id": "b515109c",
   "metadata": {},
   "outputs": [
    {
     "data": {
      "text/plain": [
       "array([[ 0.1,  0.2,  0.3,  0.4],\n",
       "       [ 1. ,  2. ,  3. ,  4. ],\n",
       "       [11. , 22. , 33. , 44. ]], dtype=float32)"
      ]
     },
     "execution_count": 138,
     "metadata": {},
     "output_type": "execute_result"
    }
   ],
   "source": [
    "asdf = tf.constant(([0.1, 0.2, 0.3, 0.4],[1, 2, 3, 4], [11,22,33,44]))\n",
    "# asdf = tf.expand_dims(asdf, axis=0)\n",
    "\n",
    "asdf.numpy()"
   ]
  },
  {
   "cell_type": "code",
   "execution_count": null,
   "id": "9287d0f3",
   "metadata": {},
   "outputs": [],
   "source": []
  },
  {
   "cell_type": "code",
   "execution_count": 140,
   "id": "212c4425",
   "metadata": {},
   "outputs": [
    {
     "data": {
      "text/plain": [
       "TensorShape([3, 4])"
      ]
     },
     "execution_count": 140,
     "metadata": {},
     "output_type": "execute_result"
    }
   ],
   "source": [
    "ashpe = asdf.shape\n",
    "ashpe"
   ]
  },
  {
   "cell_type": "code",
   "execution_count": 144,
   "id": "d6bf2af3",
   "metadata": {},
   "outputs": [
    {
     "data": {
      "text/plain": [
       "TensorShape([3, 4])"
      ]
     },
     "execution_count": 144,
     "metadata": {},
     "output_type": "execute_result"
    }
   ],
   "source": [
    "asdf = tf.reshape(asdf, (1,12))\n",
    "ashpe"
   ]
  },
  {
   "cell_type": "code",
   "execution_count": 124,
   "id": "de4f2bf1",
   "metadata": {},
   "outputs": [
    {
     "data": {
      "text/plain": [
       "[<tf.Tensor: shape=(1, 4), dtype=float32, numpy=array([[0.1, 0.2, 0.3, 0.4]], dtype=float32)>,\n",
       " <tf.Tensor: shape=(1, 4), dtype=float32, numpy=array([[1., 2., 3., 4.]], dtype=float32)>,\n",
       " <tf.Tensor: shape=(1, 4), dtype=float32, numpy=array([[11., 22., 33., 44.]], dtype=float32)>]"
      ]
     },
     "execution_count": 124,
     "metadata": {},
     "output_type": "execute_result"
    }
   ],
   "source": [
    "ababs = tf.split(asdf, 3)\n",
    "ababs"
   ]
  },
  {
   "cell_type": "code",
   "execution_count": 125,
   "id": "aa34930a",
   "metadata": {},
   "outputs": [
    {
     "data": {
      "text/plain": [
       "<bound method _EagerTensorBase.numpy of <tf.Tensor: shape=(1, 4, 3), dtype=float32, numpy=\n",
       "array([[[ 0.1,  1. , 11. ],\n",
       "        [ 0.2,  2. , 22. ],\n",
       "        [ 0.3,  3. , 33. ],\n",
       "        [ 0.4,  4. , 44. ]]], dtype=float32)>>"
      ]
     },
     "execution_count": 125,
     "metadata": {},
     "output_type": "execute_result"
    }
   ],
   "source": [
    "abab = tf.stack([ababs[0],ababs[1],ababs[2]], axis=2)\n",
    "abab.numpy"
   ]
  },
  {
   "cell_type": "code",
   "execution_count": 99,
   "id": "003f29e0",
   "metadata": {},
   "outputs": [
    {
     "data": {
      "text/plain": [
       "<tf.Tensor: shape=(3, 3), dtype=float32, numpy=\n",
       "array([[ 0.1,  1. , 10. ],\n",
       "       [ 0.2,  2. , 20. ],\n",
       "       [ 0.3,  3. , 30. ]], dtype=float32)>"
      ]
     },
     "execution_count": 99,
     "metadata": {},
     "output_type": "execute_result"
    }
   ],
   "source": [
    "tf.transpose(asdf)"
   ]
  },
  {
   "cell_type": "code",
   "execution_count": 92,
   "id": "93050123",
   "metadata": {},
   "outputs": [
    {
     "name": "stdout",
     "output_type": "stream",
     "text": [
      "[1. 1.]\n",
      "0\n",
      "[1. 1.]\n",
      "1\n",
      "[1. 1.]\n",
      "2\n",
      "[1. 1.]\n",
      "3\n"
     ]
    }
   ],
   "source": [
    "for i,val in enumerate(asdf):\n",
    "    print(val.numpy())\n",
    "    print(i)"
   ]
  },
  {
   "cell_type": "markdown",
   "id": "9316a217",
   "metadata": {},
   "source": [
    "---\n",
    "**Multi input test**"
   ]
  },
  {
   "cell_type": "code",
   "execution_count": 3,
   "id": "73afe2cb",
   "metadata": {},
   "outputs": [],
   "source": [
    "class MultiInputModel(tf.keras.Model):\n",
    "    def __init__(self):\n",
    "        super(MultiInputModel, self).__init__()\n",
    "        \n",
    "        # Define layers for input 1\n",
    "        self.dense1 = tf.keras.layers.Dense(2, activation='relu')\n",
    "        \n",
    "        # Define layers for input 2\n",
    "        self.dense3 = tf.keras.layers.Dense(3, activation='relu')\n",
    "\n",
    "        \n",
    "        # Common layers for both inputs\n",
    "        self.concat = tf.keras.layers.Concatenate()\n",
    "        self.dense_final = tf.keras.layers.Dense(1, activation='sigmoid')\n",
    "    \n",
    "    def call(self, inputs):\n",
    "        # Unpack inputs\n",
    "        input1, input2 = inputs\n",
    "        \n",
    "        # Process input 1\n",
    "        x1 = self.dense1(input1)\n",
    "        \n",
    "        # Process input 2\n",
    "        x2 = self.dense3(input2)\n",
    "        \n",
    "        # Concatenate the processed inputs\n",
    "        x = self.concat([x1, x2])\n",
    "        \n",
    "        # Final dense layer\n",
    "        output = self.dense_final(x)\n",
    "        \n",
    "        return output"
   ]
  },
  {
   "cell_type": "code",
   "execution_count": 7,
   "id": "78211972",
   "metadata": {},
   "outputs": [
    {
     "name": "stdout",
     "output_type": "stream",
     "text": [
      "Model: \"multi_input_model_2\"\n",
      "_________________________________________________________________\n",
      " Layer (type)                Output Shape              Param #   \n",
      "=================================================================\n",
      " dense_6 (Dense)             multiple                  18        \n",
      "                                                                 \n",
      " dense_7 (Dense)             multiple                  15        \n"
     ]
    },
    {
     "name": "stdout",
     "output_type": "stream",
     "text": [
      "                                                                 \n",
      " concatenate_2 (Concatenate)  multiple                 0         \n",
      "                                                                 \n",
      " dense_8 (Dense)             multiple                  6         \n",
      "                                                                 \n",
      "=================================================================\n",
      "Total params: 39\n",
      "Trainable params: 39\n",
      "Non-trainable params: 0\n",
      "_________________________________________________________________\n",
      "Output shape: (32, 1)\n"
     ]
    }
   ],
   "source": [
    "model = MultiInputModel()\n",
    "\n",
    "# Dummy inputs for demonstration (e.g., two inputs with 8 features each)\n",
    "input1 = np.ones((32, 8))  # Batch size 32, 8 features\n",
    "input2 = np.zeros((32, 4))  # Batch size 32, 8 features\n",
    "# input2 = tf.random.normal((32, 4))  # Batch size 32, 8 features\n",
    "\n",
    "# Forward pass\n",
    "output = model([input1, input2])\n",
    "\n",
    "# Print the model summary\n",
    "model.summary()\n",
    "\n",
    "# Print the output shape\n",
    "print(f\"Output shape: {output.shape}\")"
   ]
  },
  {
   "cell_type": "code",
   "execution_count": 8,
   "id": "0820754a",
   "metadata": {},
   "outputs": [
    {
     "name": "stdout",
     "output_type": "stream",
     "text": [
      "1/1 [==============================] - 0s 92ms/step\n"
     ]
    },
    {
     "data": {
      "text/plain": [
       "array([[0.8391424],\n",
       "       [0.8391424],\n",
       "       [0.8391424],\n",
       "       [0.8391424],\n",
       "       [0.8391424],\n",
       "       [0.8391424],\n",
       "       [0.8391424],\n",
       "       [0.8391424],\n",
       "       [0.8391424],\n",
       "       [0.8391424],\n",
       "       [0.8391424],\n",
       "       [0.8391424],\n",
       "       [0.8391424],\n",
       "       [0.8391424],\n",
       "       [0.8391424],\n",
       "       [0.8391424],\n",
       "       [0.8391424],\n",
       "       [0.8391424],\n",
       "       [0.8391424],\n",
       "       [0.8391424],\n",
       "       [0.8391424],\n",
       "       [0.8391424],\n",
       "       [0.8391424],\n",
       "       [0.8391424],\n",
       "       [0.8391424],\n",
       "       [0.8391424],\n",
       "       [0.8391424],\n",
       "       [0.8391424],\n",
       "       [0.8391424],\n",
       "       [0.8391424],\n",
       "       [0.8391424],\n",
       "       [0.8391424]], dtype=float32)"
      ]
     },
     "execution_count": 8,
     "metadata": {},
     "output_type": "execute_result"
    }
   ],
   "source": [
    "model.predict([input1, input2])"
   ]
  }
 ],
 "metadata": {
  "kernelspec": {
   "display_name": "slr",
   "language": "python",
   "name": "python3"
  },
  "language_info": {
   "codemirror_mode": {
    "name": "ipython",
    "version": 3
   },
   "file_extension": ".py",
   "mimetype": "text/x-python",
   "name": "python",
   "nbconvert_exporter": "python",
   "pygments_lexer": "ipython3",
   "version": "3.9.20"
  }
 },
 "nbformat": 4,
 "nbformat_minor": 5
}
