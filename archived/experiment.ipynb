{
 "cells": [
  {
   "cell_type": "code",
   "execution_count": 1,
   "id": "initial_id",
   "metadata": {
    "collapsed": true,
    "jupyter": {
     "outputs_hidden": true
    }
   },
   "outputs": [],
   "source": [
    "import tensorflow as tf\n",
    "import keras\n",
    "from keras import Model\n",
    "from keras import layers\n",
    "from keras import optimizers\n",
    "import numpy as np\n",
    "import matplotlib.pyplot as plt\n",
    "import SLR_model\n",
    "import importlib\n",
    "# from sklearn.model_selection import train_test_split"
   ]
  },
  {
   "cell_type": "code",
   "execution_count": 3,
   "id": "6bd6fb47",
   "metadata": {},
   "outputs": [
    {
     "data": {
      "text/plain": [
       "<module 'SLR_model' from 'c:\\\\Users\\\\jerry\\\\Desktop\\\\hly\\\\2024-2\\\\cap\\\\BN_SLR\\\\BomNae-SLR-1\\\\SLR_model.py'>"
      ]
     },
     "execution_count": 3,
     "metadata": {},
     "output_type": "execute_result"
    }
   ],
   "source": [
    "importlib.reload(SLR_model)"
   ]
  },
  {
   "cell_type": "code",
   "execution_count": null,
   "metadata": {},
   "outputs": [],
   "source": [
    "import preprocess\n",
    "\n",
    "l_raw, r_raw, p_raw, y_raw, loss_weights_raw = preprocess.load_data(f\"1/1\")\n",
    "# l_raws.append(l_raw)\n",
    "# r_raws.append(r_raw)\n",
    "# p_raws.append(p_raw)\n",
    "# y_raws.append(y_raw)\n",
    "# loss_weights_raws.append(loss_weights_raw)\n",
    "\n",
    "# if len(l_raws)>=load_size:\n",
    "# l_train, each = SLR_model.serialize((l_raw,))\n",
    "# r_train, each = SLR_model.serialize((r_raws,))\n",
    "p_train, each, sample_weights = SLR_model.serialize((p_raw,), stride=2, loss_weights_list=(loss_weights_raw,))\n",
    "# x_train = (l_train, r_train, p_train)\n",
    "\n",
    "y_train = np.repeat((y_raw,), each)\n",
    "# y_train = SLR_model.encode_onehot2d(y_train)\n",
    "\n",
    "\n",
    "print(y_train)\n",
    "x = np.linspace(0,len(sample_weights), len(sample_weights))\n",
    "\n",
    "plt.plot(x, sample_weights)\n",
    "\n",
    "# dataset = SLR_model.convert_to_dataset(x_train, y_train, batch_size, sample_weights)\n",
    "# hist = model.fit(dataset, epochs=epochs, callbacks=[model_checkpoint_callback])"
   ]
  },
  {
   "cell_type": "code",
   "execution_count": 4,
   "id": "ad8327d9",
   "metadata": {},
   "outputs": [],
   "source": [
    "load_size = 32"
   ]
  },
  {
   "cell_type": "code",
   "execution_count": 17,
   "id": "f5cc781f",
   "metadata": {},
   "outputs": [
    {
     "ename": "NameError",
     "evalue": "name 'load_size' is not defined",
     "output_type": "error",
     "traceback": [
      "\u001b[1;31m---------------------------------------------------------------------------\u001b[0m",
      "\u001b[1;31mNameError\u001b[0m                                 Traceback (most recent call last)",
      "Cell \u001b[1;32mIn[17], line 4\u001b[0m\n\u001b[0;32m      2\u001b[0m l_raws \u001b[38;5;241m=\u001b[39m []\n\u001b[0;32m      3\u001b[0m duration_list \u001b[38;5;241m=\u001b[39m []\n\u001b[1;32m----> 4\u001b[0m \u001b[38;5;28;01mfor\u001b[39;00m i \u001b[38;5;129;01min\u001b[39;00m \u001b[38;5;28mrange\u001b[39m(\u001b[43mload_size\u001b[49m):\n\u001b[0;32m      5\u001b[0m     h_elem \u001b[38;5;241m=\u001b[39m np\u001b[38;5;241m.\u001b[39mzeros(shape\u001b[38;5;241m=\u001b[39m(\u001b[38;5;241m4\u001b[39m,\u001b[38;5;241m5\u001b[39m,\u001b[38;5;241m3\u001b[39m))\n\u001b[0;32m      6\u001b[0m     \u001b[38;5;66;03m# p_elem = np.zeros(shape=(3,10))\u001b[39;00m\n\u001b[0;32m      7\u001b[0m     \u001b[38;5;66;03m# comb_elem = [h_elem, h_elem, p_elem]\u001b[39;00m\n",
      "\u001b[1;31mNameError\u001b[0m: name 'load_size' is not defined"
     ]
    }
   ],
   "source": [
    "# dummy x_raw data\n",
    "l_raws = []\n",
    "duration_list = []\n",
    "for i in range(load_size):\n",
    "    h_elem = np.zeros(shape=(4,5,3))\n",
    "    # p_elem = np.zeros(shape=(3,10))\n",
    "    # comb_elem = [h_elem, h_elem, p_elem]\n",
    "    x_elem = []\n",
    "    duration = (np.random.randint(70,91))\n",
    "    duration_list.append(duration)\n",
    "    for j in range(duration): # frame size\n",
    "        x_elem.append(h_elem)\n",
    "        # x_elem.append(comb_elem)\n",
    "    l_raws.append(x_elem)\n",
    "r_raws = []\n",
    "for i in range(load_size):\n",
    "    h_elem = np.zeros(shape=(4,5,3))\n",
    "    # p_elem = np.zeros(shape=(3,10))\n",
    "    # comb_elem = [h_elem, h_elem, p_elem]\n",
    "    x_elem = []\n",
    "    duration = duration_list[i]\n",
    "    for j in range(duration): # frame size\n",
    "        x_elem.append(h_elem)\n",
    "        # x_elem.append(comb_elem)\n",
    "    r_raws.append(x_elem)\n",
    "p_raws = []\n",
    "for i in range(load_size):\n",
    "    # h_elem = np.zeros(shape=(4,5,3))\n",
    "    p_elem = np.zeros(shape=(3,10))\n",
    "    # comb_elem = [h_elem, h_elem, p_elem]\n",
    "    x_elem = []\n",
    "    duration = duration_list[i]\n",
    "    for j in range(duration): # frame size\n",
    "        # x_elem.append(h_elem)\n",
    "        x_elem.append(p_elem)\n",
    "        # x_elem.append(comb_elem)\n",
    "    p_raws.append(x_elem)\n",
    "    \n",
    "loss_weights_raws = []\n",
    "for i in range(load_size):\n",
    "    x_elem = []\n",
    "    duration = duration_list[i]\n",
    "    for j in range(duration): # frame size\n",
    "        x_elem.append(2.0)\n",
    "    loss_weights_raws.append(x_elem)\n",
    "\n",
    "# dummy y_raw data\n",
    "# y_raw = np.random.randint(0,1024,load_size)\n",
    "y_raws = np.full((load_size,), 2048,  dtype=np.int32)"
   ]
  },
  {
   "cell_type": "code",
   "execution_count": 14,
   "id": "4f3e1d60",
   "metadata": {},
   "outputs": [
    {
     "data": {
      "text/plain": [
       "<module 'SLR_model' from 'c:\\\\Users\\\\jerry\\\\Desktop\\\\hly\\\\2024-2\\\\cap\\\\BN_SLR\\\\BomNae-SLR-1\\\\SLR_model.py'>"
      ]
     },
     "execution_count": 14,
     "metadata": {},
     "output_type": "execute_result"
    }
   ],
   "source": [
    "importlib.reload(SLR_model)"
   ]
  },
  {
   "cell_type": "code",
   "execution_count": 6,
   "id": "2c1b560c",
   "metadata": {},
   "outputs": [],
   "source": [
    "oh = SLR_model.encode_onehot2d([0,0,3,7,6,2])"
   ]
  },
  {
   "cell_type": "code",
   "execution_count": 8,
   "id": "6aa748a8",
   "metadata": {},
   "outputs": [
    {
     "data": {
      "text/plain": [
       "<tf.Tensor: shape=(6, 3000), dtype=float32, numpy=\n",
       "array([[1., 0., 0., ..., 0., 0., 0.],\n",
       "       [1., 0., 0., ..., 0., 0., 0.],\n",
       "       [0., 0., 0., ..., 0., 0., 0.],\n",
       "       [0., 0., 0., ..., 0., 0., 0.],\n",
       "       [0., 0., 0., ..., 0., 0., 0.],\n",
       "       [0., 0., 1., ..., 0., 0., 0.]], dtype=float32)>"
      ]
     },
     "execution_count": 8,
     "metadata": {},
     "output_type": "execute_result"
    }
   ],
   "source": [
    "oh"
   ]
  },
  {
   "cell_type": "code",
   "execution_count": 7,
   "id": "67fec035",
   "metadata": {},
   "outputs": [
    {
     "data": {
      "text/plain": [
       "<tf.Tensor: shape=(6,), dtype=int64, numpy=array([0, 0, 3, 7, 6, 2], dtype=int64)>"
      ]
     },
     "execution_count": 7,
     "metadata": {},
     "output_type": "execute_result"
    }
   ],
   "source": [
    "SLR_model.decode_onehot2d(oh)"
   ]
  },
  {
   "cell_type": "code",
   "execution_count": 16,
   "id": "6aa5a8b8",
   "metadata": {},
   "outputs": [
    {
     "ename": "NameError",
     "evalue": "name 'y_raws' is not defined",
     "output_type": "error",
     "traceback": [
      "\u001b[1;31m---------------------------------------------------------------------------\u001b[0m",
      "\u001b[1;31mNameError\u001b[0m                                 Traceback (most recent call last)",
      "Cell \u001b[1;32mIn[16], line 1\u001b[0m\n\u001b[1;32m----> 1\u001b[0m \u001b[43my_raws\u001b[49m\n",
      "\u001b[1;31mNameError\u001b[0m: name 'y_raws' is not defined"
     ]
    }
   ],
   "source": [
    "y_raws"
   ]
  },
  {
   "cell_type": "code",
   "execution_count": 24,
   "id": "d3c528c4",
   "metadata": {},
   "outputs": [
    {
     "name": "stdout",
     "output_type": "stream",
     "text": [
      "32 32\n",
      "lw_S: 99\n",
      "yt_S: (99, 12)\n",
      "xt[0]_S: (99, 63, 4, 5, 3)\n",
      "(8, 12)\n",
      "\u001b[1m12/12\u001b[0m \u001b[32m━━━━━━━━━━━━━━━━━━━━\u001b[0m\u001b[37m\u001b[0m \u001b[1m7s\u001b[0m 6ms/step - binary_accuracy: 0.8074 - loss: 1.3836\n"
     ]
    }
   ],
   "source": [
    "batch_size = 8\n",
    "# model = SLR_model.reinit_model(True)\n",
    "model = SLR_model.get_model()\n",
    "\n",
    "l_train, each = SLR_model.serialize(l_raws)\n",
    "r_train, each = SLR_model.serialize(r_raws)\n",
    "print(len(p_raws), len(loss_weights_raws))\n",
    "p_train, each, sample_weights = SLR_model.serialize(p_raws, stride=2, loss_weights_list=loss_weights_raws)\n",
    "y_train_truth = np.repeat(y_raws, each)\n",
    "y_train_truth1 = SLR_model.num_arr2bin(y_train_truth, 12)\n",
    "# check\n",
    "\n",
    "print(\"lw_S:\", len(sample_weights))\n",
    "print(\"yt_S:\", y_train_truth1.shape)\n",
    "\n",
    "# y_train = tf.concat((y_train_truth1, loss_weights), axis = 1)\n",
    "\n",
    "# y_train = tf.zeros(shape=(113,6,12))\n",
    "x_train = (l_train, r_train, p_train)\n",
    "\n",
    "print(\"xt[0]_S:\", x_train[0].shape)\n",
    "# print(\"y_train shape: (\", y_train[0].shape,', ', len(y_train[1]), ')')\n",
    "dataset = SLR_model.convert_to_dataset(x_train, y_train_truth1, batch_size, sample_weights)\n",
    "for i in dataset:\n",
    "    print(i[1].shape)\n",
    "    break\n",
    "hist = model.fit(dataset, epochs=1)\n"
   ]
  },
  {
   "cell_type": "code",
   "execution_count": 187,
   "id": "cd130e2c",
   "metadata": {},
   "outputs": [],
   "source": [
    "aa = tf.zeros(shape = (3,12), dtype= tf.float32)\n",
    "ab = tf.ones(shape = (3,1),dtype= tf.float32)"
   ]
  },
  {
   "cell_type": "code",
   "execution_count": 189,
   "id": "7befcf86",
   "metadata": {},
   "outputs": [],
   "source": [
    "a = tf.concat((aa, ab), axis=1)"
   ]
  },
  {
   "cell_type": "code",
   "execution_count": 191,
   "id": "96fbf573",
   "metadata": {},
   "outputs": [
    {
     "data": {
      "text/plain": [
       "array([[0., 0., 0., 0., 0., 0., 0., 0., 0., 0., 0., 0., 1.],\n",
       "       [0., 0., 0., 0., 0., 0., 0., 0., 0., 0., 0., 0., 1.],\n",
       "       [0., 0., 0., 0., 0., 0., 0., 0., 0., 0., 0., 0., 1.]],\n",
       "      dtype=float32)"
      ]
     },
     "execution_count": 191,
     "metadata": {},
     "output_type": "execute_result"
    }
   ],
   "source": [
    "a.numpy()"
   ]
  },
  {
   "cell_type": "code",
   "execution_count": 196,
   "id": "37b9236e",
   "metadata": {},
   "outputs": [
    {
     "data": {
      "text/plain": [
       "array([[0., 0., 0., 0., 0., 0., 0., 0., 0., 0., 0., 0.],\n",
       "       [0., 0., 0., 0., 0., 0., 0., 0., 0., 0., 0., 0.],\n",
       "       [0., 0., 0., 0., 0., 0., 0., 0., 0., 0., 0., 0.]], dtype=float32)"
      ]
     },
     "execution_count": 196,
     "metadata": {},
     "output_type": "execute_result"
    }
   ],
   "source": [
    "a[:,:12].numpy()"
   ]
  },
  {
   "cell_type": "code",
   "execution_count": 198,
   "id": "683196e8",
   "metadata": {},
   "outputs": [
    {
     "data": {
      "text/plain": [
       "<tf.Tensor: shape=(3,), dtype=float32, numpy=array([1., 1., 1.], dtype=float32)>"
      ]
     },
     "execution_count": 198,
     "metadata": {},
     "output_type": "execute_result"
    }
   ],
   "source": [
    "a[:,12]"
   ]
  },
  {
   "cell_type": "code",
   "execution_count": null,
   "id": "d8dadc41",
   "metadata": {},
   "outputs": [],
   "source": []
  },
  {
   "cell_type": "code",
   "execution_count": null,
   "id": "da4fc99e",
   "metadata": {},
   "outputs": [],
   "source": []
  },
  {
   "cell_type": "markdown",
   "id": "18300b6e",
   "metadata": {},
   "source": [
    "---\n",
    "**keras layer test**"
   ]
  },
  {
   "cell_type": "code",
   "execution_count": 102,
   "id": "0ce9f1fe",
   "metadata": {},
   "outputs": [
    {
     "data": {
      "text/plain": [
       "TensorShape([18, 32, 3, 3])"
      ]
     },
     "execution_count": 102,
     "metadata": {},
     "output_type": "execute_result"
    }
   ],
   "source": [
    "inputs = layers.Input(shape=(32, 3, 10), batch_size=18)\n",
    "# frame channel feat\n",
    "d2 = layers.Dense(3, activation='relu')\n",
    "outputs = layers.TimeDistributed(d2)(inputs)\n",
    "outputs.shape"
   ]
  },
  {
   "cell_type": "code",
   "execution_count": 103,
   "id": "630e52eb",
   "metadata": {},
   "outputs": [
    {
     "data": {
      "text/plain": [
       "TensorShape([18, 3, 32, 3, 1])"
      ]
     },
     "execution_count": 103,
     "metadata": {},
     "output_type": "execute_result"
    }
   ],
   "source": [
    "outputs = layers.Permute((2, 1, 3))(outputs)\n",
    "outputs = tf.expand_dims(outputs, axis=4)\n",
    "outputs.shape"
   ]
  },
  {
   "cell_type": "code",
   "execution_count": 104,
   "id": "72c2ec84",
   "metadata": {},
   "outputs": [],
   "source": [
    "xyz = tf.split(outputs, 3, axis = 1)"
   ]
  },
  {
   "cell_type": "code",
   "execution_count": 105,
   "id": "50248481",
   "metadata": {},
   "outputs": [
    {
     "data": {
      "text/plain": [
       "[<KerasTensor: shape=(18, 1, 32, 3, 1) dtype=float32 (created by layer 'tf.split_3')>,\n",
       " <KerasTensor: shape=(18, 1, 32, 3, 1) dtype=float32 (created by layer 'tf.split_3')>,\n",
       " <KerasTensor: shape=(18, 1, 32, 3, 1) dtype=float32 (created by layer 'tf.split_3')>]"
      ]
     },
     "execution_count": 105,
     "metadata": {},
     "output_type": "execute_result"
    }
   ],
   "source": [
    "xyz"
   ]
  },
  {
   "cell_type": "code",
   "execution_count": 147,
   "id": "b0b57ca9",
   "metadata": {},
   "outputs": [
    {
     "data": {
      "text/plain": [
       "TensorShape([18, 1, 16, 1, 1])"
      ]
     },
     "execution_count": 147,
     "metadata": {},
     "output_type": "execute_result"
    }
   ],
   "source": [
    "c2 = layers.Conv2D(1, (17,3))\n",
    "x = c2(xyz[0])\n",
    "y = c2(xyz[1])\n",
    "z = c2(xyz[2])\n",
    "x.shape"
   ]
  },
  {
   "cell_type": "code",
   "execution_count": 148,
   "id": "0db9f99b",
   "metadata": {},
   "outputs": [
    {
     "data": {
      "text/plain": [
       "TensorShape([18, 16])"
      ]
     },
     "execution_count": 148,
     "metadata": {},
     "output_type": "execute_result"
    }
   ],
   "source": [
    "x = tf.squeeze(x)\n",
    "y = tf.squeeze(y)\n",
    "z = tf.squeeze(z)\n",
    "x.shape"
   ]
  },
  {
   "cell_type": "code",
   "execution_count": 151,
   "id": "401ccee7",
   "metadata": {},
   "outputs": [
    {
     "data": {
      "text/plain": [
       "TensorShape([18, 16, 3])"
      ]
     },
     "execution_count": 151,
     "metadata": {},
     "output_type": "execute_result"
    }
   ],
   "source": [
    "o = tf.stack([x,y,z], axis=2)\n",
    "# o = tf.concat([x,y,z], axis = 0)\n",
    "o.shape"
   ]
  },
  {
   "cell_type": "code",
   "execution_count": 43,
   "id": "26bbd566",
   "metadata": {},
   "outputs": [
    {
     "data": {
      "text/plain": [
       "<KerasTensor: shape=(32, 3, 16, 2) dtype=float32 (created by layer 'tf.compat.v1.squeeze_3')>"
      ]
     },
     "execution_count": 43,
     "metadata": {},
     "output_type": "execute_result"
    }
   ],
   "source": [
    "tf.squeeze(outputs)"
   ]
  },
  {
   "cell_type": "markdown",
   "id": "58655265",
   "metadata": {},
   "source": [
    "- hand model layer test -"
   ]
  },
  {
   "cell_type": "code",
   "execution_count": 145,
   "id": "fc5ba74d",
   "metadata": {},
   "outputs": [
    {
     "data": {
      "text/plain": [
       "TensorShape([32, 16, 2, 3, 1])"
      ]
     },
     "execution_count": 145,
     "metadata": {},
     "output_type": "execute_result"
    }
   ],
   "source": [
    "inputs = layers.Input(shape=(63, 4, 5, 3), batch_size=32)\n",
    "# frame, w, h, channel\n",
    "c21d = Conv2Plus1D(kernel_size=(33,3,3), strides=(2, 1, 1))\n",
    "outputs = c21d(inputs)\n",
    "outputs.shape"
   ]
  },
  {
   "cell_type": "code",
   "execution_count": 59,
   "id": "0a416794",
   "metadata": {},
   "outputs": [
    {
     "data": {
      "text/plain": [
       "TensorShape([32, 96])"
      ]
     },
     "execution_count": 59,
     "metadata": {},
     "output_type": "execute_result"
    }
   ],
   "source": [
    "o2 = layers.Flatten()(outputs)\n",
    "o2.shape"
   ]
  },
  {
   "cell_type": "code",
   "execution_count": 146,
   "id": "7704b34b",
   "metadata": {},
   "outputs": [
    {
     "data": {
      "text/plain": [
       "TensorShape([32, 16, 6])"
      ]
     },
     "execution_count": 146,
     "metadata": {},
     "output_type": "execute_result"
    }
   ],
   "source": [
    "o2 = outputs\n",
    "o2 = layers.Reshape((16, o2.shape[2] * o2.shape[3]* o2.shape[4]))(o2)\n",
    "o2.shape"
   ]
  },
  {
   "cell_type": "markdown",
   "id": "451beb40",
   "metadata": {},
   "source": [
    "- combined layer test"
   ]
  },
  {
   "cell_type": "code",
   "execution_count": 161,
   "id": "2bc944cf",
   "metadata": {},
   "outputs": [
    {
     "data": {
      "text/plain": [
       "TensorShape([32, 240])"
      ]
     },
     "execution_count": 161,
     "metadata": {},
     "output_type": "execute_result"
    }
   ],
   "source": [
    "l_res = layers.Input(shape=(16, 6), batch_size=32)\n",
    "r_res = layers.Input(shape=(16, 6), batch_size=32)\n",
    "p_res = layers.Input(shape=(16, 3), batch_size=32)\n",
    "fl = layers.Flatten()\n",
    "lflt =fl(l_res)\n",
    "rflt = fl(r_res)\n",
    "pflt = fl(p_res)\n",
    "ult_flat = tf.concat([lflt, rflt, pflt], axis = 1)\n",
    "ult_flat.shape"
   ]
  },
  {
   "cell_type": "markdown",
   "id": "6e39bd82",
   "metadata": {},
   "source": [
    "**layer test**\n",
    "\n",
    "---\n",
    "\n",
    "**other experiments**"
   ]
  },
  {
   "cell_type": "code",
   "execution_count": 138,
   "id": "b515109c",
   "metadata": {},
   "outputs": [
    {
     "data": {
      "text/plain": [
       "array([[ 0.1,  0.2,  0.3,  0.4],\n",
       "       [ 1. ,  2. ,  3. ,  4. ],\n",
       "       [11. , 22. , 33. , 44. ]], dtype=float32)"
      ]
     },
     "execution_count": 138,
     "metadata": {},
     "output_type": "execute_result"
    }
   ],
   "source": [
    "asdf = tf.constant(([0.1, 0.2, 0.3, 0.4],[1, 2, 3, 4], [11,22,33,44]))\n",
    "# asdf = tf.expand_dims(asdf, axis=0)\n",
    "\n",
    "asdf.numpy()"
   ]
  },
  {
   "cell_type": "code",
   "execution_count": null,
   "id": "9287d0f3",
   "metadata": {},
   "outputs": [],
   "source": []
  },
  {
   "cell_type": "code",
   "execution_count": 140,
   "id": "212c4425",
   "metadata": {},
   "outputs": [
    {
     "data": {
      "text/plain": [
       "TensorShape([3, 4])"
      ]
     },
     "execution_count": 140,
     "metadata": {},
     "output_type": "execute_result"
    }
   ],
   "source": [
    "ashpe = asdf.shape\n",
    "ashpe"
   ]
  },
  {
   "cell_type": "code",
   "execution_count": 144,
   "id": "d6bf2af3",
   "metadata": {},
   "outputs": [
    {
     "data": {
      "text/plain": [
       "TensorShape([3, 4])"
      ]
     },
     "execution_count": 144,
     "metadata": {},
     "output_type": "execute_result"
    }
   ],
   "source": [
    "asdf = tf.reshape(asdf, (1,12))\n",
    "ashpe"
   ]
  },
  {
   "cell_type": "code",
   "execution_count": 124,
   "id": "de4f2bf1",
   "metadata": {},
   "outputs": [
    {
     "data": {
      "text/plain": [
       "[<tf.Tensor: shape=(1, 4), dtype=float32, numpy=array([[0.1, 0.2, 0.3, 0.4]], dtype=float32)>,\n",
       " <tf.Tensor: shape=(1, 4), dtype=float32, numpy=array([[1., 2., 3., 4.]], dtype=float32)>,\n",
       " <tf.Tensor: shape=(1, 4), dtype=float32, numpy=array([[11., 22., 33., 44.]], dtype=float32)>]"
      ]
     },
     "execution_count": 124,
     "metadata": {},
     "output_type": "execute_result"
    }
   ],
   "source": [
    "ababs = tf.split(asdf, 3)\n",
    "ababs"
   ]
  },
  {
   "cell_type": "code",
   "execution_count": 125,
   "id": "aa34930a",
   "metadata": {},
   "outputs": [
    {
     "data": {
      "text/plain": [
       "<bound method _EagerTensorBase.numpy of <tf.Tensor: shape=(1, 4, 3), dtype=float32, numpy=\n",
       "array([[[ 0.1,  1. , 11. ],\n",
       "        [ 0.2,  2. , 22. ],\n",
       "        [ 0.3,  3. , 33. ],\n",
       "        [ 0.4,  4. , 44. ]]], dtype=float32)>>"
      ]
     },
     "execution_count": 125,
     "metadata": {},
     "output_type": "execute_result"
    }
   ],
   "source": [
    "abab = tf.stack([ababs[0],ababs[1],ababs[2]], axis=2)\n",
    "abab.numpy"
   ]
  },
  {
   "cell_type": "code",
   "execution_count": 99,
   "id": "003f29e0",
   "metadata": {},
   "outputs": [
    {
     "data": {
      "text/plain": [
       "<tf.Tensor: shape=(3, 3), dtype=float32, numpy=\n",
       "array([[ 0.1,  1. , 10. ],\n",
       "       [ 0.2,  2. , 20. ],\n",
       "       [ 0.3,  3. , 30. ]], dtype=float32)>"
      ]
     },
     "execution_count": 99,
     "metadata": {},
     "output_type": "execute_result"
    }
   ],
   "source": [
    "tf.transpose(asdf)"
   ]
  },
  {
   "cell_type": "code",
   "execution_count": 92,
   "id": "93050123",
   "metadata": {},
   "outputs": [
    {
     "name": "stdout",
     "output_type": "stream",
     "text": [
      "[1. 1.]\n",
      "0\n",
      "[1. 1.]\n",
      "1\n",
      "[1. 1.]\n",
      "2\n",
      "[1. 1.]\n",
      "3\n"
     ]
    }
   ],
   "source": [
    "for i,val in enumerate(asdf):\n",
    "    print(val.numpy())\n",
    "    print(i)"
   ]
  },
  {
   "cell_type": "markdown",
   "id": "9316a217",
   "metadata": {},
   "source": [
    "---\n",
    "**Multi input test**"
   ]
  },
  {
   "cell_type": "code",
   "execution_count": 3,
   "id": "73afe2cb",
   "metadata": {},
   "outputs": [],
   "source": [
    "class MultiInputModel(tf.keras.Model):\n",
    "    def __init__(self):\n",
    "        super(MultiInputModel, self).__init__()\n",
    "        \n",
    "        # Define layers for input 1\n",
    "        self.dense1 = tf.keras.layers.Dense(2, activation='relu')\n",
    "        \n",
    "        # Define layers for input 2\n",
    "        self.dense3 = tf.keras.layers.Dense(3, activation='relu')\n",
    "\n",
    "        \n",
    "        # Common layers for both inputs\n",
    "        self.concat = tf.keras.layers.Concatenate()\n",
    "        self.dense_final = tf.keras.layers.Dense(1, activation='sigmoid')\n",
    "    \n",
    "    def call(self, inputs):\n",
    "        # Unpack inputs\n",
    "        input1, input2 = inputs\n",
    "        \n",
    "        # Process input 1\n",
    "        x1 = self.dense1(input1)\n",
    "        \n",
    "        # Process input 2\n",
    "        x2 = self.dense3(input2)\n",
    "        \n",
    "        # Concatenate the processed inputs\n",
    "        x = self.concat([x1, x2])\n",
    "        \n",
    "        # Final dense layer\n",
    "        output = self.dense_final(x)\n",
    "        \n",
    "        return output"
   ]
  },
  {
   "cell_type": "code",
   "execution_count": 7,
   "id": "78211972",
   "metadata": {},
   "outputs": [
    {
     "name": "stdout",
     "output_type": "stream",
     "text": [
      "Model: \"multi_input_model_2\"\n",
      "_________________________________________________________________\n",
      " Layer (type)                Output Shape              Param #   \n",
      "=================================================================\n",
      " dense_6 (Dense)             multiple                  18        \n",
      "                                                                 \n",
      " dense_7 (Dense)             multiple                  15        \n"
     ]
    },
    {
     "name": "stdout",
     "output_type": "stream",
     "text": [
      "                                                                 \n",
      " concatenate_2 (Concatenate)  multiple                 0         \n",
      "                                                                 \n",
      " dense_8 (Dense)             multiple                  6         \n",
      "                                                                 \n",
      "=================================================================\n",
      "Total params: 39\n",
      "Trainable params: 39\n",
      "Non-trainable params: 0\n",
      "_________________________________________________________________\n",
      "Output shape: (32, 1)\n"
     ]
    }
   ],
   "source": [
    "model = MultiInputModel()\n",
    "\n",
    "# Dummy inputs for demonstration (e.g., two inputs with 8 features each)\n",
    "input1 = np.ones((32, 8))  # Batch size 32, 8 features\n",
    "input2 = np.zeros((32, 4))  # Batch size 32, 8 features\n",
    "# input2 = tf.random.normal((32, 4))  # Batch size 32, 8 features\n",
    "\n",
    "# Forward pass\n",
    "output = model([input1, input2])\n",
    "\n",
    "# Print the model summary\n",
    "model.summary()\n",
    "\n",
    "# Print the output shape\n",
    "print(f\"Output shape: {output.shape}\")"
   ]
  },
  {
   "cell_type": "code",
   "execution_count": 8,
   "id": "0820754a",
   "metadata": {},
   "outputs": [
    {
     "name": "stdout",
     "output_type": "stream",
     "text": [
      "1/1 [==============================] - 0s 92ms/step\n"
     ]
    },
    {
     "data": {
      "text/plain": [
       "array([[0.8391424],\n",
       "       [0.8391424],\n",
       "       [0.8391424],\n",
       "       [0.8391424],\n",
       "       [0.8391424],\n",
       "       [0.8391424],\n",
       "       [0.8391424],\n",
       "       [0.8391424],\n",
       "       [0.8391424],\n",
       "       [0.8391424],\n",
       "       [0.8391424],\n",
       "       [0.8391424],\n",
       "       [0.8391424],\n",
       "       [0.8391424],\n",
       "       [0.8391424],\n",
       "       [0.8391424],\n",
       "       [0.8391424],\n",
       "       [0.8391424],\n",
       "       [0.8391424],\n",
       "       [0.8391424],\n",
       "       [0.8391424],\n",
       "       [0.8391424],\n",
       "       [0.8391424],\n",
       "       [0.8391424],\n",
       "       [0.8391424],\n",
       "       [0.8391424],\n",
       "       [0.8391424],\n",
       "       [0.8391424],\n",
       "       [0.8391424],\n",
       "       [0.8391424],\n",
       "       [0.8391424],\n",
       "       [0.8391424]], dtype=float32)"
      ]
     },
     "execution_count": 8,
     "metadata": {},
     "output_type": "execute_result"
    }
   ],
   "source": [
    "model.predict([input1, input2])"
   ]
  }
 ],
 "metadata": {
  "kernelspec": {
   "display_name": "slr",
   "language": "python",
   "name": "python3"
  },
  "language_info": {
   "codemirror_mode": {
    "name": "ipython",
    "version": 3
   },
   "file_extension": ".py",
   "mimetype": "text/x-python",
   "name": "python",
   "nbconvert_exporter": "python",
   "pygments_lexer": "ipython3",
   "version": "3.9.20"
  }
 },
 "nbformat": 4,
 "nbformat_minor": 5
}
