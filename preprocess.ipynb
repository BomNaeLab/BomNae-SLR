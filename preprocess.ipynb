{
 "cells": [
  {
   "metadata": {
    "ExecuteTime": {
     "end_time": "2024-10-11T06:47:53.111312Z",
     "start_time": "2024-10-11T06:47:53.021168Z"
    }
   },
   "cell_type": "code",
   "source": [
    "import os\n",
    "import json\n",
    "import numpy as np\n",
    "\n",
    "data_dir = 'G:/signData'\n",
    "\n",
    "train_dir = os.path.join(data_dir,'train')\n",
    "val_dir = os.path.join(data_dir,'valid')\n",
    "\n",
    "output_dir = os.path.join(data_dir,'nptxt')\n",
    "val_output_dir = os.path.join(data_dir,\"nptxt_val\")\n",
    "\n",
    "train_landmark_dir = os.path.join(train_dir,'label','landmark')\n",
    "train_morpheme_dir = os.path.join(train_dir,'label','morpheme')\n",
    "\n",
    "val_landmark_dir = os.path.join(val_dir,'landmark')\n",
    "val_morpheme_dir = os.path.join(val_dir,'morpheme')"
   ],
   "id": "4edd290bccd2f228",
   "outputs": [],
   "execution_count": 2
  },
  {
   "metadata": {
    "ExecuteTime": {
     "end_time": "2024-10-11T06:54:05.757974Z",
     "start_time": "2024-10-11T06:54:05.753857Z"
    }
   },
   "cell_type": "code",
   "source": [
    "def weight_calc(F, a, b, x):\n",
    "    fps=30\n",
    "    a_frame = a * fps  # a를 프레임 단위로 변환\n",
    "    b_frame = b * fps  # b를 프레임 단위로 변환\n",
    "    x_frame = x * fps  # x(영상의 길이)를 프레임 단위로 변환\n",
    "    if F < a_frame:\n",
    "        return 0\n",
    "    elif a_frame <= F < a_frame + 2 * fps:\n",
    "        return (F - a_frame) / (2 * fps)\n",
    "    elif a_frame + 2 * fps <= F < b_frame:\n",
    "        return 1\n",
    "    elif b_frame <= F <= x_frame:\n",
    "        return 1 - ((F - b_frame) / (x_frame - b_frame)) * 0.5\n",
    "    else:\n",
    "        return 0.5\n",
    "\t"
   ],
   "id": "7463029f1b6f6998",
   "outputs": [],
   "execution_count": 11
  },
  {
   "metadata": {
    "ExecuteTime": {
     "end_time": "2024-10-11T06:56:41.355465Z",
     "start_time": "2024-10-11T06:56:41.353008Z"
    }
   },
   "cell_type": "code",
   "source": "print(weight_calc(113,1.743,3.103,4.867))",
   "id": "8b240d7ef8daed87",
   "outputs": [
    {
     "name": "stdout",
     "output_type": "stream",
     "text": [
      "0.811885865457294\n"
     ]
    }
   ],
   "execution_count": 24
  },
  {
   "metadata": {
    "ExecuteTime": {
     "end_time": "2024-10-11T06:48:00.607114Z",
     "start_time": "2024-10-11T06:48:00.544346Z"
    }
   },
   "cell_type": "code",
   "source": [
    "#train data\n",
    "start_person=\"01\"\n",
    "start_word=\"0001\"\n",
    "#사람별 데이터(01~16)\n",
    "for person in os.listdir(train_landmark_dir):\n",
    "    #중간부터 다시 데이터 변환시 체크포인트\n",
    "    if int(person) < int(start_person):\n",
    "        continue\n",
    "        \n",
    "    #변환 데이터 저장시 사람 폴더 생성(01~16)\n",
    "    person_output_path = os.path.join(output_dir, str(int(person)))\n",
    "    os.makedirs(person_output_path, exist_ok=True)\n",
    "    \n",
    "    #각 단어별 좌표값 및 단어 뜻 순회. \n",
    "    for word_coords,word_morpheme in zip(os.listdir(os.path.join(train_landmark_dir, person)),os.listdir(os.path.join(train_morpheme_dir, person))):\n",
    "        #중간부터 다시 데이터 변환시 체크 포인트\n",
    "        if int(word_coords[11:15]) <int(start_word):\n",
    "            continue\n",
    "        #정면카메라 외 다른 방향 카메라도 3d좌표값은 동일하여 한개의 방향에서만 데이터 추출\n",
    "        #단어 별 뜻, 단어의 할당 넘버,영상 길이와 영상 내 수어 구간 추출\n",
    "        if \"F\" in word_morpheme:\n",
    "            file_path = os.path.join(train_morpheme_dir, person, word_morpheme)\n",
    "            morpheme_file_path = os.path.join(train_morpheme_dir, person, word_morpheme)\n",
    "            with open(morpheme_file_path, 'r', encoding=\"UTF8\") as morpheme_file:\n",
    "                data = json.load(morpheme_file)\n",
    "                try:\n",
    "                    name = data['data'][0]['attributes'][0]['name']\n",
    "                    num = data['metaData']['name'][11:15]\n",
    "                    start_sign = data[\"data\"][0][\"start\"]\n",
    "                    end_sign = data[\"data\"][0][\"end\"]\n",
    "                    duration = data[\"metaData\"][\"duration\"]\n",
    "                #결측치 오류 검출   \n",
    "                except IndexError as e:\n",
    "                    name=False\n",
    "                    print(f\"Error reading {morpheme_file_path}: {e}\")\n",
    "                    continue\n",
    "        #각 단어 별 좌표 순회시, 단어 뜻이 결측치인 데이터는 제외\n",
    "        if \"F\" in word_coords and name is not False:\n",
    "            wordCoordL = np.empty((0, 4, 5, 3))  \n",
    "            wordCoordR = np.empty((0, 4, 5, 3))\n",
    "            wordCoordP = np.empty((0, 3, 10))\n",
    "            wordWeight = []\n",
    "            #단어 영상의 각 프레임별 좌표값 추출            \n",
    "            for frame in os.listdir(os.path.join(train_landmark_dir, person, word_coords)):\n",
    "                \n",
    "                file_path = os.path.join(train_landmark_dir, person, word_coords, frame)\n",
    "                frame_num=int(frame[25:38])\n",
    "                with open(file_path, 'r') as json_file:\n",
    "                    data = json.load(json_file)\n",
    "                    lh_points = data['people']['hand_left_keypoints_3d']\n",
    "                    rh_points = data['people']['hand_right_keypoints_3d']\n",
    "                    p_points = data['people']['pose_keypoints_3d']\n",
    "                    #포즈 좌표값 추출\n",
    "                    #1920x1080영상을 메디어파이프의 특성상 영상의 중심을 기준으로 1080x1080으로 잘라서 기존 죄표를 픽셀 값으로 변환 후 \n",
    "                    # 다시 미디어 파이프와 같은 스케일인 0~1사이 값으로 정규화\n",
    "                    #z좌표는 미디어파이프의 기준이 되는 랜드마크의 좌표 활용하여 계산\n",
    "                    \n",
    "                    preFrameCoordP = np.array([[(960 * p_points[i] + 960 - 420) / (1500 - 420), \n",
    "                                                (1080 * p_points[i + 1] + 540) / 1080,\n",
    "                                                (p_points[32 + 2] - p_points[i + 2]) / 10]\n",
    "                                               for i in range(0, len(p_points), 4)], dtype=np.float32)\n",
    "\n",
    "                    preFrameCoordL = np.array([[(960 * lh_points[i] + 960 - 420) / (1500 - 420),\n",
    "                                                (1080 * lh_points[i + 1] + 540) / 1080,\n",
    "                                                (lh_points[2] - lh_points[i + 2]) / 10]\n",
    "                                               for i in range(4, len(lh_points), 4)], dtype=np.float32)\n",
    "\n",
    "                    preFrameCoordR = np.array([[(960 * rh_points[i] + 960 - 420) / (1500 - 420),\n",
    "                                                (1080 * rh_points[i + 1] + 540) / 1080,\n",
    "                                                (rh_points[2] - rh_points[i + 2]) / 10]\n",
    "                                               for i in range(4, len(rh_points), 4)], dtype=np.float32)\n",
    "                    \n",
    "                    #포즈 좌표에서 하반신 랜드마크 제외\n",
    "                    preFrameCoordP = preFrameCoordP[[i for i in range(19) if (0 <= i <= 7) or (17 <= i <= 18)]]\n",
    "                    \n",
    "                    #랜드마크 값들을 모델 트레이닝에 적합한 모양으로 재배열.\n",
    "                    frameCoordL=preFrameCoordL.reshape(5,4,3).transpose(1,0,2)[::-1]\n",
    "                    frameCoordR=preFrameCoordR.reshape(5,4,3).transpose(1,0,2)[::-1]\n",
    "                    frameCoordP=preFrameCoordP.T\n",
    "                    #한 단어의 프레임 별 좌표를 하나의 넘파이 배열로 저장\n",
    "                    wordCoordL = np.append(wordCoordL, [frameCoordL], axis=0)\n",
    "                    wordCoordR = np.append(wordCoordR, [frameCoordR], axis=0)\n",
    "                    wordCoordP = np.append(wordCoordP, [frameCoordP], axis=0)\n",
    "                    wordWeight.append(weight_calc(frame_num,start_sign,end_sign,duration))\n",
    "                    \n",
    "            label=[name,start_sign,end_sign,duration]\n",
    "            word_output_path = os.path.join(person_output_path, f'{num}.npz')\n",
    "            np.savez(word_output_path, wordCoordL=wordCoordL, wordCoordR=wordCoordR, wordCoordP=wordCoordP, label=label, weight=wordWeight)\n",
    "            print(f\"Saved {word_output_path}\")\n",
    "            count+=1\n",
    "        else:\n",
    "            continue\n"
   ],
   "id": "37fb7fe46456a14c",
   "outputs": [
    {
     "ename": "FileNotFoundError",
     "evalue": "[Errno 2] No such file or directory: 'G:/signData/train/label/landmark'",
     "output_type": "error",
     "traceback": [
      "\u001B[0;31m---------------------------------------------------------------------------\u001B[0m",
      "\u001B[0;31mFileNotFoundError\u001B[0m                         Traceback (most recent call last)",
      "Cell \u001B[0;32mIn[4], line 5\u001B[0m\n\u001B[1;32m      3\u001B[0m start_word\u001B[38;5;241m=\u001B[39m\u001B[38;5;124m\"\u001B[39m\u001B[38;5;124m0001\u001B[39m\u001B[38;5;124m\"\u001B[39m\n\u001B[1;32m      4\u001B[0m \u001B[38;5;66;03m#사람별 데이터(01~16)\u001B[39;00m\n\u001B[0;32m----> 5\u001B[0m \u001B[38;5;28;01mfor\u001B[39;00m person \u001B[38;5;129;01min\u001B[39;00m \u001B[43mos\u001B[49m\u001B[38;5;241;43m.\u001B[39;49m\u001B[43mlistdir\u001B[49m\u001B[43m(\u001B[49m\u001B[43mtrain_landmark_dir\u001B[49m\u001B[43m)\u001B[49m:\n\u001B[1;32m      6\u001B[0m     \u001B[38;5;66;03m#중간부터 다시 데이터 변환시 체크포인트\u001B[39;00m\n\u001B[1;32m      7\u001B[0m     \u001B[38;5;28;01mif\u001B[39;00m \u001B[38;5;28mint\u001B[39m(person) \u001B[38;5;241m<\u001B[39m \u001B[38;5;28mint\u001B[39m(start_person):\n\u001B[1;32m      8\u001B[0m         \u001B[38;5;28;01mcontinue\u001B[39;00m\n",
      "\u001B[0;31mFileNotFoundError\u001B[0m: [Errno 2] No such file or directory: 'G:/signData/train/label/landmark'"
     ]
    }
   ],
   "execution_count": 4
  },
  {
   "metadata": {
    "ExecuteTime": {
     "end_time": "2024-10-09T08:33:23.947673Z",
     "start_time": "2024-10-09T08:33:19.832553Z"
    }
   },
   "cell_type": "code",
   "source": [
    "#val data\n",
    "start_person=\"01\"\n",
    "start_word=\"0001\"\n",
    "#사람별 데이터(01~16)\n",
    "for person in os.listdir(val_landmark_dir):  # train_landmark_dir -> val_landmark_dir\n",
    "    #중간부터 다시 데이터 변환시 체크포인트\n",
    "    if int(person) < int(start_person):\n",
    "        continue\n",
    "        \n",
    "    #변환 데이터 저장시 사람 폴더 생성(01~16)\n",
    "    person_output_path = os.path.join(output_dir, str(int(person)))\n",
    "    os.makedirs(person_output_path, exist_ok=True)\n",
    "    \n",
    "    #각 단어별 좌표값 및 단어 뜻 순회. \n",
    "    for word_coords,word_morpheme in zip(os.listdir(os.path.join(val_landmark_dir, person)),os.listdir(os.path.join(val_morpheme_dir, person))):  # train_landmark_dir -> val_landmark_dir, train_morpheme_dir -> val_morpheme_dir\n",
    "        #중간부터 다시 데이터 변환시 체크 포인트\n",
    "        if int(word_coords[11:15]) < int(start_word):\n",
    "            continue\n",
    "        #정면카메라 외 다른 방향 카메라도 3d좌표값은 동일하여 한개의 방향에서만 데이터 추출\n",
    "        #단어 별 뜻, 단어의 할당 넘버,영상 길이와 영상 내 수어 구간 추출\n",
    "        if \"F\" in word_morpheme:\n",
    "            file_path = os.path.join(val_morpheme_dir, person, word_morpheme)  # train_morpheme_dir -> val_morpheme_dir\n",
    "            morpheme_file_path = os.path.join(val_morpheme_dir, person, word_morpheme)  # train_morpheme_dir -> val_morpheme_dir\n",
    "            with open(morpheme_file_path, 'r', encoding=\"UTF8\") as morpheme_file:\n",
    "                data = json.load(morpheme_file)\n",
    "                try:\n",
    "                    name = data['data'][0]['attributes'][0]['name']\n",
    "                    num = data['metaData']['name'][11:15]\n",
    "                    start_sign = data[\"data\"][0][\"start\"]\n",
    "                    end_sign = data[\"data\"][0][\"end\"]\n",
    "                    duration = data[\"metaData\"][\"duration\"]\n",
    "                #결측치 오류 검출   \n",
    "                except IndexError as e:\n",
    "                    name = False\n",
    "                    print(f\"Error reading {morpheme_file_path}: {e}\")\n",
    "                    continue\n",
    "        #각 단어 별 좌표 순회시, 단어 뜻이 결측치인 데이터는 제외\n",
    "        if \"F\" in word_coords and name is not False:\n",
    "            wordCoordL = np.empty((0, 4, 5, 3))  \n",
    "            wordCoordR = np.empty((0, 4, 5, 3))\n",
    "            wordCoordP = np.empty((0, 3, 10))\n",
    "            wordWeight = []\n",
    "            #단어 영상의 각 프레임별 좌표값 추출            \n",
    "            for frame in os.listdir(os.path.join(val_landmark_dir, person, word_coords)):  # train_landmark_dir -> val_landmark_dir\n",
    "                file_path = os.path.join(val_landmark_dir, person, word_coords, frame)  # train_landmark_dir -> val_landmark_dir\n",
    "                frame_num = int(frame[25:38])\n",
    "                with open(file_path, 'r') as json_file:\n",
    "                    data = json.load(json_file)\n",
    "                    lh_points = data['people']['hand_left_keypoints_3d']\n",
    "                    rh_points = data['people']['hand_right_keypoints_3d']\n",
    "                    p_points = data['people']['pose_keypoints_3d']\n",
    "                    #포즈 좌표값 추출 및 정규화 코드 동일\n",
    "                    preFrameCoordP = np.array([[(960 * p_points[i] + 960 - 420) / (1500 - 420), \n",
    "                                                (1080 * p_points[i + 1] + 540) / 1080,\n",
    "                                                (p_points[32 + 2] - p_points[i + 2]) / 10]\n",
    "                                               for i in range(0, len(p_points), 4)], dtype=np.float32)\n",
    "\n",
    "                    preFrameCoordL = np.array([[(960 * lh_points[i] + 960 - 420) / (1500 - 420),\n",
    "                                                (1080 * lh_points[i + 1] + 540) / 1080,\n",
    "                                                (lh_points[2] - lh_points[i + 2]) / 10]\n",
    "                                               for i in range(4, len(lh_points), 4)], dtype=np.float32)\n",
    "\n",
    "                    preFrameCoordR = np.array([[(960 * rh_points[i] + 960 - 420) / (1500 - 420),\n",
    "                                                (1080 * rh_points[i + 1] + 540) / 1080,\n",
    "                                                (rh_points[2] - rh_points[i + 2]) / 10]\n",
    "                                               for i in range(4, len(rh_points), 4)], dtype=np.float32)\n",
    "                    \n",
    "                    #포즈 좌표에서 하반신 랜드마크 제외\n",
    "                    preFrameCoordP = preFrameCoordP[[i for i in range(19) if (0 <= i <= 7) or (17 <= i <= 18)]]\n",
    "                    \n",
    "                    #랜드마크 값들을 모델 트레이닝에 적합한 모양으로 재배열.\n",
    "                    frameCoordL = preFrameCoordL.reshape(5, 4, 3).transpose(1, 0, 2)[::-1]\n",
    "                    frameCoordR = preFrameCoordR.reshape(5, 4, 3).transpose(1, 0, 2)[::-1]\n",
    "                    frameCoordP = preFrameCoordP.T\n",
    "                    #한 단어의 프레임 별 좌표를 하나의 넘파이 배열로 저장\n",
    "                    wordCoordL = np.append(wordCoordL, [frameCoordL], axis=0)\n",
    "                    wordCoordR = np.append(wordCoordR, [frameCoordR], axis=0)\n",
    "                    wordCoordP = np.append(wordCoordP, [frameCoordP], axis=0)\n",
    "                    wordWeight.append(weight_calc(frame_num, start_sign, end_sign, duration))\n",
    "                    \n",
    "            label = [name, start_sign, end_sign, duration]\n",
    "            word_output_path = os.path.join(person_output_path, f'{num}.npz')\n",
    "            np.savez(word_output_path, wordCoordL=wordCoordL, wordCoordR=wordCoordR, wordCoordP=wordCoordP, label=label, weight=wordWeight)\n",
    "            print(f\"Saved {word_output_path}\")\n",
    "            count += 1\n",
    "        else:\n",
    "            continue"
   ],
   "id": "6c517327bb530d2a",
   "outputs": [
    {
     "name": "stdout",
     "output_type": "stream",
     "text": [
      "2007\n",
      "Saved G:/signData\\nptxt_val\\18\\1.npz\n",
      "2008\n",
      "Saved G:/signData\\nptxt_val\\18\\2.npz\n",
      "2009\n",
      "Saved G:/signData\\nptxt_val\\18\\3.npz\n",
      "2010\n",
      "Saved G:/signData\\nptxt_val\\18\\4.npz\n",
      "2011\n",
      "Saved G:/signData\\nptxt_val\\18\\5.npz\n",
      "2012\n",
      "Saved G:/signData\\nptxt_val\\18\\6.npz\n",
      "2013\n"
     ]
    },
    {
     "ename": "KeyboardInterrupt",
     "evalue": "",
     "output_type": "error",
     "traceback": [
      "\u001B[1;31m---------------------------------------------------------------------------\u001B[0m",
      "\u001B[1;31mKeyboardInterrupt\u001B[0m                         Traceback (most recent call last)",
      "Cell \u001B[1;32mIn[5], line 34\u001B[0m\n\u001B[0;32m     32\u001B[0m file_path \u001B[38;5;241m=\u001B[39m os\u001B[38;5;241m.\u001B[39mpath\u001B[38;5;241m.\u001B[39mjoin(val_landmark_dir, person, word_coords, frame)\n\u001B[0;32m     33\u001B[0m \u001B[38;5;28;01mtry\u001B[39;00m:\n\u001B[1;32m---> 34\u001B[0m     \u001B[38;5;28;01mwith\u001B[39;00m \u001B[38;5;28;43mopen\u001B[39;49m\u001B[43m(\u001B[49m\u001B[43mfile_path\u001B[49m\u001B[43m,\u001B[49m\u001B[43m \u001B[49m\u001B[38;5;124;43m'\u001B[39;49m\u001B[38;5;124;43mr\u001B[39;49m\u001B[38;5;124;43m'\u001B[39;49m\u001B[43m)\u001B[49m \u001B[38;5;28;01mas\u001B[39;00m json_file:\n\u001B[0;32m     35\u001B[0m         data \u001B[38;5;241m=\u001B[39m json\u001B[38;5;241m.\u001B[39mload(json_file)\n\u001B[0;32m     36\u001B[0m         lh_points \u001B[38;5;241m=\u001B[39m data[\u001B[38;5;124m'\u001B[39m\u001B[38;5;124mpeople\u001B[39m\u001B[38;5;124m'\u001B[39m][\u001B[38;5;124m'\u001B[39m\u001B[38;5;124mhand_left_keypoints_3d\u001B[39m\u001B[38;5;124m'\u001B[39m]\n",
      "File \u001B[1;32m~\\anaconda3\\envs\\BomNae-SLR\\lib\\site-packages\\IPython\\core\\interactiveshell.py:286\u001B[0m, in \u001B[0;36m_modified_open\u001B[1;34m(file, *args, **kwargs)\u001B[0m\n\u001B[0;32m    279\u001B[0m \u001B[38;5;28;01mif\u001B[39;00m file \u001B[38;5;129;01min\u001B[39;00m {\u001B[38;5;241m0\u001B[39m, \u001B[38;5;241m1\u001B[39m, \u001B[38;5;241m2\u001B[39m}:\n\u001B[0;32m    280\u001B[0m     \u001B[38;5;28;01mraise\u001B[39;00m \u001B[38;5;167;01mValueError\u001B[39;00m(\n\u001B[0;32m    281\u001B[0m         \u001B[38;5;124mf\u001B[39m\u001B[38;5;124m\"\u001B[39m\u001B[38;5;124mIPython won\u001B[39m\u001B[38;5;124m'\u001B[39m\u001B[38;5;124mt let you open fd=\u001B[39m\u001B[38;5;132;01m{\u001B[39;00mfile\u001B[38;5;132;01m}\u001B[39;00m\u001B[38;5;124m by default \u001B[39m\u001B[38;5;124m\"\u001B[39m\n\u001B[0;32m    282\u001B[0m         \u001B[38;5;124m\"\u001B[39m\u001B[38;5;124mas it is likely to crash IPython. If you know what you are doing, \u001B[39m\u001B[38;5;124m\"\u001B[39m\n\u001B[0;32m    283\u001B[0m         \u001B[38;5;124m\"\u001B[39m\u001B[38;5;124myou can use builtins\u001B[39m\u001B[38;5;124m'\u001B[39m\u001B[38;5;124m open.\u001B[39m\u001B[38;5;124m\"\u001B[39m\n\u001B[0;32m    284\u001B[0m     )\n\u001B[1;32m--> 286\u001B[0m \u001B[38;5;28;01mreturn\u001B[39;00m io_open(file, \u001B[38;5;241m*\u001B[39margs, \u001B[38;5;241m*\u001B[39m\u001B[38;5;241m*\u001B[39mkwargs)\n",
      "File \u001B[1;32m~\\anaconda3\\envs\\BomNae-SLR\\lib\\_bootlocale.py:11\u001B[0m, in \u001B[0;36mgetpreferredencoding\u001B[1;34m(do_setlocale)\u001B[0m\n\u001B[0;32m      8\u001B[0m \u001B[38;5;28;01mimport\u001B[39;00m \u001B[38;5;21;01m_locale\u001B[39;00m\n\u001B[0;32m     10\u001B[0m \u001B[38;5;28;01mif\u001B[39;00m sys\u001B[38;5;241m.\u001B[39mplatform\u001B[38;5;241m.\u001B[39mstartswith(\u001B[38;5;124m\"\u001B[39m\u001B[38;5;124mwin\u001B[39m\u001B[38;5;124m\"\u001B[39m):\n\u001B[1;32m---> 11\u001B[0m     \u001B[38;5;28;01mdef\u001B[39;00m \u001B[38;5;21mgetpreferredencoding\u001B[39m(do_setlocale\u001B[38;5;241m=\u001B[39m\u001B[38;5;28;01mTrue\u001B[39;00m):\n\u001B[0;32m     12\u001B[0m         \u001B[38;5;28;01mif\u001B[39;00m sys\u001B[38;5;241m.\u001B[39mflags\u001B[38;5;241m.\u001B[39mutf8_mode:\n\u001B[0;32m     13\u001B[0m             \u001B[38;5;28;01mreturn\u001B[39;00m \u001B[38;5;124m'\u001B[39m\u001B[38;5;124mUTF-8\u001B[39m\u001B[38;5;124m'\u001B[39m\n",
      "\u001B[1;31mKeyboardInterrupt\u001B[0m: "
     ]
    }
   ],
   "execution_count": 5
  },
  {
   "metadata": {},
   "cell_type": "code",
   "source": [
    "def load_data(person,word):\n",
    "    path=f\"{output_dir}/{person}/{word}.npz\"\n",
    "    data = np.load(path)\n",
    "    wordCoordL = data['wordCoordL']\n",
    "    wordCoordR = data['wordCoordR']\n",
    "    wordCoordP = data['wordCoordP']\n",
    "    label = data['label']\n",
    "    weight = data['weight']\n",
    "    return wordCoordL, wordCoordR, wordCoordP, label, weight\n",
    "\n",
    "\n",
    "def load_word(person, start, num):\n",
    "    words = []\n",
    "    for WNum in range(start, start + num):\n",
    "        wordCoordL, wordCoordR, wordCoordP, label = load_data(person, WNum)\n",
    "        words.append([wordCoordL, wordCoordR, wordCoordP, label])\n",
    "    return words\n"
   ],
   "id": "e7d38785c53bd6dd",
   "outputs": [],
   "execution_count": null
  },
  {
   "metadata": {
    "ExecuteTime": {
     "end_time": "2024-10-08T06:35:48.581487Z",
     "start_time": "2024-10-08T06:35:46.172982Z"
    }
   },
   "cell_type": "code",
   "source": [
    "person_blacklist=[]\n",
    "word_dict={}\n",
    "num=1\n",
    "for person in os.listdir(train_morpheme_dir):\n",
    "    for word_morpheme in os.listdir(os.path.join(train_morpheme_dir, person)):\n",
    "        if \"F\" in word_morpheme:\n",
    "            file_path = os.path.join(train_morpheme_dir, person, word_morpheme)\n",
    "            morpheme_file_path = os.path.join(train_morpheme_dir, person, word_morpheme)\n",
    "            with open(morpheme_file_path, 'r', encoding=\"UTF8\") as morpheme_file:\n",
    "                data = json.load(morpheme_file)\n",
    "                try:\n",
    "                    name = data['data'][0]['attributes'][0]['name']\n",
    "                    name = name.replace(\"\\n\", \"\")\n",
    "                    if name in word_dict:\n",
    "                        continue\n",
    "                    else:\n",
    "                        word_dict[name]=num\n",
    "                except IndexError as e:\n",
    "                    person_blacklist.append({person: data['metaData']['name'][7:15]})\n",
    "                    name=False\n",
    "                    # word_list.append({data['metaData']['name'][7:15]:None})\n",
    "                    print(f\"Error reading {morpheme_file_path}: {e}\")\n",
    "                    continue\n",
    "            num+=1   \n",
    "    with open('wordtonum.json', 'w') as json_file:\n",
    "        json.dump(word_dict, json_file)"
   ],
   "id": "541f6101b194b2a1",
   "outputs": [
    {
     "name": "stdout",
     "output_type": "stream",
     "text": [
      "Error reading G:/signData/train/label/morpheme\\02\\NIA_SL_WORD1056_REAL25_F_morpheme.json: list index out of range\n",
      "Error reading G:/signData/train/label/morpheme\\02\\NIA_SL_WORD2742_REAL02_F_morpheme.json: list index out of range\n",
      "Error reading G:/signData/train/label/morpheme\\04\\NIA_SL_WORD0796_REAL04_F_morpheme.json: list index out of range\n",
      "Error reading G:/signData/train/label/morpheme\\09\\NIA_SL_WORD1082_REAL09_F_morpheme.json: list index out of range\n",
      "Error reading G:/signData/train/label/morpheme\\09\\NIA_SL_WORD1612_REAL09_F_morpheme.json: list index out of range\n",
      "Error reading G:/signData/train/label/morpheme\\09\\NIA_SL_WORD1613_REAL09_F_morpheme.json: list index out of range\n",
      "Error reading G:/signData/train/label/morpheme\\09\\NIA_SL_WORD1614_REAL09_F_morpheme.json: list index out of range\n",
      "Error reading G:/signData/train/label/morpheme\\09\\NIA_SL_WORD1615_REAL09_F_morpheme.json: list index out of range\n",
      "Error reading G:/signData/train/label/morpheme\\13\\NIA_SL_WORD0528_REAL13_F_morpheme.json: list index out of range\n",
      "Error reading G:/signData/train/label/morpheme\\14\\NIA_SL_WORD1528_REAL14_F_morpheme.json: list index out of range\n",
      "Error reading G:/signData/train/label/morpheme\\15\\NIA_SL_WORD2733_REAL15_F_morpheme.json: list index out of range\n"
     ]
    }
   ],
   "execution_count": 7
  },
  {
   "metadata": {
    "ExecuteTime": {
     "end_time": "2024-10-08T06:35:50.188486Z",
     "start_time": "2024-10-08T06:35:50.183486Z"
    }
   },
   "cell_type": "code",
   "source": [
    "with open('wordtonum.json', 'r', encoding=\"UTF8\") as json_file:\n",
    "    data = json.load(json_file)\n",
    "    print(data)\n",
    "    "
   ],
   "id": "66868c66cda60d6a",
   "outputs": [
    {
     "name": "stdout",
     "output_type": "stream",
     "text": [
      "{'고민': 1, '뻔뻔': 2, '수어': 3, '남아': 4, '눈': 5, '독신': 6, '음료수': 7, '발가락': 8, '슬프다': 9, '자극': 10, '안타깝다': 11, '어색하다': 12, '여아': 13, '외국인': 14, '영아': 15, '신사': 16, '뉴질랜드': 17, '나사렛대학교': 18, '알아서': 19, '장애인': 20, '열아홉번째': 21, '침착': 22, '성실': 23, '학교연혁': 24, '싫어하다': 25, '급하다': 26, '필기시험': 27, '병문안': 28, '검사': 29, '결승전': 30, '낚시터': 31, '낚시대': 32, '당뇨병': 33, '독서': 34, '매표소': 35, '면역': 36, '감기': 37, '배드민턴': 38, '변비': 39, '병명': 40, '보건소': 41, '불면증': 42, '불행': 43, '붕대': 44, '사위': 45, '설사': 46, '성병': 47, '방충': 48, '소화제': 49, '손녀': 50, '손자': 51, '수면제': 52, '수집가': 53, '여행지': 54, '예식장': 55, '올림픽경기': 56, '회복': 57, '첫번째': 58, '운동경기': 59, '입원': 60, '재혼': 61, '진단서': 62, '축구장': 63, '치료': 64, '치료법': 65, '친아들': 66, '퇴원': 67, '한약': 68, '한약방': 69, '빈혈': 70, '화상': 71, '가래떡': 72, '고깃국': 73, '고추': 74, '고추가루': 75, '사골': 76, '배추국': 77, '꽈베기': 78, '벌꿀': 79, '꿀물': 80, '냄비': 81, '찬물': 82, '다과': 83, '지방경찰청장': 84, '된장찌게': 85, '돼지고기': 86, '두부': 87, '딸기': 88, '떡국': 89, '라면': 90, '막걸리': 91, '무': 92, '밥그릇': 93, '밥솥': 94, '보신탕': 95, '부엌': 96, '소불고기': 97, '비빔밥': 98, '사과': 99, '사이다': 100, '달다': 101, '소주': 102, '술잔': 103, '식당': 104, '쌀가루': 105, '냉커피': 106, '양식': 107, '위스키': 108, '술': 109, '용품': 110, '유리그릇': 111, '짬뽕': 112, '참외': 113, '칼국수': 114, '커피': 115, '콜라': 116, '콩가루': 117, '통조림': 118, '와인': 119, '백설기': 120, '가죽신': 121, '군복': 122, '포켓': 123, '양산': 124, '운동화': 125, '잠옷': 126, '이불': 127, '에어컨': 128, '행거': 129, '월세': 130, '전세': 131, '치약': 132, '가수': 133, '체감': 134, '경고': 135, '경찰서': 136, '공식': 137, '과장': 138, '관광버스': 139, '교수': 140, '교장': 141, '찻길': 142, '독일어': 143, '반환': 144, '음주운전': 145, '동아리': 146, '디자이너': 147, '마을버스': 148, '구급차': 149, '개입하지않는다': 150, '사무': 151, '신입학': 152, '여객선': 153, '여행사': 154, '기차역': 155, '예술가': 156, '외국어': 157, '요리사': 158, '강요': 159, '운동선수': 160, '퇴임': 161, '의사': 162, '이력서': 163, '자가용': 164, '재택근무': 165, '연령제한': 166, '주차장': 167, '채팅': 168, '출근': 169, '코치': 170, '터미널': 171, '근무': 172, '통역사': 173, '퇴사': 174, '사직': 175, '판결': 176, '평가': 177, '두번째': 178, '항공사': 179, '교통안전교육': 180, '화상채팅': 181, '회식': 182, '교통기본교육': 183, '후원': 184, '희생': 185, '간호사': 186, '교통법교육': 187, '계약금': 188, '고용': 189, '사업장': 190, '버스값': 191, '구직': 192, '논': 193, '대기업': 194, '사육장': 195, '백화점': 196, '압류': 197, '거지': 198, '수입': 199, '신용카드': 200, '백수': 201, '아르바이트': 202, '샛길': 203, '일시불': 204, '주유소': 205, '집주인': 206, '한국은행': 207, '경찰청장': 208, '가정교육': 209, '고등학교': 210, '고등학생': 211, '교무실': 212, '개학': 213, '교실': 214, '교육자': 215, '국어학': 216, '낙제': 217, '예절': 218, '독서실': 219, '등교': 220, '맹학교': 221, '복습': 222, '분필': 223, '상장': 224, '서점': 225, '학업': 226, '실습': 227, '여학교': 228, '여학생': 229, '연구소': 230, '연구실': 231, '예습': 232, '유학': 233, '의학': 234, '지도': 235, '재학': 236, '연구': 237, '학부모': 238, '학식': 239, '훈련': 240, '경기도': 241, '경북': 242, '남산': 243, '울릉도': 244, '울산': 245, '전남': 246, '청주': 247, '충북': 248, '충남': 249, '불경': 250, '성경책': 251, '신학': 252, '장로교': 253, '일요일': 254, '축하': 255, '회개': 256, '소감': 257, '장난': 258, '장인': 259, '희생자': 260, '디자인': 261, '돌무덤': 262, '쇠기둥': 263, '동화책': 264, '목공예': 265, '문학': 266, '문화유산': 267, '음악가': 268, '예술': 269, '초상화': 270, '토기': 271, '흑백영화': 272, '공군': 273, '감옥': 274, '국왕': 275, '보건복지': 276, '고소': 277, '유권자': 278, '절도죄': 279, '수감자': 280, '총무': 281, '강': 282, '달빛': 283, '장마': 284, '체온': 285, '파도': 286, '하늘': 287, '가시나무': 288, '강아지': 289, '구렁이': 290, '까마귀': 291, '꽃씨': 292, '꽃잎': 293, '웃는척': 294, '흡연실': 295, '무궁화': 296, '밤나무': 297, '벚꽃': 298, '깃털': 299, '솔잎': 300, '송아지': 301, '소뿔': 302, '양털': 303, '연꽃': 304, '참새': 305, '어젯밤': 306, '갈색': 307, '최상급': 308, '공휴일': 309, '세번째': 310, '네번째': 311, '흙내음': 312, '금요일': 313, '급행': 314, '남부지방': 315, '식목일': 316, '방금': 317, '100만원': 318, '보라색': 319, '분홍조명': 320, '분혹색': 321, '얼굴이빨개지다': 322, '사춘기': 323, '3.1절': 324, '생년월일': 325, '수요일': 326, '10만원': 327, '어떻게': 328, '어린이날': 329, '연말': 330, '예전': 331, '식전': 332, '월요일': 333, '자정': 334, '아까': 335, '진하기': 336, '검정머리': 337, '최대': 338, '최소': 339, '평일': 340, '한글날': 341, '현충일': 342, '화요일': 343, '황금색': 344, '흑백': 345, '흑색': 346, '임시협약': 347, '감금': 348, '탈춤': 349, '가명': 350, '가발': 351, '가위바위보': 352, '가족회의': 353, '가짜': 354, '서약서': 355, '간편': 356, '감옥살이': 357, '보호': 358, '견습': 359, '강약': 360, '강철': 361, '개똥': 362, '개명': 363, '신경쓰다': 364, '거목': 365, '거북선': 366, '거역': 367, '건장': 368, '걸스카우트': 369, '휴학': 370, '회칙': 371, '경찰행정': 372, '경비실': 373, '고아원': 374, '고춧잎': 375, '불알': 376, '황금기': 377, '골절': 378, '공식발표': 379, '맞추다': 380, '공군본부': 381, '공범': 382, '동거': 383, '공증': 384, '과로': 385, '실수': 386, '회상': 387, '과태료': 388, '관습': 389, '직인': 390, '정밀검사': 391, '대지': 392, '광업': 393, '미치광이': 394, '강풍': 395, '환대': 396, '교가': 397, '교기': 398, '교모': 399, '지도법': 400, '학습': 401, '교육과정': 402, '교육청': 403, '교사직무': 404, '사거리': 405, '교탁': 406, '구두액': 407, '수갑': 408, '조직도': 409, '국그릇': 410, '국기': 411, '독립': 412, '군가': 413, '군마': 414, '다섯번째': 415, '군비행장': 416, '독재자': 417, '귀부인': 418, '상류층': 419, '모범': 420, '그날': 421, '기초확인': 422, '금식': 423, '얼마': 424, '금연': 425, '금욕': 426, '금주': 427, '불쌍': 428, '식도염': 429, '신기': 430, '기혼': 431, '귀중품': 432, '길몽': 433, '길일': 434, '길운': 435, '고난이도': 436, '비좁다': 437, '유언': 438, '온실': 439, '날쎄다': 440, '비루': 441, '쑥쓰럽다': 442, '남성적': 443, '내정': 444, '능숙': 445, '대모': 446, '농인': 447, '다복': 448, '결합을끊다': 449, '단명': 450, '단문': 451, '능력자': 452, '곰방대': 453, '담당': 454, '답안지': 455, '책임이사': 456, '채용자': 457, '대교': 458, '대독': 459, '대필': 460, '대성공': 461, '세수대야': 462, '확정': 463, '면적': 464, '회장': 465, '품격': 466, '도벽': 467, '도자기기술': 468, '자습': 469, '돌기둥': 470, '돌다리': 471, '돌벽': 472, '동갑': 473, '동메달': 474, '주민센터': 475, '독특': 476, '무덤덤': 477, '뒷산': 478, '등록금': 479, '생각못하다': 480, '주문서': 481, '마구간': 482, '마술사': 483, '마스크': 484, '마음에들다': 485, '막차': 486, '만취': 487, '나무기둥': 488, '의미': 489, '실언': 490, '말끼어들기': 491, '망아지': 492, '무매력': 493, '확약': 494, '고급지다': 495, '맷돌': 496, '먹': 497, '회원': 498, '사라지다': 499, '명단': 500, '명마': 501, '명예': 502, '모범생': 503, '무례': 504, '무법자': 505, '무료교육': 506, '무의미': 507, '무인상': 508, '무통': 509, '무허가': 510, '여배우': 511, '문잠그다': 512, '문제지': 513, '상세검색': 514, '묻다': 515, '물총': 516, '물통': 517, '미군': 518, '미납': 519, '미신': 520, '미완성': 521, '미행': 522, '미혼': 523, '밀고': 524, '밀거래': 525, '밀거래단': 526, '밀서': 527, '밀작': 528, '확답': 529, '반역': 530, '반장': 531, '발견': 532, '발언권': 533, '방식': 534, '화실': 535, '방음': 536, '방직': 537, '방직공장': 538, '정보차단': 539, '방도': 540, '위로': 541, '견습소': 542, '배은': 543, '결심': 544, '백일잔치': 545, '번거롭다': 546, '출산증가': 547, '베다': 548, '벌칙사항': 549, '소개': 550, '별거': 551, '별미': 552, '병가': 553, '병사': 554, '쓰러지다': 555, '환자실': 556, '병아리': 557, '군책': 558, '보수교육': 559, '보이스카우트': 560, '부동산': 561, '보건복지부': 562, '복지카드': 563, '희미': 564, '부고': 565, '무자유': 566, '분담': 567, '투쟁': 568, '여섯번째': 569, '가쁘다': 570, '무각오': 571, '호명': 572, '비교연구': 573, '비닐하우스': 574, '비인간적': 575, '자비없다': 576, '예금': 577, '공석': 578, '완벽': 579, '속달': 580, '삐치다': 581, '사감': 582, '형제지간': 583, '사냥꾼': 584, '겉모습': 585, '면제': 586, '사모님': 587, '복사본': 588, '사생활': 589, '혈통': 590, '사립': 591, '친척': 592, '사용법': 593, '친가족': 594, '사인': 595, '혈액형': 596, '부채질': 597, '사진작가': 598, '과용': 599, '사립학교': 600, '사후': 601, '삭발': 602, '38선': 603, '상품': 604, '새': 605, '새똥': 606, '새알': 607, '새집': 608, '색맹': 609, '색연필': 610, '색종이': 611, '학생생활기록부': 612, '혈서': 613, '후천적': 614, '벨트': 615, '맹세': 616, '서구식': 617, '서울역': 618, '헤드라이트': 619, '편견': 620, '정벌': 621, '사납다': 622, '섬나라': 623, '직무대행': 624, '성인': 625, '연설': 626, '연설문': 627, '제사': 628, '성씨': 629, '성조기': 630, '성폭행': 631, '세뇌': 632, '센티미터': 633, '소금물': 634, '소복': 635, '소화불량': 636, '송년회': 637, '쇄신': 638, '수영장': 639, '수재': 640, '수저통': 641, '숙련': 642, '야간경비': 643, '순금': 644, '순산': 645, '술값': 646, '술집': 647, '숨차다': 648, '일곱번째': 649, '습자': 650, '승마복': 651, '승패': 652, '시댁': 653, '시달리다': 654, '시차': 655, '첫째': 656, '시험감독': 657, '선별': 658, '신식': 659, '신체적장애': 660, '신통하다': 661, '실명': 662, '실생활': 663, '여덟번째': 664, '증거': 665, '실천': 666, '공개': 667, '괴롭다': 668, '논의': 669, '쌀값': 670, '아끼다': 671, '고집': 672, '통증': 673, '악몽': 674, '악습': 675, '악영향': 676, '악용': 677, '나빠지다': 678, '안경원': 679, '안내원': 680, '안위': 681, '암살': 682, '깜깜하다': 683, '압정': 684, '애국자': 685, '안쓰럽다': 686, '애착': 687, '애처': 688, '야구부': 689, '건달': 690, '약학': 691, '얌전하다': 692, '양계': 693, '일임': 694, '경로당': 695, '양서': 696, '온순하다': 697, '형식': 698, '숙녀복': 699, '양젖': 700, '언약': 701, '알록달록': 702, '깎다': 703, '여공': 704, '여군': 705, '여대생': 706, '여성복': 707, '여성학과': 708, '여경': 709, '여탕': 710, '연애편지': 711, '연초': 712, '연패': 713, '연합': 714, '연하다': 715, '영문법': 716, '독보적': 717, '일반직': 718, '예정': 719, '오리알': 720, '오산': 721, '좋다': 722, '순종': 723, '황소고집': 724, '완납': 725, '완료': 726, '완패': 727, '왕족': 728, '천황': 729, '의문': 730, '외상값': 731, '외손녀': 732, '외손자': 733, '요강': 734, '주요점': 735, '사용처': 736, '용사': 737, '큰소리': 738, '우물': 739, '우승': 740, '우승자': 741, '아홉번째': 742, '열번째': 743, '열두번째': 744, '위임': 745, '유대인': 746, '유전': 747, '유조선': 748, '은신처': 749, '응접실': 750, '정의': 751, '회의록': 752, '이의': 753, '익명': 754, '익사': 755, '인력': 756, '농부': 757, '인사법': 758, '인자': 759, '인증': 760, '인질': 761, '일본인': 762, '열세번째': 763, '자막': 764, '자살자': 765, '자석': 766, '경과실': 767, '작명': 768, '작업복': 769, '장단점': 770, '장려하다': 771, '옷장': 772, '장애인연금': 773, '장애아동수당': 774, '장애유형': 775, '장애인기능경기대회': 776, '장애인등에대한특수교육법': 777, '장애인복지관': 778, '장점': 779, '장학': 780, '재고': 781, '목재': 782, '재봉틀': 783, '재청': 784, '무식': 785, '저명인사': 786, '전기기술자': 787, '전기세': 788, '전쟁터': 789, '전화번호': 790, '절수': 791, '틀림없다': 792, '정신장애': 793, '단전': 794, '월초': 795, '우유': 796, '구두': 797, '조간신문': 798, '조회': 799, '졸업장': 800, '종소리': 801, '종점': 802, '주관': 803, '주방장': 804, '사고방식': 805, '알코올중독': 806, '준우승': 807, '중매': 808, '재임': 809, '쥐덫': 810, '확인서': 811, '증원': 812, '증인': 813, '지급일': 814, '총괄자': 815, '지팡이': 816, '직책': 817, '진상': 818, '진실': 819, '징검다리': 820, '가르다': 821, '백석': 822, '차멀미': 823, '복잡하다': 824, '참가자': 825, '참관': 826, '차도': 827, '쓸쓸하다': 828, '천리': 829, '천벌': 830, '천연색': 831, '철교': 832, '철근': 833, '철면피': 834, '철모': 835, '철문': 836, '철판': 837, '앞서가다': 838, '제안': 839, '청소당번': 840, '청원': 841, '청진기': 842, '체납': 843, '체취': 844, '체험': 845, '체험담': 846, '초대권': 847, '초라': 848, '초면': 849, '초산': 850, '초혼': 851, '촉진': 852, '촛불': 853, '총소리': 854, '총회': 855, '추남': 856, '추녀': 857, '추수': 858, '출석': 859, '격노': 860, '부추기다': 861, '풍성': 862, '충성': 863, '취객': 864, '치과의사': 865, '치료제': 866, '친자': 867, '카지노': 868, '칼': 869, '칼슘': 870, '코코아': 871, '콩기름': 872, '콩밭': 873, '콩잎': 874, '군사혁명': 875, '키다리': 876, '킬로그램': 877, '킬로미터': 878, '탁구공': 879, '탈영': 880, '탈환': 881, '독서광': 882, '탐욕': 883, '태극기': 884, '총괄': 885, '바래다': 886, '수감': 887, '특권': 888, '특명': 889, '특선': 890, '막히다': 891, '건성건성': 892, '여분': 893, '소심': 894, '뽐내다': 895, '쇼하다': 896, '과시': 897, '정성껏': 898, '전심전력': 899, '적격': 900, '추출': 901, '드러나다': 902, '결점': 903, '흠집': 904, '불량': 905, '계기': 906, '걸핏하면': 907, '독식': 908, '물귀신': 909, '매일매일': 910, '순식간': 911, '촉박': 912, '더디다': 913, '놓치다': 914, '허탕': 915, '혹시': 916, '밤샘': 917, '들어맞다': 918, '복귀': 919, '학수고대': 920, '가다': 921, '지름길': 922, '가깝다': 923, '멀다': 924, '오래도록': 925, '결사': 926, '진수성찬': 927, '배고프다': 928, '입맛에맞지않다': 929, '과음': 930, '주정뱅이': 931, '타이트하다': 932, '칩거': 933, '대박': 934, '저택': 935, '궁핍하다': 936, '쓰다': 937, '옛것': 938, '수북하다': 939, '녹초': 940, '진땀나다': 941, '난감하다': 942, '마르다': 943, '불면': 944, '결벽': 945, '뙤약볕': 946, '못견디다': 947, '안심': 948, '익숙': 949, '이심전심': 950, '유명무실': 951, '소식': 952, '겹치다': 953, '첩첩산중': 954, '동상이몽': 955, '일자무식': 956, '싫증나다': 957, '일석이조': 958, '자승자박': 959, '궁지': 960, '찰나': 961, '이미': 962, '수포': 963, '기세등등': 964, '공교롭다': 965, '보복': 966, '남몰래': 967, '근근이': 968, '얻어먹다': 969, '속다': 970, '한국농아인협회': 971, '서울특별시농아인협회': 972, '서울특별시수어통역센터': 973, '서울시청': 974, '강남구지부': 975, '강남구수어통역센터': 976, '강동구지부': 977, '강동구수어통역센터': 978, '강동구주민지원센터': 979, '강북구지부': 980, '강북구수어통역센터': 981, '강북구주민지원센터': 982, '강서구지부': 983, '강서구수어통역센터': 984, '강서구주민지원센터': 985, '관악구지부': 986, '관악구수어통역센터': 987, '관악구주민지원센터': 988, '광진구지부': 989, '광진구수어통역센터': 990, '광진구주민지원센터': 991, '구로구지부': 992, '구로구수어통역센터': 993, '구로구주민지원센터': 994, '금천구지부': 995, '금천구수어통역센터': 996, '노원구지부': 997, '노원구수어통역센터': 998, '노원구주민지원센터': 999, '도봉구지부': 1000, '도봉구수어통역센터': 1001, '도봉구주민지원센터': 1002, '동대문구지부': 1003, '동대문구수어통역센터': 1004, '동대문구주민지원센터': 1005, '동작구지부': 1006, '동작구수어통역센터': 1007, '동작구주민지원센터': 1008, '마포구지부': 1009, '마포구수어통역센터': 1010, '마포구주민지원센터': 1011, '서대문구지부': 1012, '서대문구수어통역센터': 1013, '서대문구주민지원센터': 1014, '서초구지부': 1015, '서초구수어통역센터': 1016, '서초구주민지원센터': 1017, '성동구지부': 1018, '성동구수어통역센터': 1019, '성동구주민지원센터': 1020, '성북구지부': 1021, '성북구수어통역센터': 1022, '성북구주민지원센터': 1023, '송파구지부': 1024, '송파구수어통역센터': 1025, '송파구주민지원센터': 1026, '양천구지부': 1027, '양천구수어통역센터': 1028, '양천구주민지원센터': 1029, '영등포구지부': 1030, '영등포구수어통역센터': 1031, '영등포구주민지원센터': 1032, '용산구지부': 1033, '용산구수어통역센터': 1034, '용산구주민지원센터': 1035, '은평구지부': 1036, '은평구수어통역센터': 1037, '은평구주민지원센터': 1038, '종로구지부': 1039, '종로구수어통역센터': 1040, '종로구주민지원센터': 1041, '중구지부': 1042, '중구수어통역센터': 1043, '중구주민지원센터': 1044, '중랑구지부': 1045, '중랑구수어통역센터': 1046, '중랑구주민지원센터': 1047, '부산광역시농아인협회': 1048, '금정구지부': 1049, '금정구수어통역센터': 1050, '금정구주민지원센터': 1051, '북구지부': 1052, '북구수어통역센터': 1053, '북구주민지원센터': 1054, '사하구지부': 1055, '사하구수어통역센터': 1056, '사하구주민지원센터': 1057, '서구지부': 1058, '서구수어통역센터': 1059, '서구주민지원센터': 1060, '수영구지부': 1061, '수영구수어통역센터': 1062, '수영구주민지원센터': 1063, '어쩔 수 없다': 1064, '모르다': 1065, '불가능': 1066, '대구광역시농아인협회': 1067, '달서구지부': 1068, '달서구수어통역센터': 1069, '가렵다': 1070, '답답': 1071, '설거지': 1072, '남자': 1073, '마음': 1074, '잊다': 1075, '충분': 1076, '미남': 1077, '한명': 1078, '징그럽다': 1079, '던지다': 1080, '미녀': 1081, '쌍둥이': 1082, '건강': 1083, '어리석다': 1084, '나이': 1085, '달래다': 1086, '집중': 1087, '자랑': 1088, '흰': 1089, '기막히다': 1090, '불안': 1091, '밉다': 1092, '자존심': 1093, '배려': 1094, '기분': 1095, '당황': 1096, '원하다': 1097, '미치다': 1098, '처녀': 1099, '잘하다': 1100, '무섭다': 1101, '빠르다': 1102, '예민': 1103, '기술': 1104, '눕다': 1105, '믿다': 1106, '즐겁다': 1107, '살인': 1108, '마지막': 1109, '듣다': 1110, '생각': 1111, '예쁘다': 1112, '인상': 1113, '팔': 1114, '서다': 1115, '오다': 1116, '적극': 1117, '섭섭하다': 1118, '아프다': 1119, '오줌': 1120, '깨끗하다': 1121, '못생기다': 1122, '나쁘다': 1123, '나': 1124, '피곤하다': 1125, '한숨': 1126, '때리다': 1127, '성격': 1128, '등산': 1129, '젊다': 1130, '창백': 1131, '자유': 1132, '종아리맞다': 1133, '성급': 1134, '바르다': 1135, '행복': 1136, '깨물다': 1137, '떨다': 1138, '때문': 1139, '평안': 1140, '맞다': 1141, '챔피언': 1142, '안다': 1143, '솔직': 1144, '꼬마': 1145, '바보': 1146, '비율': 1147, '혀': 1148, '의자': 1149, '열심': 1150, '뚱뚱하다': 1151, '알다': 1152, '조심': 1153, '꿇다': 1154, '차분': 1155, '아기': 1156, '방법': 1157, '두배': 1158, '중요': 1159, '실망': 1160, '욕심': 1161, '훌륭': 1162, '배부르다': 1163, '죄송': 1164, '추억': 1165, '변덕': 1166, '친구': 1167, '우습다': 1168, '똑똑하다': 1169, '이해': 1170, '애매하다': 1171, '흔들리다': 1172, '얼굴': 1173, '어렵다': 1174, '지겹다': 1175, '낳다': 1176, '망설이다': 1177, '창피': 1178, '친하다': 1179, '희망': 1180, '하산': 1181, '냄새맡다': 1182, '부럽다': 1183, '행동': 1184, '힘들다': 1185, '매력': 1186, '웃다': 1187, '전문': 1188, '손': 1189, '너그럽다': 1190, '유식': 1191, '질투': 1192, '나누다': 1193, '쉽다': 1194, '의심': 1195, '코': 1196, '화나다': 1197, '이것': 1198, '짓밟다': 1199, '콧물': 1200, '놀라다': 1201, '머리카락': 1202, '사람': 1203, '졸리다': 1204, '잠자다': 1205, '뺨맞다': 1206, '이상': 1207, '춥다': 1208, '머리': 1209, '몰리다': 1210, '우울': 1211, '후회': 1212, '몸': 1213, '두근거리다': 1214, '짜증': 1215, '인격': 1216, '착각': 1217, '훑어보다': 1218, '느낌': 1219, '빨리': 1220, '참다': 1221, '턱': 1222, '늙다': 1223, '소극적': 1224, '털': 1225, '까다롭다': 1226, '책임': 1227, '기름': 1228, '못하다': 1229, '엉덩이': 1230, '부드럽다': 1231, '뽀뽀': 1232, '일어나다': 1233, '달리다': 1234, '여자': 1235, '임신': 1236, '싫다': 1237, '입': 1238, '총각': 1239, '날씬': 1240, '가능': 1241, '야단치다': 1242, '재산': 1243, '다행': 1244, '갈등': 1245, '기대': 1246, '감동': 1247, '감사': 1248, '무리': 1249, '초대': 1250, '거만': 1251, '걱정': 1252, '걷다': 1253, '게으르다': 1254, '겨드랑이': 1255, '겸손': 1256, '무시': 1257, '시원하다': 1258, '기억': 1259, '부족': 1260, '두명': 1261, '세명': 1262, '네명': 1263, '다섯명': 1264, '여섯명': 1265, '일곱명': 1266, '여덟명': 1267, '아홉명': 1268, '열명': 1269, '귀엽다': 1270, '인터체인지': 1271, '세쌍둥이': 1272, '네쌍둥이': 1273, '검정': 1274, '빨강': 1275, '노랑': 1276, '초록': 1277, '파랑': 1278, '충혈': 1279, '무지개': 1280, '분홍': 1281, '회색': 1282, '차량번호판': 1283, '잘못하다': 1284, '느리다': 1285, '불신': 1286, '전자기기': 1287, '왼쪽': 1288, '오른쪽': 1289, '귀찮다': 1290, '대략': 1291, '간단하다': 1292, '사기': 1293, '너': 1294, '저': 1295, '당신': 1296, '너희': 1297, '째려보다': 1298, '냄새': 1299, '틀리다': 1300, '세배': 1301, '네배': 1302, '다섯배': 1303, '여섯배': 1304, '일곱배': 1305, '여덟배': 1306, '아홉배': 1307, '열배': 1308, '귀': 1309, '눈썹': 1310, '치아': 1311, '이마': 1312, '볼': 1313, '목': 1314, '자다': 1315, '괜찮다': 1316, '덥다': 1317, '따뜻하다': 1318, '없다': 1319, '미소': 1320, '남녀': 1321, '충무로': 1322, '종각': 1323, '천호': 1324, '이화여자대학교': 1325, '종로3가': 1326, '종로5가': 1327, '을지로': 1328, '을지로3가': 1329, '을지로4가': 1330, '강남': 1331, '삼성': 1332, '강남구청': 1333, '강북': 1334, '강서': 1335, '까치산': 1336, '발산': 1337, '김포': 1338, '양천': 1339, '공항시장': 1340, '관악': 1341, '서울대학교': 1342, '아차산': 1343, '어린이대공원': 1344, '금천': 1345, '독산': 1346, '금천구청': 1347, '노원': 1348, '도봉산': 1349, '청량리': 1350, '동대문': 1351, '동작': 1352, '노량진': 1353, '마포': 1354, '홍익대학교': 1355, '서대문': 1356, '고속터미널': 1357, '남부터미널': 1358, '성동': 1359, '왕십리': 1360, '서울숲': 1361, '성북': 1362, '고려대학교': 1363, '송파': 1364, '종합운동장': 1365, '잠실': 1366, '올림픽공원': 1367, '영등포': 1368, '영등포시장': 1369, '여의도': 1370, '용산': 1371, '신용산': 1372, '이태원': 1373, '광화문': 1374, '시청': 1375, '남대문시장': 1376, '명동': 1377, '광주': 1378, '구리': 1379, '분당': 1380, '남양주': 1381, '성남': 1382, '하남': 1383, '과천': 1384, '서울대공원': 1385, '광명': 1386, '군포': 1387, '부천': 1388, '시흥': 1389, '양평': 1390, '안산': 1391, '안양': 1392, '안양대학교': 1393, '수원': 1394, '안성': 1395, '중앙대학교': 1396, '용인': 1397, '강남대학교': 1398, '에버랜드': 1399, '용인대학교': 1400, '한국민속촌': 1401, '이천': 1402, '평택': 1403, '화성': 1404, '고양': 1405, '동두천': 1406, '양주': 1407, '연천': 1408, '파주': 1409, '포천': 1410, '가족': 1411, '전염': 1412, '운전면허갱신': 1413, '차량점검': 1414, '병원': 1415, '결혼': 1416, '경주': 1417, '이모': 1418, '고모': 1419, '운전면허': 1420, '골키퍼': 1421, '구경': 1422, '성토': 1423, '권투': 1424, '그립다': 1425, '키우다': 1426, '힘': 1427, '망가지다': 1428, '꿈': 1429, '낚시': 1430, '남매': 1431, '운전면허정지': 1432, '노래': 1433, '놀다': 1434, '누나': 1435, '울보': 1436, '여동생': 1437, '상처': 1438, '견제하다': 1439, '견문': 1440, '딸': 1441, '유도': 1442, '아내': 1443, '마라톤': 1444, '장녀': 1445, '원한': 1446, '엄마': 1447, '썩다': 1448, '바쁘다': 1449, '남편': 1450, '버릇': 1451, '병': 1452, '밥': 1453, '부부': 1454, '붓다': 1455, '빗': 1456, '죽다': 1457, '사진기': 1458, '생활': 1459, '성공': 1460, '자라다': 1461, '세수': 1462, '수영': 1463, '승부차기': 1464, '시아버지': 1465, '망신': 1466, '시집': 1467, '뚫다': 1468, '면박': 1469, '야구': 1470, '피곤': 1471, '양치': 1472, '오빠': 1473, '출장': 1474, '이사': 1475, '들추어내다': 1476, '아들딸': 1477, '자살': 1478, '8번째': 1479, '맏형': 1480, '테니스': 1481, '할머니': 1482, '할아버지': 1483, '조상': 1484, '조카': 1485, '중독': 1486, '연기': 1487, '치매': 1488, '탈': 1489, '흩어지다': 1490, '형': 1491, '사별': 1492, '환자': 1493, '시작': 1494, '밖': 1495, '먹칠하다': 1496, '시험': 1497, '고백': 1498, '관계': 1499, '논란': 1500, '교제': 1501, '구걸': 1502, '구조': 1503, '부탁': 1504, '글': 1505, '대기': 1506, '회사': 1507, '기차': 1508, '거슬리다': 1509, '단어': 1510, '심부름': 1511, '상담': 1512, '다리': 1513, '창피하다': 1514, '달서구주민지원센터': 1515, '동구지부': 1516, '동구수어통역센터': 1517, '동구주민지원센터': 1518, '수성구지부': 1519, '수성구수어통역센터': 1520, '수성구주민지원센터': 1521, '인천광역시농아인협회': 1522, '강화군지부': 1523, '강화군수어통역센터': 1524, '강화군주민지원센터': 1525, '연수구지부': 1526, '연수구수어통역센터': 1527, '연수구주민지원센터': 1528, '대전농아인협회': 1529, '대덕구지부': 1530, '대덕수어통역센터': 1531, '대덕구주민지원센터': 1532, '유성구지부': 1533, '유성구수어통역센터': 1534, '유성구주민지원센터': 1535, '광주광역시농아인협회': 1536, '광산구지부': 1537, '광산구수어통역센터': 1538, '광산구주민지원센터': 1539, '남구지부': 1540, '남구수어통역센터': 1541, '남구주민지원센터': 1542, '관계없다': 1543, '상관없다': 1544, '울산광역시농아인협회': 1545, '세종특별자치시농아인협회': 1546, '경기농아인협회': 1547, '가평군지부': 1548, '가평군수어통역센터': 1549, '가평군주민지원센터': 1550, '고양시지부': 1551, '고양시수어통역센터': 1552, '고양시청': 1553, '과천시지부': 1554, '과천시수어통역센터': 1555, '과천시청': 1556, '광명시지부': 1557, '광명시수어통역센터': 1558, '광명시청': 1559, '광주시지부': 1560, '광주시수어통역센터': 1561, '광주시청': 1562, '구리시지부': 1563, '구리시수어통역센터': 1564, '구리시청': 1565, '군포시지부': 1566, '군포시수어통역센터': 1567, '군포시청': 1568, '김포시지부': 1569, '김포시수어통역센터': 1570, '김포시청': 1571, '남양주시지부': 1572, '남양주시수어통역센터': 1573, '남양주시청': 1574, '동두천시지부': 1575, '동두천시수어통역센터': 1576, '동두천시청': 1577, '부천시지부': 1578, '부천시수어통역센터': 1579, '부천시청': 1580, '성남시지부': 1581, '성남시수어통역센터': 1582, '성남시청': 1583, '안성시지부': 1584, '안성시수어통역센터': 1585, '안성시청': 1586, '안양시지부': 1587, '안양시수어통역센터': 1588, '안양시청': 1589, '양주시지부': 1590, '양주시수어통역센터': 1591, '양주시청': 1592, '양평군지부': 1593, '양평군수어통역센터': 1594, '양평군주민지원센터': 1595, '여주시지부': 1596, '여주시수어통역센터': 1597, '여주시청': 1598, '연천군지부': 1599, '연천군수어통역센터': 1600, '연천군주민지원센터': 1601, '오산시지부': 1602, '오산시수어통역센터': 1603, '오산시시청': 1604, '용인시지부': 1605, '용인시수어통역센터': 1606, '용인시청': 1607, '의왕시지부': 1608, '의왕시수어통역센터': 1609, '의왕시청': 1610, '의정부시지부': 1611, '의정부시수어통역센터': 1612, '의정부시청': 1613, '이천시지부': 1614, '이천시수어통역센터': 1615, '이천시청': 1616, '파주시지부': 1617, '파주시수어통역센터': 1618, '파주시청': 1619, '평택시지부': 1620, '평택시수어통역센터': 1621, '평택시청': 1622, '포천시지부': 1623, '포천시수어통역센터': 1624, '포천시청': 1625, '하남시지부': 1626, '하남시수어통역센터': 1627, '하남시청': 1628, '화성시지부': 1629, '화성시수어통역센터': 1630, '화성시청': 1631, '강원도농아인협회': 1632, '강릉시지부': 1633, '강릉시수어통역센터': 1634, '강릉시청': 1635, '고성지부': 1636, '고성시수어통역센터': 1637, '재미없다': 1638, '동해시지부': 1639, '동해시수어통역센터': 1640, '동해시청': 1641, '삼척시지부': 1642, '삼척시수어통역센터': 1643, '삼척시청': 1644, '속초시지부': 1645, '속초시수어통역센터': 1646, '속초시청': 1647, '양양군지부': 1648, '양양군수어통역센터': 1649, '양양군주민지원센터': 1650, '영월군지부': 1651, '영월군수어통역센터': 1652, '영월군주민지원센터': 1653, '원주시지부': 1654, '원주시수어통역센터': 1655, '원주시청': 1656, '비다': 1657, '솜씨없다': 1658, '무소유': 1659, '철원군지부': 1660, '철원군수어통역센터': 1661, '철원군주민지원센터': 1662, '춘천시지부': 1663, '춘천시수어통역센터': 1664, '춘천시청': 1665, '한눈팔다': 1666, '건성': 1667, '평창지부': 1668, '평창군수어통역센터': 1669, '평창군주민지원센터': 1670, '홍천군지부': 1671, '홍천군수어통역센터': 1672, '홍천군주민지원센터': 1673, '화천군지부': 1674, '화천군수어통역센터': 1675, '화천군주민지원센터': 1676, '횡성군지부': 1677, '횡성군수어통역센터': 1678, '횡성군주민지원센터': 1679, '충북농아인협회': 1680, '괴산군지부': 1681, '괴산군수어통역센터': 1682, '괴산군주민지원센터': 1683, '단양군지부': 1684, '단양군수어통역센터': 1685, '단양군주민지원센터': 1686, '보은군지부': 1687, '보은군수어통역센터': 1688, '보은군주민지원센터': 1689, '영동군지부': 1690, '영동군수어통역센터': 1691, '영동군주민지원센터': 1692, '옥천군지부': 1693, '옥천군수어통역센터': 1694, '옥천군주민지원센터': 1695, '제천시지부': 1696, '제천시수어통역센터': 1697, '제천시청': 1698, '진천군지부': 1699, '진천군수어통역센터': 1700, '진천군주민지원센터': 1701, '청주시지부': 1702, '청주시수어통역센터': 1703, '청주시청': 1704, '충주시지부': 1705, '충주시수어통역센터': 1706, '충주시청': 1707, '충남농아인협회': 1708, '천안시지부': 1709, '천안시수어통역센터': 1710, '천안시청': 1711, '공주시지부': 1712, '공주시수어통역센터': 1713, '공주시청': 1714, '9번째': 1715, '10번째': 1716, '12번째': 1717, '논산시지부': 1718, '논산시수어통역센터': 1719, '논산시청': 1720, '당진시지부': 1721, '당진시수어통역센터': 1722, '당진시청': 1723, '보령시지부': 1724, '보령수어통역센터': 1725, '보령시청': 1726, '부여군지부': 1727, '부여군수어통역센터': 1728, '부여군주민지원센터': 1729, '서산시지부': 1730, '서산시수어통역센터': 1731, '서산시청': 1732, '서천군지부': 1733, '서천군수어통역센터': 1734, '서천군주민지원센터': 1735, '아산시지부': 1736, '아산시수어통역센터': 1737, '아산시청': 1738, '예산군지부': 1739, '예산군수어통역센터': 1740, '예산군주민지원센터': 1741, '청양군지부': 1742, '청양군수어통역센터': 1743, '청양군주민지원센터': 1744, '태안군지부': 1745, '태안군수어통역센터': 1746, '태안군주민지원센터': 1747, '홍성군지부': 1748, '홍성군수어통역센터': 1749, '홍성군주민지원센터': 1750, '전북농아인협회': 1751, '고창군지부': 1752, '고창군수어통역센터': 1753, '고창군주민지원센터': 1754, '군산시지부': 1755, '군산시수어통역센터': 1756, '군산시청': 1757, '김제시지부': 1758, '김제시수어통역센터': 1759, '김제시청': 1760, '남원시지부': 1761, '남원시청': 1762, '무주군지부': 1763, '무주군수어통역센터': 1764, '무주군주민지원센터': 1765, '부안군지부': 1766, '부안군수어통역센터': 1767, '부안군주민지원센터': 1768, '순창군지부': 1769, '순창군주민지원센터': 1770, '완주군지부': 1771, '완주군수어통역센터': 1772, '완주군주민지원센터': 1773, '익산시지부': 1774, '익산시수어통역센터': 1775, '익산시청': 1776, '임실군지부': 1777, '임실군수어통역센터': 1778, '임실군주민지원센터': 1779, '빈털터리': 1780, '평가하다': 1781, '전주시지부': 1782, '전주시수어통역센터': 1783, '전주시청': 1784, '전남농아인협회': 1785, '강진군지부': 1786, '강진군수어통역센터': 1787, '강진군주민지원센터': 1788, '고흥군지부': 1789, '고흥군수어통역센터': 1790, '고흥군주민지원센터': 1791, '곡성군지부': 1792, '곡성군수어통역센터': 1793, '곡성군주민지원센터': 1794, '광양군지부': 1795, '광양군수어통역센터': 1796, '광양군주민지원센터': 1797, '나주시지부': 1798, '나주시수어통역센터': 1799, '나주시청': 1800, '목포시지부': 1801, '목포시수어통역센터': 1802, '목포시청': 1803, '무안군지부': 1804, '무안군수어통역센터': 1805, '무안군주민지원센터': 1806, '보성군지부': 1807, '보성군수어통역센터': 1808, '보성군주민지원센터': 1809, '순천시지부': 1810, '순천시수어통역센터': 1811, '순천시청': 1812, '신안군지부': 1813, '신안군수어통역센터': 1814, '신안군주민지원센터': 1815, '여수시지부': 1816, '여수시수어통역센터': 1817, '여수시청': 1818, '영광군지부': 1819, '영광군수어통역센터': 1820, '영광군주민지원센터': 1821, '영암군지부': 1822, '영암군수어통역센터': 1823, '영암군주민지원센터': 1824, '불필요': 1825, '하는수없다': 1826, '맛없다': 1827, '장흥군지부': 1828, '장흥군수어통역센터': 1829, '장흥군주민지원센터': 1830, '진도군지부': 1831, '진도군수어통역센터': 1832, '진도군주민지원센터': 1833, '해남군지부': 1834, '해남군수어통역센터': 1835, '해남군주민지원센터': 1836, '경북농아인협회': 1837, '경산시지부': 1838, '경산시수어통역센터': 1839, '경산시청': 1840, '경주시지부': 1841, '경주시수어통역센터': 1842, '경주시청': 1843, '고령군지부': 1844, '고령군수어통역센터': 1845, '고령군주민지원센터': 1846, '구미시지부': 1847, '구미시수어통역센터': 1848, '구미시청': 1849, '군위군지부': 1850, '군위군수어통역센터': 1851, '군위주민지원센터': 1852, '김천시지부': 1853, '김천시수어통역센터': 1854, '아하': 1855, '문경시지부': 1856, '문경시수어통역센터': 1857, '문경시청': 1858, '봉화군지부': 1859, '봉화군수어통역센터': 1860, '봉화군주민지원센터': 1861, '상주시지부': 1862, '상주시수어통역센터': 1863, '상주시청': 1864, '성주시지부': 1865, '성주시수어통역센터': 1866, '성주시청': 1867, '안동시지부': 1868, '안동시수어통역센터': 1869, '안동시청': 1870, '영덕군지부': 1871, '영덕군수어통역센터': 1872, '영덕군주민지원센터': 1873, '영양군지부': 1874, '영양군수어통역센터': 1875, '영양군주민지원센터': 1876, '영주시지부': 1877, '영주시수어통역센터': 1878, '영주시청': 1879, '영천시지부': 1880, '영천시수어통역센터': 1881, '영천시청': 1882, '예천군지부': 1883, '예천군수어통역센터': 1884, '예천군주민지원센터': 1885, '울릉군지부': 1886, '울릉군수어통역센터': 1887, '울릉군주민지원센터': 1888, '울진군지부': 1889, '울진군수어통역센터': 1890, '울진군주민지원센터': 1891, '의성군지부': 1892, '의성군수어통역센터': 1893, '의성군주민지원센터': 1894, '청도군지부': 1895, '청도군수어통역센터': 1896, '청도군주민지원센터': 1897, '청송군지부': 1898, '청송군수어통역센터': 1899, '청송군주민지원센터': 1900, '칠곡군지부': 1901, '칠곡군수어통역센터': 1902, '칠곡군주민지원센터': 1903, '금시초문': 1904, '중도포기': 1905, '지식인': 1906, '충격': 1907, '며느리': 1908, '피해자': 1909, '사고력': 1910, '아름답다': 1911, '반드시': 1912, '한국인': 1913, '안색': 1914, '어른': 1915, '외동딸': 1916, '외아들': 1917, '뛰어나다': 1918, '조용하다': 1919, '존경하다': 1920, '집요': 1921, '청년': 1922, '청소년': 1923, '타인': 1924, '기민하다': 1925, '기지': 1926, '잔소리': 1927, '무산': 1928, '무념무상': 1929, '추측': 1930, '노인': 1931, '파헤치다': 1932, '지혜': 1933, '신문': 1934, '목마르다': 1935, '이력': 1936, '몸무게': 1937, '일반인': 1938, '책임자': 1939, '특기': 1940, '발각': 1941, '성냥불': 1942, '구분': 1943, '간': 1944, '걸음걸이': 1945, '계획': 1946, '일부러': 1947, '고인': 1948, '동의': 1949, '상상': 1950, '새파래지다': 1951, '관광': 1952, '태만': 1953, '긍정적': 1954, '기발': 1955, '여행자': 1956, '노화': 1957, '비상식적': 1958, '가엾다': 1959, '아둔하다': 1960, '말솜씨': 1961, '사색': 1962, '판박이': 1963, '체형': 1964, '무기력': 1965, '무분별': 1966, '미성년': 1967, '반성하다': 1968, '변화': 1969, '변천': 1970, '본성': 1971, '갑부': 1972, '불성실': 1973, '불친절': 1974, '사내': 1975, '성품': 1976, '소외감': 1977, '소지자': 1978, '솜씨': 1979, '솔직하다': 1980, '허약자': 1981, '실토': 1982, '엉뚱': 1983, '위인': 1984, '예견': 1985, '야망': 1986, '얼굴형': 1987, '울음소리': 1988, '웃음소리': 1989, '위': 1990, '욕망': 1991, '사욕': 1992, '인성': 1993, '인심': 1994, '인체': 1995, '가루약': 1996, '기초체조': 1997, '감염병': 1998, '중병': 1999, '선짓국': 2000, '햅쌀': 2001, '호떡': 2002, '들키다': 2003, '결혼식': 2004, '잠기다': 2005, '노고': 2006, '고조할아버지': 2007, '여리다': 2008, '구화': 2009, '노년기': 2010, '노부모': 2011, '매형': 2012, '제부': 2013, '수상': 2014, '검술': 2015, '물놀이': 2016, '물약': 2017, '돌보다': 2018, '생계': 2019, '친모': 2020, '친부': 2021, '생일': 2022, '작은엄마': 2023, '작은아빠': 2024, '도련님': 2025, '시어머니': 2026, '아주버님': 2027, '신부': 2028, '신혼': 2029, '약효': 2030, '여드름': 2031, '염색': 2032, '긴가민가': 2033, '미심쩍다': 2034, '의혹': 2035, '외할머니': 2036, '외할아버지': 2037, '운동장': 2038, '낙인': 2039, '작은할아버지': 2040, '장난감': 2041, '발인': 2042, '장모': 2043, '장인어른': 2044, '처남': 2045, '처형': 2046, '알맞다': 2047, '큰아버지': 2048, '큰어머니': 2049, '큰언니': 2050, '큰형': 2051, '형수': 2052, '환갑': 2053, '회생': 2054, '용돈': 2055, '공문': 2056, '고리타분': 2057, '공항': 2058, '월급': 2059, '기술자': 2060, '합심': 2061, '반납': 2062, '사무실': 2063, '직원': 2064, '사장': 2065, '받다': 2066, '책무': 2067, '사업': 2068, '운전자': 2069, '일본어': 2070, '일터': 2071, '전근': 2072, '경비': 2073, '구인': 2074, '취업': 2075, '문득': 2076, '알려주다': 2077, '한국어': 2078, '한글': 2079, '화가': 2080, '망각': 2081, '새털': 2082, '물다': 2083, '잊어버리다': 2084, '깜빡하다': 2085, '돋보이다': 2086, '빚더미': 2087, '유구무언': 2088, '욕구': 2089, '재벌': 2090, '벼락부자': 2091, '궁하다': 2092, '의욕': 2093, '맥없다': 2094, '탕진': 2095, '인색하다': 2096, '교섭': 2097, '합의': 2098, '질색': 2099, '거절': 2100, '미진하다': 2101, '표리부동': 2102, '대물림': 2103, '변제': 2104, '갑절': 2105, '권력': 2106, '착취': 2107, '값비싸다': 2108, '재량': 2109, '무자격': 2110, '상상하다': 2111, '헛수고': 2112, '미달성': 2113, '분주하다': 2114, '고수입': 2115, '일확천금': 2116, '혈안': 2117, '계획적': 2118, '폐업': 2119, '조종하다': 2120, '마지못하다': 2121, '사교': 2122, '물론': 2123, '유명하다': 2124, '역력하다': 2125, '부합되다': 2126, '매료되다': 2127, '그렇다': 2128, '등지다': 2129, '무경험': 2130, '끊다': 2131, '기피하다': 2132, '아부': 2133, '가만히': 2134, '유치하다': 2135, '결코': 2136, '들러리': 2137, '양자택일': 2138, '어차피': 2139, '각오': 2140, '위선자': 2141, '이중인격': 2142, '기회주의': 2143, '이기주의': 2144, '넘기다': 2145, '거저먹다': 2146, '험담': 2147, '달변': 2148, '빈말': 2149, '양다리': 2150, '고질적': 2151, '수다스럽다': 2152, '함구': 2153, '파악하다': 2154, '설득되다': 2155, '불복종': 2156, '막말': 2157, '아첨': 2158, '놀리다': 2159, '임기응변': 2160, '마이동풍': 2161, '변명': 2162, '팔랑귀': 2163, '어림없다': 2164, '솔직히': 2165, '겸임': 2166, '일인다역': 2167, '책임지다': 2168, '내버려두다': 2169, '내뱉다': 2170, '명령': 2171, '포기': 2172, '막상막하': 2173, '비등하다': 2174, '얕보다': 2175, '불간섭': 2176, '벗어나다': 2177, '전멸': 2178, '작살내다': 2179, '당하다': 2180, '만만하다': 2181, '기대다': 2182, '꺼지다': 2183, '중립': 2184, '봐주다': 2185, '해하다': 2186, '달성': 2187, '무자비': 2188, '괴팍하다': 2189, '달인': 2190, '감히': 2191, '대들다': 2192, '대단하다': 2193, '중독되다': 2194, '부부싸움': 2195, '멍청하다': 2196, '원활': 2197, '엄청나다': 2198, '무시하다': 2199, '제법': 2200, '형편없다': 2201, '빌리다': 2202, '돕다': 2203, '욕하다': 2204, '주다': 2205, '지불하다': 2206, '대출': 2207, '점등': 2208, '소등': 2209, '포항시지부': 2210, '포항시수화통역센터': 2211, '포항시청': 2212, '경남농아인협회': 2213, '거제시지부': 2214, '거제시수화통역센터': 2215, '거제시청': 2216, '거창군지부': 2217, '거창군수화통역센터': 2218, '거창군주민지원센터': 2219, '고성군지부': 2220, '고성군수화통역센터': 2221, '고성군주민지원센터': 2222, '김해시지부': 2223, '김해시수화통역센터': 2224, '김해시청': 2225, '남해군지부': 2226, '남해군수화통역센터': 2227, '남해군주민지원센터': 2228, '밀양시지부': 2229, '밀양시수화통역센터': 2230, '밀양시청': 2231, '사천시지부': 2232, '사천시수화통역센터': 2233, '사천시청': 2234, '산청군지부': 2235, '산청군수화통역센터': 2236, '산청군주민지원센터': 2237, '양산시지부': 2238, '양산시수화통역센터': 2239, '양산시청': 2240, '진주시지부': 2241, '진주시수화통역센터': 2242, '진주시청': 2243, '창녕군지부': 2244, '창녕군수화통역센터': 2245, '창녕군주민지원센터': 2246, '마산시지부': 2247, '마산시수화통역센터': 2248, '창원시지부': 2249, '창원시수화통역센터': 2250, '창원시청': 2251, '통영시지부': 2252, '통영시수화통역센터': 2253, '통영시청': 2254, '하동군지부': 2255, '하동군수화통역센터': 2256, '하동군주민지원센터': 2257, '함안군지부': 2258, '함안군수화통역센터': 2259, '함안군주민지원센터': 2260, '제주특별자치도농아인협회': 2261, '서귀포시지부': 2262, '서귀포시수화통역센터': 2263, '서귀포시청': 2264, '제주시지부': 2265, '제주시수화통역센터': 2266, '제주시청': 2267, '대구광역시청': 2268, '대전광역시청': 2269, '인천광역시청': 2270, '광주광역시청': 2271, '울산광역시청': 2272, '세종특별자치시': 2273, '경기도청': 2274, '제주도청': 2275, '충남도청': 2276, '충북도청': 2277, '경남도청': 2278, '경북도청': 2279, '전남도청': 2280, '전북도청': 2281, '강원도청': 2282, '궁리': 2283, '찔리다': 2284, '알아차리다': 2285, '통찰': 2286, '무소식': 2287, '소문내다': 2288, '뜻밖': 2289, '해내다': 2290, '현대': 2291, '신나다': 2292, '쌍용': 2293, '꼴사납다': 2294, '가소롭다': 2295, '네덜란드': 2296, '광기': 2297, '노르웨이': 2298, '대만': 2299, '시시하다': 2300, '독도': 2301, '독일': 2302, '로마': 2303, 'LA': 2304, '베트남': 2305, '벨기에': 2306, '불가리': 2307, '브라질': 2308, '스웨덴': 2309, '싱가폴': 2310, '짜증내다': 2311, '기절초풍': 2312, '우즈베키스탄': 2313, '유럽': 2314, '이란': 2315, '이집트': 2316, '제주도': 2317, '중국': 2318, '놀랍다': 2319, '캄보디아': 2320, '아프리카': 2321, '못마땅하다': 2322, '역겹다': 2323, '강물': 2324, '언덕': 2325, '골짜기': 2326, '황금': 2327, '석유': 2328, '달': 2329, '돌': 2330, '후지다': 2331, '흙': 2332, '뜨겁다': 2333, '일출': 2334, '먹구름': 2335, '황토': 2336, '바다': 2337, '낭패': 2338, '바람': 2339, '별': 2340, '비': 2341, '석탄': 2342, '섬': 2343, '철': 2344, '숲': 2345, '호수': 2346, '예고': 2347, '온도': 2348, '일몰': 2349, '괴롭히다': 2350, '제발': 2351, '차다': 2352, '위아래': 2353, '사계절': 2354, '상부': 2355, '아래': 2356, '날': 2357, '수심': 2358, '햇빛': 2359, '홍수': 2360, '감나무': 2361, '기린': 2362, '꿀벌': 2363, '쌀벌레': 2364, '미국': 2365, '일본': 2366, '몽골': 2367, '러시아': 2368, '북한': 2369, '인도': 2370, '살살': 2371, '못보았다': 2372, '영어': 2373, '이스라엘': 2374, '필리핀': 2375, '홍콩': 2376, '황홀': 2377, '보이다': 2378, '이탈리아': 2379, '군산': 2380, '목포': 2381, '인천': 2382, '금산': 2383, '강원도': 2384, '태백': 2385, '대구': 2386, '마산': 2387, '창원': 2388, '여수': 2389, '적중하다': 2390, '포항': 2391, '대전': 2392, '천안': 2393, '아산': 2394, '의정부': 2395, '원주': 2396, '눈썰미': 2397, '전주': 2398, '주목': 2399, '의성': 2400, '눈가림': 2401, '남원': 2402, '삼척': 2403, '일산': 2404, '강릉': 2405, '영': 2406, '일': 2407, '이': 2408, '삼': 2409, '사': 2410, '오': 2411, '육': 2412, '칠': 2413, '구': 2414, '십': 2415, '십일': 2416, '십이': 2417, '십삼': 2418, '십사': 2419, '십오': 2420, '십육': 2421, '십칠': 2422, '십팔': 2423, '십구': 2424, '이십': 2425, '이십일': 2426, '이십이': 2427, '이십삼': 2428, '이십사': 2429, '이십오': 2430, '이십육': 2431, '이십칠': 2432, '이십팔': 2433, '이십구': 2434, '삼십': 2435, '삼십일': 2436, '삼십이': 2437, '삼십삼': 2438, '삼십사': 2439, '삼십오': 2440, '삼십육': 2441, '삼십칠': 2442, '삼십팔': 2443, '삼십구': 2444, '사십': 2445, '사십일': 2446, '사십이': 2447, '사십삼': 2448, '사십사': 2449, '사십오': 2450, '사십육': 2451, '사십칠': 2452, '사십팔': 2453, '사십구': 2454, '오십': 2455, '오십일': 2456, '오십이': 2457, '오십삼': 2458, '오십사': 2459, '오십오': 2460, '오십육': 2461, '오십칠': 2462, '오십팔': 2463, '오십구': 2464, '육십': 2465, '육십일': 2466, '육십이': 2467, '육십삼': 2468, '육십사': 2469, '육십오': 2470, '육십육': 2471, '육십칠': 2472, '육십팔': 2473, '육십구': 2474, '칠십': 2475, '칠십일': 2476, '칠십이': 2477, '칠십삼': 2478, '칠십사': 2479, '칠십오': 2480, '칠십육': 2481, '칠십칠': 2482, '칠십팔': 2483, '칠십구': 2484, '팔십': 2485, '팔십일': 2486, '팔십이': 2487, '팔십삼': 2488, '팔십사': 2489, '팔십오': 2490, '팔십육': 2491, '팔십칠': 2492, '팔십팔': 2493, '팔십구': 2494, '구십': 2495, '구십일': 2496, '구십이': 2497, '구십삼': 2498, '구십사': 2499, '구십오': 2500, '구십육': 2501, '구십칠': 2502, '구십팔': 2503, '구십구': 2504, '백': 2505, '백일': 2506, '백이': 2507, '백삼': 2508, '백사': 2509, '백오': 2510, '백육': 2511, '백칠': 2512, '백팔': 2513, '백구': 2514, '백십': 2515, '백십일': 2516, '백십이': 2517, '백십삼': 2518, '백십사': 2519, '백십오': 2520, '백십육': 2521, '백십칠': 2522, '백십팔': 2523, '백십구': 2524, '백이십': 2525, '백이십일': 2526, '백이십이': 2527, '백이십삼': 2528, '백이십사': 2529, '백이십오': 2530, '백이십육': 2531, '백이십칠': 2532, '백이십팔': 2533, '백이십구': 2534, '백삼십': 2535, '백삼십일': 2536, '백삼십이': 2537, '백삼십삼': 2538, '백삼십사': 2539, '백삼십오': 2540, '백삼십육': 2541, '백삼십칠': 2542, '백삼십팔': 2543, '백삼십구': 2544, '백사십': 2545, '백사십일': 2546, '백사십이': 2547, '백사십삼': 2548, '백사십사': 2549, '백사십오': 2550, '백사십육': 2551, '백사십칠': 2552, '백사십팔': 2553, '백사십구': 2554, '백오십': 2555, '백오십일': 2556, '백오십이': 2557, '백오십삼': 2558, '백오십사': 2559, '백오십오': 2560, '백오십육': 2561, '백오십칠': 2562, '백오십팔': 2563, '백오십구': 2564, '백육십': 2565, '백육십일': 2566, '백육십이': 2567, '백육십삼': 2568, '백육십사': 2569, '백육십오': 2570, '백육십육': 2571, '백육십칠': 2572, '백육십팔': 2573, '백육십구': 2574, '백칠십': 2575, '백칠십일': 2576, '백칠십이': 2577, '백칠십삼': 2578, '백칠십사': 2579, '백칠십오': 2580, '백칠십육': 2581, '백칠십칠': 2582, '백칠십팔': 2583, '백칠십구': 2584, '백팔십': 2585, '백팔십일': 2586, '백팔십이': 2587, '백팔십삼': 2588, '백팔십사': 2589, '백팔십오': 2590, '백팔십육': 2591, '백팔십칠': 2592, '백팔십팔': 2593, '백팔십구': 2594, '백구십': 2595, '백구십일': 2596, '백구십이': 2597, '백구십삼': 2598, '백구십사': 2599, '백구십오': 2600, '백구십육': 2601, '백구십칠': 2602, '백구십팔': 2603, '백구십구': 2604, '이백': 2605, '이백십': 2606, '이백이십': 2607, '이백삼십': 2608, '이백사십': 2609, '이백오십': 2610, '이백육십': 2611, '이백칠십': 2612, '이백팔십': 2613, '이백구십': 2614, '삼백': 2615, '삼백십': 2616, '삼백이십': 2617, '삼백삼십': 2618, '삼백사십': 2619, '삼백오십': 2620, '삼백육십': 2621, '삼백칠십': 2622, '삼백팔십': 2623, '삼백구십': 2624, '사백': 2625, '사백오십': 2626, '오백': 2627, '오백오십': 2628, '육백': 2629, '육백오십': 2630, '칠백': 2631, '칠백오십': 2632, '팔백': 2633, '팔백오십': 2634, '구백': 2635, '구백오십': 2636, '천': 2637, '천오백': 2638, '이천오백': 2639, '삼천': 2640, '삼천오백': 2641, '사천': 2642, '사천오백': 2643, '오천': 2644, '오천오백': 2645, '육천': 2646, '육천오백': 2647, '칠천': 2648, '칠천오백': 2649, '팔천': 2650, '팔천오백': 2651, '구천': 2652, '구천오백': 2653, '만': 2654, '만오천': 2655, '이만': 2656, '이만오천': 2657, '삼만': 2658, '삼만오천': 2659, '사만': 2660, '사만오천': 2661, '오만': 2662, '오만오천': 2663, '육만': 2664, '육만오천': 2665, '칠만': 2666, '칠만오천': 2667, '팔만': 2668, '팔만오천': 2669, '구만': 2670, '구만오천': 2671, '십만': 2672, '십오만': 2673, '이십만': 2674, '이십오만': 2675, '삼십만': 2676, '삼십오만': 2677, '사십만': 2678, '사십오만': 2679, '오십만': 2680, '오십오만': 2681, '육십만': 2682, '육십오만': 2683, '칠십만': 2684, '칠십오만': 2685, '팔십만': 2686, '팔십오만': 2687, '구십만': 2688, '구십오만': 2689, '백만': 2690, '백오십만': 2691, '이백만': 2692, '이백오십만': 2693, '삼백만': 2694, '삼백오십만': 2695, '사백만': 2696, '사백오십만': 2697, '오백만': 2698, '오백오십만': 2699, '육백만': 2700, '육백오십만': 2701, '칠백만': 2702, '칠백오십만': 2703, '팔백만': 2704, '팔백오십만': 2705, '구백만': 2706, '구백오십만': 2707, '천만': 2708, '천오백만': 2709, '이천만': 2710, '이천오백만': 2711, '삼천만': 2712, '삼천오백만': 2713, '사천만': 2714, '사천오백만': 2715, '오천만': 2716, '오천오백만': 2717, '육천만': 2718, '육천오백만': 2719, '칠천만': 2720, '칠천오백만': 2721, '팔천만': 2722, '팔천오백만': 2723, '구천만': 2724, '구천오백만': 2725, '일억': 2726, '일억오천만': 2727, '이억': 2728, '이억오천만': 2729, '삼억': 2730, '삼억오천만': 2731, '사억': 2732, '사억오천만': 2733, '오억': 2734, '오억오천만': 2735, '육억': 2736, '육억오천만': 2737, '칠억': 2738, '칠억오천만': 2739, '팔억': 2740, '팔억오천만': 2741, '구억': 2742, '구억오천만': 2743, '십억': 2744, '십오억': 2745, '이십억': 2746, '이십오억': 2747, '삼십억': 2748, '삼십오억': 2749, '사십억': 2750, '사십오억': 2751, '오십억': 2752, '오십오억': 2753, '육십억': 2754, '육십오억': 2755, '칠십억': 2756, '칠십오억': 2757, '팔십억': 2758, '팔십오억': 2759, '구십억': 2760, '구십오억': 2761, '백억': 2762, '이백억': 2763, '삼백억': 2764, '사백억': 2765, '오백억': 2766, '육백억': 2767, '칠백억': 2768, '팔백억': 2769, '구백억': 2770, '일조': 2771, '결승전1': 2772, '된장찌개': 2773, '경남': 2774, '어제밤': 2775, '분홍색': 2776, '겉멋': 2777, '교명': 2778, '담당2': 2779, '의미1': 2780, '가다3': 2781, '서구지부1': 2782, '서구수어통역센터1': 2783, '서구주민지원센터1': 2784, '살인2': 2785, '떨다2': 2786, '뚱뚱하다2': 2787, '때리다3': 2788, '몸2': 2789, '초대3': 2790, '걷다2': 2791, '걷다3': 2792, '걷다6': 2793, '자다3': 2794, '째려보다3': 2795, '서구주민지원센터2': 2796, '보령시수어통역센터': 2797, '남원시수어통역센터': 2798, '순창군수어통역센터': 2799, '경주농아인협회': 2800, '쇄뇌': 2801, '폐업1': 2802, '마이동품': 2803, '천억': 2804, '배춧국': 2805, '꽈배기': 2806, '도서관': 2807, '데모': 2808, '10번쨰': 2809, '논산시지회': 2810, '거재수화통역센터': 2811, '여주지부': 2812, '강릉수어통역센터': 2813, '광산구주민센터': 2814, '세종시농아인협회': 2815, '금산군지부': 2816, '전기기기': 2817, '호텔대학교': 2818, '감옥2': 2819, '견습1': 2820, '거지2': 2821, '거지3': 2822, '결승전2': 2823, '직인1': 2824, '지도1': 2825, '지도2': 2826, '신기1': 2827, '신기2': 2828, '고난이도1': 2829, '고난이도2': 2830, '담당1': 2831, '독특1': 2832, '무덤덤1': 2833, '사라지다1': 2834, '밀거래1': 2835, '밀거래2': 2836, '결심1': 2837, '쓰러지다1': 2838, '맹세1': 2839, '좋다1': 2840, '황소고집1': 2841, '의문1': 2842, '지도3': 2843, '복습2': 2844, '무식1': 2845, '공식2': 2846, '우유1': 2847, '한국농아인협회2': 2848, '한국농아인협회3': 2849, '중구지부1': 2850, '중구수어통역센터1': 2851, '중구주민지원센터1': 2852, '불가능2': 2853, '남자1': 2854, '급하다2': 2855, '달래다1': 2856, '집중1': 2857, '밉다1': 2858, '배려1': 2859, '당황1': 2860, '검사2': 2861, '예민1': 2862, '살인1': 2863, '서다1': 2864, '때리다1': 2865, '떨다1': 2866, '맞다1': 2867, '뚱뚱하다1': 2868, '알다1': 2869, '아기1': 2870, '우습다1': 2871, '어렵다1': 2872, '전문1': 2873, '쓰러지다2': 2874, '평가2': 2875, '우유2': 2876, '몸1': 2877, '일어나다1': 2878, '여자1': 2879, '무식2': 2880, '싫다1': 2881, '가능1': 2882, '사라지다3': 2883, '야단치다1': 2884, '초대1': 2885, '거만2': 2886, '걷다1': 2887, '결심2': 2888, '남자2': 2889, '귀엽다1': 2890, '안타깝다2': 2891, '달래다2': 2892, '집중2': 2893, '갈색2': 2894, '밉다2': 2895, '밉다3': 2896, '배려2': 2897, '배려3': 2898, '무덤덤2': 2899, '불신1': 2900, '서다2': 2901, '가다4': 2902, '귀찮다1': 2903, '귀찮다2': 2904, '째려보다1': 2905, '때리다2': 2906, '뚱뚱하다3': 2907, '눈2': 2908, '자다1': 2909, '자다2': 2910, '일어나다2': 2911, '없다1': 2912, '싫다2': 2913, '초대2': 2914, '걷다4': 2915, '걷다5': 2916, '여자2': 2917, '야단치다2': 2918, '야단치다3': 2919, '째려보다2': 2920, '전문2': 2921, '남녀1': 2922, '남녀2': 2923, '잠실1': 2924, '잠실2': 2925, '중독1': 2926, '사별1': 2927, '견습2': 2928, '구조1': 2929, '뻔뻔2': 2930, '중구지부2': 2931, '중구수어통역센터2': 2932, '중구주민지원센터2': 2933, '없다2': 2934, '.절': 2935, '0만원': 2936, '편두통': 2937, '중요하다': 2938, '새깃털': 2939, '스스로': 2940, '안성지부': 2941, '잠': 2942, '탄광': 2943, '금산군주민지원센터': 2944, '경계': 2945, '완완주군수어통역센터': 2946}\n"
     ]
    }
   ],
   "execution_count": 8
  },
  {
   "metadata": {
    "ExecuteTime": {
     "end_time": "2024-10-08T06:06:30.592420Z",
     "start_time": "2024-10-08T06:06:30.588419Z"
    }
   },
   "cell_type": "code",
   "source": [
    "with open('wordtonum.json', 'r', encoding=\"UTF8\") as json_file:\n",
    "    data = json.load(json_file)\n",
    "    print(data['신부'])\n",
    "    "
   ],
   "id": "d944af530fdc7412",
   "outputs": [
    {
     "name": "stdout",
     "output_type": "stream",
     "text": [
      "2142\n"
     ]
    }
   ],
   "execution_count": 25
  },
  {
   "metadata": {},
   "cell_type": "code",
   "outputs": [],
   "execution_count": null,
   "source": "",
   "id": "2c84c62319e509a7"
  }
 ],
 "metadata": {
  "kernelspec": {
   "display_name": "Python 3 (ipykernel)",
   "language": "python",
   "name": "python3"
  },
  "language_info": {
   "codemirror_mode": {
    "name": "ipython",
    "version": 3
   },
   "file_extension": ".py",
   "mimetype": "text/x-python",
   "name": "python",
   "nbconvert_exporter": "python",
   "pygments_lexer": "ipython3",
   "version": "3.12.4"
  }
 },
 "nbformat": 4,
 "nbformat_minor": 5
}
