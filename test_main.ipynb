{
 "cells": [
  {
   "cell_type": "code",
   "execution_count": 12,
   "metadata": {
    "ExecuteTime": {
     "end_time": "2024-10-14T05:52:10.588400Z",
     "start_time": "2024-10-14T05:52:10.585400Z"
    }
   },
   "outputs": [],
   "source": [
    "# import preprocess as prep\n",
    "import os\n",
    "# os.environ[\"CUDA_VISIBLE_DEVICES\"] = \"-1\" \n",
    "import importlib\n",
    "import preprocess_lite\n",
    "import preprocess\n",
    "import SLR_model\n",
    "from scipy. stats import mode\n",
    "import tensorflow as tf\n",
    "import numpy as np\n",
    "# model will output multiple(15) results/sec, how are we gonna handle it?"
   ]
  },
  {
   "cell_type": "code",
   "execution_count": 13,
   "metadata": {
    "ExecuteTime": {
     "end_time": "2024-10-14T05:52:12.058404Z",
     "start_time": "2024-10-14T05:52:12.032404Z"
    }
   },
   "outputs": [
    {
     "data": {
      "text/plain": [
       "<module 'preprocess' from 'f:\\\\home\\\\shd\\\\BomNae-SLR\\\\preprocess.py'>"
      ]
     },
     "execution_count": 13,
     "metadata": {},
     "output_type": "execute_result"
    }
   ],
   "source": [
    "importlib.reload(SLR_model)\n",
    "importlib.reload(preprocess_lite)\n",
    "importlib.reload(preprocess)\n",
    "\n"
   ]
  },
  {
   "cell_type": "code",
   "execution_count": 14,
   "metadata": {
    "ExecuteTime": {
     "end_time": "2024-10-14T05:52:13.285633Z",
     "start_time": "2024-10-14T05:52:13.282633Z"
    }
   },
   "outputs": [],
   "source": [
    "# Configurations\n",
    "model_dir = \"saves\"\n",
    "THRESHOLD = 0.5\n",
    "# batch_size = 16\n",
    "file_name=\"11-20-16-30epochs-5times_final\"\n"
   ]
  },
  {
   "cell_type": "code",
   "execution_count": 15,
   "metadata": {
    "ExecuteTime": {
     "end_time": "2024-10-14T05:52:45.372752Z",
     "start_time": "2024-10-14T05:52:45.336241Z"
    }
   },
   "outputs": [],
   "source": [
    "# 세이브된 모델 로드\n",
    "load_path = os.path.join(model_dir, \"ckpt\",file_name+\".keras\")\n",
    "model = SLR_model.load_model(load_path)\n"
   ]
  },
  {
   "cell_type": "code",
   "execution_count": 22,
   "metadata": {},
   "outputs": [
    {
     "name": "stdout",
     "output_type": "stream",
     "text": [
      "\u001b[1m1/1\u001b[0m \u001b[32m━━━━━━━━━━━━━━━━━━━━\u001b[0m\u001b[37m\u001b[0m \u001b[1m0s\u001b[0m 273ms/step\n",
      "1232:811\n",
      "1232:811\n",
      "1232:811\n",
      "1232:811\n",
      "1232:811\n",
      "1232:811\n",
      "1232:811\n",
      "1232:467\n",
      "1232:347\n",
      "1232:1972\n",
      "1232:1908\n",
      "1232:1232\n",
      "[0.80256814 0.11912374]\n"
     ]
    }
   ],
   "source": [
    "# load data\n",
    "l_raws=[]\n",
    "r_raws=[]\n",
    "p_raws=[]\n",
    "y_raws=[]\n",
    "person_id = 18\n",
    "# TODO hardcode path\n",
    "# a video\n",
    "for j in sorted(os.listdir(os.path.join(preprocess_lite.getoutputdir(\"val\"),str(person_id)))):\n",
    "    j=\"0006.npz\"\n",
    "    l_raw, r_raw, p_raw, y_raw= preprocess_lite.load_data(f\"{person_id}/{j}\",\"val\")\n",
    "    \n",
    "    l_raws.append(l_raw)\n",
    "    r_raws.append(r_raw)\n",
    "    p_raws.append(p_raw)\n",
    "    y_raws.append(y_raw)\n",
    "    l_test, each = SLR_model.serialize(l_raws)\n",
    "    r_test, each = SLR_model.serialize(r_raws)\n",
    "    p_test, each = SLR_model.serialize(p_raws, stride=2,is_pose = True)\n",
    "    x_test = (l_test, r_test, p_test)\n",
    "\n",
    "    predictions = model.predict(x_test,32)\n",
    "    pred=SLR_model.decode_onehot2d(predictions)\n",
    "    for i in range(len(predictions)):\n",
    "        print(f\"{y_raw}:{pred[i]}\")\n",
    "        if pred[i]==y_raw:\n",
    "            print(tf.math.top_k(predictions[i],k=2).values.numpy())\n",
    "            break\n",
    "            \n",
    "    # print(SLR_model.decode_onehot2d(predictions))\n",
    "\n",
    "    break\n",
    "    "
   ]
  },
  {
   "cell_type": "code",
   "execution_count": 23,
   "metadata": {
    "ExecuteTime": {
     "end_time": "2024-10-13T09:26:56.262016Z",
     "start_time": "2024-10-13T09:26:56.256035Z"
    }
   },
   "outputs": [
    {
     "name": "stderr",
     "output_type": "stream",
     "text": [
      "c:\\Users\\shd\\anaconda3\\envs\\BomNae-SLR\\lib\\contextlib.py:137: UserWarning: Your input ran out of data; interrupting training. Make sure that your dataset or generator can generate at least `steps_per_epoch * epochs` batches. You may need to use the `.repeat()` function when building your dataset.\n",
      "  self.gen.throw(typ, value, traceback)\n"
     ]
    },
    {
     "name": "stdout",
     "output_type": "stream",
     "text": [
      "17\n",
      "70.36144578313252\n",
      "\n"
     ]
    }
   ],
   "source": [
    "# load data\n",
    "l_raws=[]\n",
    "r_raws=[]\n",
    "p_raws=[]\n",
    "y_raws=[]\n",
    "person_id = 1\n",
    "\n",
    "name_list=[]\n",
    "# TODO hardcode path\n",
    "# a video\n",
    "for person_id in range(17,18):\n",
    "    count=0\n",
    "    incorrect=0\n",
    "    if person_id==2:\n",
    "        continue\n",
    "    # val_list=sorted(os.listdir(os.path.join(preprocess_lite.getoutputdir(),str(person_id))))\n",
    "    val_list=sorted(os.listdir(os.path.join(preprocess_lite.getoutputdir('val'),str(person_id))))\n",
    "    \n",
    "    for j in val_list:\n",
    "        # j=\"0001.npz\"\n",
    "        try:\n",
    "            l_raw, r_raw, p_raw, y_raw = preprocess_lite.load_data(f\"{person_id}/{j}\",'val')\n",
    "            # l_raw, r_raw, p_raw, y_raw,w = preprocess_lite.load_data(f\"{person_id}/{j}\")\n",
    "            \n",
    "        except Exception as e:\n",
    "            print(e)\n",
    "            continue\n",
    "        l_raws.append(l_raw)\n",
    "        r_raws.append(r_raw)\n",
    "        p_raws.append(p_raw)\n",
    "        y_raws.append(y_raw)\n",
    "        l_test, each = SLR_model.serialize(l_raws)\n",
    "        r_test, each = SLR_model.serialize(r_raws)\n",
    "        p_test, each = SLR_model.serialize(p_raws, stride=2,is_pose = True)\n",
    "        x_test = (l_test, r_test, p_test)\n",
    "        try:\n",
    "            predictions = model.predict(x_test,32,verbose=0)\n",
    "            pred=SLR_model.decode_onehot2d(predictions)\n",
    "            num=mode(pred)\n",
    "            for i in range(len(predictions)):\n",
    "                if pred[i]==y_raw:\n",
    "                    top=tf.math.top_k(predictions[i],k=2).values.numpy()\n",
    "                    count+=1\n",
    "                    break\n",
    "                else: top=np.array([0,0]) \n",
    "            ans=(abs(top[0]-top[1]))\n",
    "        except Exception as e:\n",
    "            log_msg=f'{j}) {e}\\n'\n",
    "        else:\n",
    "            log_msg=f'{j}):correct:{y_raw}/{num[0]}\\n'\n",
    "    \n",
    "            if 0==ans:\n",
    "                incorrect+=1\n",
    "                # name_list.append(j)\n",
    "        finally:\n",
    "            # with open(file_name+\"_test_log.txt\",\"a\") as log:\n",
    "                # if int(y_raw)!=int(num[0]):\n",
    "                # log.write(log_msg)\n",
    "                # print(log_msg)\n",
    "            l_raws.clear()\n",
    "            r_raws.clear()\n",
    "            p_raws.clear()\n",
    "            y_raws.clear()\n",
    "    print(person_id)\n",
    "    print(count/len(val_list)*100)\n",
    "    print()"
   ]
  },
  {
   "cell_type": "code",
   "execution_count": null,
   "metadata": {
    "ExecuteTime": {
     "end_time": "2024-10-13T09:26:57.766162Z",
     "start_time": "2024-10-13T09:26:57.761177Z"
    }
   },
   "outputs": [],
   "source": [
    "# load data\n",
    "l_raws=[]\n",
    "r_raws=[]\n",
    "p_raws=[]\n",
    "y_raws=[]\n",
    "person_id = 1\n",
    "\n",
    "name_list=[]\n",
    "# TODO hardcode path\n",
    "# a video\n",
    "for person_id in range(17,19):\n",
    "    count=0\n",
    "    incorrect=0\n",
    "    if person_id==2:\n",
    "        continue\n",
    "    # val_list=sorted(os.listdir(os.path.join(preprocess_lite.getoutputdir(),str(person_id))))\n",
    "    val_list=sorted(os.listdir(os.path.join(preprocess.getoutputdir('val'),str(person_id))))\n",
    "    \n",
    "    for j in val_list:\n",
    "        # j=\"0001.npz\"\n",
    "        try:\n",
    "            l_raw, r_raw, p_raw, y_raw = preprocess.load_data(f\"{person_id}/{j}\",'val')\n",
    "            # l_raw, r_raw, p_raw, y_raw,w = preprocess_lite.load_data(f\"{person_id}/{j}\")\n",
    "            \n",
    "        except Exception as e:\n",
    "            print(e)\n",
    "            continue\n",
    "        l_raws.append(l_raw)\n",
    "        r_raws.append(r_raw)\n",
    "        p_raws.append(p_raw)\n",
    "        y_raws.append(y_raw)\n",
    "        l_test, each = SLR_model.serialize(l_raws)\n",
    "        r_test, each = SLR_model.serialize(r_raws)\n",
    "        p_test, each = SLR_model.serialize(p_raws, stride=2,is_pose = True)\n",
    "        x_test = (l_test, r_test, p_test)\n",
    "        try:\n",
    "            predictions = model2.predict(x_test,32,verbose=0)\n",
    "            pred=SLR_model.decode_onehot2d(predictions)\n",
    "            num=mode(pred)\n",
    "            for i in range(len(predictions)):\n",
    "                if pred[i]==y_raw:\n",
    "                    top=tf.math.top_k(predictions[i],k=2).values.numpy()\n",
    "                    count+=1\n",
    "                    break\n",
    "                else: top=np.array([0,0]) \n",
    "            ans=(abs(top[0]-top[1]))\n",
    "        except Exception as e:\n",
    "            log_msg=f'{j}) {e}\\n'\n",
    "        else:\n",
    "            log_msg=f'{j}):correct:{y_raw}/{num[0]}\\n'\n",
    "    \n",
    "            if 0==ans:\n",
    "                incorrect+=1\n",
    "                # name_list.append(j)\n",
    "        finally:\n",
    "            # with open(file_name+\"_test_log.txt\",\"a\") as log:\n",
    "                # if int(y_raw)!=int(num[0]):\n",
    "                # log.write(log_msg)\n",
    "                # print(log_msg)\n",
    "            l_raws.clear()\n",
    "            r_raws.clear()\n",
    "            p_raws.clear()\n",
    "            y_raws.clear()\n",
    "    print(person_id)\n",
    "    print(count/len(val_list)*100)\n",
    "    print()"
   ]
  },
  {
   "cell_type": "code",
   "execution_count": null,
   "metadata": {
    "ExecuteTime": {
     "end_time": "2024-10-13T09:14:47.086323Z",
     "start_time": "2024-10-13T09:14:47.083333Z"
    }
   },
   "outputs": [],
   "source": [
    "# # dummy x_raw data\n",
    "# l_raws = []\n",
    "# duration_list = []\n",
    "# h_elem = np.zeros(shape=(4,5,3))\n",
    "# # p_elem = np.zeros(shape=(3,10))\n",
    "# # comb_elem = [h_elem, h_elem, p_elem]\n",
    "# x_elem = []\n",
    "# duration = (np.random.randint(90,100))\n",
    "# duration_list.append(duration)\n",
    "# for j in range(duration): # frame size\n",
    "#     x_elem.append(h_elem)\n",
    "#     # x_elem.append(comb_elem)\n",
    "# l_raws.append(x_elem)\n",
    "# r_raws = []\n",
    "# \n",
    "# h_elem = np.zeros(shape=(4,5,3))\n",
    "# # p_elem = np.zeros(shape=(3,10))\n",
    "# # comb_elem = [h_elem, h_elem, p_elem]\n",
    "# x_elem = []\n",
    "# duration = duration_list[0]\n",
    "# for j in range(duration): # frame size\n",
    "#     x_elem.append(h_elem)\n",
    "#     # x_elem.append(comb_elem)\n",
    "# r_raws.append(x_elem)\n",
    "# p_raws = []\n",
    "# \n",
    "# # h_elem = np.zeros(shape=(4,5,3))\n",
    "# p_elem = np.zeros(shape=(3,10))\n",
    "# # comb_elem = [h_elem, h_elem, p_elem]\n",
    "# x_elem = []\n",
    "# duration = duration_list[0]\n",
    "# for j in range(duration): # frame size\n",
    "#     # x_elem.append(h_elem)\n",
    "#     x_elem.append(p_elem)\n",
    "#     # x_elem.append(comb_elem)\n",
    "# p_raws.append(x_elem)"
   ]
  },
  {
   "cell_type": "code",
   "execution_count": null,
   "metadata": {
    "ExecuteTime": {
     "end_time": "2024-10-13T09:27:02.531524Z",
     "start_time": "2024-10-13T09:27:02.527537Z"
    }
   },
   "outputs": [],
   "source": [
    "l_test, each = SLR_model.serialize(l_raws)\n",
    "r_test, each = SLR_model.serialize(r_raws)\n",
    "p_test, each = SLR_model.serialize(p_raws, stride=2,is_pose = True)\n",
    "x_test = (l_test, r_test, p_test)\n",
    "\n",
    "# dataset = SLR_model.convert_to_dataset_single(x_test, batch_size)\n",
    "\n",
    "\n",
    "# with open(hist_path, 'w') as file:\n",
    "#     json.dump(hist.history, file)"
   ]
  },
  {
   "cell_type": "code",
   "execution_count": null,
   "metadata": {
    "ExecuteTime": {
     "end_time": "2024-10-13T09:27:03.085780Z",
     "start_time": "2024-10-13T09:27:03.080797Z"
    }
   },
   "outputs": [],
   "source": [
    "y_raw"
   ]
  },
  {
   "cell_type": "code",
   "execution_count": null,
   "metadata": {
    "ExecuteTime": {
     "end_time": "2024-10-13T09:27:26.480770Z",
     "start_time": "2024-10-13T09:27:26.435920Z"
    }
   },
   "outputs": [],
   "source": [
    "\n",
    "predictions = model.predict(x_test,32)\n",
    "print(SLR_model.decode_onehot2d(predictions))\n"
   ]
  },
  {
   "cell_type": "code",
   "execution_count": null,
   "metadata": {
    "ExecuteTime": {
     "end_time": "2024-10-13T09:27:27.700980Z",
     "start_time": "2024-10-13T09:27:27.696994Z"
    }
   },
   "outputs": [],
   "source": [
    "predictions"
   ]
  },
  {
   "cell_type": "code",
   "execution_count": null,
   "metadata": {
    "ExecuteTime": {
     "end_time": "2024-10-13T09:27:29.695787Z",
     "start_time": "2024-10-13T09:27:29.690804Z"
    }
   },
   "outputs": [],
   "source": [
    "# pred_bin = predictions.round().astype(np.int32)\n",
    "# pred_bin"
   ]
  },
  {
   "cell_type": "code",
   "execution_count": null,
   "metadata": {
    "ExecuteTime": {
     "end_time": "2024-10-13T09:27:32.362827Z",
     "start_time": "2024-10-13T09:27:32.342391Z"
    }
   },
   "outputs": [],
   "source": [
    "importlib.reload(SLR_model)"
   ]
  },
  {
   "cell_type": "code",
   "execution_count": null,
   "metadata": {
    "ExecuteTime": {
     "end_time": "2024-10-13T09:27:36.110338Z",
     "start_time": "2024-10-13T09:27:36.105355Z"
    }
   },
   "outputs": [],
   "source": [
    "SLR_model.decode_onehot2d(predictions)"
   ]
  },
  {
   "cell_type": "code",
   "execution_count": null,
   "metadata": {
    "ExecuteTime": {
     "end_time": "2024-10-13T09:02:50.133710Z",
     "start_time": "2024-10-13T09:02:50.129204Z"
    }
   },
   "outputs": [],
   "source": [
    "SLR_model.bin2num([1,0,1,1,1,0,1,1,1,0,1,0])"
   ]
  },
  {
   "cell_type": "code",
   "execution_count": null,
   "metadata": {},
   "outputs": [],
   "source": [
    "model.predict"
   ]
  },
  {
   "cell_type": "code",
   "execution_count": null,
   "metadata": {},
   "outputs": [],
   "source": []
  }
 ],
 "metadata": {
  "kernelspec": {
   "display_name": "BomNae-SLR",
   "language": "python",
   "name": "python3"
  },
  "language_info": {
   "codemirror_mode": {
    "name": "ipython",
    "version": 3
   },
   "file_extension": ".py",
   "mimetype": "text/x-python",
   "name": "python",
   "nbconvert_exporter": "python",
   "pygments_lexer": "ipython3",
   "version": "3.9.20"
  }
 },
 "nbformat": 4,
 "nbformat_minor": 4
}
