{
 "cells": [
  {
   "cell_type": "code",
   "execution_count": 2,
   "metadata": {
    "ExecuteTime": {
     "end_time": "2024-10-14T05:52:10.588400Z",
     "start_time": "2024-10-14T05:52:10.585400Z"
    }
   },
   "outputs": [],
   "source": [
    "# import preprocess as prep\n",
    "import os\n",
    "# os.environ[\"CUDA_VISIBLE_DEVICES\"] = \"-1\" \n",
    "import importlib\n",
    "import preprocess_lite\n",
    "import preprocess\n",
    "import SLR_model\n",
    "from scipy. stats import mode\n",
    "import tensorflow as tf\n",
    "import numpy as np\n",
    "# model will output multiple(15) results/sec, how are we gonna handle it?"
   ]
  },
  {
   "cell_type": "code",
   "execution_count": 3,
   "metadata": {
    "ExecuteTime": {
     "end_time": "2024-10-14T05:52:12.058404Z",
     "start_time": "2024-10-14T05:52:12.032404Z"
    }
   },
   "outputs": [
    {
     "data": {
      "text/plain": [
       "<module 'preprocess' from '/home/shd/BomNae-SLR/preprocess.py'>"
      ]
     },
     "execution_count": 3,
     "metadata": {},
     "output_type": "execute_result"
    }
   ],
   "source": [
    "importlib.reload(SLR_model)\n",
    "importlib.reload(preprocess_lite)\n",
    "importlib.reload(preprocess)\n",
    "\n"
   ]
  },
  {
   "cell_type": "code",
   "execution_count": 5,
   "metadata": {
    "ExecuteTime": {
     "end_time": "2024-10-14T05:52:13.285633Z",
     "start_time": "2024-10-14T05:52:13.282633Z"
    }
   },
   "outputs": [],
   "source": [
    "# Configurations\n",
    "model_dir = \"saves\"\n",
    "THRESHOLD = 0.6\n",
    "# batch_size = 16\n",
    "file_name=\"11-20-16-30epochs-5times_final\""
   ]
  },
  {
   "cell_type": "code",
   "execution_count": 6,
   "metadata": {
    "ExecuteTime": {
     "end_time": "2024-10-14T05:52:45.372752Z",
     "start_time": "2024-10-14T05:52:45.336241Z"
    }
   },
   "outputs": [],
   "source": [
    "# 세이브된 모델 로드\n",
    "load_path = os.path.join(model_dir, \"ckpt\",file_name+\".keras\")\n",
    "model = SLR_model.load_model(load_path)"
   ]
  },
  {
   "cell_type": "code",
   "execution_count": 9,
   "metadata": {},
   "outputs": [
    {
     "ename": "ValueError",
     "evalue": "not enough values to unpack (expected 5, got 4)",
     "output_type": "error",
     "traceback": [
      "\u001b[0;31m---------------------------------------------------------------------------\u001b[0m",
      "\u001b[0;31mValueError\u001b[0m                                Traceback (most recent call last)",
      "Cell \u001b[0;32mIn[9], line 11\u001b[0m\n\u001b[1;32m      9\u001b[0m \u001b[38;5;28;01mfor\u001b[39;00m j \u001b[38;5;129;01min\u001b[39;00m \u001b[38;5;28msorted\u001b[39m(os\u001b[38;5;241m.\u001b[39mlistdir(os\u001b[38;5;241m.\u001b[39mpath\u001b[38;5;241m.\u001b[39mjoin(preprocess_lite\u001b[38;5;241m.\u001b[39mgetoutputdir(\u001b[38;5;124m\"\u001b[39m\u001b[38;5;124mval\u001b[39m\u001b[38;5;124m\"\u001b[39m),\u001b[38;5;28mstr\u001b[39m(person_id)))):\n\u001b[1;32m     10\u001b[0m     j\u001b[38;5;241m=\u001b[39m\u001b[38;5;124m\"\u001b[39m\u001b[38;5;124m0002.npz\u001b[39m\u001b[38;5;124m\"\u001b[39m\n\u001b[0;32m---> 11\u001b[0m     l_raw, r_raw, p_raw, y_raw ,w\u001b[38;5;241m=\u001b[39m preprocess_lite\u001b[38;5;241m.\u001b[39mload_data(\u001b[38;5;124mf\u001b[39m\u001b[38;5;124m\"\u001b[39m\u001b[38;5;132;01m{\u001b[39;00mperson_id\u001b[38;5;132;01m}\u001b[39;00m\u001b[38;5;124m/\u001b[39m\u001b[38;5;132;01m{\u001b[39;00mj\u001b[38;5;132;01m}\u001b[39;00m\u001b[38;5;124m\"\u001b[39m,\u001b[38;5;124m\"\u001b[39m\u001b[38;5;124mval\u001b[39m\u001b[38;5;124m\"\u001b[39m)\n\u001b[1;32m     13\u001b[0m     l_raws\u001b[38;5;241m.\u001b[39mappend(l_raw)\n\u001b[1;32m     14\u001b[0m     r_raws\u001b[38;5;241m.\u001b[39mappend(r_raw)\n",
      "\u001b[0;31mValueError\u001b[0m: not enough values to unpack (expected 5, got 4)"
     ]
    }
   ],
   "source": [
    "# load data\n",
    "l_raws=[]\n",
    "r_raws=[]\n",
    "p_raws=[]\n",
    "y_raws=[]\n",
    "person_id = 17\n",
    "# TODO hardcode path\n",
    "# a video\n",
    "for j in sorted(os.listdir(os.path.join(preprocess_lite.getoutputdir(\"val\"),str(person_id)))):\n",
    "    j=\"0002.npz\"\n",
    "    l_raw, r_raw, p_raw, y_raw ,w= preprocess_lite.load_data(f\"{person_id}/{j}\",\"val\")\n",
    "    \n",
    "    l_raws.append(l_raw)\n",
    "    r_raws.append(r_raw)\n",
    "    p_raws.append(p_raw)\n",
    "    y_raws.append(y_raw)\n",
    "    l_test, each = SLR_model.serialize(l_raws)\n",
    "    r_test, each = SLR_model.serialize(r_raws)\n",
    "    p_test, each = SLR_model.serialize(p_raws, stride=2,is_pose = True)\n",
    "    x_test = (l_test, r_test, p_test)\n",
    "\n",
    "    predictions = model.predict(x_test,32)\n",
    "    pred=SLR_model.decode_onehot2d(predictions)\n",
    "    for i in range(len(predictions)):\n",
    "        print(f\"{y_raw}:{pred[i]}\")\n",
    "        if pred[i]==y_raw:\n",
    "            print(tf.math.top_k(predictions[i],k=2).values.numpy())\n",
    "            break\n",
    "            \n",
    "    # print(SLR_model.decode_onehot2d(predictions))\n",
    "\n",
    "    break\n",
    "    "
   ]
  },
  {
   "cell_type": "code",
   "execution_count": 12,
   "metadata": {
    "ExecuteTime": {
     "end_time": "2024-10-13T09:26:56.262016Z",
     "start_time": "2024-10-13T09:26:56.256035Z"
    }
   },
   "outputs": [
    {
     "name": "stdout",
     "output_type": "stream",
     "text": [
      "[Errno 21] Is a directory: 'signData/nptxt_lite/1/.ipynb_checkpoints'\n",
      "1\n",
      "78.67762128325508\n",
      "\n",
      "3\n",
      "45.675146771037184\n",
      "\n",
      "4\n",
      "43.12573443008226\n",
      "\n",
      "5\n",
      "64.07045009784736\n",
      "\n",
      "6\n",
      "72.556684910086\n",
      "\n",
      "7\n",
      "61.44814090019569\n",
      "\n",
      "8\n",
      "65.62255285826156\n",
      "\n",
      "9\n",
      "55.033294163728954\n",
      "\n",
      "10\n",
      "86.76585747846516\n",
      "\n"
     ]
    },
    {
     "name": "stderr",
     "output_type": "stream",
     "text": [
      "2024-11-21 14:09:23.862253: I tensorflow/core/framework/local_rendezvous.cc:404] Local rendezvous is aborting with status: OUT_OF_RANGE: End of sequence\n"
     ]
    },
    {
     "name": "stdout",
     "output_type": "stream",
     "text": [
      "11\n",
      "92.7956147220047\n",
      "\n",
      "12\n",
      "89.1065830721003\n",
      "\n",
      "13\n",
      "44.888366627497064\n",
      "\n",
      "14\n",
      "55.111633372502936\n",
      "\n",
      "15\n",
      "72.62044653349001\n",
      "\n",
      "[Errno 21] Is a directory: 'signData/nptxt_lite/16/.ipynb_checkpoints'\n",
      "16\n",
      "74.32485322896282\n",
      "\n"
     ]
    }
   ],
   "source": [
    "# load data\n",
    "l_raws=[]\n",
    "r_raws=[]\n",
    "p_raws=[]\n",
    "y_raws=[]\n",
    "person_id = 1\n",
    "\n",
    "name_list=[]\n",
    "# TODO hardcode path\n",
    "# a video\n",
    "for person_id in range(17,19):\n",
    "    count=0\n",
    "    incorrect=0\n",
    "    if person_id==2:\n",
    "        continue\n",
    "    # val_list=sorted(os.listdir(os.path.join(preprocess_lite.getoutputdir(),str(person_id))))\n",
    "    val_list=sorted(os.listdir(os.path.join(preprocess_lite.getoutputdir('val'),str(person_id))))\n",
    "    \n",
    "    for j in val_list:\n",
    "        # j=\"0001.npz\"\n",
    "        try:\n",
    "            l_raw, r_raw, p_raw, y_raw = preprocess_lite.load_data(f\"{person_id}/{j}\",'val')\n",
    "            # l_raw, r_raw, p_raw, y_raw,w = preprocess_lite.load_data(f\"{person_id}/{j}\")\n",
    "            \n",
    "        except Exception as e:\n",
    "            print(e)\n",
    "            continue\n",
    "        l_raws.append(l_raw)\n",
    "        r_raws.append(r_raw)\n",
    "        p_raws.append(p_raw)\n",
    "        y_raws.append(y_raw)\n",
    "        l_test, each = SLR_model.serialize(l_raws)\n",
    "        r_test, each = SLR_model.serialize(r_raws)\n",
    "        p_test, each = SLR_model.serialize(p_raws, stride=2,is_pose = True)\n",
    "        x_test = (l_test, r_test, p_test)\n",
    "        try:\n",
    "            predictions = model.predict(x_test,32,verbose=0)\n",
    "            pred=SLR_model.decode_onehot2d(predictions)\n",
    "            num=mode(pred)\n",
    "            for i in range(len(predictions)):\n",
    "                if pred[i]==y_raw:\n",
    "                    top=tf.math.top_k(predictions[i],k=2).values.numpy()\n",
    "                    count+=1\n",
    "                    break\n",
    "                else: top=np.array([0,0]) \n",
    "            ans=(abs(top[0]-top[1]))\n",
    "        except Exception as e:\n",
    "            log_msg=f'{j}) {e}\\n'\n",
    "        else:\n",
    "            log_msg=f'{j}):correct:{y_raw}/{num[0]}\\n'\n",
    "    \n",
    "            if 0==ans:\n",
    "                incorrect+=1\n",
    "                # name_list.append(j)\n",
    "        finally:\n",
    "            # with open(file_name+\"_test_log.txt\",\"a\") as log:\n",
    "                # if int(y_raw)!=int(num[0]):\n",
    "                # log.write(log_msg)\n",
    "                # print(log_msg)\n",
    "            l_raws.clear()\n",
    "            r_raws.clear()\n",
    "            p_raws.clear()\n",
    "            y_raws.clear()\n",
    "    print(person_id)\n",
    "    print(count/len(val_list)*100)\n",
    "    print()"
   ]
  },
  {
   "cell_type": "code",
   "execution_count": 10,
   "metadata": {
    "ExecuteTime": {
     "end_time": "2024-10-13T09:26:57.766162Z",
     "start_time": "2024-10-13T09:26:57.761177Z"
    }
   },
   "outputs": [
    {
     "name": "stdout",
     "output_type": "stream",
     "text": [
      "742\n"
     ]
    }
   ],
   "source": [
    "print(incorrect)\n"
   ]
  },
  {
   "cell_type": "code",
   "execution_count": 110,
   "metadata": {
    "ExecuteTime": {
     "end_time": "2024-10-13T09:14:47.086323Z",
     "start_time": "2024-10-13T09:14:47.083333Z"
    }
   },
   "outputs": [],
   "source": [
    "# # dummy x_raw data\n",
    "# l_raws = []\n",
    "# duration_list = []\n",
    "# h_elem = np.zeros(shape=(4,5,3))\n",
    "# # p_elem = np.zeros(shape=(3,10))\n",
    "# # comb_elem = [h_elem, h_elem, p_elem]\n",
    "# x_elem = []\n",
    "# duration = (np.random.randint(90,100))\n",
    "# duration_list.append(duration)\n",
    "# for j in range(duration): # frame size\n",
    "#     x_elem.append(h_elem)\n",
    "#     # x_elem.append(comb_elem)\n",
    "# l_raws.append(x_elem)\n",
    "# r_raws = []\n",
    "# \n",
    "# h_elem = np.zeros(shape=(4,5,3))\n",
    "# # p_elem = np.zeros(shape=(3,10))\n",
    "# # comb_elem = [h_elem, h_elem, p_elem]\n",
    "# x_elem = []\n",
    "# duration = duration_list[0]\n",
    "# for j in range(duration): # frame size\n",
    "#     x_elem.append(h_elem)\n",
    "#     # x_elem.append(comb_elem)\n",
    "# r_raws.append(x_elem)\n",
    "# p_raws = []\n",
    "# \n",
    "# # h_elem = np.zeros(shape=(4,5,3))\n",
    "# p_elem = np.zeros(shape=(3,10))\n",
    "# # comb_elem = [h_elem, h_elem, p_elem]\n",
    "# x_elem = []\n",
    "# duration = duration_list[0]\n",
    "# for j in range(duration): # frame size\n",
    "#     # x_elem.append(h_elem)\n",
    "#     x_elem.append(p_elem)\n",
    "#     # x_elem.append(comb_elem)\n",
    "# p_raws.append(x_elem)"
   ]
  },
  {
   "cell_type": "code",
   "execution_count": 111,
   "metadata": {
    "ExecuteTime": {
     "end_time": "2024-10-13T09:27:02.531524Z",
     "start_time": "2024-10-13T09:27:02.527537Z"
    }
   },
   "outputs": [],
   "source": [
    "l_test, each = SLR_model.serialize(l_raws)\n",
    "r_test, each = SLR_model.serialize(r_raws)\n",
    "p_test, each = SLR_model.serialize(p_raws, stride=2,is_pose = True)\n",
    "x_test = (l_test, r_test, p_test)\n",
    "\n",
    "# dataset = SLR_model.convert_to_dataset_single(x_test, batch_size)\n",
    "\n",
    "\n",
    "# with open(hist_path, 'w') as file:\n",
    "#     json.dump(hist.history, file)"
   ]
  },
  {
   "cell_type": "code",
   "execution_count": 8,
   "metadata": {
    "ExecuteTime": {
     "end_time": "2024-10-13T09:27:03.085780Z",
     "start_time": "2024-10-13T09:27:03.080797Z"
    }
   },
   "outputs": [
    {
     "data": {
      "text/plain": [
       "2769"
      ]
     },
     "execution_count": 8,
     "metadata": {},
     "output_type": "execute_result"
    }
   ],
   "source": [
    "y_raw"
   ]
  },
  {
   "cell_type": "code",
   "execution_count": 9,
   "metadata": {
    "ExecuteTime": {
     "end_time": "2024-10-13T09:27:26.480770Z",
     "start_time": "2024-10-13T09:27:26.435920Z"
    }
   },
   "outputs": [
    {
     "name": "stdout",
     "output_type": "stream",
     "text": [
      "\u001b[1m1/1\u001b[0m \u001b[32m━━━━━━━━━━━━━━━━━━━━\u001b[0m\u001b[37m\u001b[0m \u001b[1m0s\u001b[0m 36ms/step\n",
      "tf.Tensor([ 619   62   28 1364   28  619  619  820], shape=(8,), dtype=int64)\n"
     ]
    }
   ],
   "source": [
    "\n",
    "predictions = model.predict(x_test,32)\n",
    "print(SLR_model.decode_onehot2d(predictions))\n"
   ]
  },
  {
   "cell_type": "code",
   "execution_count": 106,
   "metadata": {
    "ExecuteTime": {
     "end_time": "2024-10-13T09:27:27.700980Z",
     "start_time": "2024-10-13T09:27:27.696994Z"
    }
   },
   "outputs": [
    {
     "data": {
      "text/plain": [
       "array([[1.06856385e-10, 2.69137300e-19, 6.27669255e-16, ...,\n",
       "        3.35132165e-11, 4.32728089e-11, 1.56990765e-09],\n",
       "       [4.79685180e-10, 7.06360674e-20, 8.91828334e-18, ...,\n",
       "        6.38787079e-11, 2.81286616e-09, 4.90596175e-10],\n",
       "       [8.79550393e-13, 1.02109870e-19, 1.40288393e-17, ...,\n",
       "        4.34852722e-14, 1.05808792e-10, 1.22884808e-15],\n",
       "       ...,\n",
       "       [1.00203144e-13, 1.65873783e-22, 2.90799827e-24, ...,\n",
       "        2.71007612e-17, 1.26532996e-12, 5.17534312e-13],\n",
       "       [1.20203743e-16, 1.76175004e-24, 4.23157955e-29, ...,\n",
       "        1.74624015e-17, 4.52590236e-14, 9.22390716e-16],\n",
       "       [4.83049390e-16, 1.69469557e-28, 8.00105026e-30, ...,\n",
       "        1.01956868e-17, 1.50272268e-14, 1.89650399e-16]], dtype=float32)"
      ]
     },
     "execution_count": 106,
     "metadata": {},
     "output_type": "execute_result"
    }
   ],
   "source": [
    "predictions"
   ]
  },
  {
   "cell_type": "code",
   "execution_count": null,
   "metadata": {
    "ExecuteTime": {
     "end_time": "2024-10-13T09:27:29.695787Z",
     "start_time": "2024-10-13T09:27:29.690804Z"
    }
   },
   "outputs": [],
   "source": [
    "# pred_bin = predictions.round().astype(np.int32)\n",
    "# pred_bin"
   ]
  },
  {
   "cell_type": "code",
   "execution_count": null,
   "metadata": {
    "ExecuteTime": {
     "end_time": "2024-10-13T09:27:32.362827Z",
     "start_time": "2024-10-13T09:27:32.342391Z"
    }
   },
   "outputs": [],
   "source": [
    "importlib.reload(SLR_model)"
   ]
  },
  {
   "cell_type": "code",
   "execution_count": null,
   "metadata": {
    "ExecuteTime": {
     "end_time": "2024-10-13T09:27:36.110338Z",
     "start_time": "2024-10-13T09:27:36.105355Z"
    }
   },
   "outputs": [],
   "source": [
    "SLR_model.decode_onehot2d(predictions)"
   ]
  },
  {
   "cell_type": "code",
   "execution_count": null,
   "metadata": {
    "ExecuteTime": {
     "end_time": "2024-10-13T09:02:50.133710Z",
     "start_time": "2024-10-13T09:02:50.129204Z"
    }
   },
   "outputs": [],
   "source": [
    "SLR_model.bin2num([1,0,1,1,1,0,1,1,1,0,1,0])"
   ]
  },
  {
   "cell_type": "code",
   "execution_count": null,
   "metadata": {},
   "outputs": [],
   "source": [
    "model.predict"
   ]
  },
  {
   "cell_type": "code",
   "execution_count": null,
   "metadata": {},
   "outputs": [],
   "source": []
  }
 ],
 "metadata": {
  "kernelspec": {
   "display_name": "Python 3 (ipykernel)",
   "language": "python",
   "name": "python3"
  },
  "language_info": {
   "codemirror_mode": {
    "name": "ipython",
    "version": 3
   },
   "file_extension": ".py",
   "mimetype": "text/x-python",
   "name": "python",
   "nbconvert_exporter": "python",
   "pygments_lexer": "ipython3",
   "version": "3.9.20"
  }
 },
 "nbformat": 4,
 "nbformat_minor": 4
}
