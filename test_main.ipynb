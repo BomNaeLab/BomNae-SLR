{
 "cells": [
  {
   "cell_type": "code",
   "execution_count": 2,
   "metadata": {},
   "outputs": [],
   "source": [
    "# import preprocess as prep\n",
    "import SLR_model\n",
    "import numpy as np\n",
    "import tensorflow as tf\n",
    "from tensorflow import keras\n",
    "import time\n",
    "import os\n",
    "import json\n",
    "import importlib\n",
    "from matplotlib import pyplot as plt\n",
    "import preprocess\n",
    "# from preprocess import person\n",
    "\n",
    "# model will output multiple(15) results/sec, how are we gonna handle it?"
   ]
  },
  {
   "cell_type": "code",
   "execution_count": 6,
   "metadata": {},
   "outputs": [],
   "source": [
    "# Configurations\n",
    "model_dir = \"saves\"\n",
    "THRESHOLD = 0.5\n",
    "BATHCH_SIZE = 16"
   ]
  },
  {
   "cell_type": "code",
   "execution_count": 5,
   "metadata": {},
   "outputs": [
    {
     "name": "stdout",
     "output_type": "stream",
     "text": [
      "WARNING:tensorflow:From c:\\SpecialPrograms\\Anaconda3\\envs\\slr\\lib\\site-packages\\keras\\src\\backend\\tensorflow\\core.py:204: The name tf.placeholder is deprecated. Please use tf.compat.v1.placeholder instead.\n",
      "\n"
     ]
    }
   ],
   "source": [
    "# 세이브된 모델 로드\n",
    "load_path = os.path.join(model_dir, \"check_09-01-10.keras\")\n",
    "model = SLR_model.load_model(load_path)"
   ]
  },
  {
   "cell_type": "code",
   "execution_count": null,
   "metadata": {},
   "outputs": [],
   "source": [
    "l_raws=[]\n",
    "r_raws=[]\n",
    "p_raws=[]\n",
    "preds=[]\n",
    "count=0\n",
    "start_word=\" \"\n",
    "\n",
    "person_id = 0\n",
    "# TODO hardcode path\n",
    "# a video\n",
    "for j in os.listdir(os.path.join(preprocess.getoutputdir(),str(person_id))):\n",
    "    l_raw, r_raw, p_raw, y_raw = preprocess.load_data(f\"{person_id}/{j}\")\n",
    "    \n",
    "    l_raws.append(l_raw)\n",
    "    r_raws.append(r_raw)\n",
    "    p_raws.append(p_raw)\n",
    "\n",
    "l_test, each = SLR_model.serialize(l_raws)\n",
    "r_test, each = SLR_model.serialize(r_raws)\n",
    "p_test, each = SLR_model.serialize(p_raws, stride=2)\n",
    "x_test = (l_test, r_test, p_test)\n",
    "\n",
    "dataset = SLR_model.convert_to_dataset(x_test, y_train, batch_size)\n",
    "hist = model.fit(dataset, epochs=epochs, callbacks=[model_checkpoint_callback])\n",
    "\n",
    "with open(hist_path, 'w') as file:\n",
    "    json.dump(hist.history, file)\n",
    "count=0\n",
    "l_raws.clear()\n",
    "r_raws.clear()\n",
    "p_raws.clear()\n",
    "y_raws.clear()"
   ]
  },
  {
   "cell_type": "code",
   "execution_count": null,
   "metadata": {},
   "outputs": [],
   "source": []
  },
  {
   "cell_type": "code",
   "execution_count": null,
   "metadata": {},
   "outputs": [],
   "source": [
    "model.predict"
   ]
  }
 ],
 "metadata": {
  "kernelspec": {
   "display_name": "slr",
   "language": "python",
   "name": "python3"
  },
  "language_info": {
   "codemirror_mode": {
    "name": "ipython",
    "version": 3
   },
   "file_extension": ".py",
   "mimetype": "text/x-python",
   "name": "python",
   "nbconvert_exporter": "python",
   "pygments_lexer": "ipython3",
   "version": "3.9.20"
  }
 },
 "nbformat": 4,
 "nbformat_minor": 2
}
