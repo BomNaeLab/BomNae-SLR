{
 "cells": [
  {
   "cell_type": "code",
   "execution_count": 40,
   "metadata": {},
   "outputs": [],
   "source": [
    "# import preprocess as prep\n",
    "import SLR_model\n",
    "import numpy as np\n",
    "import tensorflow as tf\n",
    "from tensorflow import keras\n",
    "import time\n",
    "import os\n",
    "import json\n",
    "import importlib\n",
    "from matplotlib import pyplot as plt\n",
    "import preprocess\n",
    "# from preprocess import person\n",
    "\n",
    "# model will output multiple(15) results/sec, how are we gonna handle it?"
   ]
  },
  {
   "cell_type": "code",
   "execution_count": 67,
   "metadata": {},
   "outputs": [
    {
     "data": {
      "text/plain": [
       "<module 'SLR_model' from 'c:\\\\Users\\\\jerry\\\\Desktop\\\\hly\\\\2024-2\\\\cap\\\\BN_SLR\\\\BomNae-SLR-1\\\\SLR_model.py'>"
      ]
     },
     "execution_count": 67,
     "metadata": {},
     "output_type": "execute_result"
    }
   ],
   "source": [
    "importlib.reload(SLR_model)"
   ]
  },
  {
   "cell_type": "code",
   "execution_count": 42,
   "metadata": {},
   "outputs": [],
   "source": [
    "# Configurations\n",
    "model_dir = \"saves\"\n",
    "THRESHOLD = 0.5\n",
    "# batch_size = 16"
   ]
  },
  {
   "cell_type": "code",
   "execution_count": 43,
   "metadata": {},
   "outputs": [],
   "source": [
    "# 세이브된 모델 로드\n",
    "load_path = os.path.join(model_dir, \"check_09-01-10.keras\")\n",
    "model = SLR_model.load_model(load_path)"
   ]
  },
  {
   "cell_type": "code",
   "execution_count": null,
   "metadata": {},
   "outputs": [],
   "source": [
    "# load data\n",
    "l_raws=[]\n",
    "r_raws=[]\n",
    "p_raws=[]\n",
    "\n",
    "person_id = 0\n",
    "# TODO hardcode path\n",
    "# a video\n",
    "for j in os.listdir(os.path.join(preprocess.getoutputdir(),str(person_id))):\n",
    "    l_raws, r_raws, p_raws, y_raw = preprocess.load_data(f\"{person_id}/{j}\")\n",
    "    \n",
    "    l_raws.append(l_raws)\n",
    "    r_raws.append(r_raws)\n",
    "    p_raws.append(p_raws)"
   ]
  },
  {
   "cell_type": "code",
   "execution_count": 44,
   "metadata": {},
   "outputs": [],
   "source": [
    "# dummy x_raw data\n",
    "l_raws = []\n",
    "duration_list = []\n",
    "h_elem = np.zeros(shape=(4,5,3))\n",
    "# p_elem = np.zeros(shape=(3,10))\n",
    "# comb_elem = [h_elem, h_elem, p_elem]\n",
    "x_elem = []\n",
    "duration = (np.random.randint(90,100))\n",
    "duration_list.append(duration)\n",
    "for j in range(duration): # frame size\n",
    "    x_elem.append(h_elem)\n",
    "    # x_elem.append(comb_elem)\n",
    "l_raws.append(x_elem)\n",
    "r_raws = []\n",
    "\n",
    "h_elem = np.zeros(shape=(4,5,3))\n",
    "# p_elem = np.zeros(shape=(3,10))\n",
    "# comb_elem = [h_elem, h_elem, p_elem]\n",
    "x_elem = []\n",
    "duration = duration_list[0]\n",
    "for j in range(duration): # frame size\n",
    "    x_elem.append(h_elem)\n",
    "    # x_elem.append(comb_elem)\n",
    "r_raws.append(x_elem)\n",
    "p_raws = []\n",
    "\n",
    "# h_elem = np.zeros(shape=(4,5,3))\n",
    "p_elem = np.zeros(shape=(3,10))\n",
    "# comb_elem = [h_elem, h_elem, p_elem]\n",
    "x_elem = []\n",
    "duration = duration_list[0]\n",
    "for j in range(duration): # frame size\n",
    "    # x_elem.append(h_elem)\n",
    "    x_elem.append(p_elem)\n",
    "    # x_elem.append(comb_elem)\n",
    "p_raws.append(x_elem)"
   ]
  },
  {
   "cell_type": "code",
   "execution_count": 45,
   "metadata": {},
   "outputs": [],
   "source": [
    "l_test, each = SLR_model.serialize(l_raws)\n",
    "r_test, each = SLR_model.serialize(r_raws)\n",
    "p_test, each = SLR_model.serialize(p_raws, stride=2)\n",
    "x_test = (l_test, r_test, p_test)\n",
    "\n",
    "# dataset = SLR_model.convert_to_dataset_single(x_test, batch_size)\n",
    "\n",
    "\n",
    "# with open(hist_path, 'w') as file:\n",
    "#     json.dump(hist.history, file)"
   ]
  },
  {
   "cell_type": "code",
   "execution_count": 46,
   "metadata": {},
   "outputs": [
    {
     "data": {
      "text/plain": [
       "(5, 32, 3, 10)"
      ]
     },
     "execution_count": 46,
     "metadata": {},
     "output_type": "execute_result"
    }
   ],
   "source": [
    "x_test[2].shape"
   ]
  },
  {
   "cell_type": "code",
   "execution_count": 48,
   "metadata": {},
   "outputs": [
    {
     "name": "stdout",
     "output_type": "stream",
     "text": [
      "\u001b[1m1/1\u001b[0m \u001b[32m━━━━━━━━━━━━━━━━━━━━\u001b[0m\u001b[37m\u001b[0m \u001b[1m0s\u001b[0m 37ms/step\n"
     ]
    }
   ],
   "source": [
    "predictions = model.predict(x_test)"
   ]
  },
  {
   "cell_type": "code",
   "execution_count": 51,
   "metadata": {},
   "outputs": [
    {
     "data": {
      "text/plain": [
       "array([[0.65784764, 0.00116189, 0.6552309 , 0.66116965, 0.5075511 ,\n",
       "        0.18879132, 0.71263397, 0.5180616 , 0.5643203 , 0.43498623,\n",
       "        0.5490358 , 0.38409314],\n",
       "       [0.65784764, 0.00116189, 0.6552309 , 0.66116965, 0.5075511 ,\n",
       "        0.18879132, 0.71263397, 0.5180616 , 0.5643203 , 0.43498623,\n",
       "        0.5490358 , 0.38409314],\n",
       "       [0.65784764, 0.00116189, 0.6552309 , 0.66116965, 0.5075511 ,\n",
       "        0.18879132, 0.71263397, 0.5180616 , 0.5643203 , 0.43498623,\n",
       "        0.5490358 , 0.38409314],\n",
       "       [0.65784764, 0.00116189, 0.6552309 , 0.66116965, 0.5075511 ,\n",
       "        0.18879132, 0.71263397, 0.5180616 , 0.5643203 , 0.43498623,\n",
       "        0.5490358 , 0.38409314],\n",
       "       [0.65784764, 0.00116189, 0.6552309 , 0.66116965, 0.5075511 ,\n",
       "        0.18879132, 0.71263397, 0.5180616 , 0.5643203 , 0.43498623,\n",
       "        0.5490358 , 0.38409314]], dtype=float32)"
      ]
     },
     "execution_count": 51,
     "metadata": {},
     "output_type": "execute_result"
    }
   ],
   "source": [
    "predictions"
   ]
  },
  {
   "cell_type": "code",
   "execution_count": 55,
   "metadata": {},
   "outputs": [
    {
     "data": {
      "text/plain": [
       "array([[1, 0, 1, 1, 1, 0, 1, 1, 1, 0, 1, 0],\n",
       "       [1, 0, 1, 1, 1, 0, 1, 1, 1, 0, 1, 0],\n",
       "       [1, 0, 1, 1, 1, 0, 1, 1, 1, 0, 1, 0],\n",
       "       [1, 0, 1, 1, 1, 0, 1, 1, 1, 0, 1, 0],\n",
       "       [1, 0, 1, 1, 1, 0, 1, 1, 1, 0, 1, 0]])"
      ]
     },
     "execution_count": 55,
     "metadata": {},
     "output_type": "execute_result"
    }
   ],
   "source": [
    "pred_bin = predictions.round().astype(np.int32)\n",
    "pred_bin"
   ]
  },
  {
   "cell_type": "code",
   "execution_count": 76,
   "metadata": {},
   "outputs": [
    {
     "data": {
      "text/plain": [
       "<module 'SLR_model' from 'c:\\\\Users\\\\jerry\\\\Desktop\\\\hly\\\\2024-2\\\\cap\\\\BN_SLR\\\\BomNae-SLR-1\\\\SLR_model.py'>"
      ]
     },
     "execution_count": 76,
     "metadata": {},
     "output_type": "execute_result"
    }
   ],
   "source": [
    "importlib.reload(SLR_model)"
   ]
  },
  {
   "cell_type": "code",
   "execution_count": 78,
   "metadata": {},
   "outputs": [
    {
     "data": {
      "text/plain": [
       "[3002, 3002, 3002, 3002, 3002]"
      ]
     },
     "execution_count": 78,
     "metadata": {},
     "output_type": "execute_result"
    }
   ],
   "source": [
    "SLR_model.bin2d_to_num(pred_bin.astype(np.int32))"
   ]
  },
  {
   "cell_type": "code",
   "execution_count": 79,
   "metadata": {},
   "outputs": [
    {
     "data": {
      "text/plain": [
       "3002"
      ]
     },
     "execution_count": 79,
     "metadata": {},
     "output_type": "execute_result"
    }
   ],
   "source": [
    "SLR_model.bin2num([1,0,1,1,1,0,1,1,1,0,1,0])"
   ]
  },
  {
   "cell_type": "code",
   "execution_count": null,
   "metadata": {},
   "outputs": [],
   "source": [
    "model.predict"
   ]
  }
 ],
 "metadata": {
  "kernelspec": {
   "display_name": "slr",
   "language": "python",
   "name": "python3"
  },
  "language_info": {
   "codemirror_mode": {
    "name": "ipython",
    "version": 3
   },
   "file_extension": ".py",
   "mimetype": "text/x-python",
   "name": "python",
   "nbconvert_exporter": "python",
   "pygments_lexer": "ipython3",
   "version": "3.9.20"
  }
 },
 "nbformat": 4,
 "nbformat_minor": 2
}
