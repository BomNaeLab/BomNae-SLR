{
 "cells": [
  {
   "cell_type": "code",
   "execution_count": 1,
   "metadata": {},
   "outputs": [
    {
     "ename": "ImportError",
     "evalue": "cannot import name 'person' from 'preprocess' (c:\\Users\\jerry\\Desktop\\hly\\2024-2\\cap\\BN_SLR\\BomNae-SLR-1\\preprocess.py)",
     "output_type": "error",
     "traceback": [
      "\u001b[1;31m---------------------------------------------------------------------------\u001b[0m",
      "\u001b[1;31mImportError\u001b[0m                               Traceback (most recent call last)",
      "Cell \u001b[1;32mIn[1], line 12\u001b[0m\n\u001b[0;32m     10\u001b[0m \u001b[38;5;28;01mfrom\u001b[39;00m \u001b[38;5;21;01mmatplotlib\u001b[39;00m \u001b[38;5;28;01mimport\u001b[39;00m pyplot \u001b[38;5;28;01mas\u001b[39;00m plt\n\u001b[0;32m     11\u001b[0m \u001b[38;5;28;01mimport\u001b[39;00m \u001b[38;5;21;01mpreprocess\u001b[39;00m\n\u001b[1;32m---> 12\u001b[0m \u001b[38;5;28;01mfrom\u001b[39;00m \u001b[38;5;21;01mpreprocess\u001b[39;00m \u001b[38;5;28;01mimport\u001b[39;00m person\n",
      "\u001b[1;31mImportError\u001b[0m: cannot import name 'person' from 'preprocess' (c:\\Users\\jerry\\Desktop\\hly\\2024-2\\cap\\BN_SLR\\BomNae-SLR-1\\preprocess.py)"
     ]
    }
   ],
   "source": [
    "# import preprocess as prep\n",
    "import SLR_model\n",
    "import numpy as np\n",
    "import tensorflow as tf\n",
    "from tensorflow import keras\n",
    "import time\n",
    "import os\n",
    "import json\n",
    "import importlib\n",
    "from matplotlib import pyplot as plt\n",
    "import preprocess\n",
    "from preprocess import person\n",
    "\n",
    "# model will output multiple(15) results/sec, how are we gonna handle it?"
   ]
  },
  {
   "cell_type": "code",
   "execution_count": null,
   "metadata": {},
   "outputs": [],
   "source": [
    "# utility functions\n",
    "\n",
    "def bin2num(bin_arr):\n",
    "    # big endian\n",
    "    # lower index > higher exponent\n",
    "    num = 0\n",
    "    for val in bin_arr:\n",
    "        num = (num << 1) | val\n",
    "    return num\n",
    "\n",
    "# def num2bin(num, arr_len = -1):\n",
    "#     # big endian\n",
    "#     # lower index > higher exponent\n",
    "#     bin_arr = [int(x) for x in bin(num)[2:]]\n",
    "#     diff = arr_len - len(bin_arr)\n",
    "#     if diff < 1:\n",
    "#         return bin_arr\n",
    "#     else:\n",
    "#         pad = [0] * diff\n",
    "#         return pad+bin_arr\n",
    "    \n",
    "def num_arr2bin(num_arr, out_len = -1):\n",
    "    # big endian\n",
    "    # lower index > higher exponent\n",
    "    res = []\n",
    "    for num in num_arr:\n",
    "        str_list = list(np.binary_repr(num).zfill(out_len))\n",
    "        bin_arr = np.array(str_list, dtype=np.float32)\n",
    "        res.append(bin_arr)\n",
    "    return np.array(res)\n",
    "\n",
    "def serialize(vids, stride = 1):\n",
    "    \"\"\"input shape: (load_size, frames)\\n\n",
    "    ouput shape: (load_size, input_seq_size, 63 or 32, frames)\"\"\"\n",
    "    each_size = []\n",
    "    x_res = []\n",
    "    for vid in vids:\n",
    "        window_len = 0\n",
    "        start = 0\n",
    "        while (start + 63) < len(vid):\n",
    "            x_res.append(vid[start: start+63: stride])\n",
    "            window_len += 1\n",
    "            start += 6\n",
    "        each_size.append(window_len)\n",
    "    return np.array(x_res), each_size"
   ]
  }
 ],
 "metadata": {
  "kernelspec": {
   "display_name": "slr",
   "language": "python",
   "name": "python3"
  },
  "language_info": {
   "codemirror_mode": {
    "name": "ipython",
    "version": 3
   },
   "file_extension": ".py",
   "mimetype": "text/x-python",
   "name": "python",
   "nbconvert_exporter": "python",
   "pygments_lexer": "ipython3",
   "version": "3.9.20"
  }
 },
 "nbformat": 4,
 "nbformat_minor": 2
}
