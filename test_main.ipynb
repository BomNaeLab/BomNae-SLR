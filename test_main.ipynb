{
 "cells": [
  {
   "cell_type": "code",
   "execution_count": 1,
   "metadata": {
    "ExecuteTime": {
     "end_time": "2024-10-14T05:52:10.588400Z",
     "start_time": "2024-10-14T05:52:10.585400Z"
    }
   },
   "outputs": [
    {
     "name": "stderr",
     "output_type": "stream",
     "text": [
      "2024-11-20 10:09:01.372692: I tensorflow/core/util/port.cc:153] oneDNN custom operations are on. You may see slightly different numerical results due to floating-point round-off errors from different computation orders. To turn them off, set the environment variable `TF_ENABLE_ONEDNN_OPTS=0`.\n",
      "2024-11-20 10:09:01.404765: E external/local_xla/xla/stream_executor/cuda/cuda_fft.cc:485] Unable to register cuFFT factory: Attempting to register factory for plugin cuFFT when one has already been registered\n",
      "2024-11-20 10:09:01.414772: E external/local_xla/xla/stream_executor/cuda/cuda_dnn.cc:8454] Unable to register cuDNN factory: Attempting to register factory for plugin cuDNN when one has already been registered\n",
      "2024-11-20 10:09:01.417774: E external/local_xla/xla/stream_executor/cuda/cuda_blas.cc:1452] Unable to register cuBLAS factory: Attempting to register factory for plugin cuBLAS when one has already been registered\n",
      "2024-11-20 10:09:01.450679: I tensorflow/core/platform/cpu_feature_guard.cc:210] This TensorFlow binary is optimized to use available CPU instructions in performance-critical operations.\n",
      "To enable the following instructions: SSE4.1 SSE4.2 AVX AVX2 AVX_VNNI FMA, in other operations, rebuild TensorFlow with the appropriate compiler flags.\n",
      "2024-11-20 10:09:02.438333: E external/local_xla/xla/stream_executor/cuda/cuda_driver.cc:266] failed call to cuInit: CUDA_ERROR_NO_DEVICE: no CUDA-capable device is detected\n",
      "2024-11-20 10:09:02.438437: I external/local_xla/xla/stream_executor/cuda/cuda_diagnostics.cc:135] retrieving CUDA diagnostic information for host: shdUbuntu\n",
      "2024-11-20 10:09:02.438441: I external/local_xla/xla/stream_executor/cuda/cuda_diagnostics.cc:142] hostname: shdUbuntu\n",
      "2024-11-20 10:09:02.438510: I external/local_xla/xla/stream_executor/cuda/cuda_diagnostics.cc:166] libcuda reported version is: 560.35.3\n",
      "2024-11-20 10:09:02.438523: I external/local_xla/xla/stream_executor/cuda/cuda_diagnostics.cc:170] kernel reported version is: NOT_FOUND: could not find kernel module information in driver version file contents: \"NVRM version: NVIDIA UNIX Open Kernel Module for x86_64  560.35.03  Release Build  (dvs-builder@U16-I1-N07-12-3)  Fri Aug 16 21:42:42 UTC 2024\n",
      "GCC version:  gcc version 13.2.0 (Ubuntu 13.2.0-23ubuntu4) \n",
      "\"\n"
     ]
    }
   ],
   "source": [
    "# import preprocess as prep\n",
    "import os\n",
    "os.environ[\"CUDA_VISIBLE_DEVICES\"] = \"-1\" \n",
    "import importlib\n",
    "import preprocess\n",
    "import SLR_model\n",
    "from scipy. stats import mode\n",
    "# model will output multiple(15) results/sec, how are we gonna handle it?"
   ]
  },
  {
   "cell_type": "code",
   "execution_count": 2,
   "metadata": {
    "ExecuteTime": {
     "end_time": "2024-10-14T05:52:12.058404Z",
     "start_time": "2024-10-14T05:52:12.032404Z"
    }
   },
   "outputs": [
    {
     "data": {
      "text/plain": [
       "<module 'preprocess' from '/home/shd/BomNae-SLR/preprocess.py'>"
      ]
     },
     "execution_count": 2,
     "metadata": {},
     "output_type": "execute_result"
    }
   ],
   "source": [
    "importlib.reload(SLR_model)\n",
    "importlib.reload(preprocess)\n"
   ]
  },
  {
   "cell_type": "code",
   "execution_count": 3,
   "metadata": {
    "ExecuteTime": {
     "end_time": "2024-10-14T05:52:13.285633Z",
     "start_time": "2024-10-14T05:52:13.282633Z"
    }
   },
   "outputs": [],
   "source": [
    "# Configurations\n",
    "model_dir = \"saves\"\n",
    "THRESHOLD = 0.5\n",
    "# batch_size = 16"
   ]
  },
  {
   "cell_type": "code",
   "execution_count": 5,
   "metadata": {
    "ExecuteTime": {
     "end_time": "2024-10-14T05:52:45.372752Z",
     "start_time": "2024-10-14T05:52:45.336241Z"
    }
   },
   "outputs": [],
   "source": [
    "# 세이브된 모델 로드\n",
    "load_path = os.path.join(model_dir, \"ckpt\",\"11-19-19-30epochs-5times_final.keras\")\n",
    "model = SLR_model.load_model(load_path)"
   ]
  },
  {
   "cell_type": "code",
   "execution_count": 6,
   "metadata": {},
   "outputs": [
    {
     "name": "stdout",
     "output_type": "stream",
     "text": [
      "(9, 63, 4, 5, 3)\n",
      "(9, 63, 4, 5, 3)\n",
      "(9, 32, 10, 3)\n"
     ]
    }
   ],
   "source": [
    "# load data\n",
    "l_raws=[]\n",
    "r_raws=[]\n",
    "p_raws=[]\n",
    "y_raws=[]\n",
    "person_id = 18\n",
    "# TODO hardcode path\n",
    "# a video\n",
    "for j in sorted(os.listdir(os.path.join(preprocess.getoutputdir('val'),str(person_id)))):\n",
    "    j=\"0162.npz\"\n",
    "    l_raw, r_raw, p_raw, y_raw = preprocess.load_data(f\"{person_id}/{j}\",'val')\n",
    "    \n",
    "    l_raws.append(l_raw)\n",
    "    r_raws.append(r_raw)\n",
    "    p_raws.append(p_raw)\n",
    "    y_raws.append(y_raw)\n",
    "    l_test, each = SLR_model.serialize(l_raws)\n",
    "    r_test, each = SLR_model.serialize(r_raws)\n",
    "    p_test, each = SLR_model.serialize(p_raws, stride=2,is_pose = True)\n",
    "    x_test = (l_test, r_test, p_test)\n",
    "    print(x_test[0].shape)\n",
    "    print(x_test[1].shape)\n",
    "    print(x_test[2].shape)\n",
    "    break\n",
    "    "
   ]
  },
  {
   "cell_type": "code",
   "execution_count": 7,
   "metadata": {
    "ExecuteTime": {
     "end_time": "2024-10-13T09:26:56.262016Z",
     "start_time": "2024-10-13T09:26:56.256035Z"
    }
   },
   "outputs": [
    {
     "name": "stderr",
     "output_type": "stream",
     "text": [
      "WARNING: All log messages before absl::InitializeLog() is called are written to STDERR\n",
      "I0000 00:00:1732065000.760296  226857 service.cc:146] XLA service 0x72ada800e360 initialized for platform Host (this does not guarantee that XLA will be used). Devices:\n",
      "I0000 00:00:1732065000.760316  226857 service.cc:154]   StreamExecutor device (0): Host, Default Version\n",
      "2024-11-20 10:10:00.787548: I tensorflow/compiler/mlir/tensorflow/utils/dump_mlir_util.cc:268] disabling MLIR crash reproducer, set env var `MLIR_CRASH_REPRODUCER_DIRECTORY` to enable.\n",
      "I0000 00:00:1732065001.029115  226857 device_compiler.h:188] Compiled cluster using XLA!  This line is logged at most once for the lifetime of the process.\n",
      "2024-11-20 10:10:13.814045: I tensorflow/core/framework/local_rendezvous.cc:404] Local rendezvous is aborting with status: OUT_OF_RANGE: End of sequence\n",
      "/home/shd/.conda/envs/BomNae-SLR/lib/python3.9/contextlib.py:137: UserWarning: Your input ran out of data; interrupting training. Make sure that your dataset or generator can generate at least `steps_per_epoch * epochs` batches. You may need to use the `.repeat()` function when building your dataset.\n",
      "  self.gen.throw(typ, value, traceback)\n",
      "2024-11-20 10:10:18.257195: I tensorflow/core/framework/local_rendezvous.cc:404] Local rendezvous is aborting with status: OUT_OF_RANGE: End of sequence\n",
      "2024-11-20 10:10:35.958770: I tensorflow/core/framework/local_rendezvous.cc:404] Local rendezvous is aborting with status: OUT_OF_RANGE: End of sequence\n"
     ]
    },
    {
     "ename": "KeyboardInterrupt",
     "evalue": "",
     "output_type": "error",
     "traceback": [
      "\u001b[0;31m---------------------------------------------------------------------------\u001b[0m",
      "\u001b[0;31mKeyboardInterrupt\u001b[0m                         Traceback (most recent call last)",
      "Cell \u001b[0;32mIn[7], line 27\u001b[0m\n\u001b[1;32m     25\u001b[0m x_test \u001b[38;5;241m=\u001b[39m (l_test, r_test, p_test)\n\u001b[1;32m     26\u001b[0m \u001b[38;5;28;01mtry\u001b[39;00m:\n\u001b[0;32m---> 27\u001b[0m     predictions \u001b[38;5;241m=\u001b[39m \u001b[43mmodel\u001b[49m\u001b[38;5;241;43m.\u001b[39;49m\u001b[43mpredict\u001b[49m\u001b[43m(\u001b[49m\u001b[43mx_test\u001b[49m\u001b[43m,\u001b[49m\u001b[38;5;241;43m32\u001b[39;49m\u001b[43m,\u001b[49m\u001b[43mverbose\u001b[49m\u001b[38;5;241;43m=\u001b[39;49m\u001b[38;5;241;43m0\u001b[39;49m\u001b[43m)\u001b[49m\n\u001b[1;32m     28\u001b[0m     ans\u001b[38;5;241m=\u001b[39mSLR_model\u001b[38;5;241m.\u001b[39mdecode_onehot2d(predictions)\n\u001b[1;32m     29\u001b[0m     num\u001b[38;5;241m=\u001b[39mmode(ans)\n",
      "File \u001b[0;32m~/.conda/envs/BomNae-SLR/lib/python3.9/site-packages/keras/src/utils/traceback_utils.py:117\u001b[0m, in \u001b[0;36mfilter_traceback.<locals>.error_handler\u001b[0;34m(*args, **kwargs)\u001b[0m\n\u001b[1;32m    115\u001b[0m filtered_tb \u001b[38;5;241m=\u001b[39m \u001b[38;5;28;01mNone\u001b[39;00m\n\u001b[1;32m    116\u001b[0m \u001b[38;5;28;01mtry\u001b[39;00m:\n\u001b[0;32m--> 117\u001b[0m     \u001b[38;5;28;01mreturn\u001b[39;00m \u001b[43mfn\u001b[49m\u001b[43m(\u001b[49m\u001b[38;5;241;43m*\u001b[39;49m\u001b[43margs\u001b[49m\u001b[43m,\u001b[49m\u001b[43m \u001b[49m\u001b[38;5;241;43m*\u001b[39;49m\u001b[38;5;241;43m*\u001b[39;49m\u001b[43mkwargs\u001b[49m\u001b[43m)\u001b[49m\n\u001b[1;32m    118\u001b[0m \u001b[38;5;28;01mexcept\u001b[39;00m \u001b[38;5;167;01mException\u001b[39;00m \u001b[38;5;28;01mas\u001b[39;00m e:\n\u001b[1;32m    119\u001b[0m     filtered_tb \u001b[38;5;241m=\u001b[39m _process_traceback_frames(e\u001b[38;5;241m.\u001b[39m__traceback__)\n",
      "\u001b[0;31mKeyboardInterrupt\u001b[0m: "
     ]
    }
   ],
   "source": [
    "# load data\n",
    "l_raws=[]\n",
    "r_raws=[]\n",
    "p_raws=[]\n",
    "y_raws=[]\n",
    "person_id = 17\n",
    "count=0\n",
    "# TODO hardcode path\n",
    "# a video\n",
    "val_list=sorted(os.listdir(os.path.join(preprocess.getoutputdir('val'),str(person_id))))\n",
    "for j in val_list:\n",
    "    # j=\"0001.npz\"\n",
    "    try:\n",
    "        l_raw, r_raw, p_raw, y_raw = preprocess.load_data(f\"{person_id}/{j}\",'val')\n",
    "    except Exception as e:\n",
    "        print(e)\n",
    "        continue\n",
    "    l_raws.append(l_raw)\n",
    "    r_raws.append(r_raw)\n",
    "    p_raws.append(p_raw)\n",
    "    y_raws.append(y_raw)\n",
    "    l_test, each = SLR_model.serialize(l_raws)\n",
    "    r_test, each = SLR_model.serialize(r_raws)\n",
    "    p_test, each = SLR_model.serialize(p_raws, stride=2,is_pose = True)\n",
    "    x_test = (l_test, r_test, p_test)\n",
    "    try:\n",
    "        predictions = model.predict(x_test,32,verbose=0)\n",
    "        ans=SLR_model.decode_onehot2d(predictions)\n",
    "        num=mode(ans)\n",
    "        \n",
    "    except Exception as e:\n",
    "        log_msg=f'{j}) {e}\\n'\n",
    "    else:\n",
    "        log_msg=f'{j}) 답:{y_raw}/pred:{num[0]}\\n'\n",
    "        if int(y_raw)==int(num[0]):\n",
    "            count+=1\n",
    "    finally:\n",
    "        with open(\"test_log.txt\",\"a\") as log:\n",
    "            log.write(log_msg)\n",
    "        l_raws.clear()\n",
    "        r_raws.clear()\n",
    "        p_raws.clear()\n",
    "        y_raws.clear()\n",
    "print(count)\n",
    "print(count/len(val_list)*100)"
   ]
  },
  {
   "cell_type": "code",
   "execution_count": 7,
   "metadata": {
    "ExecuteTime": {
     "end_time": "2024-10-13T09:26:57.766162Z",
     "start_time": "2024-10-13T09:26:57.761177Z"
    }
   },
   "outputs": [
    {
     "data": {
      "text/plain": [
       "[160]"
      ]
     },
     "execution_count": 7,
     "metadata": {},
     "output_type": "execute_result"
    }
   ],
   "source": [
    "y_raws"
   ]
  },
  {
   "cell_type": "code",
   "execution_count": 8,
   "metadata": {
    "ExecuteTime": {
     "end_time": "2024-10-13T09:14:47.086323Z",
     "start_time": "2024-10-13T09:14:47.083333Z"
    }
   },
   "outputs": [],
   "source": [
    "# # dummy x_raw data\n",
    "# l_raws = []\n",
    "# duration_list = []\n",
    "# h_elem = np.zeros(shape=(4,5,3))\n",
    "# # p_elem = np.zeros(shape=(3,10))\n",
    "# # comb_elem = [h_elem, h_elem, p_elem]\n",
    "# x_elem = []\n",
    "# duration = (np.random.randint(90,100))\n",
    "# duration_list.append(duration)\n",
    "# for j in range(duration): # frame size\n",
    "#     x_elem.append(h_elem)\n",
    "#     # x_elem.append(comb_elem)\n",
    "# l_raws.append(x_elem)\n",
    "# r_raws = []\n",
    "# \n",
    "# h_elem = np.zeros(shape=(4,5,3))\n",
    "# # p_elem = np.zeros(shape=(3,10))\n",
    "# # comb_elem = [h_elem, h_elem, p_elem]\n",
    "# x_elem = []\n",
    "# duration = duration_list[0]\n",
    "# for j in range(duration): # frame size\n",
    "#     x_elem.append(h_elem)\n",
    "#     # x_elem.append(comb_elem)\n",
    "# r_raws.append(x_elem)\n",
    "# p_raws = []\n",
    "# \n",
    "# # h_elem = np.zeros(shape=(4,5,3))\n",
    "# p_elem = np.zeros(shape=(3,10))\n",
    "# # comb_elem = [h_elem, h_elem, p_elem]\n",
    "# x_elem = []\n",
    "# duration = duration_list[0]\n",
    "# for j in range(duration): # frame size\n",
    "#     # x_elem.append(h_elem)\n",
    "#     x_elem.append(p_elem)\n",
    "#     # x_elem.append(comb_elem)\n",
    "# p_raws.append(x_elem)"
   ]
  },
  {
   "cell_type": "code",
   "execution_count": 9,
   "metadata": {
    "ExecuteTime": {
     "end_time": "2024-10-13T09:27:02.531524Z",
     "start_time": "2024-10-13T09:27:02.527537Z"
    }
   },
   "outputs": [],
   "source": [
    "l_test, each = SLR_model.serialize(l_raws)\n",
    "r_test, each = SLR_model.serialize(r_raws)\n",
    "p_test, each = SLR_model.serialize(p_raws, stride=2,is_pose = True)\n",
    "x_test = (l_test, r_test, p_test)\n",
    "\n",
    "# dataset = SLR_model.convert_to_dataset_single(x_test, batch_size)\n",
    "\n",
    "\n",
    "# with open(hist_path, 'w') as file:\n",
    "#     json.dump(hist.history, file)"
   ]
  },
  {
   "cell_type": "code",
   "execution_count": 10,
   "metadata": {
    "ExecuteTime": {
     "end_time": "2024-10-13T09:27:03.085780Z",
     "start_time": "2024-10-13T09:27:03.080797Z"
    }
   },
   "outputs": [
    {
     "data": {
      "text/plain": [
       "(9, 32, 10, 3)"
      ]
     },
     "execution_count": 10,
     "metadata": {},
     "output_type": "execute_result"
    }
   ],
   "source": [
    "x_test[2].shape"
   ]
  },
  {
   "cell_type": "code",
   "execution_count": 11,
   "metadata": {
    "ExecuteTime": {
     "end_time": "2024-10-13T09:27:26.480770Z",
     "start_time": "2024-10-13T09:27:26.435920Z"
    }
   },
   "outputs": [
    {
     "name": "stderr",
     "output_type": "stream",
     "text": [
      "I0000 00:00:1731986886.251456  215083 service.cc:146] XLA service 0x735938002f90 initialized for platform CUDA (this does not guarantee that XLA will be used). Devices:\n",
      "I0000 00:00:1731986886.251472  215083 service.cc:154]   StreamExecutor device (0): NVIDIA GeForce RTX 4070 Ti, Compute Capability 8.9\n",
      "2024-11-19 12:28:06.259792: I tensorflow/compiler/mlir/tensorflow/utils/dump_mlir_util.cc:268] disabling MLIR crash reproducer, set env var `MLIR_CRASH_REPRODUCER_DIRECTORY` to enable.\n",
      "2024-11-19 12:28:06.281038: I external/local_xla/xla/stream_executor/cuda/cuda_dnn.cc:531] Loaded cuDNN version 90101\n"
     ]
    },
    {
     "name": "stdout",
     "output_type": "stream",
     "text": [
      "\u001b[1m1/1\u001b[0m \u001b[32m━━━━━━━━━━━━━━━━━━━━\u001b[0m\u001b[37m\u001b[0m \u001b[1m1s\u001b[0m 715ms/step\n",
      "tf.Tensor([ 160 1061  160  160  160  160  160  160  160], shape=(9,), dtype=int64)\n"
     ]
    },
    {
     "name": "stderr",
     "output_type": "stream",
     "text": [
      "I0000 00:00:1731986886.861900  215083 device_compiler.h:188] Compiled cluster using XLA!  This line is logged at most once for the lifetime of the process.\n"
     ]
    }
   ],
   "source": [
    "\n",
    "predictions = model.predict(x_test,32)\n",
    "print(SLR_model.decode_onehot2d(predictions))\n"
   ]
  },
  {
   "cell_type": "code",
   "execution_count": 12,
   "metadata": {
    "ExecuteTime": {
     "end_time": "2024-10-13T09:27:27.700980Z",
     "start_time": "2024-10-13T09:27:27.696994Z"
    }
   },
   "outputs": [
    {
     "data": {
      "text/plain": [
       "array([[8.8778928e-28, 1.0076214e-35, 0.0000000e+00, ..., 1.6910694e-28,\n",
       "        1.9434814e-25, 8.0171348e-30],\n",
       "       [2.2881200e-39, 1.7597240e-39, 0.0000000e+00, ..., 3.0345118e-40,\n",
       "        1.0116219e-35, 8.2298259e-42],\n",
       "       [5.5863837e-36, 1.2805408e-37, 0.0000000e+00, ..., 1.2908472e-34,\n",
       "        1.0130329e-31, 1.3706373e-37],\n",
       "       ...,\n",
       "       [1.1347761e-28, 2.8873146e-35, 0.0000000e+00, ..., 2.2443479e-29,\n",
       "        2.5087139e-28, 3.3000588e-28],\n",
       "       [3.4661793e-31, 2.5240023e-38, 0.0000000e+00, ..., 3.1294363e-32,\n",
       "        1.8734681e-32, 6.1250624e-31],\n",
       "       [5.0636566e-26, 1.9238760e-34, 2.2476827e-42, ..., 1.1359085e-27,\n",
       "        7.3203604e-29, 8.8434659e-27]], dtype=float32)"
      ]
     },
     "execution_count": 12,
     "metadata": {},
     "output_type": "execute_result"
    }
   ],
   "source": [
    "predictions"
   ]
  },
  {
   "cell_type": "code",
   "execution_count": null,
   "metadata": {
    "ExecuteTime": {
     "end_time": "2024-10-13T09:27:29.695787Z",
     "start_time": "2024-10-13T09:27:29.690804Z"
    }
   },
   "outputs": [],
   "source": [
    "# pred_bin = predictions.round().astype(np.int32)\n",
    "# pred_bin"
   ]
  },
  {
   "cell_type": "code",
   "execution_count": null,
   "metadata": {
    "ExecuteTime": {
     "end_time": "2024-10-13T09:27:32.362827Z",
     "start_time": "2024-10-13T09:27:32.342391Z"
    }
   },
   "outputs": [],
   "source": [
    "importlib.reload(SLR_model)"
   ]
  },
  {
   "cell_type": "code",
   "execution_count": null,
   "metadata": {
    "ExecuteTime": {
     "end_time": "2024-10-13T09:27:36.110338Z",
     "start_time": "2024-10-13T09:27:36.105355Z"
    }
   },
   "outputs": [],
   "source": [
    "SLR_model.decode_onehot2d(predictions)"
   ]
  },
  {
   "cell_type": "code",
   "execution_count": null,
   "metadata": {
    "ExecuteTime": {
     "end_time": "2024-10-13T09:02:50.133710Z",
     "start_time": "2024-10-13T09:02:50.129204Z"
    }
   },
   "outputs": [],
   "source": [
    "SLR_model.bin2num([1,0,1,1,1,0,1,1,1,0,1,0])"
   ]
  },
  {
   "cell_type": "code",
   "execution_count": null,
   "metadata": {},
   "outputs": [],
   "source": [
    "model.predict"
   ]
  },
  {
   "cell_type": "code",
   "execution_count": null,
   "metadata": {},
   "outputs": [],
   "source": []
  }
 ],
 "metadata": {
  "kernelspec": {
   "display_name": "Python 3 (ipykernel)",
   "language": "python",
   "name": "python3"
  },
  "language_info": {
   "codemirror_mode": {
    "name": "ipython",
    "version": 3
   },
   "file_extension": ".py",
   "mimetype": "text/x-python",
   "name": "python",
   "nbconvert_exporter": "python",
   "pygments_lexer": "ipython3",
   "version": "3.9.20"
  }
 },
 "nbformat": 4,
 "nbformat_minor": 4
}
