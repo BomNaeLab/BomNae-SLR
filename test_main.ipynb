{
 "cells": [
  {
   "cell_type": "code",
   "metadata": {
    "ExecuteTime": {
     "end_time": "2024-10-14T05:52:10.588400Z",
     "start_time": "2024-10-14T05:52:10.585400Z"
    }
   },
   "source": [
    "# import preprocess as prep\n",
    "import SLR_model\n",
    "import numpy as np\n",
    "import tensorflow as tf\n",
    "from tensorflow import keras\n",
    "import time\n",
    "import os\n",
    "import json\n",
    "import importlib\n",
    "from matplotlib import pyplot as plt\n",
    "import preprocess\n",
    "# from preprocess import person\n",
    "\n",
    "# model will output multiple(15) results/sec, how are we gonna handle it?"
   ],
   "outputs": [],
   "execution_count": 3
  },
  {
   "cell_type": "code",
   "metadata": {
    "ExecuteTime": {
     "end_time": "2024-10-14T05:52:12.058404Z",
     "start_time": "2024-10-14T05:52:12.032404Z"
    }
   },
   "source": [
    "importlib.reload(SLR_model)\n",
    "importlib.reload(preprocess)\n"
   ],
   "outputs": [
    {
     "data": {
      "text/plain": [
       "<module 'preprocess' from 'C:\\\\Users\\\\shd\\\\Documents\\\\capstone\\\\BomNae-SLR\\\\preprocess.py'>"
      ]
     },
     "execution_count": 4,
     "metadata": {},
     "output_type": "execute_result"
    }
   ],
   "execution_count": 4
  },
  {
   "cell_type": "code",
   "metadata": {
    "ExecuteTime": {
     "end_time": "2024-10-14T05:52:13.285633Z",
     "start_time": "2024-10-14T05:52:13.282633Z"
    }
   },
   "source": [
    "# Configurations\n",
    "model_dir = \"saves\"\n",
    "THRESHOLD = 0.5\n",
    "# batch_size = 16"
   ],
   "outputs": [],
   "execution_count": 5
  },
  {
   "cell_type": "code",
   "metadata": {
    "ExecuteTime": {
     "end_time": "2024-10-14T05:52:45.372752Z",
     "start_time": "2024-10-14T05:52:45.336241Z"
    }
   },
   "source": [
    "# 세이브된 모델 로드\n",
    "load_path = os.path.join(model_dir, \"check_13-15-10.keras\")\n",
    "model = SLR_model.load_model(load_path)"
   ],
   "outputs": [
    {
     "ename": "OSError",
     "evalue": "Unable to open file (file signature not found)",
     "output_type": "error",
     "traceback": [
      "\u001B[1;31m---------------------------------------------------------------------------\u001B[0m",
      "\u001B[1;31mOSError\u001B[0m                                   Traceback (most recent call last)",
      "Cell \u001B[1;32mIn[7], line 3\u001B[0m\n\u001B[0;32m      1\u001B[0m \u001B[38;5;66;03m# 세이브된 모델 로드\u001B[39;00m\n\u001B[0;32m      2\u001B[0m load_path \u001B[38;5;241m=\u001B[39m os\u001B[38;5;241m.\u001B[39mpath\u001B[38;5;241m.\u001B[39mjoin(model_dir, \u001B[38;5;124m\"\u001B[39m\u001B[38;5;124mcheck_13-15-10.keras\u001B[39m\u001B[38;5;124m\"\u001B[39m)\n\u001B[1;32m----> 3\u001B[0m model \u001B[38;5;241m=\u001B[39m \u001B[43mSLR_model\u001B[49m\u001B[38;5;241;43m.\u001B[39;49m\u001B[43mload_model\u001B[49m\u001B[43m(\u001B[49m\u001B[43mload_path\u001B[49m\u001B[43m)\u001B[49m\n",
      "File \u001B[1;32m~\\Documents\\capstone\\BomNae-SLR\\SLR_model.py:241\u001B[0m, in \u001B[0;36mload_model\u001B[1;34m(file_path)\u001B[0m\n\u001B[0;32m    239\u001B[0m \u001B[38;5;28;01mdef\u001B[39;00m \u001B[38;5;21mload_model\u001B[39m(file_path):\n\u001B[0;32m    240\u001B[0m     \u001B[38;5;28;01mglobal\u001B[39;00m model\n\u001B[1;32m--> 241\u001B[0m     model \u001B[38;5;241m=\u001B[39m \u001B[43mkeras\u001B[49m\u001B[38;5;241;43m.\u001B[39;49m\u001B[43mmodels\u001B[49m\u001B[38;5;241;43m.\u001B[39;49m\u001B[43mload_model\u001B[49m\u001B[43m(\u001B[49m\u001B[43mfile_path\u001B[49m\u001B[43m)\u001B[49m\n\u001B[0;32m    242\u001B[0m     \u001B[38;5;28;01mreturn\u001B[39;00m model\n",
      "File \u001B[1;32m~\\anaconda3\\envs\\BomNae-SLR\\lib\\site-packages\\keras\\utils\\traceback_utils.py:70\u001B[0m, in \u001B[0;36mfilter_traceback.<locals>.error_handler\u001B[1;34m(*args, **kwargs)\u001B[0m\n\u001B[0;32m     67\u001B[0m     filtered_tb \u001B[38;5;241m=\u001B[39m _process_traceback_frames(e\u001B[38;5;241m.\u001B[39m__traceback__)\n\u001B[0;32m     68\u001B[0m     \u001B[38;5;66;03m# To get the full stack trace, call:\u001B[39;00m\n\u001B[0;32m     69\u001B[0m     \u001B[38;5;66;03m# `tf.debugging.disable_traceback_filtering()`\u001B[39;00m\n\u001B[1;32m---> 70\u001B[0m     \u001B[38;5;28;01mraise\u001B[39;00m e\u001B[38;5;241m.\u001B[39mwith_traceback(filtered_tb) \u001B[38;5;28;01mfrom\u001B[39;00m \u001B[38;5;28;01mNone\u001B[39;00m\n\u001B[0;32m     71\u001B[0m \u001B[38;5;28;01mfinally\u001B[39;00m:\n\u001B[0;32m     72\u001B[0m     \u001B[38;5;28;01mdel\u001B[39;00m filtered_tb\n",
      "File \u001B[1;32m~\\anaconda3\\envs\\BomNae-SLR\\lib\\site-packages\\h5py\\_hl\\files.py:562\u001B[0m, in \u001B[0;36mFile.__init__\u001B[1;34m(self, name, mode, driver, libver, userblock_size, swmr, rdcc_nslots, rdcc_nbytes, rdcc_w0, track_order, fs_strategy, fs_persist, fs_threshold, fs_page_size, page_buf_size, min_meta_keep, min_raw_keep, locking, alignment_threshold, alignment_interval, meta_block_size, **kwds)\u001B[0m\n\u001B[0;32m    553\u001B[0m     fapl \u001B[38;5;241m=\u001B[39m make_fapl(driver, libver, rdcc_nslots, rdcc_nbytes, rdcc_w0,\n\u001B[0;32m    554\u001B[0m                      locking, page_buf_size, min_meta_keep, min_raw_keep,\n\u001B[0;32m    555\u001B[0m                      alignment_threshold\u001B[38;5;241m=\u001B[39malignment_threshold,\n\u001B[0;32m    556\u001B[0m                      alignment_interval\u001B[38;5;241m=\u001B[39malignment_interval,\n\u001B[0;32m    557\u001B[0m                      meta_block_size\u001B[38;5;241m=\u001B[39mmeta_block_size,\n\u001B[0;32m    558\u001B[0m                      \u001B[38;5;241m*\u001B[39m\u001B[38;5;241m*\u001B[39mkwds)\n\u001B[0;32m    559\u001B[0m     fcpl \u001B[38;5;241m=\u001B[39m make_fcpl(track_order\u001B[38;5;241m=\u001B[39mtrack_order, fs_strategy\u001B[38;5;241m=\u001B[39mfs_strategy,\n\u001B[0;32m    560\u001B[0m                      fs_persist\u001B[38;5;241m=\u001B[39mfs_persist, fs_threshold\u001B[38;5;241m=\u001B[39mfs_threshold,\n\u001B[0;32m    561\u001B[0m                      fs_page_size\u001B[38;5;241m=\u001B[39mfs_page_size)\n\u001B[1;32m--> 562\u001B[0m     fid \u001B[38;5;241m=\u001B[39m make_fid(name, mode, userblock_size, fapl, fcpl, swmr\u001B[38;5;241m=\u001B[39mswmr)\n\u001B[0;32m    564\u001B[0m \u001B[38;5;28;01mif\u001B[39;00m \u001B[38;5;28misinstance\u001B[39m(libver, \u001B[38;5;28mtuple\u001B[39m):\n\u001B[0;32m    565\u001B[0m     \u001B[38;5;28mself\u001B[39m\u001B[38;5;241m.\u001B[39m_libver \u001B[38;5;241m=\u001B[39m libver\n",
      "File \u001B[1;32m~\\anaconda3\\envs\\BomNae-SLR\\lib\\site-packages\\h5py\\_hl\\files.py:235\u001B[0m, in \u001B[0;36mmake_fid\u001B[1;34m(name, mode, userblock_size, fapl, fcpl, swmr)\u001B[0m\n\u001B[0;32m    233\u001B[0m     \u001B[38;5;28;01mif\u001B[39;00m swmr \u001B[38;5;129;01mand\u001B[39;00m swmr_support:\n\u001B[0;32m    234\u001B[0m         flags \u001B[38;5;241m|\u001B[39m\u001B[38;5;241m=\u001B[39m h5f\u001B[38;5;241m.\u001B[39mACC_SWMR_READ\n\u001B[1;32m--> 235\u001B[0m     fid \u001B[38;5;241m=\u001B[39m \u001B[43mh5f\u001B[49m\u001B[38;5;241;43m.\u001B[39;49m\u001B[43mopen\u001B[49m\u001B[43m(\u001B[49m\u001B[43mname\u001B[49m\u001B[43m,\u001B[49m\u001B[43m \u001B[49m\u001B[43mflags\u001B[49m\u001B[43m,\u001B[49m\u001B[43m \u001B[49m\u001B[43mfapl\u001B[49m\u001B[38;5;241;43m=\u001B[39;49m\u001B[43mfapl\u001B[49m\u001B[43m)\u001B[49m\n\u001B[0;32m    236\u001B[0m \u001B[38;5;28;01melif\u001B[39;00m mode \u001B[38;5;241m==\u001B[39m \u001B[38;5;124m'\u001B[39m\u001B[38;5;124mr+\u001B[39m\u001B[38;5;124m'\u001B[39m:\n\u001B[0;32m    237\u001B[0m     fid \u001B[38;5;241m=\u001B[39m h5f\u001B[38;5;241m.\u001B[39mopen(name, h5f\u001B[38;5;241m.\u001B[39mACC_RDWR, fapl\u001B[38;5;241m=\u001B[39mfapl)\n",
      "File \u001B[1;32mh5py\\\\_objects.pyx:54\u001B[0m, in \u001B[0;36mh5py._objects.with_phil.wrapper\u001B[1;34m()\u001B[0m\n",
      "File \u001B[1;32mh5py\\\\_objects.pyx:55\u001B[0m, in \u001B[0;36mh5py._objects.with_phil.wrapper\u001B[1;34m()\u001B[0m\n",
      "File \u001B[1;32mh5py\\\\h5f.pyx:102\u001B[0m, in \u001B[0;36mh5py.h5f.open\u001B[1;34m()\u001B[0m\n",
      "\u001B[1;31mOSError\u001B[0m: Unable to open file (file signature not found)"
     ]
    }
   ],
   "execution_count": 7
  },
  {
   "cell_type": "code",
   "metadata": {
    "ExecuteTime": {
     "end_time": "2024-10-13T09:26:56.262016Z",
     "start_time": "2024-10-13T09:26:56.256035Z"
    }
   },
   "source": [
    "# load data\n",
    "l_raws=[]\n",
    "r_raws=[]\n",
    "p_raws=[]\n",
    "y_raws=[]\n",
    "person_id = 1\n",
    "# TODO hardcode path\n",
    "# a video\n",
    "for j in os.listdir(os.path.join(preprocess.getoutputdir(),str(person_id))):\n",
    "    # l_raw, r_raw, p_raw, y_raw = preprocess.load_data(f\"{person_id}/{j}\",\"val\")\n",
    "    l_raw, r_raw, p_raw, y_raw ,w= preprocess.load_data(f\"{person_id}/0001.npz\")\n",
    "    \n",
    "    l_raws.append(l_raw)\n",
    "    r_raws.append(r_raw)\n",
    "    p_raws.append(p_raw)\n",
    "    y_raws.append(y_raw)\n",
    "    break"
   ],
   "outputs": [],
   "execution_count": 16
  },
  {
   "metadata": {
    "ExecuteTime": {
     "end_time": "2024-10-13T09:26:57.766162Z",
     "start_time": "2024-10-13T09:26:57.761177Z"
    }
   },
   "cell_type": "code",
   "source": "y_raws",
   "outputs": [
    {
     "data": {
      "text/plain": [
       "[1]"
      ]
     },
     "execution_count": 17,
     "metadata": {},
     "output_type": "execute_result"
    }
   ],
   "execution_count": 17
  },
  {
   "cell_type": "code",
   "metadata": {
    "ExecuteTime": {
     "end_time": "2024-10-13T09:14:47.086323Z",
     "start_time": "2024-10-13T09:14:47.083333Z"
    }
   },
   "source": [
    "# # dummy x_raw data\n",
    "# l_raws = []\n",
    "# duration_list = []\n",
    "# h_elem = np.zeros(shape=(4,5,3))\n",
    "# # p_elem = np.zeros(shape=(3,10))\n",
    "# # comb_elem = [h_elem, h_elem, p_elem]\n",
    "# x_elem = []\n",
    "# duration = (np.random.randint(90,100))\n",
    "# duration_list.append(duration)\n",
    "# for j in range(duration): # frame size\n",
    "#     x_elem.append(h_elem)\n",
    "#     # x_elem.append(comb_elem)\n",
    "# l_raws.append(x_elem)\n",
    "# r_raws = []\n",
    "# \n",
    "# h_elem = np.zeros(shape=(4,5,3))\n",
    "# # p_elem = np.zeros(shape=(3,10))\n",
    "# # comb_elem = [h_elem, h_elem, p_elem]\n",
    "# x_elem = []\n",
    "# duration = duration_list[0]\n",
    "# for j in range(duration): # frame size\n",
    "#     x_elem.append(h_elem)\n",
    "#     # x_elem.append(comb_elem)\n",
    "# r_raws.append(x_elem)\n",
    "# p_raws = []\n",
    "# \n",
    "# # h_elem = np.zeros(shape=(4,5,3))\n",
    "# p_elem = np.zeros(shape=(3,10))\n",
    "# # comb_elem = [h_elem, h_elem, p_elem]\n",
    "# x_elem = []\n",
    "# duration = duration_list[0]\n",
    "# for j in range(duration): # frame size\n",
    "#     # x_elem.append(h_elem)\n",
    "#     x_elem.append(p_elem)\n",
    "#     # x_elem.append(comb_elem)\n",
    "# p_raws.append(x_elem)"
   ],
   "outputs": [],
   "execution_count": 7
  },
  {
   "cell_type": "code",
   "metadata": {
    "ExecuteTime": {
     "end_time": "2024-10-13T09:27:02.531524Z",
     "start_time": "2024-10-13T09:27:02.527537Z"
    }
   },
   "source": [
    "l_test, each = SLR_model.serialize(l_raws)\n",
    "r_test, each = SLR_model.serialize(r_raws)\n",
    "p_test, each = SLR_model.serialize(p_raws, stride=2)\n",
    "x_test = (l_test, r_test, p_test)\n",
    "\n",
    "# dataset = SLR_model.convert_to_dataset_single(x_test, batch_size)\n",
    "\n",
    "\n",
    "# with open(hist_path, 'w') as file:\n",
    "#     json.dump(hist.history, file)"
   ],
   "outputs": [],
   "execution_count": 18
  },
  {
   "cell_type": "code",
   "metadata": {
    "ExecuteTime": {
     "end_time": "2024-10-13T09:27:03.085780Z",
     "start_time": "2024-10-13T09:27:03.080797Z"
    }
   },
   "source": "x_test[1].shape",
   "outputs": [
    {
     "data": {
      "text/plain": [
       "(13, 63, 4, 5, 3)"
      ]
     },
     "execution_count": 19,
     "metadata": {},
     "output_type": "execute_result"
    }
   ],
   "execution_count": 19
  },
  {
   "cell_type": "code",
   "metadata": {
    "ExecuteTime": {
     "end_time": "2024-10-13T09:27:26.480770Z",
     "start_time": "2024-10-13T09:27:26.435920Z"
    }
   },
   "source": "predictions = model.predict(x_test,20000)",
   "outputs": [
    {
     "name": "stdout",
     "output_type": "stream",
     "text": [
      "\u001B[1m1/1\u001B[0m \u001B[32m━━━━━━━━━━━━━━━━━━━━\u001B[0m\u001B[37m\u001B[0m \u001B[1m0s\u001B[0m 17ms/step\n"
     ]
    }
   ],
   "execution_count": 26
  },
  {
   "cell_type": "code",
   "metadata": {
    "ExecuteTime": {
     "end_time": "2024-10-13T09:27:27.700980Z",
     "start_time": "2024-10-13T09:27:27.696994Z"
    }
   },
   "source": [
    "predictions"
   ],
   "outputs": [
    {
     "data": {
      "text/plain": [
       "array([[0.9972665 , 0.00550463, 0.9811525 , 0.04739995, 0.58294106,\n",
       "        0.7283279 , 0.28779075, 0.34996867, 0.43131068, 0.4920706 ,\n",
       "        0.39550504, 0.5136719 ],\n",
       "       [0.9975734 , 0.00430226, 0.98124295, 0.06111937, 0.5441983 ,\n",
       "        0.71501744, 0.33799925, 0.38855624, 0.501485  , 0.40314984,\n",
       "        0.34051904, 0.53294003],\n",
       "       [0.9974104 , 0.00556213, 0.98228467, 0.05866056, 0.60061973,\n",
       "        0.68422997, 0.38042587, 0.4402206 , 0.5469699 , 0.39313254,\n",
       "        0.37373698, 0.63316894],\n",
       "       [0.9949049 , 0.01855318, 0.97066814, 0.13571696, 0.65392745,\n",
       "        0.5969317 , 0.3356792 , 0.5119786 , 0.62832034, 0.28953528,\n",
       "        0.5212295 , 0.6527545 ],\n",
       "       [0.9840177 , 0.02855054, 0.96343833, 0.18937978, 0.72069556,\n",
       "        0.51407456, 0.32745072, 0.55160505, 0.67583835, 0.30795038,\n",
       "        0.49805522, 0.6416124 ],\n",
       "       [0.9471832 , 0.03553902, 0.9548898 , 0.26721504, 0.7671008 ,\n",
       "        0.41927218, 0.39092115, 0.5949038 , 0.7448019 , 0.41515732,\n",
       "        0.385153  , 0.70525706],\n",
       "       [0.91528004, 0.02076052, 0.93718106, 0.3310184 , 0.7320248 ,\n",
       "        0.23716256, 0.44289815, 0.66856015, 0.83741736, 0.54597604,\n",
       "        0.17634712, 0.80158144],\n",
       "       [0.8938957 , 0.01623097, 0.95623773, 0.47554547, 0.79050016,\n",
       "        0.17961851, 0.38036034, 0.71553016, 0.8795431 , 0.6345921 ,\n",
       "        0.1163506 , 0.88985264],\n",
       "       [0.87470055, 0.0072791 , 0.9460249 , 0.4046582 , 0.8231822 ,\n",
       "        0.12215207, 0.41398686, 0.6430669 , 0.8733426 , 0.70496345,\n",
       "        0.1296469 , 0.8932945 ],\n",
       "       [0.86537623, 0.00575462, 0.9583401 , 0.3316873 , 0.8454392 ,\n",
       "        0.09805893, 0.46137947, 0.5784297 , 0.87987155, 0.72508335,\n",
       "        0.1989592 , 0.84627056],\n",
       "       [0.8812352 , 0.00412507, 0.9699697 , 0.27959156, 0.84634674,\n",
       "        0.1008706 , 0.53339666, 0.66924965, 0.8886203 , 0.675717  ,\n",
       "        0.17013903, 0.8103345 ],\n",
       "       [0.9632999 , 0.00443939, 0.9655472 , 0.24576108, 0.8559103 ,\n",
       "        0.11715084, 0.561919  , 0.61332136, 0.8456193 , 0.60928285,\n",
       "        0.22657944, 0.8220742 ],\n",
       "       [0.98632157, 0.00407036, 0.9694257 , 0.13276011, 0.900365  ,\n",
       "        0.18058048, 0.45358834, 0.51748824, 0.7353935 , 0.5669793 ,\n",
       "        0.38920578, 0.8485022 ]], dtype=float32)"
      ]
     },
     "execution_count": 27,
     "metadata": {},
     "output_type": "execute_result"
    }
   ],
   "execution_count": 27
  },
  {
   "cell_type": "code",
   "metadata": {
    "ExecuteTime": {
     "end_time": "2024-10-13T09:27:29.695787Z",
     "start_time": "2024-10-13T09:27:29.690804Z"
    }
   },
   "source": [
    "pred_bin = predictions.round().astype(np.int32)\n",
    "pred_bin"
   ],
   "outputs": [
    {
     "data": {
      "text/plain": [
       "array([[1, 0, 1, 0, 1, 1, 0, 0, 0, 0, 0, 1],\n",
       "       [1, 0, 1, 0, 1, 1, 0, 0, 1, 0, 0, 1],\n",
       "       [1, 0, 1, 0, 1, 1, 0, 0, 1, 0, 0, 1],\n",
       "       [1, 0, 1, 0, 1, 1, 0, 1, 1, 0, 1, 1],\n",
       "       [1, 0, 1, 0, 1, 1, 0, 1, 1, 0, 0, 1],\n",
       "       [1, 0, 1, 0, 1, 0, 0, 1, 1, 0, 0, 1],\n",
       "       [1, 0, 1, 0, 1, 0, 0, 1, 1, 1, 0, 1],\n",
       "       [1, 0, 1, 0, 1, 0, 0, 1, 1, 1, 0, 1],\n",
       "       [1, 0, 1, 0, 1, 0, 0, 1, 1, 1, 0, 1],\n",
       "       [1, 0, 1, 0, 1, 0, 0, 1, 1, 1, 0, 1],\n",
       "       [1, 0, 1, 0, 1, 0, 1, 1, 1, 1, 0, 1],\n",
       "       [1, 0, 1, 0, 1, 0, 1, 1, 1, 1, 0, 1],\n",
       "       [1, 0, 1, 0, 1, 0, 0, 1, 1, 1, 0, 1]])"
      ]
     },
     "execution_count": 28,
     "metadata": {},
     "output_type": "execute_result"
    }
   ],
   "execution_count": 28
  },
  {
   "cell_type": "code",
   "metadata": {
    "ExecuteTime": {
     "end_time": "2024-10-13T09:27:32.362827Z",
     "start_time": "2024-10-13T09:27:32.342391Z"
    }
   },
   "source": [
    "importlib.reload(SLR_model)"
   ],
   "outputs": [
    {
     "data": {
      "text/plain": [
       "<module 'SLR_model' from 'C:\\\\Users\\\\shd\\\\Documents\\\\capstone\\\\BomNae-SLR\\\\SLR_model.py'>"
      ]
     },
     "execution_count": 29,
     "metadata": {},
     "output_type": "execute_result"
    }
   ],
   "execution_count": 29
  },
  {
   "cell_type": "code",
   "metadata": {
    "ExecuteTime": {
     "end_time": "2024-10-13T09:27:36.110338Z",
     "start_time": "2024-10-13T09:27:36.105355Z"
    }
   },
   "source": [
    "SLR_model.bin2d_to_num(pred_bin.astype(np.int32))"
   ],
   "outputs": [
    {
     "data": {
      "text/plain": [
       "[2753, 2761, 2761, 2779, 2777, 2713, 2717, 2717, 2717, 2717, 2749, 2749, 2717]"
      ]
     },
     "execution_count": 30,
     "metadata": {},
     "output_type": "execute_result"
    }
   ],
   "execution_count": 30
  },
  {
   "cell_type": "code",
   "metadata": {
    "ExecuteTime": {
     "end_time": "2024-10-13T09:02:50.133710Z",
     "start_time": "2024-10-13T09:02:50.129204Z"
    }
   },
   "source": [
    "SLR_model.bin2num([1,0,1,1,1,0,1,1,1,0,1,0])"
   ],
   "outputs": [
    {
     "data": {
      "text/plain": [
       "3002"
      ]
     },
     "execution_count": 17,
     "metadata": {},
     "output_type": "execute_result"
    }
   ],
   "execution_count": 17
  },
  {
   "cell_type": "code",
   "execution_count": null,
   "metadata": {},
   "outputs": [],
   "source": [
    "model.predict"
   ]
  }
 ],
 "metadata": {
  "kernelspec": {
   "display_name": "slr",
   "language": "python",
   "name": "python3"
  },
  "language_info": {
   "codemirror_mode": {
    "name": "ipython",
    "version": 3
   },
   "file_extension": ".py",
   "mimetype": "text/x-python",
   "name": "python",
   "nbconvert_exporter": "python",
   "pygments_lexer": "ipython3",
   "version": "3.9.20"
  }
 },
 "nbformat": 4,
 "nbformat_minor": 2
}
