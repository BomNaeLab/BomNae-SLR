{
 "cells": [
  {
   "cell_type": "code",
   "execution_count": 1,
   "metadata": {
    "ExecuteTime": {
     "end_time": "2024-10-14T05:52:10.588400Z",
     "start_time": "2024-10-14T05:52:10.585400Z"
    }
   },
   "outputs": [
    {
     "name": "stderr",
     "output_type": "stream",
     "text": [
      "2024-10-16 17:18:40.735866: E external/local_xla/xla/stream_executor/cuda/cuda_fft.cc:485] Unable to register cuFFT factory: Attempting to register factory for plugin cuFFT when one has already been registered\n",
      "2024-10-16 17:18:40.743589: E external/local_xla/xla/stream_executor/cuda/cuda_dnn.cc:8454] Unable to register cuDNN factory: Attempting to register factory for plugin cuDNN when one has already been registered\n",
      "2024-10-16 17:18:40.745794: E external/local_xla/xla/stream_executor/cuda/cuda_blas.cc:1452] Unable to register cuBLAS factory: Attempting to register factory for plugin cuBLAS when one has already been registered\n",
      "2024-10-16 17:18:40.751306: I tensorflow/core/platform/cpu_feature_guard.cc:210] This TensorFlow binary is optimized to use available CPU instructions in performance-critical operations.\n",
      "To enable the following instructions: SSE4.1 SSE4.2 AVX AVX2 FMA, in other operations, rebuild TensorFlow with the appropriate compiler flags.\n",
      "WARNING: All log messages before absl::InitializeLog() is called are written to STDERR\n",
      "I0000 00:00:1729066721.508364 1217999 cuda_executor.cc:1001] could not open file to read NUMA node: /sys/bus/pci/devices/0000:01:00.0/numa_node\n",
      "Your kernel may have been built without NUMA support.\n",
      "I0000 00:00:1729066721.523742 1217999 cuda_executor.cc:1001] could not open file to read NUMA node: /sys/bus/pci/devices/0000:01:00.0/numa_node\n",
      "Your kernel may have been built without NUMA support.\n",
      "I0000 00:00:1729066721.523774 1217999 cuda_executor.cc:1001] could not open file to read NUMA node: /sys/bus/pci/devices/0000:01:00.0/numa_node\n",
      "Your kernel may have been built without NUMA support.\n",
      "I0000 00:00:1729066721.525944 1217999 cuda_executor.cc:1001] could not open file to read NUMA node: /sys/bus/pci/devices/0000:01:00.0/numa_node\n",
      "Your kernel may have been built without NUMA support.\n",
      "I0000 00:00:1729066721.525970 1217999 cuda_executor.cc:1001] could not open file to read NUMA node: /sys/bus/pci/devices/0000:01:00.0/numa_node\n",
      "Your kernel may have been built without NUMA support.\n",
      "I0000 00:00:1729066721.525980 1217999 cuda_executor.cc:1001] could not open file to read NUMA node: /sys/bus/pci/devices/0000:01:00.0/numa_node\n",
      "Your kernel may have been built without NUMA support.\n",
      "I0000 00:00:1729066721.615749 1217999 cuda_executor.cc:1001] could not open file to read NUMA node: /sys/bus/pci/devices/0000:01:00.0/numa_node\n",
      "Your kernel may have been built without NUMA support.\n",
      "I0000 00:00:1729066721.615800 1217999 cuda_executor.cc:1001] could not open file to read NUMA node: /sys/bus/pci/devices/0000:01:00.0/numa_node\n",
      "Your kernel may have been built without NUMA support.\n",
      "2024-10-16 17:18:41.615808: I tensorflow/core/common_runtime/gpu/gpu_device.cc:2112] Could not identify NUMA node of platform GPU id 0, defaulting to 0.  Your kernel may not have been built with NUMA support.\n",
      "I0000 00:00:1729066721.615842 1217999 cuda_executor.cc:1001] could not open file to read NUMA node: /sys/bus/pci/devices/0000:01:00.0/numa_node\n",
      "Your kernel may have been built without NUMA support.\n",
      "2024-10-16 17:18:41.615860: I tensorflow/core/common_runtime/gpu/gpu_device.cc:2021] Created device /job:localhost/replica:0/task:0/device:GPU:0 with 9502 MB memory:  -> device: 0, name: NVIDIA GeForce RTX 4070 Ti, pci bus id: 0000:01:00.0, compute capability: 8.9\n"
     ]
    }
   ],
   "source": [
    "# import preprocess as prep\n",
    "import SLR_model\n",
    "import numpy as np\n",
    "import tensorflow as tf\n",
    "from tensorflow import keras\n",
    "import time\n",
    "import os\n",
    "import json\n",
    "import importlib\n",
    "from matplotlib import pyplot as plt\n",
    "import preprocess\n",
    "# from preprocess import person\n",
    "\n",
    "# model will output multiple(15) results/sec, how are we gonna handle it?"
   ]
  },
  {
   "cell_type": "code",
   "execution_count": 2,
   "metadata": {
    "ExecuteTime": {
     "end_time": "2024-10-14T05:52:12.058404Z",
     "start_time": "2024-10-14T05:52:12.032404Z"
    }
   },
   "outputs": [
    {
     "data": {
      "text/plain": [
       "<module 'preprocess' from '/home/shd/BomNae-SLR/preprocess.py'>"
      ]
     },
     "execution_count": 2,
     "metadata": {},
     "output_type": "execute_result"
    }
   ],
   "source": [
    "importlib.reload(SLR_model)\n",
    "importlib.reload(preprocess)\n"
   ]
  },
  {
   "cell_type": "code",
   "execution_count": 3,
   "metadata": {
    "ExecuteTime": {
     "end_time": "2024-10-14T05:52:13.285633Z",
     "start_time": "2024-10-14T05:52:13.282633Z"
    }
   },
   "outputs": [],
   "source": [
    "# Configurations\n",
    "model_dir = \"saves\"\n",
    "THRESHOLD = 0.5\n",
    "# batch_size = 16"
   ]
  },
  {
   "cell_type": "code",
   "execution_count": 4,
   "metadata": {
    "ExecuteTime": {
     "end_time": "2024-10-14T05:52:45.372752Z",
     "start_time": "2024-10-14T05:52:45.336241Z"
    }
   },
   "outputs": [],
   "source": [
    "# 세이브된 모델 로드\n",
    "load_path = os.path.join(model_dir, \"check_16-15-00_1_3time.keras\")\n",
    "model = SLR_model.load_model(load_path)"
   ]
  },
  {
   "cell_type": "code",
   "execution_count": 5,
   "metadata": {},
   "outputs": [],
   "source": [
    "models=[]\n",
    "for i in range(1,15):\n",
    "    load_path=os.path.join(model_dir, \"check_16-15-07_\"+str(i)+\"_100epochs_1time.keras\")\n",
    "    models.append(SLR_model.load_model(load_path))"
   ]
  },
  {
   "cell_type": "code",
   "execution_count": 6,
   "metadata": {},
   "outputs": [
    {
     "name": "stdout",
     "output_type": "stream",
     "text": [
      "[<SLRModel name=slr_model_4, built=True>, <SLRModel name=slr_model_4, built=True>, <SLRModel name=slr_model_4, built=True>, <SLRModel name=slr_model_4, built=True>, <SLRModel name=slr_model_4, built=True>, <SLRModel name=slr_model_4, built=True>, <SLRModel name=slr_model_4, built=True>, <SLRModel name=slr_model_4, built=True>, <SLRModel name=slr_model_4, built=True>, <SLRModel name=slr_model_4, built=True>, <SLRModel name=slr_model_4, built=True>, <SLRModel name=slr_model_4, built=True>, <SLRModel name=slr_model_4, built=True>, <SLRModel name=slr_model_4, built=True>]\n"
     ]
    }
   ],
   "source": [
    "print(models)"
   ]
  },
  {
   "cell_type": "code",
   "execution_count": 7,
   "metadata": {
    "ExecuteTime": {
     "end_time": "2024-10-13T09:26:56.262016Z",
     "start_time": "2024-10-13T09:26:56.256035Z"
    }
   },
   "outputs": [],
   "source": [
    "# load data\n",
    "l_raws=[]\n",
    "r_raws=[]\n",
    "p_raws=[]\n",
    "y_raws=[]\n",
    "person_id = 1\n",
    "# TODO hardcode path\n",
    "# a video\n",
    "# for j in os.listdir(os.path.join(preprocess.getoutputdir(\"val\"),str(person_id))):\n",
    "#     j=\"0005.npz\"\n",
    "#     l_raw, r_raw, p_raw, y_raw = preprocess.load_data(f\"{person_id}/{j}\",\"val\")\n",
    "    \n",
    "for j in sorted(os.listdir(preprocess.getoutputdir:\n",
    "    l_raw, r_raw, p_raw, y_raw,w = preprocess.load_data(f\"{person_id}/0005.npz\",)\n",
    "    \n",
    "    l_raws.append(l_raw)\n",
    "    r_raws.append(r_raw)\n",
    "    p_raws.append(p_raw)\n",
    "    y_raws.append(y_raw)\n",
    "    break"
   ]
  },
  {
   "cell_type": "code",
   "execution_count": 8,
   "metadata": {
    "ExecuteTime": {
     "end_time": "2024-10-13T09:26:57.766162Z",
     "start_time": "2024-10-13T09:26:57.761177Z"
    }
   },
   "outputs": [
    {
     "data": {
      "text/plain": [
       "[5]"
      ]
     },
     "execution_count": 8,
     "metadata": {},
     "output_type": "execute_result"
    }
   ],
   "source": [
    "y_raws"
   ]
  },
  {
   "cell_type": "code",
   "execution_count": 9,
   "metadata": {
    "ExecuteTime": {
     "end_time": "2024-10-13T09:14:47.086323Z",
     "start_time": "2024-10-13T09:14:47.083333Z"
    }
   },
   "outputs": [],
   "source": [
    "# # dummy x_raw data\n",
    "# l_raws = []\n",
    "# duration_list = []\n",
    "# h_elem = np.zeros(shape=(4,5,3))\n",
    "# # p_elem = np.zeros(shape=(3,10))\n",
    "# # comb_elem = [h_elem, h_elem, p_elem]\n",
    "# x_elem = []\n",
    "# duration = (np.random.randint(90,100))\n",
    "# duration_list.append(duration)\n",
    "# for j in range(duration): # frame size\n",
    "#     x_elem.append(h_elem)\n",
    "#     # x_elem.append(comb_elem)\n",
    "# l_raws.append(x_elem)\n",
    "# r_raws = []\n",
    "# \n",
    "# h_elem = np.zeros(shape=(4,5,3))\n",
    "# # p_elem = np.zeros(shape=(3,10))\n",
    "# # comb_elem = [h_elem, h_elem, p_elem]\n",
    "# x_elem = []\n",
    "# duration = duration_list[0]\n",
    "# for j in range(duration): # frame size\n",
    "#     x_elem.append(h_elem)\n",
    "#     # x_elem.append(comb_elem)\n",
    "# r_raws.append(x_elem)\n",
    "# p_raws = []\n",
    "# \n",
    "# # h_elem = np.zeros(shape=(4,5,3))\n",
    "# p_elem = np.zeros(shape=(3,10))\n",
    "# # comb_elem = [h_elem, h_elem, p_elem]\n",
    "# x_elem = []\n",
    "# duration = duration_list[0]\n",
    "# for j in range(duration): # frame size\n",
    "#     # x_elem.append(h_elem)\n",
    "#     x_elem.append(p_elem)\n",
    "#     # x_elem.append(comb_elem)\n",
    "# p_raws.append(x_elem)"
   ]
  },
  {
   "cell_type": "code",
   "execution_count": 10,
   "metadata": {
    "ExecuteTime": {
     "end_time": "2024-10-13T09:27:02.531524Z",
     "start_time": "2024-10-13T09:27:02.527537Z"
    }
   },
   "outputs": [],
   "source": [
    "l_test, each = SLR_model.serialize(l_raws)\n",
    "r_test, each = SLR_model.serialize(r_raws)\n",
    "p_test, each = SLR_model.serialize(p_raws, stride=2)\n",
    "x_test = (l_test, r_test, p_test)\n",
    "\n",
    "# dataset = SLR_model.convert_to_dataset_single(x_test, batch_size)\n",
    "\n",
    "\n",
    "# with open(hist_path, 'w') as file:\n",
    "#     json.dump(hist.history, file)"
   ]
  },
  {
   "cell_type": "code",
   "execution_count": 11,
   "metadata": {
    "ExecuteTime": {
     "end_time": "2024-10-13T09:27:03.085780Z",
     "start_time": "2024-10-13T09:27:03.080797Z"
    }
   },
   "outputs": [
    {
     "data": {
      "text/plain": [
       "(9, 63, 4, 5, 3)"
      ]
     },
     "execution_count": 11,
     "metadata": {},
     "output_type": "execute_result"
    }
   ],
   "source": [
    "x_test[1].shape"
   ]
  },
  {
   "cell_type": "code",
   "execution_count": 12,
   "metadata": {
    "ExecuteTime": {
     "end_time": "2024-10-13T09:27:26.480770Z",
     "start_time": "2024-10-13T09:27:26.435920Z"
    }
   },
   "outputs": [
    {
     "name": "stderr",
     "output_type": "stream",
     "text": [
      "I0000 00:00:1729066728.423253 1218075 service.cc:146] XLA service 0x7ff4080031b0 initialized for platform CUDA (this does not guarantee that XLA will be used). Devices:\n",
      "I0000 00:00:1729066728.423304 1218075 service.cc:154]   StreamExecutor device (0): NVIDIA GeForce RTX 4070 Ti, Compute Capability 8.9\n",
      "2024-10-16 17:18:48.437968: I tensorflow/compiler/mlir/tensorflow/utils/dump_mlir_util.cc:268] disabling MLIR crash reproducer, set env var `MLIR_CRASH_REPRODUCER_DIRECTORY` to enable.\n",
      "2024-10-16 17:18:48.500819: I external/local_xla/xla/stream_executor/cuda/cuda_dnn.cc:531] Loaded cuDNN version 90300\n"
     ]
    },
    {
     "name": "stdout",
     "output_type": "stream",
     "text": [
      "\u001b[1m1/1\u001b[0m \u001b[32m━━━━━━━━━━━━━━━━━━━━\u001b[0m\u001b[37m\u001b[0m \u001b[1m1s\u001b[0m 886ms/step\n"
     ]
    },
    {
     "name": "stderr",
     "output_type": "stream",
     "text": [
      "I0000 00:00:1729066729.156451 1218075 device_compiler.h:188] Compiled cluster using XLA!  This line is logged at most once for the lifetime of the process.\n"
     ]
    },
    {
     "name": "stdout",
     "output_type": "stream",
     "text": [
      "tf.Tensor([2533 2379 2427 2427 2348 2533 2515 2517 2517], shape=(9,), dtype=int64)\n",
      "\u001b[1m1/1\u001b[0m \u001b[32m━━━━━━━━━━━━━━━━━━━━\u001b[0m\u001b[37m\u001b[0m \u001b[1m2s\u001b[0m 2s/step\n",
      "tf.Tensor([2349 2466 2348 2466 2349 2430 2349 2466 2398], shape=(9,), dtype=int64)\n",
      "\u001b[1m1/1\u001b[0m \u001b[32m━━━━━━━━━━━━━━━━━━━━\u001b[0m\u001b[37m\u001b[0m \u001b[1m0s\u001b[0m 407ms/step\n",
      "tf.Tensor([2032 2032 2142 2056  385 2055 2053 2032 2142], shape=(9,), dtype=int64)\n",
      "\u001b[1m1/1\u001b[0m \u001b[32m━━━━━━━━━━━━━━━━━━━━\u001b[0m\u001b[37m\u001b[0m \u001b[1m0s\u001b[0m 407ms/step\n",
      "tf.Tensor([650 650 650 650 650 650 650 650 619], shape=(9,), dtype=int64)\n",
      "WARNING:tensorflow:5 out of the last 5 calls to <function TensorFlowTrainer.make_predict_function.<locals>.one_step_on_data_distributed at 0x7ff4d0777d30> triggered tf.function retracing. Tracing is expensive and the excessive number of tracings could be due to (1) creating @tf.function repeatedly in a loop, (2) passing tensors with different shapes, (3) passing Python objects instead of tensors. For (1), please define your @tf.function outside of the loop. For (2), @tf.function has reduce_retracing=True option that can avoid unnecessary retracing. For (3), please refer to https://www.tensorflow.org/guide/function#controlling_retracing and https://www.tensorflow.org/api_docs/python/tf/function for  more details.\n",
      "\u001b[1m1/1\u001b[0m \u001b[32m━━━━━━━━━━━━━━━━━━━━\u001b[0m\u001b[37m\u001b[0m \u001b[1m0s\u001b[0m 404ms/step\n",
      "tf.Tensor([836 780 780 780 780 780 780 780 836], shape=(9,), dtype=int64)\n",
      "WARNING:tensorflow:6 out of the last 6 calls to <function TensorFlowTrainer.make_predict_function.<locals>.one_step_on_data_distributed at 0x7ff4d8105b80> triggered tf.function retracing. Tracing is expensive and the excessive number of tracings could be due to (1) creating @tf.function repeatedly in a loop, (2) passing tensors with different shapes, (3) passing Python objects instead of tensors. For (1), please define your @tf.function outside of the loop. For (2), @tf.function has reduce_retracing=True option that can avoid unnecessary retracing. For (3), please refer to https://www.tensorflow.org/guide/function#controlling_retracing and https://www.tensorflow.org/api_docs/python/tf/function for  more details.\n",
      "\u001b[1m1/1\u001b[0m \u001b[32m━━━━━━━━━━━━━━━━━━━━\u001b[0m\u001b[37m\u001b[0m \u001b[1m0s\u001b[0m 419ms/step\n",
      "tf.Tensor([2771 2744 2636 2640 2640 1691 2640 1691  237], shape=(9,), dtype=int64)\n",
      "\u001b[1m1/1\u001b[0m \u001b[32m━━━━━━━━━━━━━━━━━━━━\u001b[0m\u001b[37m\u001b[0m \u001b[1m0s\u001b[0m 416ms/step\n",
      "tf.Tensor([787 798 971 798 798 159 798 798 798], shape=(9,), dtype=int64)\n",
      "\u001b[1m1/1\u001b[0m \u001b[32m━━━━━━━━━━━━━━━━━━━━\u001b[0m\u001b[37m\u001b[0m \u001b[1m0s\u001b[0m 417ms/step\n",
      "tf.Tensor([619 619 619 643 643 720 650 650 650], shape=(9,), dtype=int64)\n",
      "\u001b[1m1/1\u001b[0m \u001b[32m━━━━━━━━━━━━━━━━━━━━\u001b[0m\u001b[37m\u001b[0m \u001b[1m0s\u001b[0m 417ms/step\n",
      "tf.Tensor([ 499  499 1284 1284 1284 1284 1284 1284  499], shape=(9,), dtype=int64)\n",
      "\u001b[1m1/1\u001b[0m \u001b[32m━━━━━━━━━━━━━━━━━━━━\u001b[0m\u001b[37m\u001b[0m \u001b[1m0s\u001b[0m 405ms/step\n",
      "tf.Tensor([492 386 386 386 254 254 386 386 386], shape=(9,), dtype=int64)\n",
      "\u001b[1m1/1\u001b[0m \u001b[32m━━━━━━━━━━━━━━━━━━━━\u001b[0m\u001b[37m\u001b[0m \u001b[1m0s\u001b[0m 401ms/step\n",
      "tf.Tensor([1211 1156 1156    5 1231    5    5    5 1156], shape=(9,), dtype=int64)\n",
      "\u001b[1m1/1\u001b[0m \u001b[32m━━━━━━━━━━━━━━━━━━━━\u001b[0m\u001b[37m\u001b[0m \u001b[1m0s\u001b[0m 409ms/step\n",
      "tf.Tensor([2695    5    5    5    5    5    5    5    5], shape=(9,), dtype=int64)\n",
      "\u001b[1m1/1\u001b[0m \u001b[32m━━━━━━━━━━━━━━━━━━━━\u001b[0m\u001b[37m\u001b[0m \u001b[1m0s\u001b[0m 402ms/step\n",
      "tf.Tensor([2624 2624 2624 2771 2771 2771 2771 2609 2609], shape=(9,), dtype=int64)\n",
      "\u001b[1m1/1\u001b[0m \u001b[32m━━━━━━━━━━━━━━━━━━━━\u001b[0m\u001b[37m\u001b[0m \u001b[1m0s\u001b[0m 411ms/step\n",
      "tf.Tensor([1935 1935 1891 1891 1891 1935 1891 1891 1935], shape=(9,), dtype=int64)\n"
     ]
    }
   ],
   "source": [
    "for model in models:\n",
    "    predictions = model.predict(x_test,20000)\n",
    "    print(SLR_model.decode_onehot2d(predictions))\n"
   ]
  },
  {
   "cell_type": "code",
   "execution_count": 13,
   "metadata": {
    "ExecuteTime": {
     "end_time": "2024-10-13T09:27:27.700980Z",
     "start_time": "2024-10-13T09:27:27.696994Z"
    }
   },
   "outputs": [
    {
     "data": {
      "text/plain": [
       "array([[7.9010423e-16, 3.3546442e-19, 2.8880013e-28, ..., 6.2367728e-19,\n",
       "        4.2299254e-18, 1.5826244e-16],\n",
       "       [1.3019671e-17, 2.2345743e-21, 2.4805354e-28, ..., 7.5384776e-20,\n",
       "        2.5882523e-18, 5.4566355e-18],\n",
       "       [1.9817608e-20, 1.7838993e-23, 4.4732374e-32, ..., 1.6420462e-22,\n",
       "        1.9081687e-20, 6.3201866e-21],\n",
       "       ...,\n",
       "       [4.3076135e-23, 1.4819824e-27, 1.0392310e-33, ..., 3.6207864e-27,\n",
       "        5.4690183e-25, 3.4301395e-23],\n",
       "       [4.0488436e-22, 5.7491828e-25, 7.4267833e-32, ..., 1.9858946e-25,\n",
       "        2.9434539e-22, 5.8357614e-23],\n",
       "       [3.3527245e-23, 1.4266392e-26, 9.7643908e-32, ..., 3.7197943e-27,\n",
       "        7.2161421e-25, 5.1433125e-25]], dtype=float32)"
      ]
     },
     "execution_count": 13,
     "metadata": {},
     "output_type": "execute_result"
    }
   ],
   "source": [
    "predictions"
   ]
  },
  {
   "cell_type": "code",
   "execution_count": 14,
   "metadata": {
    "ExecuteTime": {
     "end_time": "2024-10-13T09:27:29.695787Z",
     "start_time": "2024-10-13T09:27:29.690804Z"
    }
   },
   "outputs": [],
   "source": [
    "# pred_bin = predictions.round().astype(np.int32)\n",
    "# pred_bin"
   ]
  },
  {
   "cell_type": "code",
   "execution_count": 15,
   "metadata": {
    "ExecuteTime": {
     "end_time": "2024-10-13T09:27:32.362827Z",
     "start_time": "2024-10-13T09:27:32.342391Z"
    }
   },
   "outputs": [
    {
     "data": {
      "text/plain": [
       "<module 'SLR_model' from '/home/shd/BomNae-SLR/SLR_model.py'>"
      ]
     },
     "execution_count": 15,
     "metadata": {},
     "output_type": "execute_result"
    }
   ],
   "source": [
    "importlib.reload(SLR_model)"
   ]
  },
  {
   "cell_type": "code",
   "execution_count": 16,
   "metadata": {
    "ExecuteTime": {
     "end_time": "2024-10-13T09:27:36.110338Z",
     "start_time": "2024-10-13T09:27:36.105355Z"
    }
   },
   "outputs": [
    {
     "data": {
      "text/plain": [
       "<tf.Tensor: shape=(9,), dtype=int64, numpy=array([1935, 1935, 1891, 1891, 1891, 1935, 1891, 1891, 1935])>"
      ]
     },
     "execution_count": 16,
     "metadata": {},
     "output_type": "execute_result"
    }
   ],
   "source": [
    "SLR_model.decode_onehot2d(predictions)"
   ]
  },
  {
   "cell_type": "code",
   "execution_count": 17,
   "metadata": {
    "ExecuteTime": {
     "end_time": "2024-10-13T09:02:50.133710Z",
     "start_time": "2024-10-13T09:02:50.129204Z"
    }
   },
   "outputs": [
    {
     "ename": "AttributeError",
     "evalue": "module 'SLR_model' has no attribute 'bin2num'",
     "output_type": "error",
     "traceback": [
      "\u001b[0;31m---------------------------------------------------------------------------\u001b[0m",
      "\u001b[0;31mAttributeError\u001b[0m                            Traceback (most recent call last)",
      "Cell \u001b[0;32mIn[17], line 1\u001b[0m\n\u001b[0;32m----> 1\u001b[0m \u001b[43mSLR_model\u001b[49m\u001b[38;5;241;43m.\u001b[39;49m\u001b[43mbin2num\u001b[49m([\u001b[38;5;241m1\u001b[39m,\u001b[38;5;241m0\u001b[39m,\u001b[38;5;241m1\u001b[39m,\u001b[38;5;241m1\u001b[39m,\u001b[38;5;241m1\u001b[39m,\u001b[38;5;241m0\u001b[39m,\u001b[38;5;241m1\u001b[39m,\u001b[38;5;241m1\u001b[39m,\u001b[38;5;241m1\u001b[39m,\u001b[38;5;241m0\u001b[39m,\u001b[38;5;241m1\u001b[39m,\u001b[38;5;241m0\u001b[39m])\n",
      "\u001b[0;31mAttributeError\u001b[0m: module 'SLR_model' has no attribute 'bin2num'"
     ]
    }
   ],
   "source": [
    "SLR_model.bin2num([1,0,1,1,1,0,1,1,1,0,1,0])"
   ]
  },
  {
   "cell_type": "code",
   "execution_count": null,
   "metadata": {},
   "outputs": [],
   "source": [
    "model.predict"
   ]
  },
  {
   "cell_type": "code",
   "execution_count": null,
   "metadata": {},
   "outputs": [],
   "source": []
  }
 ],
 "metadata": {
  "kernelspec": {
   "display_name": "slr",
   "language": "python",
   "name": "python3"
  },
  "language_info": {
   "codemirror_mode": {
    "name": "ipython",
    "version": 3
   },
   "file_extension": ".py",
   "mimetype": "text/x-python",
   "name": "python",
   "nbconvert_exporter": "python",
   "pygments_lexer": "ipython3",
   "version": "3.9.20"
  }
 },
 "nbformat": 4,
 "nbformat_minor": 4
}
