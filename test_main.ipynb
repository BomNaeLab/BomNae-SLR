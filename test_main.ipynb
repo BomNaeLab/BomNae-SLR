{
 "cells": [
  {
   "cell_type": "code",
   "execution_count": 9,
   "metadata": {
    "ExecuteTime": {
     "end_time": "2024-10-14T05:52:10.588400Z",
     "start_time": "2024-10-14T05:52:10.585400Z"
    }
   },
   "outputs": [],
   "source": [
    "# import preprocess as prep\n",
    "import os\n",
    "os.environ[\"CUDA_VISIBLE_DEVICES\"] = \"-1\" \n",
    "import importlib\n",
    "import preprocess_lite\n",
    "import preprocess\n",
    "import SLR_model\n",
    "from scipy. stats import mode\n",
    "import tensorflow as tf\n",
    "import numpy as np\n",
    "# model will output multiple(15) results/sec, how are we gonna handle it?"
   ]
  },
  {
   "cell_type": "code",
   "execution_count": 10,
   "metadata": {
    "ExecuteTime": {
     "end_time": "2024-10-14T05:52:12.058404Z",
     "start_time": "2024-10-14T05:52:12.032404Z"
    }
   },
   "outputs": [
    {
     "data": {
      "text/plain": [
       "<module 'preprocess' from '/home/shd/BomNae-SLR/preprocess.py'>"
      ]
     },
     "execution_count": 10,
     "metadata": {},
     "output_type": "execute_result"
    }
   ],
   "source": [
    "importlib.reload(SLR_model)\n",
    "importlib.reload(preprocess_lite)\n",
    "importlib.reload(preprocess)\n",
    "\n"
   ]
  },
  {
   "cell_type": "code",
   "execution_count": 11,
   "metadata": {
    "ExecuteTime": {
     "end_time": "2024-10-14T05:52:13.285633Z",
     "start_time": "2024-10-14T05:52:13.282633Z"
    }
   },
   "outputs": [],
   "source": [
    "# Configurations\n",
    "model_dir = \"saves\"\n",
    "THRESHOLD = 0.5\n",
    "# batch_size = 16\n",
    "file_name=\"11-20-16-30epochs-5times_final\""
   ]
  },
  {
   "cell_type": "code",
   "execution_count": 12,
   "metadata": {
    "ExecuteTime": {
     "end_time": "2024-10-14T05:52:45.372752Z",
     "start_time": "2024-10-14T05:52:45.336241Z"
    }
   },
   "outputs": [],
   "source": [
    "# 세이브된 모델 로드\n",
    "load_path = os.path.join(model_dir, \"ckpt\",file_name+\".keras\")\n",
    "model = SLR_model.load_model(load_path)"
   ]
  },
  {
   "cell_type": "code",
   "execution_count": 13,
   "metadata": {},
   "outputs": [
    {
     "name": "stdout",
     "output_type": "stream",
     "text": [
      "\u001b[1m1/1\u001b[0m \u001b[32m━━━━━━━━━━━━━━━━━━━━\u001b[0m\u001b[37m\u001b[0m \u001b[1m0s\u001b[0m 296ms/step\n",
      "1809:2233\n",
      "1809:2233\n",
      "1809:569\n",
      "1809:569\n",
      "1809:2233\n"
     ]
    }
   ],
   "source": [
    "# load data\n",
    "l_raws=[]\n",
    "r_raws=[]\n",
    "p_raws=[]\n",
    "y_raws=[]\n",
    "person_id = 8\n",
    "# TODO hardcode path\n",
    "# a video\n",
    "for j in sorted(os.listdir(os.path.join(preprocess_lite.getoutputdir(),str(person_id)))):\n",
    "    j=\"0002.npz\"\n",
    "    l_raw, r_raw, p_raw, y_raw ,w= preprocess_lite.load_data(f\"{person_id}/{j}\")\n",
    "    \n",
    "    l_raws.append(l_raw)\n",
    "    r_raws.append(r_raw)\n",
    "    p_raws.append(p_raw)\n",
    "    y_raws.append(y_raw)\n",
    "    l_test, each = SLR_model.serialize(l_raws)\n",
    "    r_test, each = SLR_model.serialize(r_raws)\n",
    "    p_test, each = SLR_model.serialize(p_raws, stride=2,is_pose = True)\n",
    "    x_test = (l_test, r_test, p_test)\n",
    "\n",
    "    predictions = model.predict(x_test,32)\n",
    "    pred=SLR_model.decode_onehot2d(predictions)\n",
    "    for i in range(len(predictions)):\n",
    "        print(f\"{y_raw}:{pred[i]}\")\n",
    "        if pred[i]==y_raw:\n",
    "            print(tf.math.top_k(predictions[i],k=2).values.numpy())\n",
    "            break\n",
    "            \n",
    "    # print(SLR_model.decode_onehot2d(predictions))\n",
    "\n",
    "    break\n",
    "    "
   ]
  },
  {
   "cell_type": "code",
   "execution_count": 21,
   "metadata": {
    "ExecuteTime": {
     "end_time": "2024-10-13T09:26:56.262016Z",
     "start_time": "2024-10-13T09:26:56.256035Z"
    }
   },
   "outputs": [
    {
     "name": "stderr",
     "output_type": "stream",
     "text": [
      "2024-11-20 20:20:01.129450: I tensorflow/core/framework/local_rendezvous.cc:404] Local rendezvous is aborting with status: OUT_OF_RANGE: End of sequence\n",
      "2024-11-20 20:20:04.177042: I tensorflow/core/framework/local_rendezvous.cc:404] Local rendezvous is aborting with status: OUT_OF_RANGE: End of sequence\n",
      "2024-11-20 20:20:09.726331: I tensorflow/core/framework/local_rendezvous.cc:404] Local rendezvous is aborting with status: OUT_OF_RANGE: End of sequence\n"
     ]
    },
    {
     "name": "stdout",
     "output_type": "stream",
     "text": [
      "1105\n",
      "2554\n",
      "43.265465935787\n"
     ]
    }
   ],
   "source": [
    "# load data\n",
    "l_raws=[]\n",
    "r_raws=[]\n",
    "p_raws=[]\n",
    "y_raws=[]\n",
    "person_id = 18\n",
    "count=0\n",
    "name_list=[]\n",
    "# TODO hardcode path\n",
    "# a video\n",
    "val_list=sorted(os.listdir(os.path.join(preprocess_lite.getoutputdir('val'),str(person_id))))\n",
    "# val_list=sorted(os.listdir(os.path.join(preprocess_lite.getoutputdir(),str(person_id))))\n",
    "\n",
    "for j in val_list:\n",
    "    # j=\"0001.npz\"\n",
    "    try:\n",
    "        l_raw, r_raw, p_raw, y_raw = preprocess_lite.load_data(f\"{person_id}/{j}\",'val')\n",
    "        # l_raw, r_raw, p_raw, y_raw,w = preprocess_lite.load_data(f\"{person_id}/{j}\")\n",
    "        \n",
    "    except Exception as e:\n",
    "        print(e)\n",
    "        continue\n",
    "    l_raws.append(l_raw)\n",
    "    r_raws.append(r_raw)\n",
    "    p_raws.append(p_raw)\n",
    "    y_raws.append(y_raw)\n",
    "    l_test, each = SLR_model.serialize(l_raws)\n",
    "    r_test, each = SLR_model.serialize(r_raws)\n",
    "    p_test, each = SLR_model.serialize(p_raws, stride=2,is_pose = True)\n",
    "    x_test = (l_test, r_test, p_test)\n",
    "    try:\n",
    "        predictions = model.predict(x_test,32,verbose=0)\n",
    "        pred=SLR_model.decode_onehot2d(predictions)\n",
    "        num=mode(pred)\n",
    "        for i in range(len(predictions)):\n",
    "            if pred[i]==y_raw:\n",
    "                top=tf.math.top_k(predictions[i],k=2).values.numpy()\n",
    "                break\n",
    "            else: top=np.array([0,0]) \n",
    "        ans=(abs(top[0]-top[1]))\n",
    "    except Exception as e:\n",
    "        log_msg=f'{j}) {e}\\n'\n",
    "    else:\n",
    "        log_msg=f'{j}):{ans}\\n'\n",
    "        \n",
    "        if 0==ans:\n",
    "            count+=1\n",
    "            name_list.append(j)\n",
    "    finally:\n",
    "        with open(file_name+\"_test_log.txt\",\"a\") as log:\n",
    "            # if int(y_raw)!=int(num[0]):\n",
    "            log.write(log_msg)\n",
    "            # print(log_msg)\n",
    "        l_raws.clear()\n",
    "        r_raws.clear()\n",
    "        p_raws.clear()\n",
    "        y_raws.clear()\n",
    "print(count)\n",
    "print(len(val_list))\n",
    "print(count/len(val_list)*100)"
   ]
  },
  {
   "cell_type": "code",
   "execution_count": 22,
   "metadata": {
    "ExecuteTime": {
     "end_time": "2024-10-13T09:26:57.766162Z",
     "start_time": "2024-10-13T09:26:57.761177Z"
    }
   },
   "outputs": [
    {
     "name": "stdout",
     "output_type": "stream",
     "text": [
      "1105\n",
      "1105\n"
     ]
    }
   ],
   "source": [
    "print(count)\n",
    "print(len(name_list))\n"
   ]
  },
  {
   "cell_type": "code",
   "execution_count": 110,
   "metadata": {
    "ExecuteTime": {
     "end_time": "2024-10-13T09:14:47.086323Z",
     "start_time": "2024-10-13T09:14:47.083333Z"
    }
   },
   "outputs": [],
   "source": [
    "# # dummy x_raw data\n",
    "# l_raws = []\n",
    "# duration_list = []\n",
    "# h_elem = np.zeros(shape=(4,5,3))\n",
    "# # p_elem = np.zeros(shape=(3,10))\n",
    "# # comb_elem = [h_elem, h_elem, p_elem]\n",
    "# x_elem = []\n",
    "# duration = (np.random.randint(90,100))\n",
    "# duration_list.append(duration)\n",
    "# for j in range(duration): # frame size\n",
    "#     x_elem.append(h_elem)\n",
    "#     # x_elem.append(comb_elem)\n",
    "# l_raws.append(x_elem)\n",
    "# r_raws = []\n",
    "# \n",
    "# h_elem = np.zeros(shape=(4,5,3))\n",
    "# # p_elem = np.zeros(shape=(3,10))\n",
    "# # comb_elem = [h_elem, h_elem, p_elem]\n",
    "# x_elem = []\n",
    "# duration = duration_list[0]\n",
    "# for j in range(duration): # frame size\n",
    "#     x_elem.append(h_elem)\n",
    "#     # x_elem.append(comb_elem)\n",
    "# r_raws.append(x_elem)\n",
    "# p_raws = []\n",
    "# \n",
    "# # h_elem = np.zeros(shape=(4,5,3))\n",
    "# p_elem = np.zeros(shape=(3,10))\n",
    "# # comb_elem = [h_elem, h_elem, p_elem]\n",
    "# x_elem = []\n",
    "# duration = duration_list[0]\n",
    "# for j in range(duration): # frame size\n",
    "#     # x_elem.append(h_elem)\n",
    "#     x_elem.append(p_elem)\n",
    "#     # x_elem.append(comb_elem)\n",
    "# p_raws.append(x_elem)"
   ]
  },
  {
   "cell_type": "code",
   "execution_count": 111,
   "metadata": {
    "ExecuteTime": {
     "end_time": "2024-10-13T09:27:02.531524Z",
     "start_time": "2024-10-13T09:27:02.527537Z"
    }
   },
   "outputs": [],
   "source": [
    "l_test, each = SLR_model.serialize(l_raws)\n",
    "r_test, each = SLR_model.serialize(r_raws)\n",
    "p_test, each = SLR_model.serialize(p_raws, stride=2,is_pose = True)\n",
    "x_test = (l_test, r_test, p_test)\n",
    "\n",
    "# dataset = SLR_model.convert_to_dataset_single(x_test, batch_size)\n",
    "\n",
    "\n",
    "# with open(hist_path, 'w') as file:\n",
    "#     json.dump(hist.history, file)"
   ]
  },
  {
   "cell_type": "code",
   "execution_count": 8,
   "metadata": {
    "ExecuteTime": {
     "end_time": "2024-10-13T09:27:03.085780Z",
     "start_time": "2024-10-13T09:27:03.080797Z"
    }
   },
   "outputs": [
    {
     "data": {
      "text/plain": [
       "2769"
      ]
     },
     "execution_count": 8,
     "metadata": {},
     "output_type": "execute_result"
    }
   ],
   "source": [
    "y_raw"
   ]
  },
  {
   "cell_type": "code",
   "execution_count": 9,
   "metadata": {
    "ExecuteTime": {
     "end_time": "2024-10-13T09:27:26.480770Z",
     "start_time": "2024-10-13T09:27:26.435920Z"
    }
   },
   "outputs": [
    {
     "name": "stdout",
     "output_type": "stream",
     "text": [
      "\u001b[1m1/1\u001b[0m \u001b[32m━━━━━━━━━━━━━━━━━━━━\u001b[0m\u001b[37m\u001b[0m \u001b[1m0s\u001b[0m 36ms/step\n",
      "tf.Tensor([ 619   62   28 1364   28  619  619  820], shape=(8,), dtype=int64)\n"
     ]
    }
   ],
   "source": [
    "\n",
    "predictions = model.predict(x_test,32)\n",
    "print(SLR_model.decode_onehot2d(predictions))\n"
   ]
  },
  {
   "cell_type": "code",
   "execution_count": 106,
   "metadata": {
    "ExecuteTime": {
     "end_time": "2024-10-13T09:27:27.700980Z",
     "start_time": "2024-10-13T09:27:27.696994Z"
    }
   },
   "outputs": [
    {
     "data": {
      "text/plain": [
       "array([[1.06856385e-10, 2.69137300e-19, 6.27669255e-16, ...,\n",
       "        3.35132165e-11, 4.32728089e-11, 1.56990765e-09],\n",
       "       [4.79685180e-10, 7.06360674e-20, 8.91828334e-18, ...,\n",
       "        6.38787079e-11, 2.81286616e-09, 4.90596175e-10],\n",
       "       [8.79550393e-13, 1.02109870e-19, 1.40288393e-17, ...,\n",
       "        4.34852722e-14, 1.05808792e-10, 1.22884808e-15],\n",
       "       ...,\n",
       "       [1.00203144e-13, 1.65873783e-22, 2.90799827e-24, ...,\n",
       "        2.71007612e-17, 1.26532996e-12, 5.17534312e-13],\n",
       "       [1.20203743e-16, 1.76175004e-24, 4.23157955e-29, ...,\n",
       "        1.74624015e-17, 4.52590236e-14, 9.22390716e-16],\n",
       "       [4.83049390e-16, 1.69469557e-28, 8.00105026e-30, ...,\n",
       "        1.01956868e-17, 1.50272268e-14, 1.89650399e-16]], dtype=float32)"
      ]
     },
     "execution_count": 106,
     "metadata": {},
     "output_type": "execute_result"
    }
   ],
   "source": [
    "predictions"
   ]
  },
  {
   "cell_type": "code",
   "execution_count": null,
   "metadata": {
    "ExecuteTime": {
     "end_time": "2024-10-13T09:27:29.695787Z",
     "start_time": "2024-10-13T09:27:29.690804Z"
    }
   },
   "outputs": [],
   "source": [
    "# pred_bin = predictions.round().astype(np.int32)\n",
    "# pred_bin"
   ]
  },
  {
   "cell_type": "code",
   "execution_count": null,
   "metadata": {
    "ExecuteTime": {
     "end_time": "2024-10-13T09:27:32.362827Z",
     "start_time": "2024-10-13T09:27:32.342391Z"
    }
   },
   "outputs": [],
   "source": [
    "importlib.reload(SLR_model)"
   ]
  },
  {
   "cell_type": "code",
   "execution_count": null,
   "metadata": {
    "ExecuteTime": {
     "end_time": "2024-10-13T09:27:36.110338Z",
     "start_time": "2024-10-13T09:27:36.105355Z"
    }
   },
   "outputs": [],
   "source": [
    "SLR_model.decode_onehot2d(predictions)"
   ]
  },
  {
   "cell_type": "code",
   "execution_count": null,
   "metadata": {
    "ExecuteTime": {
     "end_time": "2024-10-13T09:02:50.133710Z",
     "start_time": "2024-10-13T09:02:50.129204Z"
    }
   },
   "outputs": [],
   "source": [
    "SLR_model.bin2num([1,0,1,1,1,0,1,1,1,0,1,0])"
   ]
  },
  {
   "cell_type": "code",
   "execution_count": null,
   "metadata": {},
   "outputs": [],
   "source": [
    "model.predict"
   ]
  },
  {
   "cell_type": "code",
   "execution_count": null,
   "metadata": {},
   "outputs": [],
   "source": []
  }
 ],
 "metadata": {
  "kernelspec": {
   "display_name": "Python 3 (ipykernel)",
   "language": "python",
   "name": "python3"
  },
  "language_info": {
   "codemirror_mode": {
    "name": "ipython",
    "version": 3
   },
   "file_extension": ".py",
   "mimetype": "text/x-python",
   "name": "python",
   "nbconvert_exporter": "python",
   "pygments_lexer": "ipython3",
   "version": "3.9.20"
  }
 },
 "nbformat": 4,
 "nbformat_minor": 4
}
