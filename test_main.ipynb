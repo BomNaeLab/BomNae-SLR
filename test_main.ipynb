{
 "cells": [
  {
   "cell_type": "code",
   "execution_count": 12,
   "metadata": {
    "ExecuteTime": {
     "end_time": "2024-10-14T05:52:10.588400Z",
     "start_time": "2024-10-14T05:52:10.585400Z"
    }
   },
   "outputs": [],
   "source": [
    "# import preprocess as prep\n",
    "import SLR_model_GRU\n",
    "import os\n",
    "os.environ[\"CUDA_VISIBLE_DEVICES\"] = \"-1\" \n",
    "import importlib\n",
    "import preprocess\n",
    "# model will output multiple(15) results/sec, how are we gonna handle it?"
   ]
  },
  {
   "cell_type": "code",
   "execution_count": 21,
   "metadata": {
    "ExecuteTime": {
     "end_time": "2024-10-14T05:52:12.058404Z",
     "start_time": "2024-10-14T05:52:12.032404Z"
    }
   },
   "outputs": [
    {
     "data": {
      "text/plain": [
       "<module 'preprocess' from '/home/shd/BomNae-SLR/preprocess.py'>"
      ]
     },
     "execution_count": 21,
     "metadata": {},
     "output_type": "execute_result"
    }
   ],
   "source": [
    "importlib.reload(SLR_model_GRU)\n",
    "importlib.reload(preprocess)\n"
   ]
  },
  {
   "cell_type": "code",
   "execution_count": 22,
   "metadata": {
    "ExecuteTime": {
     "end_time": "2024-10-14T05:52:13.285633Z",
     "start_time": "2024-10-14T05:52:13.282633Z"
    }
   },
   "outputs": [],
   "source": [
    "# Configurations\n",
    "model_dir = \"saves_GRU\"\n",
    "THRESHOLD = 0.5\n",
    "# batch_size = 16"
   ]
  },
  {
   "cell_type": "code",
   "execution_count": 23,
   "metadata": {
    "ExecuteTime": {
     "end_time": "2024-10-14T05:52:45.372752Z",
     "start_time": "2024-10-14T05:52:45.336241Z"
    }
   },
   "outputs": [],
   "source": [
    "# 세이브된 모델 로드\n",
    "load_path = os.path.join(model_dir, \"ckpt\",\"11-06-16-50epochs-2times.keras\")\n",
    "model = SLR_model_GRU.load_model(load_path)"
   ]
  },
  {
   "cell_type": "code",
   "execution_count": 24,
   "metadata": {
    "ExecuteTime": {
     "end_time": "2024-10-13T09:26:56.262016Z",
     "start_time": "2024-10-13T09:26:56.256035Z"
    }
   },
   "outputs": [],
   "source": [
    "# load data\n",
    "l_raws=[]\n",
    "r_raws=[]\n",
    "p_raws=[]\n",
    "y_raws=[]\n",
    "person_id = 1\n",
    "# TODO hardcode path\n",
    "# a video\n",
    "for j in sorted(os.listdir(os.path.join(preprocess.getoutputdir(),str(person_id)))):\n",
    "    j=\"0100.npz\"\n",
    "    l_raw, r_raw, p_raw, y_raw ,w= preprocess.load_data(f\"{person_id}/{j}\")\n",
    "    \n",
    "    l_raws.append(l_raw)\n",
    "    r_raws.append(r_raw)\n",
    "    p_raws.append(p_raw)\n",
    "    y_raws.append(y_raw)\n",
    "    break"
   ]
  },
  {
   "cell_type": "code",
   "execution_count": 25,
   "metadata": {
    "ExecuteTime": {
     "end_time": "2024-10-13T09:26:57.766162Z",
     "start_time": "2024-10-13T09:26:57.761177Z"
    }
   },
   "outputs": [
    {
     "data": {
      "text/plain": [
       "[99]"
      ]
     },
     "execution_count": 25,
     "metadata": {},
     "output_type": "execute_result"
    }
   ],
   "source": [
    "y_raws"
   ]
  },
  {
   "cell_type": "code",
   "execution_count": 26,
   "metadata": {
    "ExecuteTime": {
     "end_time": "2024-10-13T09:14:47.086323Z",
     "start_time": "2024-10-13T09:14:47.083333Z"
    }
   },
   "outputs": [],
   "source": [
    "# # dummy x_raw data\n",
    "# l_raws = []\n",
    "# duration_list = []\n",
    "# h_elem = np.zeros(shape=(4,5,3))\n",
    "# # p_elem = np.zeros(shape=(3,10))\n",
    "# # comb_elem = [h_elem, h_elem, p_elem]\n",
    "# x_elem = []\n",
    "# duration = (np.random.randint(90,100))\n",
    "# duration_list.append(duration)\n",
    "# for j in range(duration): # frame size\n",
    "#     x_elem.append(h_elem)\n",
    "#     # x_elem.append(comb_elem)\n",
    "# l_raws.append(x_elem)\n",
    "# r_raws = []\n",
    "# \n",
    "# h_elem = np.zeros(shape=(4,5,3))\n",
    "# # p_elem = np.zeros(shape=(3,10))\n",
    "# # comb_elem = [h_elem, h_elem, p_elem]\n",
    "# x_elem = []\n",
    "# duration = duration_list[0]\n",
    "# for j in range(duration): # frame size\n",
    "#     x_elem.append(h_elem)\n",
    "#     # x_elem.append(comb_elem)\n",
    "# r_raws.append(x_elem)\n",
    "# p_raws = []\n",
    "# \n",
    "# # h_elem = np.zeros(shape=(4,5,3))\n",
    "# p_elem = np.zeros(shape=(3,10))\n",
    "# # comb_elem = [h_elem, h_elem, p_elem]\n",
    "# x_elem = []\n",
    "# duration = duration_list[0]\n",
    "# for j in range(duration): # frame size\n",
    "#     # x_elem.append(h_elem)\n",
    "#     x_elem.append(p_elem)\n",
    "#     # x_elem.append(comb_elem)\n",
    "# p_raws.append(x_elem)"
   ]
  },
  {
   "cell_type": "code",
   "execution_count": 27,
   "metadata": {
    "ExecuteTime": {
     "end_time": "2024-10-13T09:27:02.531524Z",
     "start_time": "2024-10-13T09:27:02.527537Z"
    }
   },
   "outputs": [],
   "source": [
    "l_test, each = SLR_model_GRU.serialize(l_raws)\n",
    "r_test, each = SLR_model_GRU.serialize(r_raws)\n",
    "p_test, each = SLR_model_GRU.serialize(p_raws, stride=2)\n",
    "x_test = (l_test, r_test, p_test)\n",
    "\n",
    "# dataset = SLR_model.convert_to_dataset_single(x_test, batch_size)\n",
    "\n",
    "\n",
    "# with open(hist_path, 'w') as file:\n",
    "#     json.dump(hist.history, file)"
   ]
  },
  {
   "cell_type": "code",
   "execution_count": 28,
   "metadata": {
    "ExecuteTime": {
     "end_time": "2024-10-13T09:27:03.085780Z",
     "start_time": "2024-10-13T09:27:03.080797Z"
    }
   },
   "outputs": [
    {
     "data": {
      "text/plain": [
       "(18, 9, 4, 5, 3)"
      ]
     },
     "execution_count": 28,
     "metadata": {},
     "output_type": "execute_result"
    }
   ],
   "source": [
    "x_test[1].shape"
   ]
  },
  {
   "cell_type": "code",
   "execution_count": 29,
   "metadata": {
    "ExecuteTime": {
     "end_time": "2024-10-13T09:27:26.480770Z",
     "start_time": "2024-10-13T09:27:26.435920Z"
    }
   },
   "outputs": [
    {
     "name": "stdout",
     "output_type": "stream",
     "text": [
      "\u001b[1m1/1\u001b[0m \u001b[32m━━━━━━━━━━━━━━━━━━━━\u001b[0m\u001b[37m\u001b[0m \u001b[1m0s\u001b[0m 200ms/step\n",
      "tf.Tensor(\n",
      "[1898 1898 1898 1898 1898 1898 1898 1898 1898 2732  188 2259 2259 2259\n",
      "   49 1898 1898 1898], shape=(18,), dtype=int64)\n"
     ]
    },
    {
     "name": "stderr",
     "output_type": "stream",
     "text": [
      "W0000 00:00:1730944718.987594    8350 gpu_timer.cc:114] Skipping the delay kernel, measurement accuracy will be reduced\n",
      "W0000 00:00:1730944718.989922    8344 gpu_timer.cc:114] Skipping the delay kernel, measurement accuracy will be reduced\n",
      "W0000 00:00:1730944718.990181    8350 gpu_timer.cc:114] Skipping the delay kernel, measurement accuracy will be reduced\n",
      "W0000 00:00:1730944718.990783    8344 gpu_timer.cc:114] Skipping the delay kernel, measurement accuracy will be reduced\n",
      "W0000 00:00:1730944718.990999    8350 gpu_timer.cc:114] Skipping the delay kernel, measurement accuracy will be reduced\n",
      "W0000 00:00:1730944718.991344    8344 gpu_timer.cc:114] Skipping the delay kernel, measurement accuracy will be reduced\n",
      "W0000 00:00:1730944718.991653    8350 gpu_timer.cc:114] Skipping the delay kernel, measurement accuracy will be reduced\n",
      "W0000 00:00:1730944718.991949    8344 gpu_timer.cc:114] Skipping the delay kernel, measurement accuracy will be reduced\n",
      "W0000 00:00:1730944718.992236    8350 gpu_timer.cc:114] Skipping the delay kernel, measurement accuracy will be reduced\n",
      "W0000 00:00:1730944718.992544    8344 gpu_timer.cc:114] Skipping the delay kernel, measurement accuracy will be reduced\n",
      "W0000 00:00:1730944718.992853    8350 gpu_timer.cc:114] Skipping the delay kernel, measurement accuracy will be reduced\n",
      "W0000 00:00:1730944718.993200    8344 gpu_timer.cc:114] Skipping the delay kernel, measurement accuracy will be reduced\n",
      "W0000 00:00:1730944718.993542    8350 gpu_timer.cc:114] Skipping the delay kernel, measurement accuracy will be reduced\n",
      "W0000 00:00:1730944718.993842    8344 gpu_timer.cc:114] Skipping the delay kernel, measurement accuracy will be reduced\n",
      "W0000 00:00:1730944718.994148    8350 gpu_timer.cc:114] Skipping the delay kernel, measurement accuracy will be reduced\n",
      "W0000 00:00:1730944718.994493    8344 gpu_timer.cc:114] Skipping the delay kernel, measurement accuracy will be reduced\n",
      "W0000 00:00:1730944718.994789    8350 gpu_timer.cc:114] Skipping the delay kernel, measurement accuracy will be reduced\n",
      "W0000 00:00:1730944718.995099    8344 gpu_timer.cc:114] Skipping the delay kernel, measurement accuracy will be reduced\n",
      "W0000 00:00:1730944718.995395    8350 gpu_timer.cc:114] Skipping the delay kernel, measurement accuracy will be reduced\n",
      "W0000 00:00:1730944718.995761    8344 gpu_timer.cc:114] Skipping the delay kernel, measurement accuracy will be reduced\n",
      "W0000 00:00:1730944718.995932    8350 gpu_timer.cc:114] Skipping the delay kernel, measurement accuracy will be reduced\n",
      "W0000 00:00:1730944718.996274    8344 gpu_timer.cc:114] Skipping the delay kernel, measurement accuracy will be reduced\n",
      "W0000 00:00:1730944718.996563    8350 gpu_timer.cc:114] Skipping the delay kernel, measurement accuracy will be reduced\n",
      "W0000 00:00:1730944718.996747    8344 gpu_timer.cc:114] Skipping the delay kernel, measurement accuracy will be reduced\n",
      "W0000 00:00:1730944718.997099    8350 gpu_timer.cc:114] Skipping the delay kernel, measurement accuracy will be reduced\n",
      "W0000 00:00:1730944718.997273    8344 gpu_timer.cc:114] Skipping the delay kernel, measurement accuracy will be reduced\n",
      "W0000 00:00:1730944718.997535    8350 gpu_timer.cc:114] Skipping the delay kernel, measurement accuracy will be reduced\n",
      "W0000 00:00:1730944718.997918    8344 gpu_timer.cc:114] Skipping the delay kernel, measurement accuracy will be reduced\n",
      "W0000 00:00:1730944718.998311    8350 gpu_timer.cc:114] Skipping the delay kernel, measurement accuracy will be reduced\n",
      "W0000 00:00:1730944718.998925    8344 gpu_timer.cc:114] Skipping the delay kernel, measurement accuracy will be reduced\n",
      "W0000 00:00:1730944719.001030    8350 gpu_timer.cc:114] Skipping the delay kernel, measurement accuracy will be reduced\n",
      "W0000 00:00:1730944719.002126    8350 gpu_timer.cc:114] Skipping the delay kernel, measurement accuracy will be reduced\n",
      "W0000 00:00:1730944719.002175    8344 gpu_timer.cc:114] Skipping the delay kernel, measurement accuracy will be reduced\n",
      "W0000 00:00:1730944719.002643    8350 gpu_timer.cc:114] Skipping the delay kernel, measurement accuracy will be reduced\n",
      "W0000 00:00:1730944719.002685    8344 gpu_timer.cc:114] Skipping the delay kernel, measurement accuracy will be reduced\n",
      "W0000 00:00:1730944719.003164    8350 gpu_timer.cc:114] Skipping the delay kernel, measurement accuracy will be reduced\n",
      "W0000 00:00:1730944719.003227    8344 gpu_timer.cc:114] Skipping the delay kernel, measurement accuracy will be reduced\n",
      "W0000 00:00:1730944719.003767    8350 gpu_timer.cc:114] Skipping the delay kernel, measurement accuracy will be reduced\n",
      "W0000 00:00:1730944719.003826    8344 gpu_timer.cc:114] Skipping the delay kernel, measurement accuracy will be reduced\n",
      "W0000 00:00:1730944719.004262    8350 gpu_timer.cc:114] Skipping the delay kernel, measurement accuracy will be reduced\n",
      "W0000 00:00:1730944719.004467    8344 gpu_timer.cc:114] Skipping the delay kernel, measurement accuracy will be reduced\n",
      "W0000 00:00:1730944719.004947    8350 gpu_timer.cc:114] Skipping the delay kernel, measurement accuracy will be reduced\n",
      "W0000 00:00:1730944719.005147    8344 gpu_timer.cc:114] Skipping the delay kernel, measurement accuracy will be reduced\n",
      "W0000 00:00:1730944719.005769    8350 gpu_timer.cc:114] Skipping the delay kernel, measurement accuracy will be reduced\n",
      "W0000 00:00:1730944719.005831    8344 gpu_timer.cc:114] Skipping the delay kernel, measurement accuracy will be reduced\n",
      "W0000 00:00:1730944719.006139    8350 gpu_timer.cc:114] Skipping the delay kernel, measurement accuracy will be reduced\n",
      "W0000 00:00:1730944719.006440    8344 gpu_timer.cc:114] Skipping the delay kernel, measurement accuracy will be reduced\n",
      "W0000 00:00:1730944719.007054    8350 gpu_timer.cc:114] Skipping the delay kernel, measurement accuracy will be reduced\n",
      "W0000 00:00:1730944719.007126    8344 gpu_timer.cc:114] Skipping the delay kernel, measurement accuracy will be reduced\n",
      "W0000 00:00:1730944719.007712    8350 gpu_timer.cc:114] Skipping the delay kernel, measurement accuracy will be reduced\n",
      "W0000 00:00:1730944719.007776    8344 gpu_timer.cc:114] Skipping the delay kernel, measurement accuracy will be reduced\n",
      "W0000 00:00:1730944719.008216    8350 gpu_timer.cc:114] Skipping the delay kernel, measurement accuracy will be reduced\n",
      "W0000 00:00:1730944719.008429    8344 gpu_timer.cc:114] Skipping the delay kernel, measurement accuracy will be reduced\n",
      "W0000 00:00:1730944719.008909    8350 gpu_timer.cc:114] Skipping the delay kernel, measurement accuracy will be reduced\n",
      "W0000 00:00:1730944719.009105    8344 gpu_timer.cc:114] Skipping the delay kernel, measurement accuracy will be reduced\n",
      "W0000 00:00:1730944719.009458    8350 gpu_timer.cc:114] Skipping the delay kernel, measurement accuracy will be reduced\n",
      "W0000 00:00:1730944719.009849    8344 gpu_timer.cc:114] Skipping the delay kernel, measurement accuracy will be reduced\n",
      "W0000 00:00:1730944719.010269    8344 gpu_timer.cc:114] Skipping the delay kernel, measurement accuracy will be reduced\n"
     ]
    }
   ],
   "source": [
    "\n",
    "predictions = model.predict(x_test,32)\n",
    "print(SLR_model_GRU.decode_onehot2d(predictions))\n"
   ]
  },
  {
   "cell_type": "code",
   "execution_count": null,
   "metadata": {
    "ExecuteTime": {
     "end_time": "2024-10-13T09:27:27.700980Z",
     "start_time": "2024-10-13T09:27:27.696994Z"
    }
   },
   "outputs": [
    {
     "data": {
      "text/plain": [
       "array([[7.9010423e-16, 3.3546442e-19, 2.8880013e-28, ..., 6.2367728e-19,\n",
       "        4.2299254e-18, 1.5826244e-16],\n",
       "       [1.3019671e-17, 2.2345743e-21, 2.4805354e-28, ..., 7.5384776e-20,\n",
       "        2.5882523e-18, 5.4566355e-18],\n",
       "       [1.9817608e-20, 1.7838993e-23, 4.4732374e-32, ..., 1.6420462e-22,\n",
       "        1.9081687e-20, 6.3201866e-21],\n",
       "       ...,\n",
       "       [4.3076135e-23, 1.4819824e-27, 1.0392310e-33, ..., 3.6207864e-27,\n",
       "        5.4690183e-25, 3.4301395e-23],\n",
       "       [4.0488436e-22, 5.7491828e-25, 7.4267833e-32, ..., 1.9858946e-25,\n",
       "        2.9434539e-22, 5.8357614e-23],\n",
       "       [3.3527245e-23, 1.4266392e-26, 9.7643908e-32, ..., 3.7197943e-27,\n",
       "        7.2161421e-25, 5.1433125e-25]], dtype=float32)"
      ]
     },
     "execution_count": 13,
     "metadata": {},
     "output_type": "execute_result"
    }
   ],
   "source": [
    "predictions"
   ]
  },
  {
   "cell_type": "code",
   "execution_count": null,
   "metadata": {
    "ExecuteTime": {
     "end_time": "2024-10-13T09:27:29.695787Z",
     "start_time": "2024-10-13T09:27:29.690804Z"
    }
   },
   "outputs": [],
   "source": [
    "# pred_bin = predictions.round().astype(np.int32)\n",
    "# pred_bin"
   ]
  },
  {
   "cell_type": "code",
   "execution_count": null,
   "metadata": {
    "ExecuteTime": {
     "end_time": "2024-10-13T09:27:32.362827Z",
     "start_time": "2024-10-13T09:27:32.342391Z"
    }
   },
   "outputs": [
    {
     "data": {
      "text/plain": [
       "<module 'SLR_model' from '/home/shd/BomNae-SLR/SLR_model.py'>"
      ]
     },
     "execution_count": 15,
     "metadata": {},
     "output_type": "execute_result"
    }
   ],
   "source": [
    "importlib.reload(SLR_model)"
   ]
  },
  {
   "cell_type": "code",
   "execution_count": null,
   "metadata": {
    "ExecuteTime": {
     "end_time": "2024-10-13T09:27:36.110338Z",
     "start_time": "2024-10-13T09:27:36.105355Z"
    }
   },
   "outputs": [
    {
     "data": {
      "text/plain": [
       "<tf.Tensor: shape=(9,), dtype=int64, numpy=array([1935, 1935, 1891, 1891, 1891, 1935, 1891, 1891, 1935])>"
      ]
     },
     "execution_count": 16,
     "metadata": {},
     "output_type": "execute_result"
    }
   ],
   "source": [
    "SLR_model.decode_onehot2d(predictions)"
   ]
  },
  {
   "cell_type": "code",
   "execution_count": null,
   "metadata": {
    "ExecuteTime": {
     "end_time": "2024-10-13T09:02:50.133710Z",
     "start_time": "2024-10-13T09:02:50.129204Z"
    }
   },
   "outputs": [
    {
     "ename": "AttributeError",
     "evalue": "module 'SLR_model' has no attribute 'bin2num'",
     "output_type": "error",
     "traceback": [
      "\u001b[0;31m---------------------------------------------------------------------------\u001b[0m",
      "\u001b[0;31mAttributeError\u001b[0m                            Traceback (most recent call last)",
      "Cell \u001b[0;32mIn[17], line 1\u001b[0m\n\u001b[0;32m----> 1\u001b[0m \u001b[43mSLR_model\u001b[49m\u001b[38;5;241;43m.\u001b[39;49m\u001b[43mbin2num\u001b[49m([\u001b[38;5;241m1\u001b[39m,\u001b[38;5;241m0\u001b[39m,\u001b[38;5;241m1\u001b[39m,\u001b[38;5;241m1\u001b[39m,\u001b[38;5;241m1\u001b[39m,\u001b[38;5;241m0\u001b[39m,\u001b[38;5;241m1\u001b[39m,\u001b[38;5;241m1\u001b[39m,\u001b[38;5;241m1\u001b[39m,\u001b[38;5;241m0\u001b[39m,\u001b[38;5;241m1\u001b[39m,\u001b[38;5;241m0\u001b[39m])\n",
      "\u001b[0;31mAttributeError\u001b[0m: module 'SLR_model' has no attribute 'bin2num'"
     ]
    }
   ],
   "source": [
    "SLR_model.bin2num([1,0,1,1,1,0,1,1,1,0,1,0])"
   ]
  },
  {
   "cell_type": "code",
   "execution_count": 20,
   "metadata": {},
   "outputs": [
    {
     "data": {
      "text/plain": [
       "<bound method TensorFlowTrainer.predict of <SLRModel name=slr_model_1, built=True>>"
      ]
     },
     "execution_count": 20,
     "metadata": {},
     "output_type": "execute_result"
    }
   ],
   "source": [
    "model.predict"
   ]
  },
  {
   "cell_type": "code",
   "execution_count": null,
   "metadata": {},
   "outputs": [],
   "source": []
  }
 ],
 "metadata": {
  "kernelspec": {
   "display_name": "slr",
   "language": "python",
   "name": "python3"
  },
  "language_info": {
   "codemirror_mode": {
    "name": "ipython",
    "version": 3
   },
   "file_extension": ".py",
   "mimetype": "text/x-python",
   "name": "python",
   "nbconvert_exporter": "python",
   "pygments_lexer": "ipython3",
   "version": "3.9.20"
  }
 },
 "nbformat": 4,
 "nbformat_minor": 4
}
