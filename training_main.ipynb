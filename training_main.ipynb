{
 "cells": [
  {
   "cell_type": "code",
   "execution_count": 44,
   "id": "initial_id",
   "metadata": {
    "collapsed": true
   },
   "outputs": [],
   "source": [
    "# import preprocess as prep\n",
    "import SLR_model\n",
    "import numpy as np\n",
    "from datetime import datetime\n",
    "import os\n",
    "import importlib\n",
    "from matplotlib import pyplot as plt\n",
    "\n",
    "# preprocess / load preprocessed data (preprocess.py)\n",
    "# mini batching\n",
    "\n",
    "# load model(can quickly change model by changing imported model)\n",
    "# train / log\n",
    "# generate checkpoints\n",
    "\n",
    "# this will output 15 results/sec, how are we gonna handle it?"
   ]
  },
  {
   "cell_type": "code",
   "execution_count": 45,
   "id": "6787d32d",
   "metadata": {},
   "outputs": [
    {
     "data": {
      "text/plain": [
       "<module 'SLR_model' from 'd:\\\\Users\\\\jerry.DESKTOP-KQESKMB\\\\Desktop\\\\pyt\\\\sign\\\\git_folder\\\\BomNae-SLR\\\\SLR_model.py'>"
      ]
     },
     "execution_count": 45,
     "metadata": {},
     "output_type": "execute_result"
    }
   ],
   "source": [
    "# reload model file\n",
    "importlib.reload(SLR_model)"
   ]
  },
  {
   "cell_type": "code",
   "execution_count": 2,
   "id": "24152fba",
   "metadata": {},
   "outputs": [],
   "source": [
    "# utility functions\n",
    "\n",
    "def bin2num(bin_arr):\n",
    "    # big endian\n",
    "    # lower index > higher exponent\n",
    "    num = 0\n",
    "    for val in bin_arr:\n",
    "        num = (num << 1) | val\n",
    "    return num\n",
    "\n",
    "# def num2bin(num, arr_len = -1):\n",
    "#     # big endian\n",
    "#     # lower index > higher exponent\n",
    "#     bin_arr = [int(x) for x in bin(num)[2:]]\n",
    "#     diff = arr_len - len(bin_arr)\n",
    "#     if diff < 1:\n",
    "#         return bin_arr\n",
    "#     else:\n",
    "#         pad = [0] * diff\n",
    "#         return pad+bin_arr\n",
    "    \n",
    "def num_arr2bin(num_arr, out_len = -1):\n",
    "    # big endian\n",
    "    # lower index > higher exponent\n",
    "    res = []\n",
    "    for num in num_arr:\n",
    "        str_list = list(np.binary_repr(num).zfill(out_len))\n",
    "        bin_arr = np.array(str_list, dtype=np.float32)\n",
    "        res.append(bin_arr)\n",
    "    return np.array(res)\n",
    "\n",
    "def serialize(vids, stride = 1):\n",
    "    \"\"\"input shape: (load_size, frames)\\n\n",
    "    ouput shape: (load_size, input_seq_size, 63 or 32, frames)\"\"\"\n",
    "    each_size = []\n",
    "    x_res = []\n",
    "    for vid in vids:\n",
    "        window_len = 0\n",
    "        start = 0\n",
    "        while (start + 63) < len(vid):\n",
    "            x_res.append(vid[start: start+63: stride])\n",
    "            window_len += 1\n",
    "            start += 6\n",
    "        each_size.append(window_len)\n",
    "    return np.array(x_res), each_size"
   ]
  },
  {
   "cell_type": "code",
   "execution_count": 33,
   "id": "000d0485",
   "metadata": {},
   "outputs": [],
   "source": [
    "# Configurations\n",
    "load_size = 256 # number of data to be loaded at once\n",
    "epochs = 8\n",
    "batch_size = 16\n",
    "save_dir = \"C:/Users/jerry/Desktop/hly/2024-2/cap/BN_SLR/BomNae-SLR/checkpoints\"\n",
    "load_dir = \"C:/Users/jerry/Desktop/hly/2024-2/cap/BN_SLR/BomNae-SLR/checkpoints\"\n"
   ]
  },
  {
   "cell_type": "code",
   "execution_count": 6,
   "id": "57ebc580",
   "metadata": {},
   "outputs": [
    {
     "data": {
      "text/plain": [
       "array([[1., 0., 1., 0., 0., 0., 0., 1., 0., 0., 0., 1.],\n",
       "       [1., 0., 1., 0., 0., 0., 0., 1., 0., 0., 0., 1.],\n",
       "       [1., 0., 1., 0., 0., 0., 0., 1., 0., 0., 0., 1.],\n",
       "       [0., 0., 0., 1., 0., 0., 1., 1., 1., 0., 0., 0.],\n",
       "       [0., 0., 0., 1., 0., 0., 1., 1., 1., 0., 0., 0.],\n",
       "       [0., 0., 0., 0., 0., 0., 0., 0., 0., 0., 1., 1.],\n",
       "       [0., 0., 0., 0., 0., 0., 0., 0., 0., 0., 1., 1.],\n",
       "       [0., 0., 0., 0., 0., 0., 0., 0., 0., 0., 1., 1.],\n",
       "       [0., 0., 0., 0., 0., 0., 0., 0., 0., 0., 1., 1.],\n",
       "       [0., 0., 0., 0., 0., 0., 0., 0., 0., 0., 1., 1.]], dtype=float32)"
      ]
     },
     "execution_count": 6,
     "metadata": {},
     "output_type": "execute_result"
    }
   ],
   "source": [
    "# l_raw, r_raw, p_raw, y_raw, filePos = perp.load_data(something)"
   ]
  },
  {
   "cell_type": "code",
   "execution_count": 4,
   "id": "5ea9984a",
   "metadata": {},
   "outputs": [],
   "source": [
    "# dummy x_raw data\n",
    "l_raw = []\n",
    "for i in range(load_size):\n",
    "    h_elem = np.zeros(shape=(4,5,3))\n",
    "    # p_elem = np.zeros(shape=(3,10))\n",
    "    # comb_elem = [h_elem, h_elem, p_elem]\n",
    "    x_elem = []\n",
    "    for j in range(np.random.randint(70,71)): # frame size\n",
    "        x_elem.append(h_elem)\n",
    "        # x_elem.append(comb_elem)\n",
    "    l_raw.append(x_elem)\n",
    "r_raw = []\n",
    "for i in range(load_size):\n",
    "    h_elem = np.zeros(shape=(4,5,3))\n",
    "    # p_elem = np.zeros(shape=(3,10))\n",
    "    # comb_elem = [h_elem, h_elem, p_elem]\n",
    "    x_elem = []\n",
    "    for j in range(np.random.randint(70,71)): # frame size\n",
    "        x_elem.append(h_elem)\n",
    "        # x_elem.append(comb_elem)\n",
    "    r_raw.append(x_elem)\n",
    "p_raw = []\n",
    "for i in range(load_size):\n",
    "    # h_elem = np.zeros(shape=(4,5,3))\n",
    "    p_elem = np.zeros(shape=(3,10))\n",
    "    # comb_elem = [h_elem, h_elem, p_elem]\n",
    "    x_elem = []\n",
    "    for j in range(np.random.randint(70,71)): # frame size\n",
    "        # x_elem.append(h_elem)\n",
    "        x_elem.append(p_elem)\n",
    "        # x_elem.append(comb_elem)\n",
    "    p_raw.append(x_elem)\n",
    "\n",
    "# dummy y_raw data\n",
    "y_raw = np.random.randint(0,1024,load_size)"
   ]
  },
  {
   "cell_type": "code",
   "execution_count": 5,
   "id": "014f0ab7",
   "metadata": {},
   "outputs": [],
   "source": [
    "l_train, each = serialize(l_raw)\n",
    "r_train, each = serialize(r_raw)\n",
    "p_train, each = serialize(p_raw, stride=2)\n",
    "y_train = np.repeat(y_raw, each)\n",
    "y_train = num_arr2bin(y_train, 12)"
   ]
  },
  {
   "cell_type": "code",
   "execution_count": 62,
   "id": "a5bfbc39",
   "metadata": {},
   "outputs": [],
   "source": [
    "# dummy data for model testing\n",
    "# hand input shape: (batch, time, h, w, channels)\n",
    "# pose input shape: (batch, time, channel, features)\n",
    "# hand_l_dummy = np.zeros(shape=(load_size, 63, 4, 5, 3))\n",
    "# hand_r_dummy = np.zeros(shape=(load_size, 63, 4, 5, 3))\n",
    "# pose_dummy = np.zeros(shape=(load_size, 32, 3, 10))\n",
    "# x_dummy = (hand_l_dummy, hand_r_dummy, pose_dummy)\n",
    "# y_dummy1 = np.ones(shape=(load_size, 12))\n",
    "# y_dummy0 = np.zeros(shape=(load_size, 12))"
   ]
  },
  {
   "cell_type": "code",
   "execution_count": 6,
   "id": "740740d7",
   "metadata": {},
   "outputs": [],
   "source": [
    "x_train = (l_train, r_train, p_train)\n"
   ]
  },
  {
   "cell_type": "code",
   "execution_count": null,
   "id": "579bacc3",
   "metadata": {},
   "outputs": [],
   "source": [
    "# x_train[0].shape"
   ]
  },
  {
   "cell_type": "code",
   "execution_count": null,
   "id": "0091d38e",
   "metadata": {},
   "outputs": [],
   "source": [
    "# y_train.shape"
   ]
  },
  {
   "cell_type": "code",
   "execution_count": 64,
   "id": "1834ce55",
   "metadata": {},
   "outputs": [],
   "source": [
    "model = SLR_model.get_model()"
   ]
  },
  {
   "cell_type": "code",
   "execution_count": 74,
   "id": "0397a4ab",
   "metadata": {},
   "outputs": [
    {
     "name": "stdout",
     "output_type": "stream",
     "text": [
      "Epoch 1/8\n",
      "\u001b[1m32/32\u001b[0m \u001b[32m━━━━━━━━━━━━━━━━━━━━\u001b[0m\u001b[37m\u001b[0m \u001b[1m0s\u001b[0m 5ms/step - binary_accuracy: 0.5964 - loss: 0.5768\n",
      "Epoch 2/8\n",
      "\u001b[1m32/32\u001b[0m \u001b[32m━━━━━━━━━━━━━━━━━━━━\u001b[0m\u001b[37m\u001b[0m \u001b[1m0s\u001b[0m 5ms/step - binary_accuracy: 0.6045 - loss: 0.5770\n",
      "Epoch 3/8\n",
      "\u001b[1m32/32\u001b[0m \u001b[32m━━━━━━━━━━━━━━━━━━━━\u001b[0m\u001b[37m\u001b[0m \u001b[1m0s\u001b[0m 6ms/step - binary_accuracy: 0.5893 - loss: 0.5775\n",
      "Epoch 4/8\n",
      "\u001b[1m32/32\u001b[0m \u001b[32m━━━━━━━━━━━━━━━━━━━━\u001b[0m\u001b[37m\u001b[0m \u001b[1m0s\u001b[0m 5ms/step - binary_accuracy: 0.5995 - loss: 0.5769\n",
      "Epoch 5/8\n",
      "\u001b[1m32/32\u001b[0m \u001b[32m━━━━━━━━━━━━━━━━━━━━\u001b[0m\u001b[37m\u001b[0m \u001b[1m0s\u001b[0m 6ms/step - binary_accuracy: 0.5947 - loss: 0.5775\n",
      "Epoch 6/8\n",
      "\u001b[1m32/32\u001b[0m \u001b[32m━━━━━━━━━━━━━━━━━━━━\u001b[0m\u001b[37m\u001b[0m \u001b[1m0s\u001b[0m 5ms/step - binary_accuracy: 0.5833 - loss: 0.5782\n",
      "Epoch 7/8\n",
      "\u001b[1m32/32\u001b[0m \u001b[32m━━━━━━━━━━━━━━━━━━━━\u001b[0m\u001b[37m\u001b[0m \u001b[1m0s\u001b[0m 5ms/step - binary_accuracy: 0.6005 - loss: 0.5774\n",
      "Epoch 8/8\n",
      "\u001b[1m32/32\u001b[0m \u001b[32m━━━━━━━━━━━━━━━━━━━━\u001b[0m\u001b[37m\u001b[0m \u001b[1m0s\u001b[0m 5ms/step - binary_accuracy: 0.5909 - loss: 0.5775\n"
     ]
    }
   ],
   "source": [
    "hist = model.fit(x_train, y_train, epochs=epochs, batch_size= batch_size)"
   ]
  },
  {
   "cell_type": "code",
   "execution_count": 68,
   "id": "14bad08f",
   "metadata": {},
   "outputs": [
    {
     "data": {
      "image/png": "[encoded data removed]",
      "text/plain": [
       "<Figure size 640x480 with 1 Axes>"
      ]
     },
     "metadata": {},
     "output_type": "display_data"
    }
   ],
   "source": [
    "plt.plot(range(len(hist.history['loss'])), hist.history['loss'])\n",
    "plt.scatter(range(len(hist.history['loss'])), hist.history['loss'])\n",
    "plt.xlabel(\"epochs\")\n",
    "plt.ylabel(\"loss\")\n",
    "plt.legend([\"loss\"])\n",
    "plt.ylim((0,1))\n",
    "plt.show()"
   ]
  },
  {
   "cell_type": "code",
   "execution_count": 78,
   "id": "3c35d6ad",
   "metadata": {},
   "outputs": [],
   "source": [
    "importlib.reload(SLR_model)\n",
    "model = SLR_model.get_model()"
   ]
  },
  {
   "cell_type": "code",
   "execution_count": 24,
   "id": "76aeaa74",
   "metadata": {},
   "outputs": [],
   "source": [
    "# pred = model.predict(x_dummy, batch_size=1)"
   ]
  },
  {
   "cell_type": "code",
   "execution_count": 79,
   "id": "940f7096",
   "metadata": {},
   "outputs": [
    {
     "name": "stdout",
     "output_type": "stream",
     "text": [
      "\u001b[1m32/32\u001b[0m \u001b[32m━━━━━━━━━━━━━━━━━━━━\u001b[0m\u001b[37m\u001b[0m \u001b[1m2s\u001b[0m 3ms/step - binary_accuracy: 0.5849 - loss: 0.6931\n"
     ]
    }
   ],
   "source": [
    "eval_res = model.evaluate(x_train, y_train, batch_size= batch_size)"
   ]
  },
  {
   "cell_type": "code",
   "execution_count": 80,
   "id": "0140aa7d",
   "metadata": {},
   "outputs": [
    {
     "name": "stdout",
     "output_type": "stream",
     "text": [
      "[0.6931474804878235, 0.5856119990348816]\n"
     ]
    }
   ],
   "source": [
    "print(eval_res)"
   ]
  },
  {
   "cell_type": "code",
   "execution_count": 84,
   "id": "c47fff4c",
   "metadata": {},
   "outputs": [
    {
     "data": {
      "text/plain": [
       "['loss', 'compile_metrics']"
      ]
     },
     "execution_count": 84,
     "metadata": {},
     "output_type": "execute_result"
    }
   ],
   "source": [
    "model.metrics_names"
   ]
  },
  {
   "cell_type": "code",
   "execution_count": 48,
   "id": "335022c6",
   "metadata": {},
   "outputs": [
    {
     "data": {
      "text/plain": [
       "array([0.99877626, 0.9979128 , 0.9985296 , 0.9986358 , 0.9960804 ,\n",
       "       0.995518  , 0.9969029 , 0.9925207 , 0.99776715, 0.9995015 ,\n",
       "       0.996898  , 0.9965179 ], dtype=float32)"
      ]
     },
     "execution_count": 48,
     "metadata": {},
     "output_type": "execute_result"
    }
   ],
   "source": [
    "pred[0]"
   ]
  },
  {
   "cell_type": "code",
   "execution_count": 13,
   "id": "87506a31",
   "metadata": {},
   "outputs": [],
   "source": [
    "save_name = \"asdf_test.keras\"\n",
    "save_path = os.path.join(save_dir, save_name)"
   ]
  },
  {
   "cell_type": "code",
   "execution_count": 35,
   "id": "a120d651",
   "metadata": {},
   "outputs": [],
   "source": [
    "model.save_model(save_path)"
   ]
  },
  {
   "cell_type": "code",
   "execution_count": 46,
   "id": "126a721e",
   "metadata": {},
   "outputs": [
    {
     "name": "stdout",
     "output_type": "stream",
     "text": [
      "Restored from C:/Users/jerry/Desktop/hly/2024-2/cap/BN_SLR/BomNae-SLR/checkpoints\\asdf_test.keras\\ckpt-1\n"
     ]
    }
   ],
   "source": [
    "model.load_model(save_path)"
   ]
  }
 ],
 "metadata": {
  "kernelspec": {
   "display_name": "bn_slr",
   "language": "python",
   "name": "python3"
  },
  "language_info": {
   "codemirror_mode": {
    "name": "ipython",
    "version": 3
   },
   "file_extension": ".py",
   "mimetype": "text/x-python",
   "name": "python",
   "nbconvert_exporter": "python",
   "pygments_lexer": "ipython3",
   "version": "3.9.19"
  }
 },
 "nbformat": 4,
 "nbformat_minor": 5
}
