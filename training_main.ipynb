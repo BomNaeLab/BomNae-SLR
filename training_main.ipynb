{
 "cells": [
  {
   "cell_type": "code",
   "execution_count": 3,
   "id": "initial_id",
   "metadata": {
    "collapsed": true
   },
   "outputs": [],
   "source": [
    "# import preprocess as prep\n",
    "import model\n",
    "import numpy as np\n",
    "from datetime import datetime\n",
    "import os\n",
    "import importlib\n",
    "\n",
    "# preprocess / load preprocessed data (preprocess.py)\n",
    "# mini batching\n",
    "\n",
    "# load model(can quickly change model by changing imported model)\n",
    "# train / log\n",
    "# generate checkpoints\n",
    "\n",
    "# this will output 15 results/sec, how are we gonna handle it?"
   ]
  },
  {
   "cell_type": "code",
   "execution_count": 43,
   "id": "6787d32d",
   "metadata": {},
   "outputs": [
    {
     "data": {
      "text/plain": [
       "<module 'model' from 'c:\\\\Users\\\\jerry\\\\Desktop\\\\hly\\\\2024-2\\\\cap\\\\BN_SLR\\\\BomNae-SLR\\\\model.py'>"
      ]
     },
     "execution_count": 43,
     "metadata": {},
     "output_type": "execute_result"
    }
   ],
   "source": [
    "importlib.reload(model)"
   ]
  },
  {
   "cell_type": "code",
   "execution_count": 80,
   "id": "24152fba",
   "metadata": {},
   "outputs": [],
   "source": [
    "# utility functions\n",
    "\n",
    "def bin2num(bin_arr):\n",
    "    # big endian\n",
    "    # lower index > higher exponent\n",
    "    num = 0\n",
    "    for val in bin_arr:\n",
    "        num = (num << 1) | val\n",
    "    return num\n",
    "\n",
    "def num2bin(num, arr_len = -1):\n",
    "    # big endian\n",
    "    # lower index > higher exponent\n",
    "    bin_arr = [int(x) for x in bin(num)[2:]]\n",
    "    diff = arr_len - len(bin_arr)\n",
    "    if diff < 1:\n",
    "        return bin_arr\n",
    "    else:\n",
    "        pad = [0] * diff\n",
    "        return pad+bin_arr"
   ]
  },
  {
   "cell_type": "code",
   "execution_count": 161,
   "id": "b110c248",
   "metadata": {},
   "outputs": [],
   "source": [
    "def num_arr2bin(num_arr, out_len = -1):\n",
    "    # big endian\n",
    "    # lower index > higher exponent\n",
    "    res = []\n",
    "    for num in num_arr:\n",
    "        str_list = list(np.binary_repr(num).zfill(out_len))\n",
    "        bin_arr = np.array(str_list, dtype=np.float32)\n",
    "        res.append(bin_arr)\n",
    "    return np.array(res)"
   ]
  },
  {
   "cell_type": "code",
   "execution_count": 129,
   "id": "000d0485",
   "metadata": {},
   "outputs": [],
   "source": [
    "# Configurations\n",
    "load_size = 4 # number of data to be loaded at once\n",
    "epochs = 8\n",
    "save_dir = \"C:/Users/jerry/Desktop/hly/2024-2/cap/BN_SLR/BomNae-SLR/checkpoints\"\n",
    "load_dir = \"C:/Users/jerry/Desktop/hly/2024-2/cap/BN_SLR/BomNae-SLR/checkpoints\"\n"
   ]
  },
  {
   "cell_type": "code",
   "execution_count": 1,
   "id": "57ebc580",
   "metadata": {},
   "outputs": [
    {
     "ename": "NameError",
     "evalue": "name 'np' is not defined",
     "output_type": "error",
     "traceback": [
      "\u001b[1;31m---------------------------------------------------------------------------\u001b[0m",
      "\u001b[1;31mNameError\u001b[0m                                 Traceback (most recent call last)",
      "Cell \u001b[1;32mIn[1], line 4\u001b[0m\n\u001b[0;32m      1\u001b[0m \u001b[38;5;66;03m# x_train, y_raw = perp.load_data(something)\u001b[39;00m\n\u001b[0;32m      2\u001b[0m \u001b[38;5;66;03m# y would be word number (index) for each x input\u001b[39;00m\n\u001b[0;32m      3\u001b[0m \u001b[38;5;66;03m# example proof of concept\u001b[39;00m\n\u001b[1;32m----> 4\u001b[0m y_raw \u001b[38;5;241m=\u001b[39m \u001b[43mnp\u001b[49m\u001b[38;5;241m.\u001b[39marray([\u001b[38;5;241m2577\u001b[39m, \u001b[38;5;241m2577\u001b[39m, \u001b[38;5;241m2577\u001b[39m,  \u001b[38;5;241m312\u001b[39m,\u001b[38;5;241m312\u001b[39m, \u001b[38;5;241m3\u001b[39m, \u001b[38;5;241m3\u001b[39m, \u001b[38;5;241m3\u001b[39m, \u001b[38;5;241m3\u001b[39m, \u001b[38;5;241m3\u001b[39m])\n\u001b[0;32m      5\u001b[0m y_train \u001b[38;5;241m=\u001b[39m num_arr2bin(y_raw, \u001b[38;5;241m12\u001b[39m)\n\u001b[0;32m      6\u001b[0m y_train\n",
      "\u001b[1;31mNameError\u001b[0m: name 'np' is not defined"
     ]
    }
   ],
   "source": [
    "# x_raw, y_raw = perp.load_data(something)\n",
    "# x_raw is load_size number of full videos (array of frames)\n",
    "# y_raw is a label\n",
    "# y would be word number (index) for each x input\n",
    "# example proof of concept\n",
    "y_raw = np.array([2577, 2577, 2577,  312,312, 3, 3, 3, 3, 3])\n",
    "y_train = num_arr2bin(y_raw, 12)\n",
    "y_train"
   ]
  },
  {
   "cell_type": "code",
   "execution_count": 153,
   "id": "5ea9984a",
   "metadata": {},
   "outputs": [],
   "source": [
    "# dummy x_raw data\n",
    "x_raw = []\n",
    "for i in range(load_size):\n",
    "    h_elem = np.zeros(shape=(4,5,3))\n",
    "    # p_elem = np.zeros(shape=(3,10))\n",
    "    # comb_elem = [h_elem, h_elem, p_elem]\n",
    "    x_elem = []\n",
    "    for j in range(np.random.randint(70,71)): # frame size\n",
    "        x_elem.append(h_elem)\n",
    "        # x_elem.append(comb_elem)\n",
    "    x_raw.append(x_elem)\n",
    "\n",
    "# dummy y_raw data\n",
    "y_raw = np.random.randint(0,1024,load_size)"
   ]
  },
  {
   "cell_type": "code",
   "execution_count": 154,
   "id": "74065aeb",
   "metadata": {},
   "outputs": [],
   "source": [
    "def serialize(vids, stride = 1):\n",
    "    \"\"\"input shape: (load_size, frames)\n",
    "    ouput shape: (load_size, input_seq_size, 63 or 32, frames)\"\"\"\n",
    "    each_size = []\n",
    "    x_res = []\n",
    "    for vid in vids:\n",
    "        window_len = 0\n",
    "        start = 0\n",
    "        while (start + 63) < len(vid):\n",
    "            x_res.append(vid[start: start+63: stride])\n",
    "            window_len += 1\n",
    "            start += 6\n",
    "        each_size.append(window_len)\n",
    "    return x_res, each_size"
   ]
  },
  {
   "cell_type": "code",
   "execution_count": 166,
   "id": "014f0ab7",
   "metadata": {},
   "outputs": [],
   "source": [
    "x_train, each = serialize(x_raw)\n",
    "y_mid = np.repeat(y_raw, each)\n"
   ]
  },
  {
   "cell_type": "code",
   "execution_count": 139,
   "id": "c84df7e7",
   "metadata": {},
   "outputs": [
    {
     "data": {
      "text/plain": [
       "(4, 2, 63, 4, 5, 3)"
      ]
     },
     "execution_count": 139,
     "metadata": {},
     "output_type": "execute_result"
    }
   ],
   "source": [
    "np.array(x_train).shape"
   ]
  },
  {
   "cell_type": "code",
   "execution_count": 156,
   "id": "005fdee1",
   "metadata": {},
   "outputs": [
    {
     "data": {
      "text/plain": [
       "(8, 63, 4, 5, 3)"
      ]
     },
     "execution_count": 156,
     "metadata": {},
     "output_type": "execute_result"
    }
   ],
   "source": [
    "np.array(x_train).shape"
   ]
  },
  {
   "cell_type": "code",
   "execution_count": 157,
   "id": "100c5998",
   "metadata": {},
   "outputs": [
    {
     "data": {
      "text/plain": [
       "[2, 2, 2, 2]"
      ]
     },
     "execution_count": 157,
     "metadata": {},
     "output_type": "execute_result"
    }
   ],
   "source": [
    "each"
   ]
  },
  {
   "cell_type": "code",
   "execution_count": 159,
   "id": "48650295",
   "metadata": {},
   "outputs": [
    {
     "data": {
      "text/plain": [
       "array([ 144,  144, 1011, 1011,  257,  257,  596,  596])"
      ]
     },
     "execution_count": 159,
     "metadata": {},
     "output_type": "execute_result"
    }
   ],
   "source": [
    "y_mid"
   ]
  },
  {
   "cell_type": "code",
   "execution_count": 167,
   "id": "6c5fe5be",
   "metadata": {},
   "outputs": [
    {
     "data": {
      "text/plain": [
       "array([[0., 0., 0., 0., 1., 0., 0., 1., 0., 0., 0., 0.],\n",
       "       [0., 0., 0., 0., 1., 0., 0., 1., 0., 0., 0., 0.],\n",
       "       [0., 0., 1., 1., 1., 1., 1., 1., 0., 0., 1., 1.],\n",
       "       [0., 0., 1., 1., 1., 1., 1., 1., 0., 0., 1., 1.],\n",
       "       [0., 0., 0., 1., 0., 0., 0., 0., 0., 0., 0., 1.],\n",
       "       [0., 0., 0., 1., 0., 0., 0., 0., 0., 0., 0., 1.],\n",
       "       [0., 0., 1., 0., 0., 1., 0., 1., 0., 1., 0., 0.],\n",
       "       [0., 0., 1., 0., 0., 1., 0., 1., 0., 1., 0., 0.]], dtype=float32)"
      ]
     },
     "execution_count": 167,
     "metadata": {},
     "output_type": "execute_result"
    }
   ],
   "source": [
    "num_arr2bin(y_mid, 12)"
   ]
  },
  {
   "cell_type": "code",
   "execution_count": 200,
   "id": "7a547f4d",
   "metadata": {},
   "outputs": [
    {
     "data": {
      "text/plain": [
       "(10, 12)"
      ]
     },
     "execution_count": 200,
     "metadata": {},
     "output_type": "execute_result"
    }
   ],
   "source": [
    "y_train.shape"
   ]
  },
  {
   "cell_type": "code",
   "execution_count": 4,
   "id": "a5bfbc39",
   "metadata": {},
   "outputs": [],
   "source": [
    "# dummy data for model testing\n",
    "# hand input shape: (batch, time, h, w, channels)\n",
    "# pose input shape: (batch, time, channel, features)\n",
    "hand_l_dummy = np.zeros(shape=(256, 63, 4, 5, 3))\n",
    "hand_r_dummy = np.zeros(shape=(256, 63, 4, 5, 3))\n",
    "pose_dummy = np.zeros(shape=(256, 32, 3, 10))\n",
    "x_dummy = (hand_l_dummy, hand_r_dummy, pose_dummy)"
   ]
  },
  {
   "cell_type": "code",
   "execution_count": 5,
   "id": "51a4a345",
   "metadata": {},
   "outputs": [
    {
     "data": {
      "text/plain": [
       "(256, 32, 3, 10)"
      ]
     },
     "execution_count": 5,
     "metadata": {},
     "output_type": "execute_result"
    }
   ],
   "source": [
    "x_dummy[2].shape"
   ]
  },
  {
   "cell_type": "code",
   "execution_count": 6,
   "id": "0d18b064",
   "metadata": {},
   "outputs": [],
   "source": [
    "y_dummy1 = np.ones(shape=(256, 12))"
   ]
  },
  {
   "cell_type": "code",
   "execution_count": 7,
   "id": "1a7a5ad1",
   "metadata": {},
   "outputs": [],
   "source": [
    "y_dummy0 = np.zeros(shape=(256, 12))"
   ]
  },
  {
   "cell_type": "code",
   "execution_count": 40,
   "id": "2c2723cf",
   "metadata": {},
   "outputs": [],
   "source": [
    "model.reinit_model()"
   ]
  },
  {
   "cell_type": "code",
   "execution_count": 32,
   "id": "0397a4ab",
   "metadata": {},
   "outputs": [
    {
     "name": "stdout",
     "output_type": "stream",
     "text": [
      "Epoch 1/8\n",
      "16/16 [==============================] - 0s 11ms/step - loss: 0.0238\n",
      "Epoch 2/8\n",
      "16/16 [==============================] - 0s 10ms/step - loss: 0.0147\n",
      "Epoch 3/8\n",
      "16/16 [==============================] - 0s 12ms/step - loss: 0.0101\n",
      "Epoch 4/8\n",
      "16/16 [==============================] - 0s 13ms/step - loss: 0.0074\n",
      "Epoch 5/8\n",
      "16/16 [==============================] - 0s 15ms/step - loss: 0.0057\n",
      "Epoch 6/8\n",
      "16/16 [==============================] - 0s 9ms/step - loss: 0.0046\n",
      "Epoch 7/8\n",
      "16/16 [==============================] - 0s 11ms/step - loss: 0.0038\n",
      "Epoch 8/8\n",
      "16/16 [==============================] - 0s 12ms/step - loss: 0.0031\n"
     ]
    },
    {
     "data": {
      "text/plain": [
       "<keras.callbacks.History at 0x1ca921d8708>"
      ]
     },
     "execution_count": 32,
     "metadata": {},
     "output_type": "execute_result"
    }
   ],
   "source": [
    "model.train(x_dummy, y_dummy1, 8)"
   ]
  },
  {
   "cell_type": "code",
   "execution_count": 47,
   "id": "76aeaa74",
   "metadata": {},
   "outputs": [
    {
     "name": "stdout",
     "output_type": "stream",
     "text": [
      "8/8 [==============================] - 0s 6ms/step\n"
     ]
    }
   ],
   "source": [
    "pred = model.predict(x_dummy)"
   ]
  },
  {
   "cell_type": "code",
   "execution_count": 48,
   "id": "335022c6",
   "metadata": {},
   "outputs": [
    {
     "data": {
      "text/plain": [
       "array([0.99877626, 0.9979128 , 0.9985296 , 0.9986358 , 0.9960804 ,\n",
       "       0.995518  , 0.9969029 , 0.9925207 , 0.99776715, 0.9995015 ,\n",
       "       0.996898  , 0.9965179 ], dtype=float32)"
      ]
     },
     "execution_count": 48,
     "metadata": {},
     "output_type": "execute_result"
    }
   ],
   "source": [
    "pred[0]"
   ]
  },
  {
   "cell_type": "code",
   "execution_count": 13,
   "id": "87506a31",
   "metadata": {},
   "outputs": [],
   "source": [
    "save_name = \"asdf_test.keras\"\n",
    "save_path = os.path.join(save_dir, save_name)"
   ]
  },
  {
   "cell_type": "code",
   "execution_count": 35,
   "id": "a120d651",
   "metadata": {},
   "outputs": [],
   "source": [
    "model.save_model(save_path)"
   ]
  },
  {
   "cell_type": "code",
   "execution_count": 46,
   "id": "126a721e",
   "metadata": {},
   "outputs": [
    {
     "name": "stdout",
     "output_type": "stream",
     "text": [
      "Restored from C:/Users/jerry/Desktop/hly/2024-2/cap/BN_SLR/BomNae-SLR/checkpoints\\asdf_test.keras\\ckpt-1\n"
     ]
    }
   ],
   "source": [
    "model.load_model(save_path)"
   ]
  }
 ],
 "metadata": {
  "kernelspec": {
   "display_name": "Python 3",
   "language": "python",
   "name": "python3"
  },
  "language_info": {
   "codemirror_mode": {
    "name": "ipython",
    "version": 3
   },
   "file_extension": ".py",
   "mimetype": "text/x-python",
   "name": "python",
   "nbconvert_exporter": "python",
   "pygments_lexer": "ipython3",
   "version": "3.9.19"
  }
 },
 "nbformat": 4,
 "nbformat_minor": 5
}
