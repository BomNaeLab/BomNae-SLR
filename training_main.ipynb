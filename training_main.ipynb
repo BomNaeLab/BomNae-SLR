{
 "cells": [
  {
   "cell_type": "code",
   "id": "initial_id",
   "metadata": {
    "collapsed": true,
    "ExecuteTime": {
     "end_time": "2024-10-08T04:52:15.895996Z",
     "start_time": "2024-10-08T04:52:15.889996Z"
    }
   },
   "source": [
    "# import preprocess as prep\n",
    "import SLR_model\n",
    "import numpy as np\n",
    "import tensorflow as tf\n",
    "from tensorflow import keras\n",
    "import time\n",
    "import os\n",
    "import json\n",
    "import importlib\n",
    "from matplotlib import pyplot as plt\n",
    "import preprocess\n",
    "\n",
    "# model will output multiple(15) results/sec, how are we gonna handle it?"
   ],
   "outputs": [],
   "execution_count": 4
  },
  {
   "cell_type": "code",
   "id": "6787d32d",
   "metadata": {
    "ExecuteTime": {
     "end_time": "2024-10-08T05:21:18.782559Z",
     "start_time": "2024-10-08T05:21:18.766559Z"
    }
   },
   "source": [
    " # reload model file\n",
    "importlib.reload(SLR_model)\n",
    "importlib.reload(preprocess)"
   ],
   "outputs": [
    {
     "data": {
      "text/plain": [
       "<module 'preprocess' from 'C:\\\\Users\\\\shd\\\\Documents\\\\capstone\\\\BomNae-SLR\\\\preprocess.py'>"
      ]
     },
     "execution_count": 16,
     "metadata": {},
     "output_type": "execute_result"
    }
   ],
   "execution_count": 16
  },
  {
   "cell_type": "code",
   "id": "24152fba",
   "metadata": {
    "ExecuteTime": {
     "end_time": "2024-10-08T04:52:18.976039Z",
     "start_time": "2024-10-08T04:52:18.970038Z"
    }
   },
   "source": [
    "# utility functions\n",
    "\n",
    "def bin2num(bin_arr):\n",
    "    # big endian\n",
    "    # lower index > higher exponent\n",
    "    num = 0\n",
    "    for val in bin_arr:\n",
    "        num = (num << 1) | val\n",
    "    return num\n",
    "\n",
    "# def num2bin(num, arr_len = -1):\n",
    "#     # big endian\n",
    "#     # lower index > higher exponent\n",
    "#     bin_arr = [int(x) for x in bin(num)[2:]]\n",
    "#     diff = arr_len - len(bin_arr)\n",
    "#     if diff < 1:\n",
    "#         return bin_arr\n",
    "#     else:\n",
    "#         pad = [0] * diff\n",
    "#         return pad+bin_arr\n",
    "    \n",
    "def num_arr2bin(num_arr, out_len = -1):\n",
    "    # big endian\n",
    "    # lower index > higher exponent\n",
    "    res = []\n",
    "    for num in num_arr:\n",
    "        str_list = list(np.binary_repr(num).zfill(out_len))\n",
    "        bin_arr = np.array(str_list, dtype=np.float32)\n",
    "        res.append(bin_arr)\n",
    "    return np.array(res)\n",
    "\n",
    "def serialize(vids, stride = 1):\n",
    "    \"\"\"input shape: (load_size, frames)\\n\n",
    "    ouput shape: (load_size, input_seq_size, 63 or 32, frames)\"\"\"\n",
    "    each_size = []\n",
    "    x_res = []\n",
    "    for vid in vids:\n",
    "        window_len = 0\n",
    "        start = 0\n",
    "        while (start + 63) < len(vid):\n",
    "            x_res.append(vid[start: start+63: stride])\n",
    "            window_len += 1\n",
    "            start += 6\n",
    "        each_size.append(window_len)\n",
    "    return np.array(x_res), each_size"
   ],
   "outputs": [],
   "execution_count": 6
  },
  {
   "cell_type": "code",
   "id": "000d0485",
   "metadata": {
    "ExecuteTime": {
     "end_time": "2024-10-08T04:52:19.988055Z",
     "start_time": "2024-10-08T04:52:19.986055Z"
    }
   },
   "source": [
    "# Configurations\n",
    "load_size = 256 # number of data to be loaded at once\n",
    "epochs = 10\n",
    "batch_size = 16\n",
    "save_dir = \"saves\"\n",
    "load_dir = \"saves\"\n",
    "# load_path = \"C:/Users/jerry/Desktop/hly/2024-2/cap/BN_SLR/BomNae-SLR/checkpoints.keras\"\n"
   ],
   "outputs": [],
   "execution_count": 7
  },
  {
   "cell_type": "code",
   "id": "5ea9984a",
   "metadata": {
    "ExecuteTime": {
     "end_time": "2024-10-08T02:40:20.974585Z",
     "start_time": "2024-10-08T02:40:20.970584Z"
    }
   },
   "source": [
    "# # dummy x_raw data\n",
    "# l_raw = []\n",
    "# duration_list = []\n",
    "# for i in range(load_size):\n",
    "#     h_elem = np.zeros(shape=(4,5,3))\n",
    "#     # p_elem = np.zeros(shape=(3,10))\n",
    "#     # comb_elem = [h_elem, h_elem, p_elem]\n",
    "#     x_elem = []\n",
    "#     duration = (np.random.randint(70,91))\n",
    "#     duration_list.append(duration)\n",
    "#     for j in range(duration): # frame size\n",
    "#         x_elem.append(h_elem)\n",
    "#         # x_elem.append(comb_elem)\n",
    "#     l_raw.append(x_elem)\n",
    "# r_raw = []\n",
    "# for i in range(load_size):\n",
    "#     h_elem = np.zeros(shape=(4,5,3))\n",
    "#     # p_elem = np.zeros(shape=(3,10))\n",
    "#     # comb_elem = [h_elem, h_elem, p_elem]\n",
    "#     x_elem = []\n",
    "#     duration = duration_list[i]\n",
    "#     for j in range(duration): # frame size\n",
    "#         x_elem.append(h_elem)\n",
    "#         # x_elem.append(comb_elem)\n",
    "#     r_raw.append(x_elem)\n",
    "# p_raw = []\n",
    "# for i in range(load_size):\n",
    "#     # h_elem = np.zeros(shape=(4,5,3))\n",
    "#     p_elem = np.zeros(shape=(3,10))\n",
    "#     # comb_elem = [h_elem, h_elem, p_elem]\n",
    "#     x_elem = []\n",
    "#     duration = duration_list[i]\n",
    "#     for j in range(duration): # frame size\n",
    "#         # x_elem.append(h_elem)\n",
    "#         x_elem.append(p_elem)\n",
    "#         # x_elem.append(comb_elem)\n",
    "#     p_raw.append(x_elem)\n",
    "\n",
    "# # dummy y_raw data\n",
    "# # y_raw = np.random.randint(0,1024,load_size)\n",
    "# y_raw = np.zeros(shape=(load_size,), dtype=np.int32)"
   ],
   "outputs": [],
   "execution_count": 19
  },
  {
   "cell_type": "code",
   "id": "57ebc580",
   "metadata": {
    "ExecuteTime": {
     "end_time": "2024-10-08T04:54:07.577509Z",
     "start_time": "2024-10-08T04:54:07.464509Z"
    }
   },
   "source": [
    "l_raw, r_raw, p_raw, y_raw ,check_raw= preprocess.load_word(1,1,load_size)"
   ],
   "outputs": [],
   "execution_count": 12
  },
  {
   "cell_type": "code",
   "id": "014f0ab7",
   "metadata": {
    "ExecuteTime": {
     "end_time": "2024-10-08T02:40:22.823585Z",
     "start_time": "2024-10-08T02:40:22.785585Z"
    }
   },
   "source": [
    "l_train, each = serialize(l_raw)\n",
    "r_train, each = serialize(r_raw)\n",
    "p_train, each = serialize(p_raw, stride=2)\n",
    "y_train = np.repeat(y_raw, each)\n",
    "y_train = num_arr2bin(y_train, 12)"
   ],
   "outputs": [],
   "execution_count": 21
  },
  {
   "metadata": {
    "ExecuteTime": {
     "end_time": "2024-10-08T04:54:15.926197Z",
     "start_time": "2024-10-08T04:54:15.918198Z"
    }
   },
   "cell_type": "code",
   "source": "print(check_raw)",
   "id": "8a50990ec3162a4c",
   "outputs": [
    {
     "name": "stdout",
     "output_type": "stream",
     "text": [
      "[array(['1', '고민'], dtype='<U11'), array(['1', '뻔뻔'], dtype='<U11'), array(['1', '수어'], dtype='<U11'), array(['1', '남아'], dtype='<U11'), array(['1', '눈'], dtype='<U11'), array(['1', '독신'], dtype='<U11'), array(['1', '음료수'], dtype='<U11'), array(['1', '발가락'], dtype='<U11'), array(['1', '슬프다'], dtype='<U11'), array(['1', '자극'], dtype='<U11'), array(['1', '안타깝다'], dtype='<U11'), array(['1', '어색하다'], dtype='<U11'), array(['1', '여아'], dtype='<U11'), array(['1', '외국인'], dtype='<U11'), array(['1', '영아'], dtype='<U11'), array(['1', '신사'], dtype='<U11'), array(['1', '뉴질랜드'], dtype='<U11'), array(['1', '나사렛대학교'], dtype='<U11'), array(['1', '알아서'], dtype='<U11'), array(['1', '장애인'], dtype='<U11'), array(['1', '열아홉번째'], dtype='<U11'), array(['1', '침착'], dtype='<U11'), array(['1', '성실'], dtype='<U11'), array(['1', '학교연혁'], dtype='<U11'), array(['1', '싫어하다'], dtype='<U11'), array(['1', '급하다'], dtype='<U11'), array(['1', '필기시험'], dtype='<U11'), array(['1', '병문안'], dtype='<U11'), array(['1', '검사'], dtype='<U11'), array(['1', '결승전'], dtype='<U11'), array(['1', '낚시터'], dtype='<U11'), array(['1', '낚시대'], dtype='<U11'), array(['1', '당뇨병'], dtype='<U11'), array(['1', '독서'], dtype='<U11'), array(['1', '매표소'], dtype='<U11'), array(['1', '면역'], dtype='<U11'), array(['1', '감기'], dtype='<U11'), array(['1', '배드민턴'], dtype='<U11'), array(['1', '변비'], dtype='<U11'), array(['1', '병명'], dtype='<U11'), array(['1', '보건소'], dtype='<U11'), array(['1', '불면증'], dtype='<U11'), array(['1', '불행'], dtype='<U11'), array(['1', '붕대'], dtype='<U11'), array(['1', '사위'], dtype='<U11'), array(['1', '설사'], dtype='<U11'), array(['1', '성병'], dtype='<U11'), array(['1', '방충'], dtype='<U11'), array(['1', '소화제'], dtype='<U11'), array(['1', '손녀'], dtype='<U11'), array(['1', '손자'], dtype='<U11'), array(['1', '수면제'], dtype='<U11'), array(['1', '수집가'], dtype='<U11'), array(['1', '여행지'], dtype='<U11'), array(['1', '예식장'], dtype='<U11'), array(['1', '올림픽경기'], dtype='<U11'), array(['1', '회복'], dtype='<U11'), array(['1', '첫번째'], dtype='<U11'), array(['1', '운동경기'], dtype='<U11'), array(['1', '입원'], dtype='<U11'), array(['1', '재혼'], dtype='<U11'), array(['1', '진단서'], dtype='<U11'), array(['1', '축구장'], dtype='<U11'), array(['1', '치료'], dtype='<U11'), array(['1', '치료법'], dtype='<U11'), array(['1', '친아들'], dtype='<U11'), array(['1', '퇴원'], dtype='<U11'), array(['1', '한약'], dtype='<U11'), array(['1', '한약방'], dtype='<U11'), array(['1', '빈혈'], dtype='<U11'), array(['1', '화상'], dtype='<U11'), array(['1', '가래떡'], dtype='<U11'), array(['1', '고깃국'], dtype='<U11'), array(['1', '고추'], dtype='<U11'), array(['1', '고추가루'], dtype='<U11'), array(['1', '사골'], dtype='<U11'), array(['1', '배추국'], dtype='<U11'), array(['1', '꽈베기'], dtype='<U11'), array(['1', '벌꿀'], dtype='<U11'), array(['1', '꿀물'], dtype='<U11'), array(['1', '냄비'], dtype='<U11'), array(['1', '찬물'], dtype='<U11'), array(['1', '다과'], dtype='<U11'), array(['1', '지방경찰청장'], dtype='<U11'), array(['1', '된장찌게'], dtype='<U11'), array(['1', '돼지고기'], dtype='<U11'), array(['1', '두부'], dtype='<U11'), array(['1', '딸기'], dtype='<U11'), array(['1', '떡국'], dtype='<U11'), array(['1', '라면'], dtype='<U11'), array(['1', '막걸리'], dtype='<U11'), array(['1', '무'], dtype='<U11'), array(['1', '밥그릇'], dtype='<U11'), array(['1', '밥솥'], dtype='<U11'), array(['1', '보신탕'], dtype='<U11'), array(['1', '부엌'], dtype='<U11'), array(['1', '소불고기'], dtype='<U11'), array(['1', '비빔밥'], dtype='<U11'), array(['1', '사과'], dtype='<U11'), array(['1', '사이다'], dtype='<U11'), array(['1', '달다'], dtype='<U11'), array(['1', '소주'], dtype='<U11'), array(['1', '술잔'], dtype='<U11'), array(['1', '식당'], dtype='<U11'), array(['1', '쌀가루'], dtype='<U11'), array(['1', '냉커피'], dtype='<U11'), array(['1', '양식'], dtype='<U11'), array(['1', '위스키'], dtype='<U11'), array(['1', '술'], dtype='<U11'), array(['1', '용품'], dtype='<U11'), array(['1', '유리그릇'], dtype='<U11'), array(['1', '짬뽕'], dtype='<U11'), array(['1', '참외'], dtype='<U11'), array(['1', '칼국수'], dtype='<U11'), array(['1', '커피'], dtype='<U11'), array(['1', '콜라'], dtype='<U11'), array(['1', '콩가루'], dtype='<U11'), array(['1', '통조림'], dtype='<U11'), array(['1', '와인'], dtype='<U11'), array(['1', '백설기'], dtype='<U11'), array(['1', '가죽신'], dtype='<U11'), array(['1', '군복'], dtype='<U11'), array(['1', '포켓'], dtype='<U11'), array(['1', '양산'], dtype='<U11'), array(['1', '운동화'], dtype='<U11'), array(['1', '잠옷'], dtype='<U11'), array(['1', '이불'], dtype='<U11'), array(['1', '에어컨'], dtype='<U11'), array(['1', '행거'], dtype='<U11'), array(['1', '월세'], dtype='<U11'), array(['1', '전세'], dtype='<U11'), array(['1', '치약'], dtype='<U11'), array(['1', '가수'], dtype='<U11'), array(['1', '체감'], dtype='<U11'), array(['1', '경고'], dtype='<U11'), array(['1', '경찰서'], dtype='<U11'), array(['1', '공식'], dtype='<U11'), array(['1', '과장'], dtype='<U11'), array(['1', '관광버스'], dtype='<U11'), array(['1', '교수'], dtype='<U11'), array(['1', '교장'], dtype='<U11'), array(['1', '찻길'], dtype='<U11'), array(['1', '독일어'], dtype='<U11'), array(['1', '반환'], dtype='<U11'), array(['1', '음주운전'], dtype='<U11'), array(['1', '동아리'], dtype='<U11'), array(['1', '디자이너'], dtype='<U11'), array(['1', '마을버스'], dtype='<U11'), array(['1', '구급차'], dtype='<U11'), array(['1', '개입하지않는다'], dtype='<U11'), array(['1', '음주운전'], dtype='<U11'), array(['1', '사무'], dtype='<U11'), array(['1', '신입학'], dtype='<U11'), array(['1', '여객선'], dtype='<U11'), array(['1', '여행사'], dtype='<U11'), array(['1', '기차역'], dtype='<U11'), array(['1', '예술가'], dtype='<U11'), array(['1', '외국어'], dtype='<U11'), array(['1', '요리사'], dtype='<U11'), array(['1', '강요'], dtype='<U11'), array(['1', '운동선수'], dtype='<U11'), array(['1', '퇴임'], dtype='<U11'), array(['1', '의사'], dtype='<U11'), array(['1', '이력서'], dtype='<U11'), array(['1', '자가용'], dtype='<U11'), array(['1', '재택근무'], dtype='<U11'), array(['1', '연령제한'], dtype='<U11'), array(['1', '주차장'], dtype='<U11'), array(['1', '채팅'], dtype='<U11'), array(['1', '출근'], dtype='<U11'), array(['1', '코치'], dtype='<U11'), array(['1', '터미널'], dtype='<U11'), array(['1', '근무'], dtype='<U11'), array(['1', '통역사'], dtype='<U11'), array(['1', '퇴사'], dtype='<U11'), array(['1', '사직'], dtype='<U11'), array(['1', '판결'], dtype='<U11'), array(['1', '평가'], dtype='<U11'), array(['1', '두번째'], dtype='<U11'), array(['1', '항공사'], dtype='<U11'), array(['1', '교통안전교육'], dtype='<U11'), array(['1', '화상채팅'], dtype='<U11'), array(['1', '회식'], dtype='<U11'), array(['1', '교통기본교육'], dtype='<U11'), array(['1', '후원'], dtype='<U11'), array(['1', '희생'], dtype='<U11'), array(['1', '간호사'], dtype='<U11'), array(['1', '교통법교육'], dtype='<U11'), array(['1', '계약금'], dtype='<U11'), array(['1', '고용'], dtype='<U11'), array(['1', '사업장'], dtype='<U11'), array(['1', '버스값'], dtype='<U11'), array(['1', '구직'], dtype='<U11'), array(['1', '논'], dtype='<U11'), array(['1', '대기업'], dtype='<U11'), array(['1', '사육장'], dtype='<U11'), array(['1', '백화점'], dtype='<U11'), array(['1', '압류'], dtype='<U11'), array(['1', '거지'], dtype='<U11'), array(['1', '수입'], dtype='<U11'), array(['1', '신용카드'], dtype='<U11'), array(['1', '백수'], dtype='<U11'), array(['1', '아르바이트'], dtype='<U11'), array(['1', '샛길'], dtype='<U11'), array(['1', '일시불'], dtype='<U11'), array(['1', '주유소'], dtype='<U11'), array(['1', '집주인'], dtype='<U11'), array(['1', '한국은행'], dtype='<U11'), array(['1', '경찰청장'], dtype='<U11'), array(['1', '가정교육'], dtype='<U11'), array(['1', '고등학교'], dtype='<U11'), array(['1', '고등학생'], dtype='<U11'), array(['1', '교무실'], dtype='<U11'), array(['1', '개학'], dtype='<U11'), array(['1', '교실'], dtype='<U11'), array(['1', '교육자'], dtype='<U11'), array(['1', '국어학'], dtype='<U11'), array(['1', '낙제'], dtype='<U11'), array(['1', '예절'], dtype='<U11'), array(['1', '독서실'], dtype='<U11'), array(['1', '등교'], dtype='<U11'), array(['1', '맹학교'], dtype='<U11'), array(['1', '복습'], dtype='<U11'), array(['1', '분필'], dtype='<U11'), array(['1', '상장'], dtype='<U11'), array(['1', '서점'], dtype='<U11'), array(['1', '학업'], dtype='<U11'), array(['1', '실습'], dtype='<U11'), array(['1', '여학교'], dtype='<U11'), array(['1', '여학생'], dtype='<U11'), array(['1', '연구소'], dtype='<U11'), array(['1', '연구실'], dtype='<U11'), array(['1', '예습'], dtype='<U11'), array(['1', '유학'], dtype='<U11'), array(['1', '의학'], dtype='<U11'), array(['1', '지도'], dtype='<U11'), array(['1', '재학'], dtype='<U11'), array(['1', '연구'], dtype='<U11'), array(['1', '학부모'], dtype='<U11'), array(['1', '학식'], dtype='<U11'), array(['1', '훈련'], dtype='<U11'), array(['1', '경기도'], dtype='<U11'), array(['1', '경기도'], dtype='<U11'), array(['1', '경북'], dtype='<U11'), array(['1', '남산'], dtype='<U11'), array(['1', '울릉도'], dtype='<U11'), array(['1', '울산'], dtype='<U11'), array(['1', '전남'], dtype='<U11'), array(['1', '청주'], dtype='<U11'), array(['1', '충북'], dtype='<U11'), array(['1', '충남'], dtype='<U11'), array(['1', '불경'], dtype='<U11'), array(['1', '불경'], dtype='<U11'), array(['1', '성경책'], dtype='<U11'), array(['1', '신학'], dtype='<U11'), array(['1', '장로교'], dtype='<U11')]\n"
     ]
    }
   ],
   "execution_count": 14
  },
  {
   "cell_type": "code",
   "id": "a5bfbc39",
   "metadata": {
    "ExecuteTime": {
     "end_time": "2024-10-08T02:40:24.423583Z",
     "start_time": "2024-10-08T02:40:24.420583Z"
    }
   },
   "source": [
    "# hand input shape: (batch, time, h, w, channels)\n",
    "# pose input shape: (batch, time, channel, features)"
   ],
   "outputs": [],
   "execution_count": 22
  },
  {
   "cell_type": "code",
   "id": "740740d7",
   "metadata": {
    "ExecuteTime": {
     "end_time": "2024-10-08T02:40:25.029582Z",
     "start_time": "2024-10-08T02:40:25.023581Z"
    }
   },
   "source": [
    "x_train = (l_train, r_train, p_train)"
   ],
   "outputs": [],
   "execution_count": 23
  },
  {
   "cell_type": "code",
   "id": "1834ce55",
   "metadata": {
    "ExecuteTime": {
     "end_time": "2024-10-08T02:40:25.802580Z",
     "start_time": "2024-10-08T02:40:25.796581Z"
    }
   },
   "source": [
    "model = SLR_model.get_model()"
   ],
   "outputs": [],
   "execution_count": 24
  },
  {
   "metadata": {
    "ExecuteTime": {
     "end_time": "2024-10-08T02:40:26.477079Z",
     "start_time": "2024-10-08T02:40:26.474076Z"
    }
   },
   "cell_type": "code",
   "outputs": [],
   "execution_count": 25,
   "source": [
    "# # 세이브된 모델 로드\n",
    "# load_path = os.join(load_dir, \"check_00-00-00.keras\")\n",
    "# model = SLR_model.load_model(load_path)"
   ],
   "id": "0526011b"
  },
  {
   "cell_type": "code",
   "id": "c4b5a386",
   "metadata": {
    "ExecuteTime": {
     "end_time": "2024-10-08T02:40:27.613528Z",
     "start_time": "2024-10-08T02:40:27.610528Z"
    }
   },
   "source": [
    "# # 안될때 (강제중지 + 초기화)\n",
    "# tf.keras.backend.clear_session()"
   ],
   "outputs": [],
   "execution_count": 26
  },
  {
   "cell_type": "code",
   "id": "0397a4ab",
   "metadata": {
    "ExecuteTime": {
     "end_time": "2024-10-08T02:40:28.123537Z",
     "start_time": "2024-10-08T02:40:28.120536Z"
    }
   },
   "source": [
    "# hist = model.fit(x_train, y_train, epochs=epochs, batch_size= batch_size, callbacks=[model_checkpoint_callback])"
   ],
   "outputs": [],
   "execution_count": 27
  },
  {
   "cell_type": "code",
   "id": "018be5f8",
   "metadata": {
    "ExecuteTime": {
     "end_time": "2024-10-08T02:40:29.307466Z",
     "start_time": "2024-10-08T02:40:29.268466Z"
    }
   },
   "source": [
    "dataset = SLR_model.convert_to_dataset(x_train, y_train, batch_size)"
   ],
   "outputs": [],
   "execution_count": 28
  },
  {
   "cell_type": "code",
   "id": "8ce4604a",
   "metadata": {
    "ExecuteTime": {
     "end_time": "2024-10-08T02:40:36.161391Z",
     "start_time": "2024-10-08T02:40:30.171469Z"
    }
   },
   "source": [
    "save_suffix = time.strftime(\"_%d-%H-%M\", time.localtime(time.time()))\n",
    "check_path = os.path.join(save_dir, \"check\"+save_suffix)\n",
    "hist_path = os.path.join(save_dir, \"hist\"+save_suffix+\".json\")\n",
    "\n",
    "model_checkpoint_callback = keras.callbacks.ModelCheckpoint(\n",
    "    filepath=f'{check_path}.keras',\n",
    "    monitor='binary_accuracy',\n",
    "    mode='max',\n",
    "    save_freq='epoch',\n",
    "    save_best_only=True)\n",
    "\n",
    "hist = model.fit(dataset, epochs=epochs, callbacks=[model_checkpoint_callback])\n",
    "\n",
    "with open(hist_path, 'w') as file:\n",
    "    json.dump(hist.history, file)"
   ],
   "outputs": [
    {
     "name": "stdout",
     "output_type": "stream",
     "text": [
      "Epoch 1/10\n",
      "\u001B[1m168/168\u001B[0m \u001B[32m━━━━━━━━━━━━━━━━━━━━\u001B[0m\u001B[37m\u001B[0m \u001B[1m3s\u001B[0m 2ms/step - binary_accuracy: 0.5615 - loss: 0.6761\n",
      "Epoch 2/10\n",
      "\u001B[1m168/168\u001B[0m \u001B[32m━━━━━━━━━━━━━━━━━━━━\u001B[0m\u001B[37m\u001B[0m \u001B[1m0s\u001B[0m 2ms/step - binary_accuracy: 0.6144 - loss: 0.5520\n",
      "Epoch 3/10\n",
      "\u001B[1m168/168\u001B[0m \u001B[32m━━━━━━━━━━━━━━━━━━━━\u001B[0m\u001B[37m\u001B[0m \u001B[1m0s\u001B[0m 2ms/step - binary_accuracy: 0.6273 - loss: 0.5205\n",
      "Epoch 4/10\n",
      "\u001B[1m168/168\u001B[0m \u001B[32m━━━━━━━━━━━━━━━━━━━━\u001B[0m\u001B[37m\u001B[0m \u001B[1m0s\u001B[0m 2ms/step - binary_accuracy: 0.6332 - loss: 0.5085\n",
      "Epoch 5/10\n",
      "\u001B[1m168/168\u001B[0m \u001B[32m━━━━━━━━━━━━━━━━━━━━\u001B[0m\u001B[37m\u001B[0m \u001B[1m0s\u001B[0m 2ms/step - binary_accuracy: 0.6372 - loss: 0.5016\n",
      "Epoch 6/10\n",
      "\u001B[1m168/168\u001B[0m \u001B[32m━━━━━━━━━━━━━━━━━━━━\u001B[0m\u001B[37m\u001B[0m \u001B[1m0s\u001B[0m 2ms/step - binary_accuracy: 0.6393 - loss: 0.4967\n",
      "Epoch 7/10\n",
      "\u001B[1m168/168\u001B[0m \u001B[32m━━━━━━━━━━━━━━━━━━━━\u001B[0m\u001B[37m\u001B[0m \u001B[1m0s\u001B[0m 2ms/step - binary_accuracy: 0.6419 - loss: 0.4928\n",
      "Epoch 8/10\n",
      "\u001B[1m168/168\u001B[0m \u001B[32m━━━━━━━━━━━━━━━━━━━━\u001B[0m\u001B[37m\u001B[0m \u001B[1m0s\u001B[0m 2ms/step - binary_accuracy: 0.6447 - loss: 0.4895\n",
      "Epoch 9/10\n",
      "\u001B[1m168/168\u001B[0m \u001B[32m━━━━━━━━━━━━━━━━━━━━\u001B[0m\u001B[37m\u001B[0m \u001B[1m0s\u001B[0m 2ms/step - binary_accuracy: 0.6485 - loss: 0.4866\n",
      "Epoch 10/10\n",
      "\u001B[1m168/168\u001B[0m \u001B[32m━━━━━━━━━━━━━━━━━━━━\u001B[0m\u001B[37m\u001B[0m \u001B[1m0s\u001B[0m 2ms/step - binary_accuracy: 0.6527 - loss: 0.4841\n"
     ]
    }
   ],
   "execution_count": 29
  },
  {
   "metadata": {
    "ExecuteTime": {
     "end_time": "2024-10-08T06:14:17.313076Z",
     "start_time": "2024-10-08T06:14:17.154076Z"
    }
   },
   "cell_type": "code",
   "source": [
    " # reload model file\n",
    "importlib.reload(SLR_model)\n",
    "importlib.reload(preprocess)\n",
    "end_file=preprocess.getoutputdir()\n",
    "\n",
    "for i in range(1,17):\n",
    "    load_size_j=load_size\n",
    "    l_raws=[]\n",
    "    r_raws=[]\n",
    "    p_raws=[]\n",
    "    y_raws=[]\n",
    "    count=0\n",
    "    print(i)\n",
    "    for j in os.listdir(os.path.join(preprocess.getoutputdir(),str(i))):\n",
    "        print(j)\n",
    "        l_raw, r_raw, p_raw, y_raw = preprocess.load_data(f\"{i}/{j}\")\n",
    "        \n",
    "        l_raws.append(l_raw)\n",
    "        r_raws.append(r_raw)\n",
    "        p_raws.append(p_raw)\n",
    "        y_raws.append(y_raw)\n",
    "        \n",
    "        if count>=load_size:\n",
    "            l_train, each = serialize(l_raw)\n",
    "            r_train, each = serialize(r_raw)\n",
    "            p_train, each = serialize(p_raw, stride=2)\n",
    "            y_train = np.repeat(y_raw, each)\n",
    "            y_train = num_arr2bin(y_train, 12)\n",
    "            x_train = (l_train, r_train, p_train)\n",
    "        \n",
    "            dataset = SLR_model.convert_to_dataset(x_train, y_train, batch_size)\n",
    "        \n",
    "            save_suffix = time.strftime(\"_%d-%H-%M\", time.localtime(time.time()))\n",
    "            check_path = os.path.join(save_dir, \"check\"+save_suffix)\n",
    "            hist_path = os.path.join(save_dir, \"hist\"+save_suffix+\".json\")\n",
    "        \n",
    "            model_checkpoint_callback = keras.callbacks.ModelCheckpoint(\n",
    "                filepath=f'{check_path}.keras',\n",
    "                monitor='binary_accuracy',\n",
    "                mode='max',\n",
    "                save_freq='epoch',\n",
    "                save_best_only=True)\n",
    "        \n",
    "            hist = model.fit(dataset, epochs=epochs, callbacks=[model_checkpoint_callback])\n",
    "            \n",
    "            with open(hist_path, 'w') as file:\n",
    "                json.dump(hist.history, file)\n",
    "            count=0\n",
    "            l_raws.clear()\n",
    "            r_raws.clear()\n",
    "            p_raws.clear()\n",
    "            y_raws.clear()\n",
    "        else:\n",
    "            count+=1\n",
    "    if len(l_raws)>0:\n",
    "        l_train, each = serialize(l_raw)\n",
    "        r_train, each = serialize(r_raw)\n",
    "        p_train, each = serialize(p_raw, stride=2)\n",
    "        y_train = np.repeat(y_raw, each)\n",
    "        y_train = num_arr2bin(y_train, 12)\n",
    "        x_train = (l_train, r_train, p_train)\n",
    "    \n",
    "        dataset = SLR_model.convert_to_dataset(x_train, y_train, batch_size)\n",
    "    \n",
    "        save_suffix = time.strftime(\"_%d-%H-%M\", time.localtime(time.time()))\n",
    "        check_path = os.path.join(save_dir, \"check\"+save_suffix)\n",
    "        hist_path = os.path.join(save_dir, \"hist\"+save_suffix+\".json\")\n",
    "    \n",
    "        model_checkpoint_callback = keras.callbacks.ModelCheckpoint(\n",
    "            filepath=f'{check_path}.keras',\n",
    "            monitor='binary_accuracy',\n",
    "            mode='max',\n",
    "            save_freq='epoch',\n",
    "            save_best_only=True)\n",
    "    \n",
    "        hist = model.fit(dataset, epochs=epochs, callbacks=[model_checkpoint_callback])\n",
    "        \n",
    "        with open(hist_path, 'w') as file:\n",
    "            json.dump(hist.history, file)\n",
    "        \n",
    "\n",
    "\n",
    "    "
   ],
   "id": "92dcc80486858dd7",
   "outputs": [
    {
     "name": "stdout",
     "output_type": "stream",
     "text": [
      "1\n",
      "1.npz\n",
      "고민\n",
      "10.npz\n",
      "자극\n",
      "100.npz\n",
      "사이다\n",
      "1000.npz\n",
      "속다\n",
      "1001.npz\n",
      "한국농아인협회\n",
      "1002.npz\n",
      "한국농아인협회\n",
      "1003.npz\n",
      "서울특별시농아인협회\n",
      "1004.npz\n",
      "서울특별시수어통역센터\n",
      "1005.npz\n",
      "서울시청\n",
      "1006.npz\n",
      "강남구지부\n",
      "1007.npz\n",
      "강남구수어통역센터\n",
      "1008.npz\n",
      "강동구지부\n",
      "1009.npz\n",
      "강동구수어통역센터\n",
      "101.npz\n",
      "달다\n",
      "1010.npz\n",
      "강동구주민지원센터\n",
      "1011.npz\n",
      "강북구지부\n",
      "1012.npz\n",
      "강북구수어통역센터\n",
      "1013.npz\n",
      "강북구주민지원센터\n",
      "1014.npz\n",
      "강서구지부\n",
      "1015.npz\n",
      "강서구수어통역센터\n",
      "1016.npz\n",
      "강서구주민지원센터\n",
      "1017.npz\n",
      "관악구지부\n",
      "1018.npz\n",
      "관악구수어통역센터\n",
      "1019.npz\n",
      "관악구주민지원센터\n",
      "102.npz\n",
      "소주\n",
      "1020.npz\n",
      "광진구지부\n",
      "1021.npz\n",
      "광진구수어통역센터\n",
      "1022.npz\n",
      "광진구주민지원센터\n",
      "1023.npz\n",
      "구로구지부\n",
      "1024.npz\n",
      "구로구수어통역센터\n",
      "1025.npz\n",
      "구로구주민지원센터\n",
      "1026.npz\n",
      "금천구지부\n",
      "1027.npz\n",
      "금천구수어통역센터\n",
      "1028.npz\n",
      "노원구지부\n",
      "1029.npz\n",
      "노원구수어통역센터\n",
      "103.npz\n",
      "술잔\n",
      "1030.npz\n",
      "노원구주민지원센터\n",
      "1031.npz\n",
      "도봉구지부\n",
      "1032.npz\n",
      "도봉구수어통역센터\n",
      "1033.npz\n",
      "도봉구주민지원센터\n",
      "1034.npz\n",
      "동대문구지부\n",
      "1035.npz\n",
      "동대문구수어통역센터\n",
      "1036.npz\n",
      "동대문구주민지원센터\n",
      "1037.npz\n",
      "동작구지부\n",
      "1038.npz\n",
      "동작구수어통역센터\n",
      "1039.npz\n",
      "동작구주민지원센터\n",
      "104.npz\n",
      "식당\n",
      "1040.npz\n",
      "마포구지부\n",
      "1041.npz\n",
      "마포구수어통역센터\n",
      "1042.npz\n",
      "마포구주민지원센터\n",
      "1043.npz\n",
      "서대문구지부\n",
      "1044.npz\n",
      "서대문구수어통역센터\n",
      "1045.npz\n",
      "서대문구주민지원센터\n",
      "1046.npz\n",
      "서초구지부\n",
      "1047.npz\n",
      "서초구수어통역센터\n",
      "1048.npz\n",
      "서초구주민지원센터\n",
      "1049.npz\n",
      "성동구지부\n",
      "105.npz\n",
      "쌀가루\n",
      "1050.npz\n",
      "성동구수어통역센터\n",
      "1051.npz\n",
      "성동구주민지원센터\n",
      "1052.npz\n",
      "성북구지부\n",
      "1053.npz\n",
      "성북구수어통역센터\n",
      "1054.npz\n",
      "성북구주민지원센터\n",
      "1055.npz\n",
      "송파구지부\n",
      "1056.npz\n",
      "송파구수어통역센터\n",
      "1057.npz\n",
      "송파구주민지원센터\n",
      "1058.npz\n",
      "양천구지부\n",
      "1059.npz\n",
      "양천구수어통역센터\n",
      "106.npz\n",
      "냉커피\n",
      "1060.npz\n",
      "양천구주민지원센터\n",
      "1061.npz\n",
      "영등포구지부\n",
      "1062.npz\n",
      "영등포구수어통역센터\n",
      "1063.npz\n",
      "영등포구주민지원센터\n",
      "1064.npz\n",
      "용산구지부\n",
      "1065.npz\n",
      "용산구수어통역센터\n",
      "1066.npz\n",
      "용산구주민지원센터\n",
      "1067.npz\n",
      "은평구지부\n",
      "1068.npz\n",
      "은평구수어통역센터\n",
      "1069.npz\n",
      "은평구주민지원센터\n",
      "107.npz\n",
      "양식\n",
      "1070.npz\n",
      "종로구지부\n",
      "1071.npz\n",
      "종로구수어통역센터\n",
      "1072.npz\n",
      "종로구주민지원센터\n",
      "1073.npz\n",
      "중구지부\n",
      "1074.npz\n",
      "중구수어통역센터\n",
      "1075.npz\n",
      "중구주민지원센터\n",
      "1076.npz\n",
      "중랑구지부\n",
      "1077.npz\n",
      "중랑구수어통역센터\n",
      "1078.npz\n",
      "중랑구주민지원센터\n",
      "1079.npz\n",
      "부산광역시농아인협회\n",
      "108.npz\n",
      "위스키\n",
      "1080.npz\n",
      "금정구지부\n",
      "1081.npz\n",
      "금정구수어통역센터\n",
      "1082.npz\n",
      "금정구주민지원센터\n",
      "1083.npz\n",
      "북구지부\n",
      "1084.npz\n",
      "북구수어통역센터\n",
      "1085.npz\n",
      "북구주민지원센터\n",
      "1086.npz\n",
      "사하구지부\n",
      "1087.npz\n",
      "사하구수어통역센터\n",
      "1088.npz\n",
      "사하구주민지원센터\n",
      "1089.npz\n",
      "서구지부\n",
      "109.npz\n",
      "술\n",
      "1090.npz\n",
      "서구수어통역센터\n",
      "1091.npz\n",
      "서구주민지원센터\n",
      "1092.npz\n",
      "수영구지부\n",
      "1093.npz\n",
      "수영구수어통역센터\n",
      "1094.npz\n",
      "수영구주민지원센터\n",
      "1095.npz\n",
      "어쩔 수 없다\n",
      "1096.npz\n",
      "모르다\n",
      "1097.npz\n",
      "불가능\n",
      "1098.npz\n",
      "대구광역시농아인협회\n",
      "1099.npz\n",
      "달서구지부\n",
      "11.npz\n",
      "안타깝다\n",
      "110.npz\n",
      "용품\n",
      "1100.npz\n",
      "달서구수어통역센터\n",
      "1101.npz\n",
      "가렵다\n",
      "1102.npz\n",
      "답답\n",
      "1103.npz\n",
      "설거지\n",
      "1104.npz\n",
      "남자\n",
      "1105.npz\n",
      "마음\n",
      "1106.npz\n",
      "잊다\n",
      "1107.npz\n",
      "충분\n",
      "1108.npz\n",
      "미남\n",
      "1109.npz\n",
      "한명\n",
      "111.npz\n",
      "유리그릇\n",
      "1110.npz\n",
      "징그럽다\n",
      "1111.npz\n",
      "급하다\n",
      "1112.npz\n",
      "던지다\n",
      "1113.npz\n",
      "미녀\n",
      "1114.npz\n",
      "쌍둥이\n",
      "1115.npz\n",
      "건강\n",
      "1116.npz\n",
      "어리석다\n",
      "1117.npz\n",
      "나이\n",
      "1118.npz\n",
      "달래다\n",
      "1119.npz\n",
      "집중\n",
      "112.npz\n",
      "짬뽕\n",
      "1120.npz\n",
      "자랑\n",
      "1121.npz\n",
      "흰\n",
      "1122.npz\n",
      "기막히다\n",
      "1123.npz\n",
      "불안\n",
      "1124.npz\n",
      "밉다\n",
      "1125.npz\n",
      "자존심\n",
      "1126.npz\n",
      "배려\n",
      "1127.npz\n",
      "기분\n",
      "1128.npz\n",
      "당황\n",
      "1129.npz\n",
      "검사\n",
      "113.npz\n",
      "참외\n",
      "1130.npz\n",
      "원하다\n",
      "1131.npz\n",
      "미치다\n",
      "1132.npz\n",
      "처녀\n",
      "1133.npz\n",
      "잘하다\n",
      "1134.npz\n",
      "무섭다\n",
      "1135.npz\n",
      "빠르다\n",
      "1136.npz\n",
      "예민\n",
      "1137.npz\n",
      "기술\n",
      "1138.npz\n",
      "눕다\n",
      "1139.npz\n",
      "믿다\n",
      "114.npz\n",
      "칼국수\n",
      "1140.npz\n",
      "즐겁다\n",
      "1141.npz\n",
      "살인\n",
      "1142.npz\n",
      "마지막\n",
      "1143.npz\n",
      "듣다\n",
      "1144.npz\n",
      "생각\n",
      "1145.npz\n",
      "예쁘다\n",
      "1146.npz\n",
      "인상\n",
      "1147.npz\n",
      "팔\n",
      "1148.npz\n",
      "서다\n",
      "1149.npz\n",
      "오다\n",
      "115.npz\n",
      "커피\n",
      "1150.npz\n",
      "적극\n",
      "1151.npz\n",
      "섭섭하다\n",
      "1152.npz\n",
      "아프다\n",
      "1153.npz\n",
      "오줌\n",
      "1154.npz\n",
      "깨끗하다\n",
      "1155.npz\n",
      "못생기다\n",
      "1156.npz\n",
      "나쁘다\n",
      "1157.npz\n",
      "나\n",
      "1158.npz\n",
      "피곤하다\n",
      "1159.npz\n",
      "한숨\n",
      "116.npz\n",
      "콜라\n",
      "1160.npz\n",
      "때리다\n",
      "1161.npz\n",
      "성격\n",
      "1162.npz\n",
      "등산\n",
      "1163.npz\n",
      "젊다\n",
      "1164.npz\n",
      "창백\n",
      "1165.npz\n",
      "자유\n",
      "1166.npz\n",
      "종아리맞다\n",
      "1167.npz\n",
      "성급\n",
      "1168.npz\n",
      "바르다\n",
      "1169.npz\n",
      "행복\n",
      "117.npz\n",
      "콩가루\n",
      "1170.npz\n",
      "깨물다\n",
      "1171.npz\n",
      "떨다\n",
      "1172.npz\n",
      "때문\n",
      "1173.npz\n",
      "평안\n",
      "1174.npz\n",
      "맞다\n",
      "1175.npz\n",
      "챔피언\n",
      "1176.npz\n",
      "안다\n",
      "1177.npz\n",
      "솔직\n",
      "1178.npz\n",
      "꼬마\n",
      "1179.npz\n",
      "바보\n",
      "118.npz\n",
      "통조림\n",
      "1180.npz\n",
      "비율\n",
      "1181.npz\n",
      "혀\n",
      "1182.npz\n",
      "의자\n",
      "1183.npz\n",
      "열심\n",
      "1184.npz\n",
      "뚱뚱하다\n",
      "1185.npz\n",
      "알다\n",
      "1186.npz\n",
      "조심\n",
      "1187.npz\n",
      "꿇다\n",
      "1188.npz\n",
      "차분\n",
      "1189.npz\n",
      "아기\n",
      "119.npz\n",
      "와인\n",
      "1190.npz\n",
      "방법\n",
      "1191.npz\n",
      "좋다\n",
      "1192.npz\n",
      "두배\n",
      "1193.npz\n",
      "중요\n",
      "1194.npz\n",
      "알다\n",
      "1195.npz\n",
      "실망\n",
      "1196.npz\n",
      "의미\n",
      "1197.npz\n",
      "배고프다\n",
      "1198.npz\n",
      "욕심\n",
      "1199.npz\n",
      "훌륭\n",
      "12.npz\n",
      "어색하다\n",
      "120.npz\n",
      "백설기\n",
      "1200.npz\n",
      "배부르다\n",
      "1201.npz\n",
      "죄송\n",
      "1202.npz\n",
      "추억\n",
      "1203.npz\n",
      "변덕\n",
      "1204.npz\n",
      "친구\n",
      "1205.npz\n",
      "우습다\n",
      "1206.npz\n",
      "똑똑하다\n",
      "1207.npz\n",
      "이해\n",
      "1208.npz\n",
      "애매하다\n",
      "1209.npz\n",
      "흔들리다\n",
      "121.npz\n",
      "가죽신\n",
      "1210.npz\n",
      "얼굴\n",
      "1211.npz\n",
      "어렵다\n",
      "1212.npz\n",
      "지겹다\n",
      "1213.npz\n",
      "낳다\n",
      "1214.npz\n",
      "망설이다\n",
      "1215.npz\n",
      "창피\n",
      "1216.npz\n",
      "친하다\n",
      "1217.npz\n",
      "희망\n",
      "1218.npz\n",
      "하산\n",
      "1219.npz\n",
      "냄새맡다\n",
      "122.npz\n",
      "군복\n",
      "1220.npz\n",
      "부럽다\n",
      "1221.npz\n",
      "행동\n",
      "1222.npz\n",
      "힘들다\n",
      "1223.npz\n",
      "매력\n",
      "1224.npz\n",
      "웃다\n",
      "1225.npz\n",
      "전문\n",
      "1226.npz\n",
      "손\n",
      "1227.npz\n",
      "너그럽다\n",
      "1228.npz\n",
      "유식\n",
      "1229.npz\n",
      "쓰러지다\n"
     ]
    },
    {
     "ename": "ValueError",
     "evalue": "operands could not be broadcast together with shape (1,) (142,)",
     "output_type": "error",
     "traceback": [
      "\u001B[1;31m---------------------------------------------------------------------------\u001B[0m",
      "\u001B[1;31mValueError\u001B[0m                                Traceback (most recent call last)",
      "Cell \u001B[1;32mIn[26], line 27\u001B[0m\n\u001B[0;32m     25\u001B[0m r_train, each \u001B[38;5;241m=\u001B[39m serialize(r_raw)\n\u001B[0;32m     26\u001B[0m p_train, each \u001B[38;5;241m=\u001B[39m serialize(p_raw, stride\u001B[38;5;241m=\u001B[39m\u001B[38;5;241m2\u001B[39m)\n\u001B[1;32m---> 27\u001B[0m y_train \u001B[38;5;241m=\u001B[39m \u001B[43mnp\u001B[49m\u001B[38;5;241;43m.\u001B[39;49m\u001B[43mrepeat\u001B[49m\u001B[43m(\u001B[49m\u001B[43my_raw\u001B[49m\u001B[43m,\u001B[49m\u001B[43m \u001B[49m\u001B[43meach\u001B[49m\u001B[43m)\u001B[49m\n\u001B[0;32m     28\u001B[0m y_train \u001B[38;5;241m=\u001B[39m num_arr2bin(y_train, \u001B[38;5;241m12\u001B[39m)\n\u001B[0;32m     29\u001B[0m x_train \u001B[38;5;241m=\u001B[39m (l_train, r_train, p_train)\n",
      "File \u001B[1;32m~\\anaconda3\\envs\\BomNae-SLR\\lib\\site-packages\\numpy\\core\\fromnumeric.py:466\u001B[0m, in \u001B[0;36mrepeat\u001B[1;34m(a, repeats, axis)\u001B[0m\n\u001B[0;32m    423\u001B[0m \u001B[38;5;129m@array_function_dispatch\u001B[39m(_repeat_dispatcher)\n\u001B[0;32m    424\u001B[0m \u001B[38;5;28;01mdef\u001B[39;00m \u001B[38;5;21mrepeat\u001B[39m(a, repeats, axis\u001B[38;5;241m=\u001B[39m\u001B[38;5;28;01mNone\u001B[39;00m):\n\u001B[0;32m    425\u001B[0m \u001B[38;5;250m    \u001B[39m\u001B[38;5;124;03m\"\"\"\u001B[39;00m\n\u001B[0;32m    426\u001B[0m \u001B[38;5;124;03m    Repeat each element of an array after themselves\u001B[39;00m\n\u001B[0;32m    427\u001B[0m \n\u001B[1;32m   (...)\u001B[0m\n\u001B[0;32m    464\u001B[0m \n\u001B[0;32m    465\u001B[0m \u001B[38;5;124;03m    \"\"\"\u001B[39;00m\n\u001B[1;32m--> 466\u001B[0m     \u001B[38;5;28;01mreturn\u001B[39;00m \u001B[43m_wrapfunc\u001B[49m\u001B[43m(\u001B[49m\u001B[43ma\u001B[49m\u001B[43m,\u001B[49m\u001B[43m \u001B[49m\u001B[38;5;124;43m'\u001B[39;49m\u001B[38;5;124;43mrepeat\u001B[39;49m\u001B[38;5;124;43m'\u001B[39;49m\u001B[43m,\u001B[49m\u001B[43m \u001B[49m\u001B[43mrepeats\u001B[49m\u001B[43m,\u001B[49m\u001B[43m \u001B[49m\u001B[43maxis\u001B[49m\u001B[38;5;241;43m=\u001B[39;49m\u001B[43maxis\u001B[49m\u001B[43m)\u001B[49m\n",
      "File \u001B[1;32m~\\anaconda3\\envs\\BomNae-SLR\\lib\\site-packages\\numpy\\core\\fromnumeric.py:56\u001B[0m, in \u001B[0;36m_wrapfunc\u001B[1;34m(obj, method, *args, **kwds)\u001B[0m\n\u001B[0;32m     54\u001B[0m bound \u001B[38;5;241m=\u001B[39m \u001B[38;5;28mgetattr\u001B[39m(obj, method, \u001B[38;5;28;01mNone\u001B[39;00m)\n\u001B[0;32m     55\u001B[0m \u001B[38;5;28;01mif\u001B[39;00m bound \u001B[38;5;129;01mis\u001B[39;00m \u001B[38;5;28;01mNone\u001B[39;00m:\n\u001B[1;32m---> 56\u001B[0m     \u001B[38;5;28;01mreturn\u001B[39;00m _wrapit(obj, method, \u001B[38;5;241m*\u001B[39margs, \u001B[38;5;241m*\u001B[39m\u001B[38;5;241m*\u001B[39mkwds)\n\u001B[0;32m     58\u001B[0m \u001B[38;5;28;01mtry\u001B[39;00m:\n\u001B[0;32m     59\u001B[0m     \u001B[38;5;28;01mreturn\u001B[39;00m bound(\u001B[38;5;241m*\u001B[39margs, \u001B[38;5;241m*\u001B[39m\u001B[38;5;241m*\u001B[39mkwds)\n",
      "File \u001B[1;32m~\\anaconda3\\envs\\BomNae-SLR\\lib\\site-packages\\numpy\\core\\fromnumeric.py:45\u001B[0m, in \u001B[0;36m_wrapit\u001B[1;34m(obj, method, *args, **kwds)\u001B[0m\n\u001B[0;32m     43\u001B[0m \u001B[38;5;28;01mexcept\u001B[39;00m \u001B[38;5;167;01mAttributeError\u001B[39;00m:\n\u001B[0;32m     44\u001B[0m     wrap \u001B[38;5;241m=\u001B[39m \u001B[38;5;28;01mNone\u001B[39;00m\n\u001B[1;32m---> 45\u001B[0m result \u001B[38;5;241m=\u001B[39m \u001B[38;5;28mgetattr\u001B[39m(asarray(obj), method)(\u001B[38;5;241m*\u001B[39margs, \u001B[38;5;241m*\u001B[39m\u001B[38;5;241m*\u001B[39mkwds)\n\u001B[0;32m     46\u001B[0m \u001B[38;5;28;01mif\u001B[39;00m wrap:\n\u001B[0;32m     47\u001B[0m     \u001B[38;5;28;01mif\u001B[39;00m \u001B[38;5;129;01mnot\u001B[39;00m \u001B[38;5;28misinstance\u001B[39m(result, mu\u001B[38;5;241m.\u001B[39mndarray):\n",
      "\u001B[1;31mValueError\u001B[0m: operands could not be broadcast together with shape (1,) (142,)"
     ]
    }
   ],
   "execution_count": 26
  },
  {
   "cell_type": "code",
   "id": "14bad08f",
   "metadata": {
    "ExecuteTime": {
     "end_time": "2024-10-08T03:59:27.530364Z",
     "start_time": "2024-10-08T03:59:27.483364Z"
    }
   },
   "source": [
    "plt.plot(range(len(hist.history['loss'])), hist.history['loss'])\n",
    "plt.scatter(range(len(hist.history['loss'])), hist.history['loss'])\n",
    "plt.xlabel(\"epochs\")\n",
    "plt.ylabel(\"loss\")\n",
    "plt.legend([\"loss\"])\n",
    "plt.ylim((0,1))\n",
    "plt.show()"
   ],
   "outputs": [
    {
     "data": {
      "text/plain": [
       "<Figure size 640x480 with 1 Axes>"
      ],
      "image/png": "[encoded data removed]"
     },
     "metadata": {},
     "output_type": "display_data"
    }
   ],
   "execution_count": 53
  },
  {
   "cell_type": "code",
   "execution_count": 84,
   "id": "3c35d6ad",
   "metadata": {
    "ExecuteTime": {
     "end_time": "2024-10-07T03:30:09.725342Z",
     "start_time": "2024-10-07T03:30:09.709343Z"
    }
   },
   "outputs": [],
   "source": [
    "# importlib.reload(SLR_model)\n",
    "# model = SLR_model.get_model()"
   ]
  },
  {
   "cell_type": "code",
   "execution_count": 85,
   "id": "76aeaa74",
   "metadata": {
    "ExecuteTime": {
     "end_time": "2024-10-07T03:30:10.468496Z",
     "start_time": "2024-10-07T03:30:10.466422Z"
    }
   },
   "outputs": [],
   "source": [
    "# pred = model.predict(x_dummy, batch_size=1)"
   ]
  },
  {
   "metadata": {},
   "cell_type": "markdown",
   "source": "",
   "id": "4ea012c87fb06ed8"
  },
  {
   "cell_type": "code",
   "id": "940f7096",
   "metadata": {
    "ExecuteTime": {
     "end_time": "2024-10-08T02:06:47.492701Z",
     "start_time": "2024-10-08T02:06:46.885835Z"
    }
   },
   "source": [
    "eval_res = model.evaluate(x_train, y_train, batch_size= batch_size)"
   ],
   "outputs": [
    {
     "ename": "ValueError",
     "evalue": "Exception encountered when calling HandModel.call().\n\n\u001B[1mas_list() is not defined on an unknown TensorShape.\u001B[0m\n\nArguments received by HandModel.call():\n  • x=tf.Tensor(shape=(None, 63, 4, 5, 3), dtype=float32)\n  • training=False",
     "output_type": "error",
     "traceback": [
      "\u001B[1;31m---------------------------------------------------------------------------\u001B[0m",
      "\u001B[1;31mValueError\u001B[0m                                Traceback (most recent call last)",
      "Cell \u001B[1;32mIn[12], line 1\u001B[0m\n\u001B[1;32m----> 1\u001B[0m eval_res \u001B[38;5;241m=\u001B[39m \u001B[43mmodel\u001B[49m\u001B[38;5;241;43m.\u001B[39;49m\u001B[43mevaluate\u001B[49m\u001B[43m(\u001B[49m\u001B[43mx_train\u001B[49m\u001B[43m,\u001B[49m\u001B[43m \u001B[49m\u001B[43my_train\u001B[49m\u001B[43m,\u001B[49m\u001B[43m \u001B[49m\u001B[43mbatch_size\u001B[49m\u001B[38;5;241;43m=\u001B[39;49m\u001B[43m \u001B[49m\u001B[43mbatch_size\u001B[49m\u001B[43m)\u001B[49m\n",
      "File \u001B[1;32m~\\anaconda3\\envs\\BomNae-SLR\\lib\\site-packages\\keras\\src\\utils\\traceback_utils.py:122\u001B[0m, in \u001B[0;36mfilter_traceback.<locals>.error_handler\u001B[1;34m(*args, **kwargs)\u001B[0m\n\u001B[0;32m    119\u001B[0m     filtered_tb \u001B[38;5;241m=\u001B[39m _process_traceback_frames(e\u001B[38;5;241m.\u001B[39m__traceback__)\n\u001B[0;32m    120\u001B[0m     \u001B[38;5;66;03m# To get the full stack trace, call:\u001B[39;00m\n\u001B[0;32m    121\u001B[0m     \u001B[38;5;66;03m# `keras.config.disable_traceback_filtering()`\u001B[39;00m\n\u001B[1;32m--> 122\u001B[0m     \u001B[38;5;28;01mraise\u001B[39;00m e\u001B[38;5;241m.\u001B[39mwith_traceback(filtered_tb) \u001B[38;5;28;01mfrom\u001B[39;00m \u001B[38;5;28;01mNone\u001B[39;00m\n\u001B[0;32m    123\u001B[0m \u001B[38;5;28;01mfinally\u001B[39;00m:\n\u001B[0;32m    124\u001B[0m     \u001B[38;5;28;01mdel\u001B[39;00m filtered_tb\n",
      "File \u001B[1;32m~\\Documents\\capstone\\BomNae-SLR\\SLR_model.py:147\u001B[0m, in \u001B[0;36mSLRModel.call\u001B[1;34m(self, inputs)\u001B[0m\n\u001B[0;32m    144\u001B[0m \u001B[38;5;28;01mdef\u001B[39;00m \u001B[38;5;21mcall\u001B[39m(\u001B[38;5;28mself\u001B[39m, inputs):\n\u001B[0;32m    145\u001B[0m     \u001B[38;5;66;03m# inputs 0: L, 1: R, 2: Pose\u001B[39;00m\n\u001B[0;32m    146\u001B[0m     l_inputs, r_inputs, p_inputs \u001B[38;5;241m=\u001B[39m inputs\n\u001B[1;32m--> 147\u001B[0m     l_res \u001B[38;5;241m=\u001B[39m \u001B[38;5;28;43mself\u001B[39;49m\u001B[38;5;241;43m.\u001B[39;49m\u001B[43mleft_hand_model\u001B[49m\u001B[43m(\u001B[49m\u001B[43ml_inputs\u001B[49m\u001B[43m)\u001B[49m\n\u001B[0;32m    148\u001B[0m     r_res \u001B[38;5;241m=\u001B[39m \u001B[38;5;28mself\u001B[39m\u001B[38;5;241m.\u001B[39mright_hand_model(r_inputs)\n\u001B[0;32m    149\u001B[0m     p_res \u001B[38;5;241m=\u001B[39m \u001B[38;5;28mself\u001B[39m\u001B[38;5;241m.\u001B[39mpose_model(p_inputs)\n",
      "File \u001B[1;32m~\\Documents\\capstone\\BomNae-SLR\\SLR_model.py:89\u001B[0m, in \u001B[0;36mHandModel.call\u001B[1;34m(self, x, training)\u001B[0m\n\u001B[0;32m     87\u001B[0m \u001B[38;5;66;03m# current shape: (batch, convolved_time, convolved_h, convolved_w, filter_size)\u001B[39;00m\n\u001B[0;32m     88\u001B[0m x \u001B[38;5;241m=\u001B[39m tf\u001B[38;5;241m.\u001B[39msqueeze(x)\n\u001B[1;32m---> 89\u001B[0m x \u001B[38;5;241m=\u001B[39m \u001B[43mlayers\u001B[49m\u001B[38;5;241;43m.\u001B[39;49m\u001B[43mReshape\u001B[49m\u001B[43m(\u001B[49m\u001B[43m(\u001B[49m\u001B[43mconv_shape\u001B[49m\u001B[43m[\u001B[49m\u001B[38;5;241;43m1\u001B[39;49m\u001B[43m]\u001B[49m\u001B[43m,\u001B[49m\u001B[43m \u001B[49m\u001B[43mconv_shape\u001B[49m\u001B[43m[\u001B[49m\u001B[38;5;241;43m2\u001B[39;49m\u001B[43m]\u001B[49m\u001B[43m \u001B[49m\u001B[38;5;241;43m*\u001B[39;49m\u001B[43m \u001B[49m\u001B[43mconv_shape\u001B[49m\u001B[43m[\u001B[49m\u001B[38;5;241;43m3\u001B[39;49m\u001B[43m]\u001B[49m\u001B[43m \u001B[49m\u001B[38;5;241;43m*\u001B[39;49m\u001B[43m \u001B[49m\u001B[38;5;28;43mself\u001B[39;49m\u001B[38;5;241;43m.\u001B[39;49m\u001B[43mfilters\u001B[49m\u001B[43m)\u001B[49m\u001B[43m)\u001B[49m\u001B[43m(\u001B[49m\u001B[43mx\u001B[49m\u001B[43m)\u001B[49m\n\u001B[0;32m     90\u001B[0m \u001B[38;5;28;01mreturn\u001B[39;00m \u001B[38;5;28mself\u001B[39m\u001B[38;5;241m.\u001B[39mln(x, training\u001B[38;5;241m=\u001B[39m training)\n",
      "\u001B[1;31mValueError\u001B[0m: Exception encountered when calling HandModel.call().\n\n\u001B[1mas_list() is not defined on an unknown TensorShape.\u001B[0m\n\nArguments received by HandModel.call():\n  • x=tf.Tensor(shape=(None, 63, 4, 5, 3), dtype=float32)\n  • training=False"
     ]
    }
   ],
   "execution_count": 12
  },
  {
   "cell_type": "code",
   "id": "0140aa7d",
   "metadata": {
    "ExecuteTime": {
     "end_time": "2024-10-08T02:06:55.159044Z",
     "start_time": "2024-10-08T02:06:55.144043Z"
    }
   },
   "source": [
    "print(eval_res)"
   ],
   "outputs": [
    {
     "ename": "NameError",
     "evalue": "name 'eval_res' is not defined",
     "output_type": "error",
     "traceback": [
      "\u001B[1;31m---------------------------------------------------------------------------\u001B[0m",
      "\u001B[1;31mNameError\u001B[0m                                 Traceback (most recent call last)",
      "Cell \u001B[1;32mIn[13], line 1\u001B[0m\n\u001B[1;32m----> 1\u001B[0m \u001B[38;5;28mprint\u001B[39m(\u001B[43meval_res\u001B[49m)\n",
      "\u001B[1;31mNameError\u001B[0m: name 'eval_res' is not defined"
     ]
    }
   ],
   "execution_count": 13
  },
  {
   "cell_type": "code",
   "id": "c47fff4c",
   "metadata": {
    "ExecuteTime": {
     "end_time": "2024-10-08T02:06:56.655548Z",
     "start_time": "2024-10-08T02:06:56.650548Z"
    }
   },
   "source": [
    "model.metrics_names"
   ],
   "outputs": [
    {
     "data": {
      "text/plain": [
       "['loss', 'compile_metrics']"
      ]
     },
     "execution_count": 14,
     "metadata": {},
     "output_type": "execute_result"
    }
   ],
   "execution_count": 14
  },
  {
   "metadata": {},
   "cell_type": "code",
   "outputs": [],
   "execution_count": null,
   "source": "",
   "id": "66f69a5c253de31"
  }
 ],
 "metadata": {
  "kernelspec": {
   "display_name": "slr",
   "language": "python",
   "name": "python3"
  },
  "language_info": {
   "codemirror_mode": {
    "name": "ipython",
    "version": 3
   },
   "file_extension": ".py",
   "mimetype": "text/x-python",
   "name": "python",
   "nbconvert_exporter": "python",
   "pygments_lexer": "ipython3",
   "version": "3.9.20"
  }
 },
 "nbformat": 4,
 "nbformat_minor": 5
}
