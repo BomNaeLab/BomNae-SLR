{
 "cells": [
  {
   "cell_type": "code",
   "execution_count": 1,
   "id": "initial_id",
   "metadata": {
    "ExecuteTime": {
     "end_time": "2024-10-11T21:04:41.526201Z",
     "start_time": "2024-10-11T21:04:39.593424Z"
    },
    "collapsed": true
   },
   "outputs": [],
   "source": [
    "# import preprocess as prep\n",
    "import SLR_model\n",
    "import numpy as np\n",
    "import tensorflow as tf\n",
    "from tensorflow import keras\n",
    "import time\n",
    "import os\n",
    "import json\n",
    "import importlib\n",
    "from matplotlib import pyplot as plt\n",
    "import preprocess\n",
    "# from preprocess import person\n",
    "\n",
    "# model will output multiple(5) results/sec, how are we gonna handle it?"
   ]
  },
  {
   "cell_type": "code",
   "execution_count": 2,
   "id": "6787d32d",
   "metadata": {
    "ExecuteTime": {
     "end_time": "2024-10-11T21:04:42.233473Z",
     "start_time": "2024-10-11T21:04:42.213539Z"
    }
   },
   "outputs": [
    {
     "data": {
      "text/plain": [
       "<module 'preprocess' from 'C:\\\\Users\\\\shd\\\\Documents\\\\capstone\\\\BomNae-SLR\\\\preprocess.py'>"
      ]
     },
     "execution_count": 2,
     "metadata": {},
     "output_type": "execute_result"
    }
   ],
   "source": [
    " # reload model file\n",
    "importlib.reload(SLR_model)\n",
    "importlib.reload(preprocess)"
   ]
  },
  {
   "cell_type": "code",
   "execution_count": 3,
   "id": "000d0485",
   "metadata": {
    "ExecuteTime": {
     "end_time": "2024-10-11T21:04:43.371665Z",
     "start_time": "2024-10-11T21:04:43.367678Z"
    }
   },
   "outputs": [],
   "source": [
    "# Configurations\n",
    "load_size = 256 # number of data to be loaded at once\n",
    "epochs = 20\n",
    "batch_size = 16\n",
    "save_dir = \"saves\"\n",
    "load_dir = \"saves\"\n",
    "# load_path = \"C:/Users/jerry/Desktop/hly/2024-2/cap/BN_SLR/BomNae-SLR/checkpoints.keras\"\n"
   ]
  },
  {
   "cell_type": "code",
   "execution_count": 4,
   "id": "1834ce55",
   "metadata": {
    "ExecuteTime": {
     "end_time": "2024-10-11T21:04:44.319625Z",
     "start_time": "2024-10-11T21:04:44.315638Z"
    }
   },
   "outputs": [],
   "source": [
    "model = SLR_model.get_model()"
   ]
  },
  {
   "cell_type": "code",
   "execution_count": 21,
   "id": "a5bfbc39",
   "metadata": {
    "ExecuteTime": {
     "end_time": "2024-10-08T06:26:43.685444Z",
     "start_time": "2024-10-08T06:26:43.683444Z"
    }
   },
   "outputs": [],
   "source": [
    "# hand input shape: (batch, time, h, w, channels)\n",
    "# pose input shape: (batch, time, channel, features)"
   ]
  },
  {
   "cell_type": "code",
   "execution_count": 24,
   "id": "0526011b",
   "metadata": {
    "ExecuteTime": {
     "end_time": "2024-10-08T06:26:46.059598Z",
     "start_time": "2024-10-08T06:26:46.057598Z"
    }
   },
   "outputs": [],
   "source": [
    "# # 세이브된 모델 로드\n",
    "# load_path = os.join(load_dir, \"check_00-00-00.keras\")\n",
    "# model = SLR_model.load_model(load_path)"
   ]
  },
  {
   "cell_type": "code",
   "execution_count": 1,
   "id": "c4b5a386",
   "metadata": {
    "ExecuteTime": {
     "end_time": "2024-10-08T06:26:46.530597Z",
     "start_time": "2024-10-08T06:26:46.527597Z"
    }
   },
   "outputs": [],
   "source": [
    "# # 안될때 (강제중지 + 초기화)\n",
    "# tf.keras.backend.clear_session()"
   ]
  },
  {
   "cell_type": "code",
   "execution_count": null,
   "id": "0c5c05bc",
   "metadata": {
    "ExecuteTime": {
     "end_time": "2024-10-11T01:39:46.059413Z",
     "start_time": "2024-10-11T01:39:45.416414Z"
    }
   },
   "outputs": [],
   "source": [
    "# l_raws=[]\n",
    "# r_raws=[]\n",
    "# p_raws=[]\n",
    "# y_raws=[]\n",
    "\n",
    "\n",
    "# save_suffix = time.strftime(\"_%d-%H-%M\", time.localtime(time.time()))\n",
    "# check_path = os.path.join(save_dir, \"check\"+save_suffix)\n",
    "# hist_path = os.path.join(save_dir, \"hist\"+save_suffix+\".json\")\n",
    "\n",
    "# model_checkpoint_callback = keras.callbacks.ModelCheckpoint(\n",
    "#     filepath=f'{check_path}.keras',\n",
    "#     monitor='binary_accuracy',\n",
    "#     mode='max',\n",
    "#     save_freq='epoch',\n",
    "#     save_best_only=True)\n",
    "\n",
    "\n",
    "\n",
    "# l_raw, r_raw, p_raw, y_raw = preprocess.load_data(f\"1/1\")\n",
    "\n",
    "# l_raws.append(l_raw)\n",
    "# r_raws.append(r_raw)\n",
    "# p_raws.append(p_raw)\n",
    "# y_raws.append(y_raw)\n",
    "\n",
    "\n",
    "# l_train, each = SLR_model.serialize(l_raws)\n",
    "# r_train, each = SLR_model.serialize(r_raws)\n",
    "# p_train, each = SLR_model.serialize(p_raws, stride=2)\n",
    "# y_train = np.repeat(y_raws, each)\n",
    "# y_train = SLR_model.num_arr2bin(y_train, 12)\n",
    "# x_train = (l_train, r_train, p_train)\n",
    "\n",
    "# # dataset = SLR_model.convert_to_dataset(x_train, y_train, batch_size)\n",
    "# hist = model.fit(x_train, y_train, batch_size = 2, epochs=epochs, callbacks=[model_checkpoint_callback])\n",
    "\n",
    "# with open(hist_path, 'w') as file:\n",
    "#     json.dump(hist.history, file)\n"
   ]
  },
  {
   "cell_type": "code",
   "execution_count": 5,
   "id": "92dcc80486858dd7",
   "metadata": {
    "ExecuteTime": {
     "end_time": "2024-10-11T21:04:51.827367Z",
     "start_time": "2024-10-11T21:04:51.104479Z"
    }
   },
   "outputs": [
    {
     "name": "stdout",
     "output_type": "stream",
     "text": [
      "weight:138/l_raw:138\n",
      "weight:133/l_raw:133\n",
      "weight:94/l_raw:94\n",
      "weight:118/l_raw:118\n",
      "weight:114/l_raw:114\n",
      "weight:121/l_raw:121\n",
      "weight:137/l_raw:137\n",
      "weight:118/l_raw:118\n",
      "weight:131/l_raw:131\n",
      "weight:135/l_raw:135\n",
      "weight:112/l_raw:112\n",
      "weight:119/l_raw:119\n",
      "weight:103/l_raw:103\n",
      "weight:149/l_raw:149\n",
      "weight:112/l_raw:112\n",
      "weight:144/l_raw:144\n",
      "weight:105/l_raw:105\n",
      "weight:111/l_raw:111\n",
      "weight:110/l_raw:110\n",
      "weight:117/l_raw:117\n",
      "weight:107/l_raw:107\n",
      "weight:129/l_raw:129\n",
      "weight:132/l_raw:132\n",
      "weight:137/l_raw:137\n",
      "weight:118/l_raw:118\n",
      "weight:141/l_raw:141\n",
      "weight:138/l_raw:138\n",
      "weight:127/l_raw:127\n",
      "weight:116/l_raw:116\n",
      "weight:156/l_raw:156\n",
      "weight:124/l_raw:124\n",
      "weight:134/l_raw:134\n",
      "weight:165/l_raw:165\n",
      "weight:139/l_raw:139\n",
      "weight:139/l_raw:139\n",
      "weight:134/l_raw:134\n",
      "weight:132/l_raw:132\n",
      "weight:124/l_raw:124\n",
      "weight:148/l_raw:148\n",
      "weight:109/l_raw:109\n",
      "weight:141/l_raw:141\n",
      "weight:139/l_raw:139\n",
      "weight:101/l_raw:101\n",
      "weight:124/l_raw:124\n",
      "weight:123/l_raw:123\n",
      "weight:120/l_raw:120\n",
      "weight:157/l_raw:157\n",
      "weight:128/l_raw:128\n",
      "weight:132/l_raw:132\n",
      "weight:138/l_raw:138\n",
      "weight:116/l_raw:116\n",
      "weight:125/l_raw:125\n",
      "weight:155/l_raw:155\n",
      "weight:124/l_raw:124\n",
      "weight:114/l_raw:114\n",
      "weight:138/l_raw:138\n",
      "weight:124/l_raw:124\n",
      "weight:93/l_raw:93\n",
      "weight:123/l_raw:123\n",
      "weight:128/l_raw:128\n",
      "weight:120/l_raw:120\n",
      "weight:137/l_raw:137\n",
      "weight:114/l_raw:114\n",
      "weight:128/l_raw:128\n",
      "weight:149/l_raw:149\n",
      "weight:112/l_raw:112\n",
      "weight:123/l_raw:123\n",
      "weight:152/l_raw:152\n",
      "weight:129/l_raw:129\n",
      "weight:151/l_raw:151\n",
      "weight:142/l_raw:142\n",
      "weight:109/l_raw:109\n",
      "weight:156/l_raw:156\n",
      "weight:138/l_raw:138\n",
      "weight:138/l_raw:138\n",
      "weight:129/l_raw:129\n",
      "weight:154/l_raw:154\n",
      "weight:123/l_raw:123\n",
      "weight:129/l_raw:129\n",
      "weight:162/l_raw:162\n",
      "weight:140/l_raw:140\n",
      "weight:118/l_raw:118\n",
      "weight:98/l_raw:98\n",
      "weight:154/l_raw:154\n",
      "weight:126/l_raw:126\n",
      "weight:125/l_raw:125\n",
      "weight:110/l_raw:110\n",
      "weight:128/l_raw:128\n",
      "weight:133/l_raw:133\n",
      "weight:118/l_raw:118\n",
      "weight:130/l_raw:130\n",
      "weight:115/l_raw:115\n",
      "weight:110/l_raw:110\n",
      "weight:128/l_raw:128\n",
      "weight:135/l_raw:135\n",
      "weight:114/l_raw:114\n",
      "weight:115/l_raw:115\n",
      "weight:121/l_raw:121\n",
      "weight:116/l_raw:116\n",
      "weight:115/l_raw:115\n",
      "weight:103/l_raw:103\n",
      "weight:86/l_raw:86\n",
      "weight:130/l_raw:130\n",
      "weight:129/l_raw:129\n",
      "weight:110/l_raw:110\n",
      "weight:147/l_raw:147\n",
      "weight:151/l_raw:151\n",
      "weight:93/l_raw:93\n",
      "weight:103/l_raw:103\n",
      "weight:108/l_raw:108\n",
      "weight:130/l_raw:130\n",
      "weight:133/l_raw:133\n",
      "weight:132/l_raw:132\n",
      "weight:108/l_raw:108\n",
      "weight:132/l_raw:132\n",
      "weight:110/l_raw:110\n",
      "weight:132/l_raw:132\n",
      "weight:126/l_raw:126\n",
      "weight:128/l_raw:128\n",
      "weight:116/l_raw:116\n",
      "weight:110/l_raw:110\n",
      "weight:116/l_raw:116\n",
      "weight:119/l_raw:119\n",
      "weight:151/l_raw:151\n",
      "weight:140/l_raw:140\n",
      "weight:120/l_raw:120\n",
      "weight:100/l_raw:100\n",
      "weight:116/l_raw:116\n",
      "weight:124/l_raw:124\n",
      "weight:124/l_raw:124\n",
      "weight:124/l_raw:124\n",
      "weight:131/l_raw:131\n",
      "weight:116/l_raw:116\n",
      "weight:138/l_raw:138\n",
      "weight:113/l_raw:113\n",
      "weight:127/l_raw:127\n",
      "weight:158/l_raw:158\n",
      "weight:117/l_raw:117\n",
      "weight:131/l_raw:131\n",
      "weight:113/l_raw:113\n",
      "weight:119/l_raw:119\n",
      "weight:136/l_raw:136\n",
      "weight:109/l_raw:109\n",
      "weight:135/l_raw:135\n",
      "weight:128/l_raw:128\n",
      "weight:151/l_raw:151\n",
      "weight:135/l_raw:135\n",
      "weight:139/l_raw:139\n",
      "weight:142/l_raw:142\n",
      "weight:130/l_raw:130\n",
      "weight:161/l_raw:161\n",
      "weight:136/l_raw:136\n",
      "weight:139/l_raw:139\n",
      "weight:132/l_raw:132\n",
      "weight:145/l_raw:145\n",
      "weight:113/l_raw:113\n",
      "weight:143/l_raw:143\n",
      "weight:137/l_raw:137\n",
      "weight:120/l_raw:120\n",
      "weight:113/l_raw:113\n",
      "weight:121/l_raw:121\n",
      "weight:122/l_raw:122\n",
      "weight:129/l_raw:129\n",
      "weight:144/l_raw:144\n",
      "weight:129/l_raw:129\n",
      "weight:127/l_raw:127\n",
      "weight:145/l_raw:145\n",
      "weight:106/l_raw:106\n",
      "weight:114/l_raw:114\n",
      "weight:103/l_raw:103\n",
      "weight:108/l_raw:108\n",
      "weight:116/l_raw:116\n",
      "weight:124/l_raw:124\n",
      "weight:112/l_raw:112\n",
      "weight:127/l_raw:127\n",
      "weight:108/l_raw:108\n",
      "weight:111/l_raw:111\n",
      "weight:120/l_raw:120\n",
      "weight:108/l_raw:108\n",
      "weight:121/l_raw:121\n",
      "weight:145/l_raw:145\n",
      "weight:119/l_raw:119\n",
      "weight:125/l_raw:125\n",
      "weight:173/l_raw:173\n",
      "weight:128/l_raw:128\n",
      "weight:126/l_raw:126\n",
      "weight:132/l_raw:132\n",
      "weight:145/l_raw:145\n",
      "weight:116/l_raw:116\n",
      "weight:114/l_raw:114\n",
      "weight:124/l_raw:124\n",
      "weight:113/l_raw:113\n",
      "weight:125/l_raw:125\n",
      "weight:100/l_raw:100\n",
      "weight:121/l_raw:121\n",
      "weight:135/l_raw:135\n",
      "weight:102/l_raw:102\n",
      "weight:117/l_raw:117\n",
      "weight:112/l_raw:112\n",
      "weight:114/l_raw:114\n",
      "weight:107/l_raw:107\n",
      "weight:115/l_raw:115\n",
      "weight:116/l_raw:116\n",
      "weight:154/l_raw:154\n",
      "weight:153/l_raw:153\n",
      "weight:126/l_raw:126\n",
      "weight:136/l_raw:136\n",
      "weight:131/l_raw:131\n",
      "weight:112/l_raw:112\n",
      "weight:129/l_raw:129\n",
      "weight:117/l_raw:117\n",
      "weight:124/l_raw:124\n",
      "weight:134/l_raw:134\n",
      "weight:115/l_raw:115\n",
      "weight:122/l_raw:122\n",
      "weight:111/l_raw:111\n",
      "weight:106/l_raw:106\n",
      "weight:130/l_raw:130\n",
      "weight:115/l_raw:115\n",
      "weight:141/l_raw:141\n",
      "weight:123/l_raw:123\n",
      "weight:107/l_raw:107\n",
      "weight:105/l_raw:105\n",
      "weight:99/l_raw:99\n",
      "weight:149/l_raw:149\n",
      "weight:108/l_raw:108\n",
      "weight:101/l_raw:101\n",
      "weight:105/l_raw:105\n",
      "weight:102/l_raw:102\n",
      "weight:102/l_raw:102\n",
      "weight:105/l_raw:105\n",
      "weight:119/l_raw:119\n",
      "weight:105/l_raw:105\n",
      "weight:131/l_raw:131\n",
      "weight:107/l_raw:107\n",
      "weight:122/l_raw:122\n",
      "weight:106/l_raw:106\n",
      "weight:114/l_raw:114\n",
      "weight:102/l_raw:102\n",
      "weight:123/l_raw:123\n",
      "weight:104/l_raw:104\n",
      "weight:100/l_raw:100\n",
      "weight:96/l_raw:96\n",
      "weight:107/l_raw:107\n",
      "weight:110/l_raw:110\n",
      "weight:119/l_raw:119\n",
      "weight:96/l_raw:96\n",
      "weight:120/l_raw:120\n",
      "weight:111/l_raw:111\n",
      "weight:107/l_raw:107\n",
      "weight:98/l_raw:98\n",
      "weight:151/l_raw:151\n",
      "weight:120/l_raw:120\n",
      "weight:105/l_raw:105\n",
      "weight:105/l_raw:105\n",
      "weight:116/l_raw:116\n",
      "person:1 :   ~ 0256.npz\n"
     ]
    },
    {
     "ename": "TypeError",
     "evalue": "serialize() got an unexpected keyword argument 'loss_weights'",
     "output_type": "error",
     "traceback": [
      "\u001b[1;31m---------------------------------------------------------------------------\u001b[0m",
      "\u001b[1;31mTypeError\u001b[0m                                 Traceback (most recent call last)",
      "Cell \u001b[1;32mIn[5], line 44\u001b[0m\n\u001b[0;32m     42\u001b[0m l_train, each \u001b[38;5;241m=\u001b[39m SLR_model\u001b[38;5;241m.\u001b[39mserialize(l_raws)\n\u001b[0;32m     43\u001b[0m r_train, each \u001b[38;5;241m=\u001b[39m SLR_model\u001b[38;5;241m.\u001b[39mserialize(r_raws)\n\u001b[1;32m---> 44\u001b[0m p_train, each, loss_weights \u001b[38;5;241m=\u001b[39m \u001b[43mSLR_model\u001b[49m\u001b[38;5;241;43m.\u001b[39;49m\u001b[43mserialize\u001b[49m\u001b[43m(\u001b[49m\u001b[43mp_raws\u001b[49m\u001b[43m,\u001b[49m\u001b[43m \u001b[49m\u001b[43mstride\u001b[49m\u001b[38;5;241;43m=\u001b[39;49m\u001b[38;5;241;43m2\u001b[39;49m\u001b[43m,\u001b[49m\u001b[43m \u001b[49m\u001b[43mloss_weights\u001b[49m\u001b[38;5;241;43m=\u001b[39;49m\u001b[43mloss_weights_raws\u001b[49m\u001b[43m)\u001b[49m\n\u001b[0;32m     45\u001b[0m y_train_truth \u001b[38;5;241m=\u001b[39m np\u001b[38;5;241m.\u001b[39mrepeat(y_raws, each)\n\u001b[0;32m     46\u001b[0m y_train_truth \u001b[38;5;241m=\u001b[39m SLR_model\u001b[38;5;241m.\u001b[39mnum_arr2bin(y_train_truth, \u001b[38;5;241m12\u001b[39m)\n",
      "\u001b[1;31mTypeError\u001b[0m: serialize() got an unexpected keyword argument 'loss_weights'"
     ]
    }
   ],
   "source": [
    " # reload model file\n",
    "importlib.reload(SLR_model)\n",
    "importlib.reload(preprocess)\n",
    "end_file=preprocess.getoutputdir()\n",
    "\n",
    "save_suffix = time.strftime(\"_%d-%H-%M\", time.localtime(time.time()))\n",
    "check_path = os.path.join(save_dir, \"check\"+save_suffix)\n",
    "hist_path = os.path.join(save_dir, \"hist\"+save_suffix+\".json\")\n",
    "\n",
    "model_checkpoint_callback = keras.callbacks.ModelCheckpoint(\n",
    "    filepath=f'{check_path}.keras',\n",
    "    monitor='binary_accuracy',\n",
    "    mode='max',\n",
    "    save_freq='epoch',\n",
    "    save_best_only=True)\n",
    "\n",
    "\n",
    "for i in range(1,17):\n",
    "    load_size_j=load_size\n",
    "    l_raws=[]\n",
    "    r_raws=[]\n",
    "    p_raws=[]\n",
    "    y_raws=[]\n",
    "    loss_weights_raws=[]\n",
    "    start_word=\" \"\n",
    "    \n",
    "    for j in os.listdir(os.path.join(preprocess.getoutputdir(),str(i))):\n",
    "        l_raw, r_raw, p_raw, y_raw, loss_weights_raw = preprocess.load_data(f\"{i}/{j}\")\n",
    "        l_raws.append(l_raw)\n",
    "        r_raws.append(r_raw)\n",
    "        p_raws.append(p_raw)\n",
    "        y_raws.append(y_raw)\n",
    "        loss_weights_raws.append(loss_weights_raw)\n",
    "        if len(l_raws)==0:\n",
    "            start_word = j\n",
    "        else:\n",
    "            end_word = j\n",
    "        if len(l_raws)>=load_size:\n",
    "            print(f\"person:{i} : {start_word} ~ {end_word}\")\n",
    "            l_train, each = SLR_model.serialize(l_raws)\n",
    "            r_train, each = SLR_model.serialize(r_raws)\n",
    "            p_train, each, sample_weights = SLR_model.serialize(p_raws, stride=2, loss_weights_list=loss_weights_raws)\n",
    "            x_train = (l_train, r_train, p_train)\n",
    "            \n",
    "            y_train = np.repeat(y_raws, each)\n",
    "            y_train = SLR_model.num_arr2bin(y_train, 12)\n",
    "\n",
    "            dataset = SLR_model.convert_to_dataset(x_train, y_train, batch_size, sample_weights)\n",
    "            hist = model.fit(dataset, epochs=epochs, callbacks=[model_checkpoint_callback])\n",
    "            \n",
    "            with open(hist_path, 'w') as file:\n",
    "                json.dump(hist.history, file)\n",
    "            l_raws.clear()\n",
    "            r_raws.clear()\n",
    "            p_raws.clear()\n",
    "            y_raws.clear()\n",
    "            loss_weights_raws.clear()\n",
    "    if len(l_raws)>0:\n",
    "        l_train, each = SLR_model.serialize(l_raws)\n",
    "        r_train, each = SLR_model.serialize(r_raws)\n",
    "        p_train, each, sample_weights = SLR_model.serialize(p_raws, stride=2, loss_weights_list=loss_weights_raws)\n",
    "        x_train = (l_train, r_train, p_train)\n",
    "        \n",
    "        y_train = np.repeat(y_raws, each)\n",
    "        y_train = SLR_model.num_arr2bin(y_train, 12)\n",
    "\n",
    "        dataset = SLR_model.convert_to_dataset(x_train, y_train, batch_size, sample_weights)\n",
    "        hist = model.fit(dataset, epochs=epochs, callbacks=[model_checkpoint_callback])\n",
    "        \n",
    "        with open(hist_path, 'w') as file:\n",
    "            json.dump(hist.history, file)\n",
    "\n",
    "    "
   ]
  },
  {
   "cell_type": "code",
   "execution_count": 37,
   "id": "14bad08f",
   "metadata": {
    "ExecuteTime": {
     "end_time": "2024-10-08T16:26:30.496230Z",
     "start_time": "2024-10-08T16:26:30.439230Z"
    }
   },
   "outputs": [
    {
     "data": {
      "image/png": "[encoded data removed]",
      "text/plain": [
       "<Figure size 640x480 with 1 Axes>"
      ]
     },
     "metadata": {},
     "output_type": "display_data"
    }
   ],
   "source": [
    "plt.plot(range(len(hist.history['loss'])), hist.history['loss'])\n",
    "plt.scatter(range(len(hist.history['loss'])), hist.history['loss'])\n",
    "plt.xlabel(\"epochs\")\n",
    "plt.ylabel(\"loss\")\n",
    "plt.legend([\"loss\"])\n",
    "plt.ylim((0,1))\n",
    "plt.show()"
   ]
  },
  {
   "cell_type": "code",
   "execution_count": 14,
   "id": "c47fff4c",
   "metadata": {
    "ExecuteTime": {
     "end_time": "2024-10-08T02:06:56.655548Z",
     "start_time": "2024-10-08T02:06:56.650548Z"
    }
   },
   "outputs": [
    {
     "data": {
      "text/plain": [
       "['loss', 'compile_metrics']"
      ]
     },
     "execution_count": 14,
     "metadata": {},
     "output_type": "execute_result"
    }
   ],
   "source": [
    "model.metrics_names"
   ]
  }
 ],
 "metadata": {
  "kernelspec": {
   "display_name": "slr",
   "language": "python",
   "name": "python3"
  },
  "language_info": {
   "codemirror_mode": {
    "name": "ipython",
    "version": 3
   },
   "file_extension": ".py",
   "mimetype": "text/x-python",
   "name": "python",
   "nbconvert_exporter": "python",
   "pygments_lexer": "ipython3",
   "version": "3.9.20"
  }
 },
 "nbformat": 4,
 "nbformat_minor": 5
}
