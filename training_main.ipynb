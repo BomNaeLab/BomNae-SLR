{
 "cells": [
  {
   "cell_type": "code",
   "execution_count": null,
   "id": "initial_id",
   "metadata": {
    "collapsed": true
   },
   "outputs": [],
   "source": [
    "import preprocess as prep\n",
    "import model\n",
    "\n",
    "# preprocess / load preprocessed data (preprocess.py)\n",
    "# mini batching\n",
    "\n",
    "# load model(can quickly change model by changing imported model)\n",
    "# train / log\n",
    "# generate checkpointsß"
   ]
  }
 ],
 "metadata": {
  "kernelspec": {
   "display_name": "Python 3",
   "language": "python",
   "name": "python3"
  },
  "language_info": {
   "codemirror_mode": {
    "name": "ipython",
    "version": 2
   },
   "file_extension": ".py",
   "mimetype": "text/x-python",
   "name": "python",
   "nbconvert_exporter": "python",
   "pygments_lexer": "ipython2",
   "version": "2.7.6"
  }
 },
 "nbformat": 4,
 "nbformat_minor": 5
}
