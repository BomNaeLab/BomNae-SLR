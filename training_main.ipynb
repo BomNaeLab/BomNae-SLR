{
 "cells": [
  {
   "cell_type": "code",
   "id": "initial_id",
   "metadata": {
    "collapsed": true,
    "ExecuteTime": {
     "end_time": "2024-10-07T03:45:47.079804Z",
     "start_time": "2024-10-07T03:45:46.877805Z"
    }
   },
   "source": [
    "# import preprocess as prep\n",
    "import SLR_model\n",
    "import numpy as np\n",
    "from tensorflow import keras\n",
    "from datetime import datetime\n",
    "import os\n",
    "import importlib\n",
    "from matplotlib import pyplot as plt\n",
    "\n",
    "# preprocess / load preprocessed data (preprocess.py)\n",
    "# mini batching\n",
    "import preprocess\n",
    "# load model(can quickly change model by changing imported model)\n",
    "# train / log\n",
    "# generate checkpoints\n",
    "\n",
    "# this will output 15 results/sec, how are we gonna handle it?"
   ],
   "outputs": [],
   "execution_count": 3
  },
  {
   "cell_type": "code",
   "id": "6787d32d",
   "metadata": {
    "ExecuteTime": {
     "end_time": "2024-10-07T03:45:48.466804Z",
     "start_time": "2024-10-07T03:45:48.450804Z"
    }
   },
   "source": [
    " # reload model file\n",
    "importlib.reload(SLR_model)\n",
    "importlib.reload(preprocess)"
   ],
   "outputs": [
    {
     "data": {
      "text/plain": [
       "<module 'preprocess' from 'C:\\\\Users\\\\shd\\\\Documents\\\\capstone\\\\BomNae-SLR\\\\preprocess.py'>"
      ]
     },
     "execution_count": 4,
     "metadata": {},
     "output_type": "execute_result"
    }
   ],
   "execution_count": 4
  },
  {
   "cell_type": "code",
   "id": "24152fba",
   "metadata": {
    "ExecuteTime": {
     "end_time": "2024-10-07T03:51:31.611803Z",
     "start_time": "2024-10-07T03:51:31.605803Z"
    }
   },
   "source": [
    "# utility functions\n",
    "\n",
    "def bin2num(bin_arr):\n",
    "    # big endian\n",
    "    # lower index > higher exponent\n",
    "    num = 0\n",
    "    for val in bin_arr:\n",
    "        num = (num << 1) | val\n",
    "    return num\n",
    "\n",
    "# def num2bin(num, arr_len = -1):\n",
    "#     # big endian\n",
    "#     # lower index > higher exponent\n",
    "#     bin_arr = [int(x) for x in bin(num)[2:]]\n",
    "#     diff = arr_len - len(bin_arr)\n",
    "#     if diff < 1:\n",
    "#         return bin_arr\n",
    "#     else:\n",
    "#         pad = [0] * diff\n",
    "#         return pad+bin_arr\n",
    "    \n",
    "def num_arr2bin(num_arr, out_len = -1):\n",
    "    # big endian\n",
    "    # lower index > higher exponent\n",
    "    res = []\n",
    "    for num in num_arr:\n",
    "        str_list = list(np.binary_repr(num).zfill(out_len))\n",
    "        bin_arr = np.array(str_list, dtype=np.float32)\n",
    "        res.append(bin_arr)\n",
    "    return np.array(res)\n",
    "\n",
    "def serialize(vids, stride = 1):\n",
    "    \"\"\"input shape: (load_size, frames)\\n\n",
    "    ouput shape: (load_size, input_seq_size, 63 or 32, frames)\"\"\"\n",
    "    each_size = []\n",
    "    x_res = []\n",
    "    for vid in vids:\n",
    "        window_len = 0\n",
    "        start = 0\n",
    "        while (start + 63) < len(vid):\n",
    "            x_res.append(vid[start: start+63: stride])\n",
    "            window_len += 1\n",
    "            start += 6\n",
    "        each_size.append(window_len)\n",
    "    return np.array(x_res), each_size"
   ],
   "outputs": [],
   "execution_count": 29
  },
  {
   "cell_type": "code",
   "id": "000d0485",
   "metadata": {
    "ExecuteTime": {
     "end_time": "2024-10-07T03:51:32.292808Z",
     "start_time": "2024-10-07T03:51:32.289807Z"
    }
   },
   "source": [
    "# Configurations\n",
    "load_size = 256 # number of data to be loaded at once\n",
    "epochs = 8\n",
    "batch_size = 16\n",
    "save_dir = \"checkpoints\"\n",
    "load_path = \"checkpoints\"\n"
   ],
   "outputs": [],
   "execution_count": 30
  },
  {
   "cell_type": "code",
   "id": "f4295770",
   "metadata": {
    "ExecuteTime": {
     "end_time": "2024-10-07T03:51:32.823018Z",
     "start_time": "2024-10-07T03:51:32.820018Z"
    }
   },
   "source": [
    "# checkpoint_filepath = '/tmp/ckpt/checkpoint.model.keras'\n",
    "model_checkpoint_callback = keras.callbacks.ModelCheckpoint(\n",
    "    filepath=f'{save_dir}.keras',\n",
    "    monitor='binary_accuracy',\n",
    "    mode='max',\n",
    "    save_freq='epoch',\n",
    "    save_best_only=True)"
   ],
   "outputs": [],
   "execution_count": 31
  },
  {
   "cell_type": "code",
   "id": "57ebc580",
   "metadata": {
    "ExecuteTime": {
     "end_time": "2024-10-07T03:51:33.445018Z",
     "start_time": "2024-10-07T03:51:33.334017Z"
    }
   },
   "source": "l_raw, r_raw, p_raw, y_raw ,check_raw= preprocess.load_word(1,1,load_size)",
   "outputs": [],
   "execution_count": 32
  },
  {
   "metadata": {
    "ExecuteTime": {
     "end_time": "2024-10-07T03:51:33.885052Z",
     "start_time": "2024-10-07T03:51:33.883053Z"
    }
   },
   "cell_type": "code",
   "source": "print(l_raw[0].shape)",
   "id": "57b568b83ec57676",
   "outputs": [
    {
     "name": "stdout",
     "output_type": "stream",
     "text": [
      "(138, 4, 5, 3)\n"
     ]
    }
   ],
   "execution_count": 33
  },
  {
   "cell_type": "code",
   "id": "5ea9984a",
   "metadata": {
    "ExecuteTime": {
     "end_time": "2024-10-07T03:51:34.509016Z",
     "start_time": "2024-10-07T03:51:34.499016Z"
    }
   },
   "source": [
    "# dummy x_raw data\n",
    "l_raw = []\n",
    "for i in range(load_size):\n",
    "    h_elem = np.zeros(shape=(4,5,3))\n",
    "    # p_elem = np.zeros(shape=(3,10))\n",
    "    # comb_elem = [h_elem, h_elem, p_elem]\n",
    "    x_elem = []\n",
    "    for j in range(np.random.randint(70,71)): # frame size\n",
    "        x_elem.append(h_elem)\n",
    "        # x_elem.append(comb_elem)\n",
    "    l_raw.append(x_elem)\n",
    "r_raw = []\n",
    "for i in range(load_size):\n",
    "    h_elem = np.zeros(shape=(4,5,3))\n",
    "    # p_elem = np.zeros(shape=(3,10))\n",
    "    # comb_elem = [h_elem, h_elem, p_elem]\n",
    "    x_elem = []\n",
    "    for j in range(np.random.randint(70,71)): # frame size\n",
    "        x_elem.append(h_elem)\n",
    "        # x_elem.append(comb_elem)\n",
    "    r_raw.append(x_elem)\n",
    "p_raw = []\n",
    "for i in range(load_size):\n",
    "    # h_elem = np.zeros(shape=(4,5,3))\n",
    "    p_elem = np.zeros(shape=(3,10))\n",
    "    # comb_elem = [h_elem, h_elem, p_elem]\n",
    "    x_elem = []\n",
    "    for j in range(np.random.randint(70,71)): # frame size\n",
    "        # x_elem.append(h_elem)\n",
    "        x_elem.append(p_elem)\n",
    "        # x_elem.append(comb_elem)\n",
    "    p_raw.append(x_elem)\n",
    "\n",
    "# dummy y_raw data\n",
    "y_raw = np.random.randint(0,1024,load_size)"
   ],
   "outputs": [],
   "execution_count": 34
  },
  {
   "cell_type": "code",
   "id": "014f0ab7",
   "metadata": {
    "ExecuteTime": {
     "end_time": "2024-10-07T03:51:35.312020Z",
     "start_time": "2024-10-07T03:51:35.288016Z"
    }
   },
   "source": [
    "l_train, each = serialize(l_raw)\n",
    "r_train, each = serialize(r_raw)\n",
    "p_train, each = serialize(p_raw, stride=2)\n",
    "y_train = np.repeat(y_raw, each)\n",
    "y_train = num_arr2bin(y_train, 12)"
   ],
   "outputs": [],
   "execution_count": 35
  },
  {
   "cell_type": "code",
   "id": "a5bfbc39",
   "metadata": {
    "ExecuteTime": {
     "end_time": "2024-10-07T03:51:36.029023Z",
     "start_time": "2024-10-07T03:51:36.025023Z"
    }
   },
   "source": [
    "# dummy data for model testing\n",
    "# hand input shape: (batch, time, h, w, channels)\n",
    "# pose input shape: (batch, time, channel, features)\n",
    "# hand_l_dummy = np.zeros(shape=(load_size, 63, 4, 5, 3))\n",
    "# hand_r_dummy = np.zeros(shape=(load_size, 63, 4, 5, 3))\n",
    "# pose_dummy = np.zeros(shape=(load_size, 32, 3, 10))\n",
    "# x_dummy = (hand_l_dummy, hand_r_dummy, pose_dummy)\n",
    "# y_dummy1 = np.ones(shape=(load_size, 12))\n",
    "# y_dummy0 = np.zeros(shape=(load_size, 12))"
   ],
   "outputs": [],
   "execution_count": 36
  },
  {
   "cell_type": "code",
   "id": "740740d7",
   "metadata": {
    "ExecuteTime": {
     "end_time": "2024-10-07T03:51:36.572217Z",
     "start_time": "2024-10-07T03:51:36.570217Z"
    }
   },
   "source": [
    "x_train = (l_train, r_train, p_train)\n"
   ],
   "outputs": [],
   "execution_count": 37
  },
  {
   "cell_type": "code",
   "id": "579bacc3",
   "metadata": {
    "ExecuteTime": {
     "end_time": "2024-10-07T03:51:37.280217Z",
     "start_time": "2024-10-07T03:51:37.277216Z"
    }
   },
   "source": "x_train[0].shape",
   "outputs": [
    {
     "data": {
      "text/plain": [
       "(512, 63, 4, 5, 3)"
      ]
     },
     "execution_count": 38,
     "metadata": {},
     "output_type": "execute_result"
    }
   ],
   "execution_count": 38
  },
  {
   "cell_type": "code",
   "id": "0091d38e",
   "metadata": {
    "ExecuteTime": {
     "end_time": "2024-10-07T03:51:37.646216Z",
     "start_time": "2024-10-07T03:51:37.642216Z"
    }
   },
   "source": " y_train.shape",
   "outputs": [
    {
     "data": {
      "text/plain": [
       "(512, 12)"
      ]
     },
     "execution_count": 39,
     "metadata": {},
     "output_type": "execute_result"
    }
   ],
   "execution_count": 39
  },
  {
   "cell_type": "code",
   "id": "1834ce55",
   "metadata": {
    "ExecuteTime": {
     "end_time": "2024-10-07T03:51:38.125216Z",
     "start_time": "2024-10-07T03:51:38.123215Z"
    }
   },
   "source": [
    "model = SLR_model.get_model()"
   ],
   "outputs": [],
   "execution_count": 40
  },
  {
   "cell_type": "code",
   "id": "0526011b",
   "metadata": {
    "ExecuteTime": {
     "end_time": "2024-10-07T03:51:38.707215Z",
     "start_time": "2024-10-07T03:51:38.691215Z"
    }
   },
   "source": [
    "model = SLR_model.load_model(load_path)"
   ],
   "outputs": [
    {
     "ename": "ValueError",
     "evalue": "File format not supported: filepath=checkpoints. Keras 3 only supports V3 `.keras` files and legacy H5 format files (`.h5` extension). Note that the legacy SavedModel format is not supported by `load_model()` in Keras 3. In order to reload a TensorFlow SavedModel as an inference-only layer in Keras 3, use `keras.layers.TFSMLayer(checkpoints, call_endpoint='serving_default')` (note that your `call_endpoint` might have a different name).",
     "output_type": "error",
     "traceback": [
      "\u001B[1;31m---------------------------------------------------------------------------\u001B[0m",
      "\u001B[1;31mValueError\u001B[0m                                Traceback (most recent call last)",
      "Cell \u001B[1;32mIn[41], line 1\u001B[0m\n\u001B[1;32m----> 1\u001B[0m model \u001B[38;5;241m=\u001B[39m \u001B[43mSLR_model\u001B[49m\u001B[38;5;241;43m.\u001B[39;49m\u001B[43mload_model\u001B[49m\u001B[43m(\u001B[49m\u001B[43mload_path\u001B[49m\u001B[43m)\u001B[49m\n",
      "File \u001B[1;32m~\\Documents\\capstone\\BomNae-SLR\\SLR_model.py:225\u001B[0m, in \u001B[0;36mload_model\u001B[1;34m(file_path)\u001B[0m\n\u001B[0;32m    223\u001B[0m \u001B[38;5;28;01mdef\u001B[39;00m \u001B[38;5;21mload_model\u001B[39m(file_path):\n\u001B[0;32m    224\u001B[0m     \u001B[38;5;28;01mglobal\u001B[39;00m model\n\u001B[1;32m--> 225\u001B[0m     model \u001B[38;5;241m=\u001B[39m \u001B[43mkeras\u001B[49m\u001B[38;5;241;43m.\u001B[39;49m\u001B[43mmodels\u001B[49m\u001B[38;5;241;43m.\u001B[39;49m\u001B[43mload_model\u001B[49m\u001B[43m(\u001B[49m\u001B[43mfile_path\u001B[49m\u001B[43m)\u001B[49m\n\u001B[0;32m    226\u001B[0m     \u001B[38;5;28;01mreturn\u001B[39;00m model\n",
      "File \u001B[1;32m~\\anaconda3\\envs\\BomNae-SLR\\lib\\site-packages\\keras\\src\\saving\\saving_api.py:206\u001B[0m, in \u001B[0;36mload_model\u001B[1;34m(filepath, custom_objects, compile, safe_mode)\u001B[0m\n\u001B[0;32m    200\u001B[0m     \u001B[38;5;28;01mraise\u001B[39;00m \u001B[38;5;167;01mValueError\u001B[39;00m(\n\u001B[0;32m    201\u001B[0m         \u001B[38;5;124mf\u001B[39m\u001B[38;5;124m\"\u001B[39m\u001B[38;5;124mFile not found: filepath=\u001B[39m\u001B[38;5;132;01m{\u001B[39;00mfilepath\u001B[38;5;132;01m}\u001B[39;00m\u001B[38;5;124m. \u001B[39m\u001B[38;5;124m\"\u001B[39m\n\u001B[0;32m    202\u001B[0m         \u001B[38;5;124m\"\u001B[39m\u001B[38;5;124mPlease ensure the file is an accessible `.keras` \u001B[39m\u001B[38;5;124m\"\u001B[39m\n\u001B[0;32m    203\u001B[0m         \u001B[38;5;124m\"\u001B[39m\u001B[38;5;124mzip file.\u001B[39m\u001B[38;5;124m\"\u001B[39m\n\u001B[0;32m    204\u001B[0m     )\n\u001B[0;32m    205\u001B[0m \u001B[38;5;28;01melse\u001B[39;00m:\n\u001B[1;32m--> 206\u001B[0m     \u001B[38;5;28;01mraise\u001B[39;00m \u001B[38;5;167;01mValueError\u001B[39;00m(\n\u001B[0;32m    207\u001B[0m         \u001B[38;5;124mf\u001B[39m\u001B[38;5;124m\"\u001B[39m\u001B[38;5;124mFile format not supported: filepath=\u001B[39m\u001B[38;5;132;01m{\u001B[39;00mfilepath\u001B[38;5;132;01m}\u001B[39;00m\u001B[38;5;124m. \u001B[39m\u001B[38;5;124m\"\u001B[39m\n\u001B[0;32m    208\u001B[0m         \u001B[38;5;124m\"\u001B[39m\u001B[38;5;124mKeras 3 only supports V3 `.keras` files and \u001B[39m\u001B[38;5;124m\"\u001B[39m\n\u001B[0;32m    209\u001B[0m         \u001B[38;5;124m\"\u001B[39m\u001B[38;5;124mlegacy H5 format files (`.h5` extension). \u001B[39m\u001B[38;5;124m\"\u001B[39m\n\u001B[0;32m    210\u001B[0m         \u001B[38;5;124m\"\u001B[39m\u001B[38;5;124mNote that the legacy SavedModel format is not \u001B[39m\u001B[38;5;124m\"\u001B[39m\n\u001B[0;32m    211\u001B[0m         \u001B[38;5;124m\"\u001B[39m\u001B[38;5;124msupported by `load_model()` in Keras 3. In \u001B[39m\u001B[38;5;124m\"\u001B[39m\n\u001B[0;32m    212\u001B[0m         \u001B[38;5;124m\"\u001B[39m\u001B[38;5;124morder to reload a TensorFlow SavedModel as an \u001B[39m\u001B[38;5;124m\"\u001B[39m\n\u001B[0;32m    213\u001B[0m         \u001B[38;5;124m\"\u001B[39m\u001B[38;5;124minference-only layer in Keras 3, use \u001B[39m\u001B[38;5;124m\"\u001B[39m\n\u001B[0;32m    214\u001B[0m         \u001B[38;5;124m\"\u001B[39m\u001B[38;5;124m`keras.layers.TFSMLayer(\u001B[39m\u001B[38;5;124m\"\u001B[39m\n\u001B[0;32m    215\u001B[0m         \u001B[38;5;124mf\u001B[39m\u001B[38;5;124m\"\u001B[39m\u001B[38;5;132;01m{\u001B[39;00mfilepath\u001B[38;5;132;01m}\u001B[39;00m\u001B[38;5;124m, call_endpoint=\u001B[39m\u001B[38;5;124m'\u001B[39m\u001B[38;5;124mserving_default\u001B[39m\u001B[38;5;124m'\u001B[39m\u001B[38;5;124m)` \u001B[39m\u001B[38;5;124m\"\u001B[39m\n\u001B[0;32m    216\u001B[0m         \u001B[38;5;124m\"\u001B[39m\u001B[38;5;124m(note that your `call_endpoint` \u001B[39m\u001B[38;5;124m\"\u001B[39m\n\u001B[0;32m    217\u001B[0m         \u001B[38;5;124m\"\u001B[39m\u001B[38;5;124mmight have a different name).\u001B[39m\u001B[38;5;124m\"\u001B[39m\n\u001B[0;32m    218\u001B[0m     )\n",
      "\u001B[1;31mValueError\u001B[0m: File format not supported: filepath=checkpoints. Keras 3 only supports V3 `.keras` files and legacy H5 format files (`.h5` extension). Note that the legacy SavedModel format is not supported by `load_model()` in Keras 3. In order to reload a TensorFlow SavedModel as an inference-only layer in Keras 3, use `keras.layers.TFSMLayer(checkpoints, call_endpoint='serving_default')` (note that your `call_endpoint` might have a different name)."
     ]
    }
   ],
   "execution_count": 41
  },
  {
   "cell_type": "code",
   "id": "0397a4ab",
   "metadata": {
    "ExecuteTime": {
     "end_time": "2024-10-07T03:51:40.819214Z",
     "start_time": "2024-10-07T03:51:40.750214Z"
    }
   },
   "source": [
    "hist = model.fit(x_train, y_train, epochs=epochs, batch_size= batch_size, callbacks=[model_checkpoint_callback])"
   ],
   "outputs": [
    {
     "name": "stdout",
     "output_type": "stream",
     "text": [
      "Epoch 1/8\n",
      "\u001B[1m 1/32\u001B[0m \u001B[37m━━━━━━━━━━━━━━━━━━━━\u001B[0m \u001B[1m0s\u001B[0m 12ms/step"
     ]
    },
    {
     "ename": "ValueError",
     "evalue": "Cannot get result() since the metric has not yet been built.",
     "output_type": "error",
     "traceback": [
      "\u001B[1;31m---------------------------------------------------------------------------\u001B[0m",
      "\u001B[1;31mValueError\u001B[0m                                Traceback (most recent call last)",
      "Cell \u001B[1;32mIn[42], line 1\u001B[0m\n\u001B[1;32m----> 1\u001B[0m hist \u001B[38;5;241m=\u001B[39m \u001B[43mmodel\u001B[49m\u001B[38;5;241;43m.\u001B[39;49m\u001B[43mfit\u001B[49m\u001B[43m(\u001B[49m\u001B[43mx_train\u001B[49m\u001B[43m,\u001B[49m\u001B[43m \u001B[49m\u001B[43my_train\u001B[49m\u001B[43m,\u001B[49m\u001B[43m \u001B[49m\u001B[43mepochs\u001B[49m\u001B[38;5;241;43m=\u001B[39;49m\u001B[43mepochs\u001B[49m\u001B[43m,\u001B[49m\u001B[43m \u001B[49m\u001B[43mbatch_size\u001B[49m\u001B[38;5;241;43m=\u001B[39;49m\u001B[43m \u001B[49m\u001B[43mbatch_size\u001B[49m\u001B[43m,\u001B[49m\u001B[43m \u001B[49m\u001B[43mcallbacks\u001B[49m\u001B[38;5;241;43m=\u001B[39;49m\u001B[43m[\u001B[49m\u001B[43mmodel_checkpoint_callback\u001B[49m\u001B[43m]\u001B[49m\u001B[43m)\u001B[49m\n",
      "File \u001B[1;32m~\\anaconda3\\envs\\BomNae-SLR\\lib\\site-packages\\keras\\src\\utils\\traceback_utils.py:122\u001B[0m, in \u001B[0;36mfilter_traceback.<locals>.error_handler\u001B[1;34m(*args, **kwargs)\u001B[0m\n\u001B[0;32m    119\u001B[0m     filtered_tb \u001B[38;5;241m=\u001B[39m _process_traceback_frames(e\u001B[38;5;241m.\u001B[39m__traceback__)\n\u001B[0;32m    120\u001B[0m     \u001B[38;5;66;03m# To get the full stack trace, call:\u001B[39;00m\n\u001B[0;32m    121\u001B[0m     \u001B[38;5;66;03m# `keras.config.disable_traceback_filtering()`\u001B[39;00m\n\u001B[1;32m--> 122\u001B[0m     \u001B[38;5;28;01mraise\u001B[39;00m e\u001B[38;5;241m.\u001B[39mwith_traceback(filtered_tb) \u001B[38;5;28;01mfrom\u001B[39;00m \u001B[38;5;28;01mNone\u001B[39;00m\n\u001B[0;32m    123\u001B[0m \u001B[38;5;28;01mfinally\u001B[39;00m:\n\u001B[0;32m    124\u001B[0m     \u001B[38;5;28;01mdel\u001B[39;00m filtered_tb\n",
      "File \u001B[1;32m~\\anaconda3\\envs\\BomNae-SLR\\lib\\site-packages\\keras\\src\\trainers\\compile_utils.py:356\u001B[0m, in \u001B[0;36mCompileMetrics.result\u001B[1;34m(self)\u001B[0m\n\u001B[0;32m    354\u001B[0m \u001B[38;5;28;01mdef\u001B[39;00m \u001B[38;5;21mresult\u001B[39m(\u001B[38;5;28mself\u001B[39m):\n\u001B[0;32m    355\u001B[0m     \u001B[38;5;28;01mif\u001B[39;00m \u001B[38;5;129;01mnot\u001B[39;00m \u001B[38;5;28mself\u001B[39m\u001B[38;5;241m.\u001B[39mbuilt:\n\u001B[1;32m--> 356\u001B[0m         \u001B[38;5;28;01mraise\u001B[39;00m \u001B[38;5;167;01mValueError\u001B[39;00m(\n\u001B[0;32m    357\u001B[0m             \u001B[38;5;124m\"\u001B[39m\u001B[38;5;124mCannot get result() since the metric has not yet been built.\u001B[39m\u001B[38;5;124m\"\u001B[39m\n\u001B[0;32m    358\u001B[0m         )\n\u001B[0;32m    359\u001B[0m     results \u001B[38;5;241m=\u001B[39m {}\n\u001B[0;32m    360\u001B[0m     unique_name_counters \u001B[38;5;241m=\u001B[39m {}\n",
      "\u001B[1;31mValueError\u001B[0m: Cannot get result() since the metric has not yet been built."
     ]
    }
   ],
   "execution_count": 42
  },
  {
   "cell_type": "code",
   "id": "14bad08f",
   "metadata": {
    "ExecuteTime": {
     "end_time": "2024-10-07T03:46:23.067422Z",
     "start_time": "2024-10-07T03:46:23.051912Z"
    }
   },
   "source": [
    "plt.plot(range(len(hist.history['loss'])), hist.history['loss'])\n",
    "plt.scatter(range(len(hist.history['loss'])), hist.history['loss'])\n",
    "plt.xlabel(\"epochs\")\n",
    "plt.ylabel(\"loss\")\n",
    "plt.legend([\"loss\"])\n",
    "plt.ylim((0,1))\n",
    "plt.show()"
   ],
   "outputs": [
    {
     "ename": "NameError",
     "evalue": "name 'hist' is not defined",
     "output_type": "error",
     "traceback": [
      "\u001B[1;31m---------------------------------------------------------------------------\u001B[0m",
      "\u001B[1;31mNameError\u001B[0m                                 Traceback (most recent call last)",
      "Cell \u001B[1;32mIn[14], line 1\u001B[0m\n\u001B[1;32m----> 1\u001B[0m plt\u001B[38;5;241m.\u001B[39mplot(\u001B[38;5;28mrange\u001B[39m(\u001B[38;5;28mlen\u001B[39m(\u001B[43mhist\u001B[49m\u001B[38;5;241m.\u001B[39mhistory[\u001B[38;5;124m'\u001B[39m\u001B[38;5;124mloss\u001B[39m\u001B[38;5;124m'\u001B[39m])), hist\u001B[38;5;241m.\u001B[39mhistory[\u001B[38;5;124m'\u001B[39m\u001B[38;5;124mloss\u001B[39m\u001B[38;5;124m'\u001B[39m])\n\u001B[0;32m      2\u001B[0m plt\u001B[38;5;241m.\u001B[39mscatter(\u001B[38;5;28mrange\u001B[39m(\u001B[38;5;28mlen\u001B[39m(hist\u001B[38;5;241m.\u001B[39mhistory[\u001B[38;5;124m'\u001B[39m\u001B[38;5;124mloss\u001B[39m\u001B[38;5;124m'\u001B[39m])), hist\u001B[38;5;241m.\u001B[39mhistory[\u001B[38;5;124m'\u001B[39m\u001B[38;5;124mloss\u001B[39m\u001B[38;5;124m'\u001B[39m])\n\u001B[0;32m      3\u001B[0m plt\u001B[38;5;241m.\u001B[39mxlabel(\u001B[38;5;124m\"\u001B[39m\u001B[38;5;124mepochs\u001B[39m\u001B[38;5;124m\"\u001B[39m)\n",
      "\u001B[1;31mNameError\u001B[0m: name 'hist' is not defined"
     ]
    }
   ],
   "execution_count": 14
  },
  {
   "cell_type": "code",
   "id": "3c35d6ad",
   "metadata": {
    "ExecuteTime": {
     "end_time": "2024-10-07T03:30:09.725342Z",
     "start_time": "2024-10-07T03:30:09.709343Z"
    }
   },
   "source": [
    "importlib.reload(SLR_model)\n",
    "model = SLR_model.get_model()"
   ],
   "outputs": [],
   "execution_count": 84
  },
  {
   "cell_type": "code",
   "id": "76aeaa74",
   "metadata": {
    "ExecuteTime": {
     "end_time": "2024-10-07T03:30:10.468496Z",
     "start_time": "2024-10-07T03:30:10.466422Z"
    }
   },
   "source": [
    "# pred = model.predict(x_dummy, batch_size=1)"
   ],
   "outputs": [],
   "execution_count": 85
  },
  {
   "cell_type": "code",
   "id": "940f7096",
   "metadata": {
    "ExecuteTime": {
     "end_time": "2024-10-07T03:30:11.949793Z",
     "start_time": "2024-10-07T03:30:11.127652Z"
    }
   },
   "source": [
    "eval_res = model.evaluate(x_train, y_train, batch_size= batch_size)"
   ],
   "outputs": [
    {
     "name": "stdout",
     "output_type": "stream",
     "text": [
      "\u001B[1m32/32\u001B[0m \u001B[32m━━━━━━━━━━━━━━━━━━━━\u001B[0m\u001B[37m\u001B[0m \u001B[1m1s\u001B[0m 935us/step - binary_accuracy: 0.5969 - loss: 0.6931\n"
     ]
    }
   ],
   "execution_count": 86
  },
  {
   "cell_type": "code",
   "id": "0140aa7d",
   "metadata": {
    "ExecuteTime": {
     "end_time": "2024-10-07T03:30:11.989317Z",
     "start_time": "2024-10-07T03:30:11.986784Z"
    }
   },
   "source": [
    "print(eval_res)"
   ],
   "outputs": [
    {
     "name": "stdout",
     "output_type": "stream",
     "text": [
      "[0.6931474804878235, 0.5989583134651184]\n"
     ]
    }
   ],
   "execution_count": 87
  },
  {
   "cell_type": "code",
   "id": "c47fff4c",
   "metadata": {
    "ExecuteTime": {
     "end_time": "2024-10-07T03:30:18.497506Z",
     "start_time": "2024-10-07T03:30:18.493614Z"
    }
   },
   "source": [
    "model.metrics_names"
   ],
   "outputs": [
    {
     "data": {
      "text/plain": [
       "['loss', 'compile_metrics']"
      ]
     },
     "execution_count": 88,
     "metadata": {},
     "output_type": "execute_result"
    }
   ],
   "execution_count": 88
  },
  {
   "cell_type": "code",
   "id": "335022c6",
   "metadata": {
    "ExecuteTime": {
     "end_time": "2024-10-07T03:30:20.966473Z",
     "start_time": "2024-10-07T03:30:20.952468Z"
    }
   },
   "source": [
    "pred[0]"
   ],
   "outputs": [
    {
     "ename": "NameError",
     "evalue": "name 'pred' is not defined",
     "output_type": "error",
     "traceback": [
      "\u001B[1;31m---------------------------------------------------------------------------\u001B[0m",
      "\u001B[1;31mNameError\u001B[0m                                 Traceback (most recent call last)",
      "Cell \u001B[1;32mIn[89], line 1\u001B[0m\n\u001B[1;32m----> 1\u001B[0m \u001B[43mpred\u001B[49m[\u001B[38;5;241m0\u001B[39m]\n",
      "\u001B[1;31mNameError\u001B[0m: name 'pred' is not defined"
     ]
    }
   ],
   "execution_count": 89
  },
  {
   "cell_type": "code",
   "id": "87506a31",
   "metadata": {},
   "source": [
    "save_name = \"asdf_test.keras\"\n",
    "save_path = os.path.join(save_dir, save_name)"
   ],
   "outputs": [],
   "execution_count": null
  },
  {
   "cell_type": "code",
   "id": "a120d651",
   "metadata": {},
   "source": [
    "model.save_model(save_path)"
   ],
   "outputs": [],
   "execution_count": null
  },
  {
   "cell_type": "code",
   "id": "126a721e",
   "metadata": {},
   "source": [
    "model.load_model(save_path)"
   ],
   "outputs": [],
   "execution_count": null
  }
 ],
 "metadata": {
  "kernelspec": {
   "display_name": "ml",
   "language": "python",
   "name": "python3"
  },
  "language_info": {
   "codemirror_mode": {
    "name": "ipython",
    "version": 3
   },
   "file_extension": ".py",
   "mimetype": "text/x-python",
   "name": "python",
   "nbconvert_exporter": "python",
   "pygments_lexer": "ipython3",
   "version": "3.7.16"
  }
 },
 "nbformat": 4,
 "nbformat_minor": 5
}
