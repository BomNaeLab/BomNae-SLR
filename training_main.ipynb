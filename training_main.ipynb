{
 "cells": [
  {
   "cell_type": "code",
   "execution_count": 1,
   "id": "initial_id",
   "metadata": {
    "ExecuteTime": {
     "end_time": "2024-10-07T03:45:47.079804Z",
     "start_time": "2024-10-07T03:45:46.877805Z"
    },
    "collapsed": true
   },
   "outputs": [],
   "source": [
    "# import preprocess as prep\n",
    "import SLR_model\n",
    "import numpy as np\n",
    "import tensorflow as tf\n",
    "from tensorflow import keras\n",
    "import time\n",
    "import os\n",
    "import json\n",
    "import importlib\n",
    "from matplotlib import pyplot as plt\n",
    "import preprocess\n",
    "\n",
    "# model will output multiple(15) results/sec, how are we gonna handle it?"
   ]
  },
  {
   "cell_type": "code",
   "execution_count": 2,
   "id": "6787d32d",
   "metadata": {
    "ExecuteTime": {
     "end_time": "2024-10-07T03:45:48.466804Z",
     "start_time": "2024-10-07T03:45:48.450804Z"
    }
   },
   "outputs": [
    {
     "data": {
      "text/plain": [
       "<module 'SLR_model' from 'c:\\\\Users\\\\jerry\\\\Desktop\\\\hly\\\\2024-2\\\\cap\\\\BN_SLR\\\\BomNae-SLR\\\\SLR_model.py'>"
      ]
     },
     "execution_count": 2,
     "metadata": {},
     "output_type": "execute_result"
    }
   ],
   "source": [
    " # reload model file\n",
    "importlib.reload(SLR_model)\n",
    "importlib.reload(preprocess)"
   ]
  },
  {
   "cell_type": "code",
   "execution_count": 3,
   "id": "24152fba",
   "metadata": {
    "ExecuteTime": {
     "end_time": "2024-10-07T03:51:31.611803Z",
     "start_time": "2024-10-07T03:51:31.605803Z"
    }
   },
   "outputs": [],
   "source": [
    "# utility functions\n",
    "\n",
    "def bin2num(bin_arr):\n",
    "    # big endian\n",
    "    # lower index > higher exponent\n",
    "    num = 0\n",
    "    for val in bin_arr:\n",
    "        num = (num << 1) | val\n",
    "    return num\n",
    "\n",
    "# def num2bin(num, arr_len = -1):\n",
    "#     # big endian\n",
    "#     # lower index > higher exponent\n",
    "#     bin_arr = [int(x) for x in bin(num)[2:]]\n",
    "#     diff = arr_len - len(bin_arr)\n",
    "#     if diff < 1:\n",
    "#         return bin_arr\n",
    "#     else:\n",
    "#         pad = [0] * diff\n",
    "#         return pad+bin_arr\n",
    "    \n",
    "def num_arr2bin(num_arr, out_len = -1):\n",
    "    # big endian\n",
    "    # lower index > higher exponent\n",
    "    res = []\n",
    "    for num in num_arr:\n",
    "        str_list = list(np.binary_repr(num).zfill(out_len))\n",
    "        bin_arr = np.array(str_list, dtype=np.float32)\n",
    "        res.append(bin_arr)\n",
    "    return np.array(res)\n",
    "\n",
    "def serialize(vids, stride = 1):\n",
    "    \"\"\"input shape: (load_size, frames)\\n\n",
    "    ouput shape: (load_size, input_seq_size, 63 or 32, frames)\"\"\"\n",
    "    each_size = []\n",
    "    x_res = []\n",
    "    for vid in vids:\n",
    "        window_len = 0\n",
    "        start = 0\n",
    "        while (start + 63) < len(vid):\n",
    "            x_res.append(vid[start: start+63: stride])\n",
    "            window_len += 1\n",
    "            start += 6\n",
    "        each_size.append(window_len)\n",
    "    return np.array(x_res), each_size"
   ]
  },
  {
   "cell_type": "code",
   "execution_count": 4,
   "id": "000d0485",
   "metadata": {
    "ExecuteTime": {
     "end_time": "2024-10-07T03:51:32.292808Z",
     "start_time": "2024-10-07T03:51:32.289807Z"
    }
   },
   "outputs": [],
   "source": [
    "# Configurations\n",
    "load_size = 256 # number of data to be loaded at once\n",
    "epochs = 10\n",
    "batch_size = 16\n",
    "save_dir = \"saves\"\n",
    "load_dir = \"saves\"\n",
    "# load_path = \"C:/Users/jerry/Desktop/hly/2024-2/cap/BN_SLR/BomNae-SLR/checkpoints.keras\"\n"
   ]
  },
  {
   "cell_type": "code",
   "execution_count": 5,
   "id": "5ea9984a",
   "metadata": {
    "ExecuteTime": {
     "end_time": "2024-10-07T03:51:34.509016Z",
     "start_time": "2024-10-07T03:51:34.499016Z"
    }
   },
   "outputs": [],
   "source": [
    "# # dummy x_raw data\n",
    "# l_raw = []\n",
    "# duration_list = []\n",
    "# for i in range(load_size):\n",
    "#     h_elem = np.zeros(shape=(4,5,3))\n",
    "#     # p_elem = np.zeros(shape=(3,10))\n",
    "#     # comb_elem = [h_elem, h_elem, p_elem]\n",
    "#     x_elem = []\n",
    "#     duration = (np.random.randint(70,91))\n",
    "#     duration_list.append(duration)\n",
    "#     for j in range(duration): # frame size\n",
    "#         x_elem.append(h_elem)\n",
    "#         # x_elem.append(comb_elem)\n",
    "#     l_raw.append(x_elem)\n",
    "# r_raw = []\n",
    "# for i in range(load_size):\n",
    "#     h_elem = np.zeros(shape=(4,5,3))\n",
    "#     # p_elem = np.zeros(shape=(3,10))\n",
    "#     # comb_elem = [h_elem, h_elem, p_elem]\n",
    "#     x_elem = []\n",
    "#     duration = duration_list[i]\n",
    "#     for j in range(duration): # frame size\n",
    "#         x_elem.append(h_elem)\n",
    "#         # x_elem.append(comb_elem)\n",
    "#     r_raw.append(x_elem)\n",
    "# p_raw = []\n",
    "# for i in range(load_size):\n",
    "#     # h_elem = np.zeros(shape=(4,5,3))\n",
    "#     p_elem = np.zeros(shape=(3,10))\n",
    "#     # comb_elem = [h_elem, h_elem, p_elem]\n",
    "#     x_elem = []\n",
    "#     duration = duration_list[i]\n",
    "#     for j in range(duration): # frame size\n",
    "#         # x_elem.append(h_elem)\n",
    "#         x_elem.append(p_elem)\n",
    "#         # x_elem.append(comb_elem)\n",
    "#     p_raw.append(x_elem)\n",
    "\n",
    "# # dummy y_raw data\n",
    "# # y_raw = np.random.randint(0,1024,load_size)\n",
    "# y_raw = np.zeros(shape=(load_size,), dtype=np.int32)"
   ]
  },
  {
   "cell_type": "code",
   "execution_count": 32,
   "id": "57ebc580",
   "metadata": {
    "ExecuteTime": {
     "end_time": "2024-10-07T03:51:33.445018Z",
     "start_time": "2024-10-07T03:51:33.334017Z"
    }
   },
   "outputs": [],
   "source": [
    "l_raw, r_raw, p_raw, y_raw ,check_raw= preprocess.load_word(1,1,load_size)"
   ]
  },
  {
   "cell_type": "code",
   "execution_count": 6,
   "id": "014f0ab7",
   "metadata": {
    "ExecuteTime": {
     "end_time": "2024-10-07T03:51:35.312020Z",
     "start_time": "2024-10-07T03:51:35.288016Z"
    }
   },
   "outputs": [],
   "source": [
    "l_train, each = serialize(l_raw)\n",
    "r_train, each = serialize(r_raw)\n",
    "p_train, each = serialize(p_raw, stride=2)\n",
    "y_train = np.repeat(y_raw, each)\n",
    "y_train = num_arr2bin(y_train, 12)"
   ]
  },
  {
   "cell_type": "code",
   "execution_count": 7,
   "id": "a5bfbc39",
   "metadata": {
    "ExecuteTime": {
     "end_time": "2024-10-07T03:51:36.029023Z",
     "start_time": "2024-10-07T03:51:36.025023Z"
    }
   },
   "outputs": [],
   "source": [
    "# hand input shape: (batch, time, h, w, channels)\n",
    "# pose input shape: (batch, time, channel, features)"
   ]
  },
  {
   "cell_type": "code",
   "execution_count": 8,
   "id": "740740d7",
   "metadata": {
    "ExecuteTime": {
     "end_time": "2024-10-07T03:51:36.572217Z",
     "start_time": "2024-10-07T03:51:36.570217Z"
    }
   },
   "outputs": [],
   "source": [
    "x_train = (l_train, r_train, p_train)"
   ]
  },
  {
   "cell_type": "code",
   "execution_count": 9,
   "id": "1834ce55",
   "metadata": {
    "ExecuteTime": {
     "end_time": "2024-10-07T03:51:38.125216Z",
     "start_time": "2024-10-07T03:51:38.123215Z"
    }
   },
   "outputs": [],
   "source": [
    "model = SLR_model.get_model()"
   ]
  },
  {
   "cell_type": "code",
   "execution_count": 33,
   "id": "0526011b",
   "metadata": {
    "ExecuteTime": {
     "end_time": "2024-10-07T03:51:38.707215Z",
     "start_time": "2024-10-07T03:51:38.691215Z"
    }
   },
   "outputs": [],
   "source": [
    "# # 세이브된 모델 로드\n",
    "# load_path = os.join(load_dir, \"check_00-00-00.keras\")\n",
    "# model = SLR_model.load_model(load_path)"
   ]
  },
  {
   "cell_type": "code",
   "execution_count": 11,
   "id": "c4b5a386",
   "metadata": {},
   "outputs": [],
   "source": [
    "# # 안될때 (강제중지 + 초기화)\n",
    "# tf.keras.backend.clear_session()"
   ]
  },
  {
   "cell_type": "code",
   "execution_count": 12,
   "id": "0397a4ab",
   "metadata": {
    "ExecuteTime": {
     "end_time": "2024-10-07T03:51:40.819214Z",
     "start_time": "2024-10-07T03:51:40.750214Z"
    }
   },
   "outputs": [],
   "source": [
    "# hist = model.fit(x_train, y_train, epochs=epochs, batch_size= batch_size, callbacks=[model_checkpoint_callback])"
   ]
  },
  {
   "cell_type": "code",
   "execution_count": 13,
   "id": "018be5f8",
   "metadata": {},
   "outputs": [],
   "source": [
    "dataset = SLR_model.convert_to_dataset(x_train, y_train, batch_size)"
   ]
  },
  {
   "cell_type": "code",
   "execution_count": 14,
   "id": "8ce4604a",
   "metadata": {},
   "outputs": [
    {
     "name": "stdout",
     "output_type": "stream",
     "text": [
      "Epoch 1/10\n",
      "\u001b[1m54/54\u001b[0m \u001b[32m━━━━━━━━━━━━━━━━━━━━\u001b[0m\u001b[37m\u001b[0m \u001b[1m7s\u001b[0m 8ms/step - binary_accuracy: 0.9497 - loss: 0.6744\n",
      "Epoch 2/10\n",
      "\u001b[1m54/54\u001b[0m \u001b[32m━━━━━━━━━━━━━━━━━━━━\u001b[0m\u001b[37m\u001b[0m \u001b[1m0s\u001b[0m 6ms/step - binary_accuracy: 1.0000 - loss: 0.3924\n",
      "Epoch 3/10\n",
      "\u001b[1m54/54\u001b[0m \u001b[32m━━━━━━━━━━━━━━━━━━━━\u001b[0m\u001b[37m\u001b[0m \u001b[1m0s\u001b[0m 6ms/step - binary_accuracy: 1.0000 - loss: 0.0488\n",
      "Epoch 4/10\n",
      "\u001b[1m54/54\u001b[0m \u001b[32m━━━━━━━━━━━━━━━━━━━━\u001b[0m\u001b[37m\u001b[0m \u001b[1m0s\u001b[0m 5ms/step - binary_accuracy: 1.0000 - loss: 0.0087\n",
      "Epoch 5/10\n",
      "\u001b[1m54/54\u001b[0m \u001b[32m━━━━━━━━━━━━━━━━━━━━\u001b[0m\u001b[37m\u001b[0m \u001b[1m0s\u001b[0m 5ms/step - binary_accuracy: 1.0000 - loss: 0.0037\n",
      "Epoch 6/10\n",
      "\u001b[1m54/54\u001b[0m \u001b[32m━━━━━━━━━━━━━━━━━━━━\u001b[0m\u001b[37m\u001b[0m \u001b[1m0s\u001b[0m 5ms/step - binary_accuracy: 1.0000 - loss: 0.0021\n",
      "Epoch 7/10\n",
      "\u001b[1m54/54\u001b[0m \u001b[32m━━━━━━━━━━━━━━━━━━━━\u001b[0m\u001b[37m\u001b[0m \u001b[1m0s\u001b[0m 6ms/step - binary_accuracy: 1.0000 - loss: 0.0014\n",
      "Epoch 8/10\n",
      "\u001b[1m54/54\u001b[0m \u001b[32m━━━━━━━━━━━━━━━━━━━━\u001b[0m\u001b[37m\u001b[0m \u001b[1m0s\u001b[0m 5ms/step - binary_accuracy: 1.0000 - loss: 9.4867e-04\n",
      "Epoch 9/10\n",
      "\u001b[1m54/54\u001b[0m \u001b[32m━━━━━━━━━━━━━━━━━━━━\u001b[0m\u001b[37m\u001b[0m \u001b[1m0s\u001b[0m 5ms/step - binary_accuracy: 1.0000 - loss: 7.0117e-04\n",
      "Epoch 10/10\n",
      "\u001b[1m54/54\u001b[0m \u001b[32m━━━━━━━━━━━━━━━━━━━━\u001b[0m\u001b[37m\u001b[0m \u001b[1m0s\u001b[0m 5ms/step - binary_accuracy: 1.0000 - loss: 5.3909e-04\n"
     ]
    }
   ],
   "source": [
    "save_suffix = time.strftime(\"_%d-%H-%M\", time.localtime(time.time()))\n",
    "check_path = os.path.join(save_dir, \"check\"+save_suffix)\n",
    "hist_path = os.path.join(save_dir, \"hist\"+save_suffix+\".json\")\n",
    "\n",
    "model_checkpoint_callback = keras.callbacks.ModelCheckpoint(\n",
    "    filepath=f'{check_path}.keras',\n",
    "    monitor='binary_accuracy',\n",
    "    mode='max',\n",
    "    save_freq='epoch',\n",
    "    save_best_only=True)\n",
    "\n",
    "hist = model.fit(dataset, epochs=epochs, callbacks=[model_checkpoint_callback])\n",
    "\n",
    "with open(hist_path, 'w') as file:\n",
    "    json.dump(hist.history, file)"
   ]
  },
  {
   "cell_type": "code",
   "execution_count": 15,
   "id": "14bad08f",
   "metadata": {
    "ExecuteTime": {
     "end_time": "2024-10-07T03:46:23.067422Z",
     "start_time": "2024-10-07T03:46:23.051912Z"
    }
   },
   "outputs": [
    {
     "data": {
      "image/png": "[encoded data removed]",
      "text/plain": [
       "<Figure size 640x480 with 1 Axes>"
      ]
     },
     "metadata": {},
     "output_type": "display_data"
    }
   ],
   "source": [
    "plt.plot(range(len(hist.history['loss'])), hist.history['loss'])\n",
    "plt.scatter(range(len(hist.history['loss'])), hist.history['loss'])\n",
    "plt.xlabel(\"epochs\")\n",
    "plt.ylabel(\"loss\")\n",
    "plt.legend([\"loss\"])\n",
    "plt.ylim((0,1))\n",
    "plt.show()"
   ]
  },
  {
   "cell_type": "code",
   "execution_count": 84,
   "id": "3c35d6ad",
   "metadata": {
    "ExecuteTime": {
     "end_time": "2024-10-07T03:30:09.725342Z",
     "start_time": "2024-10-07T03:30:09.709343Z"
    }
   },
   "outputs": [],
   "source": [
    "# importlib.reload(SLR_model)\n",
    "# model = SLR_model.get_model()"
   ]
  },
  {
   "cell_type": "code",
   "execution_count": 85,
   "id": "76aeaa74",
   "metadata": {
    "ExecuteTime": {
     "end_time": "2024-10-07T03:30:10.468496Z",
     "start_time": "2024-10-07T03:30:10.466422Z"
    }
   },
   "outputs": [],
   "source": [
    "# pred = model.predict(x_dummy, batch_size=1)"
   ]
  },
  {
   "cell_type": "code",
   "execution_count": 16,
   "id": "940f7096",
   "metadata": {
    "ExecuteTime": {
     "end_time": "2024-10-07T03:30:11.949793Z",
     "start_time": "2024-10-07T03:30:11.127652Z"
    }
   },
   "outputs": [
    {
     "name": "stdout",
     "output_type": "stream",
     "text": [
      "\u001b[1m54/54\u001b[0m \u001b[32m━━━━━━━━━━━━━━━━━━━━\u001b[0m\u001b[37m\u001b[0m \u001b[1m1s\u001b[0m 3ms/step - binary_accuracy: 1.0000 - loss: 4.5071e-04\n"
     ]
    }
   ],
   "source": [
    "eval_res = model.evaluate(x_train, y_train, batch_size= batch_size)"
   ]
  },
  {
   "cell_type": "code",
   "execution_count": 17,
   "id": "0140aa7d",
   "metadata": {
    "ExecuteTime": {
     "end_time": "2024-10-07T03:30:11.989317Z",
     "start_time": "2024-10-07T03:30:11.986784Z"
    }
   },
   "outputs": [
    {
     "name": "stdout",
     "output_type": "stream",
     "text": [
      "[0.0004507141129579395, 1.0]\n"
     ]
    }
   ],
   "source": [
    "print(eval_res)"
   ]
  },
  {
   "cell_type": "code",
   "execution_count": 88,
   "id": "c47fff4c",
   "metadata": {
    "ExecuteTime": {
     "end_time": "2024-10-07T03:30:18.497506Z",
     "start_time": "2024-10-07T03:30:18.493614Z"
    }
   },
   "outputs": [
    {
     "data": {
      "text/plain": [
       "['loss', 'compile_metrics']"
      ]
     },
     "execution_count": 88,
     "metadata": {},
     "output_type": "execute_result"
    }
   ],
   "source": [
    "model.metrics_names"
   ]
  }
 ],
 "metadata": {
  "kernelspec": {
   "display_name": "slr",
   "language": "python",
   "name": "python3"
  },
  "language_info": {
   "codemirror_mode": {
    "name": "ipython",
    "version": 3
   },
   "file_extension": ".py",
   "mimetype": "text/x-python",
   "name": "python",
   "nbconvert_exporter": "python",
   "pygments_lexer": "ipython3",
   "version": "3.9.20"
  }
 },
 "nbformat": 4,
 "nbformat_minor": 5
}
