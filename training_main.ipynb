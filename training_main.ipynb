{
 "cells": [
  {
   "metadata": {
    "ExecuteTime": {
     "end_time": "2024-11-02T05:26:22.762761Z",
     "start_time": "2024-11-02T05:26:18.644256Z"
    }
   },
   "cell_type": "code",
   "source": [
    "# import preprocess as prep\n",
    "import SLR_model\n",
    "import SLR_model_GRU\n",
    "import numpy as np\n",
    "import tensorflow as tf\n",
    "from tensorflow import keras\n",
    "import time\n",
    "import os\n",
    "import json\n",
    "import importlib\n",
    "from matplotlib import pyplot as plt\n",
    "import preprocess\n",
    "# from preprocess import person\n",
    "\n",
    "# model will output multiple(5) results/sec, how are we gonna handle it?"
   ],
   "id": "358d46b6480881db",
   "outputs": [],
   "execution_count": 1
  },
  {
   "metadata": {
    "ExecuteTime": {
     "end_time": "2024-11-02T05:28:09.031792Z",
     "start_time": "2024-11-02T05:28:09.024792Z"
    }
   },
   "cell_type": "code",
   "source": [
    "load_size = 3000 # number of data to be loaded at once\n",
    "epochs = 50\n",
    "run_time=2\n",
    "batch_size = 16\n",
    "save_dir = \"saves_GRU\"\n",
    "load_dir = \"saves_GRU\"\n",
    "model = SLR_model_GRU.get_model()"
   ],
   "id": "dc8634f5da68e224",
   "outputs": [],
   "execution_count": 2
  },
  {
   "metadata": {
    "ExecuteTime": {
     "end_time": "2024-11-02T13:23:21.058102Z",
     "start_time": "2024-11-02T13:23:18.527158Z"
    }
   },
   "cell_type": "code",
   "source": [
    " # reload model file\n",
    "end_file=preprocess.getoutputdir()\n",
    "\n",
    "save_suffix = time.strftime(\"%m-%d-%H\", time.localtime(time.time()))\n",
    "ckpt_name=save_suffix+\"-\"+str(epochs)+\"epochs-\"+str(run_time)+\"times\"\n",
    "\n",
    "check_path = os.path.join(save_dir,'ckpt',ckpt_name)\n",
    "hist_path = os.path.join(save_dir, \"hist\",ckpt_name+\".json\")\n",
    "\n",
    "model_checkpoint_callback = keras.callbacks.ModelCheckpoint(\n",
    "filepath=f'{check_path}.keras',\n",
    "monitor='categorical_accuracy',\n",
    "mode='max',\n",
    "save_freq='epoch',\n",
    "save_best_only=True)\n",
    "\n",
    "\n",
    "start_person=1\n",
    "start_count=1\n",
    "start_word=\" \"\n",
    "for i in range(1,17):\n",
    "    l_raws=[]\n",
    "    r_raws=[]\n",
    "    p_raws=[]\n",
    "    y_raws=[]\n",
    "    loss_weights_raws=[]\n",
    "    if start_person>i:\n",
    "        continue\n",
    "    for k in range(1,run_time+1):\n",
    "        if start_count>k:\n",
    "            continue\n",
    "        elif start_count==k:\n",
    "            start_count=0\n",
    "        for j in sorted(os.listdir(os.path.join(preprocess.getoutputdir(),str(i)))):\n",
    "            if len(l_raws)==0:\n",
    "                start_word = j\n",
    "            else:\n",
    "                end_word = j\n",
    "            l_raw, r_raw, p_raw, y_raw, loss_weights_raw = preprocess.load_data(f\"{i}/{j}\")\n",
    "            l_raws.append(l_raw)\n",
    "            r_raws.append(r_raw)\n",
    "            p_raws.append(p_raw)\n",
    "            y_raws.append(y_raw)\n",
    "            loss_weights_raws.append(loss_weights_raw)\n",
    "            # print(p_raw.shape)\n",
    "            # break\n",
    "            if len(l_raws)>=load_size:\n",
    "                with open(os.path.join('logs',ckpt_name+'.txt'), 'a') as logs:\n",
    "                    logs.write(f'{ time.strftime(\"%H-%M-%S\", time.localtime(time.time()))}:{k}) person:{i} : {start_word} ~ {end_word}\\n')  # 한 줄 쓰기\n",
    "                l_train, each = SLR_model_GRU.serialize(l_raws)\n",
    "                r_train, each = SLR_model_GRU.serialize(r_raws)\n",
    "                p_train, each, sample_weights = SLR_model_GRU.serialize(p_raws, stride=2, loss_weights_list=loss_weights_raws)\n",
    "                x_train = (l_train, r_train, p_train)\n",
    "                \n",
    "                y_train = np.repeat(y_raws, each)\n",
    "                y_train = SLR_model_GRU.encode_onehot2d(y_train)\n",
    "                \n",
    "                dataset = SLR_model_GRU.convert_to_dataset(x_train, y_train, batch_size, sample_weights)\n",
    "                hist = model.fit(dataset, epochs=epochs, callbacks=[model_checkpoint_callback])\n",
    "                \n",
    "                with open(hist_path, 'w') as file:\n",
    "                    json.dump(hist.history, file)\n",
    "                l_raws.clear()\n",
    "                r_raws.clear()\n",
    "                p_raws.clear()\n",
    "                y_raws.clear()\n",
    "                loss_weights_raws.clear()\n",
    "        if len(l_raws)>0:\n",
    "            l_train, each = SLR_model_GRU.serialize(l_raws)\n",
    "            r_train, each = SLR_model_GRU.serialize(r_raws)\n",
    "            p_train, each, sample_weights = SLR_model_GRU.serialize(p_raws, stride=2, loss_weights_list=loss_weights_raws)\n",
    "            x_train = (l_train, r_train, p_train)\n",
    "            \n",
    "            y_train = np.repeat(y_raws, each)\n",
    "            y_train = SLR_model_GRU.encode_onehot2d(y_train)\n",
    "            \n",
    "            \n",
    "            dataset = SLR_model_GRU.convert_to_dataset(x_train, y_train, batch_size, sample_weights)\n",
    "            \n",
    "           \n",
    "            hist = model.fit(dataset, epochs=epochs, callbacks=[model_checkpoint_callback])\n",
    "            \n",
    "            with open(hist_path, 'w') as file:\n",
    "                json.dump(hist.history, file)\n",
    "\n",
    "    "
   ],
   "id": "b5961b31976929d0",
   "outputs": [
    {
     "name": "stdout",
     "output_type": "stream",
     "text": [
      "Epoch 1/50\n",
      "(16, 9, 4, 5, 3)\n",
      "(16, 1, 2, 3, 1)\n",
      "(16, 9, 4, 5, 3)\n",
      "(16, 1, 2, 3, 1)\n",
      "(16, 9, 4, 5, 3)\n",
      "(16, 1, 2, 3, 1)\n",
      "(16, 9, 4, 5, 3)\n",
      "(16, 1, 2, 3, 1)\n",
      "Left Hand Result Shape: (16, 1, 6)\n",
      "Right Hand Result Shape: (16, 1, 6)\n",
      "Pose Result Shape: (16, 1, 3)\n",
      "(16, 15)\n",
      "(16, 9, 4, 5, 3)\n",
      "(16, 1, 2, 3, 1)\n",
      "(16, 9, 4, 5, 3)\n",
      "(16, 1, 2, 3, 1)\n",
      "Left Hand Result Shape: (16, 1, 6)\n",
      "Right Hand Result Shape: (16, 1, 6)\n",
      "Pose Result Shape: (16, 1, 3)\n",
      "(16, 15)\n"
     ]
    },
    {
     "name": "stderr",
     "output_type": "stream",
     "text": [
      "/home/shd/.conda/envs/BomNae-SLR/lib/python3.9/site-packages/keras/src/layers/layer.py:1331: UserWarning: Layer 'slr_model_1' looks like it has unbuilt state, but Keras is not able to trace the layer `call()` in order to build it automatically. Possible causes:\n",
      "1. The `call()` method of your layer may be crashing. Try to `__call__()` the layer eagerly on some test input first to see if it works. E.g. `x = np.random.random((3, 4)); y = layer(x)`\n",
      "2. If the `call()` method is correct, then you may need to implement the `def build(self, input_shape)` method on your layer. It should create all variables used by the layer (e.g. by calling `layer.build()` on all its children layers).\n",
      "Exception encountered: ''Shapes must be equal rank, but are 2 and 0\n",
      "\tFrom merging shape 0 with other shapes. for '{{node zeros/packed}} = Pack[N=2, T=DT_INT32, axis=0](zeros/Cast, zeros/packed/1)' with input shapes: [16,15], [].''\n",
      "  warnings.warn(\n",
      "/home/shd/.conda/envs/BomNae-SLR/lib/python3.9/site-packages/keras/src/layers/layer.py:372: UserWarning: `build()` was called on layer 'slr_model_1', however the layer does not have a `build()` method implemented and it looks like it has unbuilt state. This will cause the layer to be marked as built, despite not being actually built, which may cause failures down the line. Make sure to implement a proper `build()` method.\n",
      "  warnings.warn(\n"
     ]
    },
    {
     "ename": "ValueError",
     "evalue": "Exception encountered when calling SLRModel.call().\n\n\u001B[1mShapes must be equal rank, but are 2 and 0\n\tFrom merging shape 0 with other shapes. for '{{node slr_model_1_1/zeros/packed}} = Pack[N=2, T=DT_INT32, axis=0](slr_model_1_1/zeros/Cast, slr_model_1_1/zeros/packed/1)' with input shapes: [16,15], [].\u001B[0m\n\nArguments received by SLRModel.call():\n  • inputs=('tf.Tensor(shape=(16, 9, 4, 5, 3), dtype=float32)', 'tf.Tensor(shape=(16, 9, 4, 5, 3), dtype=float32)', 'tf.Tensor(shape=(16, 5, 3, 10), dtype=float32)')\n  • states=None\n  • return_states=False\n  • training=True",
     "output_type": "error",
     "traceback": [
      "\u001B[0;31m---------------------------------------------------------------------------\u001B[0m",
      "\u001B[0;31mValueError\u001B[0m                                Traceback (most recent call last)",
      "Cell \u001B[0;32mIn[3], line 59\u001B[0m\n\u001B[1;32m     56\u001B[0m y_train \u001B[38;5;241m=\u001B[39m SLR_model_GRU\u001B[38;5;241m.\u001B[39mencode_onehot2d(y_train)\n\u001B[1;32m     58\u001B[0m dataset \u001B[38;5;241m=\u001B[39m SLR_model_GRU\u001B[38;5;241m.\u001B[39mconvert_to_dataset(x_train, y_train, batch_size, sample_weights)\n\u001B[0;32m---> 59\u001B[0m hist \u001B[38;5;241m=\u001B[39m \u001B[43mmodel\u001B[49m\u001B[38;5;241;43m.\u001B[39;49m\u001B[43mfit\u001B[49m\u001B[43m(\u001B[49m\u001B[43mdataset\u001B[49m\u001B[43m,\u001B[49m\u001B[43m \u001B[49m\u001B[43mepochs\u001B[49m\u001B[38;5;241;43m=\u001B[39;49m\u001B[43mepochs\u001B[49m\u001B[43m,\u001B[49m\u001B[43m \u001B[49m\u001B[43mcallbacks\u001B[49m\u001B[38;5;241;43m=\u001B[39;49m\u001B[43m[\u001B[49m\u001B[43mmodel_checkpoint_callback\u001B[49m\u001B[43m]\u001B[49m\u001B[43m)\u001B[49m\n\u001B[1;32m     61\u001B[0m \u001B[38;5;28;01mwith\u001B[39;00m \u001B[38;5;28mopen\u001B[39m(hist_path, \u001B[38;5;124m'\u001B[39m\u001B[38;5;124mw\u001B[39m\u001B[38;5;124m'\u001B[39m) \u001B[38;5;28;01mas\u001B[39;00m file:\n\u001B[1;32m     62\u001B[0m     json\u001B[38;5;241m.\u001B[39mdump(hist\u001B[38;5;241m.\u001B[39mhistory, file)\n",
      "File \u001B[0;32m~/.conda/envs/BomNae-SLR/lib/python3.9/site-packages/keras/src/utils/traceback_utils.py:122\u001B[0m, in \u001B[0;36mfilter_traceback.<locals>.error_handler\u001B[0;34m(*args, **kwargs)\u001B[0m\n\u001B[1;32m    119\u001B[0m     filtered_tb \u001B[38;5;241m=\u001B[39m _process_traceback_frames(e\u001B[38;5;241m.\u001B[39m__traceback__)\n\u001B[1;32m    120\u001B[0m     \u001B[38;5;66;03m# To get the full stack trace, call:\u001B[39;00m\n\u001B[1;32m    121\u001B[0m     \u001B[38;5;66;03m# `keras.config.disable_traceback_filtering()`\u001B[39;00m\n\u001B[0;32m--> 122\u001B[0m     \u001B[38;5;28;01mraise\u001B[39;00m e\u001B[38;5;241m.\u001B[39mwith_traceback(filtered_tb) \u001B[38;5;28;01mfrom\u001B[39;00m \u001B[38;5;28;01mNone\u001B[39;00m\n\u001B[1;32m    123\u001B[0m \u001B[38;5;28;01mfinally\u001B[39;00m:\n\u001B[1;32m    124\u001B[0m     \u001B[38;5;28;01mdel\u001B[39;00m filtered_tb\n",
      "File \u001B[0;32m~/BomNae-SLR/SLR_model_GRU.py:183\u001B[0m, in \u001B[0;36mSLRModel.call\u001B[0;34m(self, inputs, states, return_states, training)\u001B[0m\n\u001B[1;32m    181\u001B[0m \u001B[38;5;66;03m# current_shape: (batch, hand_output_size * 2 + pose_output_size)\u001B[39;00m\n\u001B[1;32m    182\u001B[0m \u001B[38;5;28;01mif\u001B[39;00m states \u001B[38;5;129;01mis\u001B[39;00m \u001B[38;5;28;01mNone\u001B[39;00m:\n\u001B[0;32m--> 183\u001B[0m     states \u001B[38;5;241m=\u001B[39m \u001B[38;5;28;43mself\u001B[39;49m\u001B[38;5;241;43m.\u001B[39;49m\u001B[43mgru\u001B[49m\u001B[38;5;241;43m.\u001B[39;49m\u001B[43mget_initial_state\u001B[49m\u001B[43m(\u001B[49m\u001B[43mx\u001B[49m\u001B[43m)\u001B[49m\n\u001B[1;32m    184\u001B[0m x, states \u001B[38;5;241m=\u001B[39m \u001B[38;5;28mself\u001B[39m\u001B[38;5;241m.\u001B[39mgru(x, initial_state\u001B[38;5;241m=\u001B[39mstates, training\u001B[38;5;241m=\u001B[39mtraining)\n\u001B[1;32m    185\u001B[0m \u001B[38;5;28;01mif\u001B[39;00m return_states:\n",
      "\u001B[0;31mValueError\u001B[0m: Exception encountered when calling SLRModel.call().\n\n\u001B[1mShapes must be equal rank, but are 2 and 0\n\tFrom merging shape 0 with other shapes. for '{{node slr_model_1_1/zeros/packed}} = Pack[N=2, T=DT_INT32, axis=0](slr_model_1_1/zeros/Cast, slr_model_1_1/zeros/packed/1)' with input shapes: [16,15], [].\u001B[0m\n\nArguments received by SLRModel.call():\n  • inputs=('tf.Tensor(shape=(16, 9, 4, 5, 3), dtype=float32)', 'tf.Tensor(shape=(16, 9, 4, 5, 3), dtype=float32)', 'tf.Tensor(shape=(16, 5, 3, 10), dtype=float32)')\n  • states=None\n  • return_states=False\n  • training=True"
     ]
    }
   ],
   "execution_count": 3
  },
  {
   "metadata": {},
   "cell_type": "code",
   "outputs": [],
   "execution_count": null,
   "source": [
    "# Configurations\n",
    "load_size = 3000 # number of data to be loaded at once\n",
    "epochs = 50\n",
    "batch_size = 16\n",
    "save_dir = \"saves\"\n",
    "load_dir = \"saves\"\n",
    "# load_path = \"C:/Users/jerry/Desktop/hly/2024-2/cap/BN_SLR/BomNae-SLR/checkpoints.keras\"\n"
   ],
   "id": "e2e74e08d3b98fea"
  },
  {
   "metadata": {},
   "cell_type": "code",
   "outputs": [],
   "execution_count": null,
   "source": "model = SLR_model.get_model()",
   "id": "589a3ca3f4b1820c"
  },
  {
   "metadata": {},
   "cell_type": "code",
   "outputs": [],
   "execution_count": null,
   "source": [
    " # reload model file\n",
    "importlib.reload(SLR_model)\n",
    "importlib.reload(preprocess)\n",
    "end_file=preprocess.getoutputdir()\n",
    "\n",
    "save_suffix = time.strftime(\"_%d-%H-%M\", time.localtime(time.time()))\n",
    "\n",
    "\n",
    "# checkTime=\"_14-16-16\"\n",
    "# check_path = os.path.join(save_dir, \"check\"+checkTime)\n",
    "# hist_path = os.path.join(save_dir, \"hist\"+checkTime+\".json\")\n",
    "\n",
    "check_path = os.path.join(save_dir, \"check\"+save_suffix+\"_50epochs_3time\")\n",
    "hist_path = os.path.join(save_dir, \"hist\"+save_suffix+\".json\")\n",
    "\n",
    "model_checkpoint_callback = keras.callbacks.ModelCheckpoint(\n",
    "filepath=f'{check_path}.keras',\n",
    "monitor='categorical_accuracy',\n",
    "mode='max',\n",
    "save_freq='epoch',\n",
    "save_best_only=True)\n",
    "\n",
    "\n",
    "start_person=1\n",
    "start_count=1\n",
    "start_word=\" \"\n",
    "for i in range(1,17):\n",
    "    l_raws=[]\n",
    "    r_raws=[]\n",
    "    p_raws=[]\n",
    "    y_raws=[]\n",
    "    loss_weights_raws=[]\n",
    "    if start_person>i:\n",
    "        continue\n",
    "    for k in range(1,2):\n",
    "        if start_count>k:\n",
    "            continue\n",
    "        elif start_count==k:\n",
    "            start_count=0\n",
    "        for j in sorted(os.listdir(os.path.join(preprocess.getoutputdir(),str(i)))):\n",
    "            if len(l_raws)==0:\n",
    "                start_word = j\n",
    "            else:\n",
    "                end_word = j\n",
    "            l_raw, r_raw, p_raw, y_raw, loss_weights_raw = preprocess.load_data(f\"{i}/{j}\")\n",
    "            l_raws.append(l_raw)\n",
    "            r_raws.append(r_raw)\n",
    "            p_raws.append(p_raw)\n",
    "            y_raws.append(y_raw)\n",
    "            loss_weights_raws.append(loss_weights_raw)\n",
    "    \n",
    "            if len(l_raws)>=load_size:\n",
    "                with open(str(i)+'training_log.txt', 'a') as logs:\n",
    "                    logs.write(f'{ time.strftime(\"%H-%M-%S\", time.localtime(time.time()))}:{k}) person:{i} : {start_word} ~ {end_word}\\n')  # 한 줄 쓰기\n",
    "                print(f\"{k}) person:{i} : {start_word} ~ {end_word}\\n\\n\\n\\n\")\n",
    "                l_train, each = SLR_model.serialize(l_raws)\n",
    "                r_train, each = SLR_model.serialize(r_raws)\n",
    "                p_train, each, sample_weights = SLR_model.serialize(p_raws, stride=2, loss_weights_list=loss_weights_raws)\n",
    "                x_train = (l_train, r_train, p_train)\n",
    "                \n",
    "                y_train = np.repeat(y_raws, each)\n",
    "                y_train = SLR_model.encode_onehot2d(y_train)\n",
    "    \n",
    "                dataset = SLR_model.convert_to_dataset(x_train, y_train, batch_size, sample_weights)\n",
    "                hist = model.fit(dataset, epochs=epochs, callbacks=[model_checkpoint_callback])\n",
    "                \n",
    "                with open(hist_path, 'w') as file:\n",
    "                    json.dump(hist.history, file)\n",
    "                l_raws.clear()\n",
    "                r_raws.clear()\n",
    "                p_raws.clear()\n",
    "                y_raws.clear()\n",
    "                loss_weights_raws.clear()\n",
    "        if len(l_raws)>0:\n",
    "            l_train, each = SLR_model.serialize(l_raws)\n",
    "            r_train, each = SLR_model.serialize(r_raws)\n",
    "            p_train, each, sample_weights = SLR_model.serialize(p_raws, stride=2, loss_weights_list=loss_weights_raws)\n",
    "            x_train = (l_train, r_train, p_train)\n",
    "            \n",
    "            y_train = np.repeat(y_raws, each)\n",
    "            y_train = SLR_model.encode_onehot2d(y_train)\n",
    "    \n",
    "            dataset = SLR_model.convert_to_dataset(x_train, y_train, batch_size, sample_weights)\n",
    "            hist = model.fit(dataset, epochs=epochs, callbacks=[model_checkpoint_callback])\n",
    "            \n",
    "            with open(hist_path, 'w') as file:\n",
    "                json.dump(hist.history, file)\n",
    "\n",
    "    "
   ],
   "id": "4fdb6cd65c6b35a2"
  },
  {
   "metadata": {},
   "cell_type": "code",
   "outputs": [],
   "execution_count": null,
   "source": [
    "# hand input shape: (batch, time, h, w, channels)\n",
    "# pose input shape: (batch, time, channel, features)"
   ],
   "id": "9501d29fe7faee78"
  },
  {
   "metadata": {},
   "cell_type": "code",
   "outputs": [],
   "execution_count": null,
   "source": [
    "# # 세이브된 모델 로드\n",
    "# load_path = os.join(load_dir, \"check_00-00-00.keras\")\n",
    "# model = SLR_model.load_model(load_path)"
   ],
   "id": "96948ee065658f31"
  },
  {
   "metadata": {},
   "cell_type": "code",
   "outputs": [],
   "execution_count": null,
   "source": [
    "# # 안될때 (강제중지 + 초기화)\n",
    "# tf.keras.backend.clear_session()"
   ],
   "id": "aac698d86f47869b"
  },
  {
   "metadata": {},
   "cell_type": "code",
   "outputs": [],
   "execution_count": null,
   "source": [
    "# l_raws=[]\n",
    "# r_raws=[]\n",
    "# p_raws=[]\n",
    "# y_raws=[]\n",
    "\n",
    "\n",
    "# save_suffix = time.strftime(\"_%d-%H-%M\", time.localtime(time.time()))\n",
    "# check_path = os.path.join(save_dir, \"check\"+save_suffix)\n",
    "# hist_path = os.path.join(save_dir, \"hist\"+save_suffix+\".json\")\n",
    "\n",
    "# model_checkpoint_callback = keras.callbacks.ModelCheckpoint(\n",
    "#     filepath=f'{check_path}.keras',\n",
    "#     monitor='binary_accuracy',\n",
    "#     mode='max',\n",
    "#     save_freq='epoch',\n",
    "#     save_best_only=True)\n",
    "\n",
    "\n",
    "\n",
    "# l_raw, r_raw, p_raw, y_raw = preprocess.load_data(f\"1/1\")\n",
    "\n",
    "# l_raws.append(l_raw)\n",
    "# r_raws.append(r_raw)\n",
    "# p_raws.append(p_raw)\n",
    "# y_raws.append(y_raw)\n",
    "\n",
    "\n",
    "# l_train, each = SLR_model.serialize(l_raws)\n",
    "# r_train, each = SLR_model.serialize(r_raws)\n",
    "# p_train, each = SLR_model.serialize(p_raws, stride=2)\n",
    "# y_train = np.repeat(y_raws, each)\n",
    "# y_train = SLR_model.num_arr2bin(y_train, 12)\n",
    "# x_train = (l_train, r_train, p_train)\n",
    "\n",
    "# # dataset = SLR_model.convert_to_dataset(x_train, y_train, batch_size)\n",
    "# hist = model.fit(x_train, y_train, batch_size = 2, epochs=epochs, callbacks=[model_checkpoint_callback])\n",
    "\n",
    "# with open(hist_path, 'w') as file:\n",
    "#     json.dump(hist.history, file)\n"
   ],
   "id": "6755ee45fa0f815"
  },
  {
   "cell_type": "code",
   "execution_count": 23,
   "id": "14bad08f",
   "metadata": {},
   "outputs": [
    {
     "data": {
      "image/png": "[encoded data removed]",
      "text/plain": [
       "<Figure size 640x480 with 1 Axes>"
      ]
     },
     "metadata": {},
     "output_type": "display_data"
    }
   ],
   "source": [
    "plt.plot(range(len(hist.history['loss'])), hist.history['loss'])\n",
    "plt.scatter(range(len(hist.history['loss'])), hist.history['loss'])\n",
    "plt.xlabel(\"epochs\")\n",
    "plt.ylabel(\"loss\")\n",
    "plt.legend([\"loss\"])\n",
    "plt.ylim((0,1))\n",
    "plt.show()"
   ]
  },
  {
   "cell_type": "code",
   "execution_count": 11,
   "id": "2981331a75aa7e19",
   "metadata": {
    "ExecuteTime": {
     "end_time": "2024-10-14T14:02:15.876445Z",
     "start_time": "2024-10-14T14:02:15.873228Z"
    }
   },
   "outputs": [
    {
     "name": "stdout",
     "output_type": "stream",
     "text": [
      "['1962.npz', '2811.npz', '0220.npz', '2020.npz', '1494.npz', '0966.npz', '0039.npz', '0170.npz', '2124.npz', '1381.npz', '2545.npz', '1198.npz', '2965.npz', '0860.npz', '2651.npz', '0064.npz', '2842.npz', '1834.npz', '0796.npz', '1738.npz', '0242.npz', '0295.npz', '2218.npz', '0041.npz', '1023.npz', '0310.npz', '1108.npz', '2169.npz', '0068.npz', '2802.npz', '2268.npz', '0694.npz', '1440.npz', '0326.npz', '0570.npz', '1350.npz', '1863.npz', '1143.npz', '2425.npz', '1983.npz', '1332.npz', '1954.npz', '1623.npz', '2371.npz', '1838.npz', '2966.npz', '1484.npz', '0586.npz', '2557.npz', '2761.npz', '1532.npz', '0615.npz', '1295.npz', '0212.npz', '0070.npz', '0019.npz', '1998.npz', '1202.npz', '1763.npz', '1570.npz', '2672.npz', '0574.npz', '2800.npz', '2388.npz', '0739.npz', '2718.npz', '0139.npz', '1876.npz', '1636.npz', '2633.npz', '1756.npz', '2725.npz', '1323.npz', '1236.npz', '1614.npz', '0245.npz', '0949.npz', '0105.npz', '2980.npz', '1569.npz', '0887.npz', '2541.npz', '2497.npz', '0013.npz', '0716.npz', '1166.npz', '0151.npz', '1479.npz', '1226.npz', '0554.npz', '0526.npz', '2935.npz', '0364.npz', '2237.npz', '1142.npz', '0877.npz', '1085.npz', '0004.npz', '1808.npz', '0053.npz', '2767.npz', '1425.npz', '0804.npz', '1170.npz', '0315.npz', '2081.npz', '1963.npz', '1806.npz', '1254.npz', '0376.npz', '0387.npz', '2682.npz', '1368.npz', '0216.npz', '0559.npz', '0017.npz', '0018.npz', '1217.npz', '2699.npz', '0852.npz', '1474.npz', '1620.npz', '1670.npz', '0333.npz', '1192.npz', '0842.npz', '2530.npz', '2151.npz', '2886.npz', '1843.npz', '1527.npz', '2558.npz', '0763.npz', '1606.npz', '2129.npz', '2170.npz', '2404.npz', '1924.npz', '1488.npz', '0233.npz', '2501.npz', '0659.npz', '0985.npz', '0309.npz', '1841.npz', '0230.npz', '1596.npz', '2917.npz', '1511.npz', '0392.npz', '1389.npz', '2939.npz', '1839.npz', '0060.npz', '2827.npz', '0104.npz', '2884.npz', '1262.npz', '0123.npz', '0240.npz', '2449.npz', '1590.npz', '2091.npz', '2197.npz', '2128.npz', '2757.npz', '1735.npz', '2408.npz', '0933.npz', '2877.npz', '2598.npz', '0381.npz', '0854.npz', '2103.npz', '1587.npz', '1361.npz', '1760.npz', '2524.npz', '0442.npz', '1327.npz', '2813.npz', '2969.npz', '2482.npz', '1920.npz', '2271.npz', '2134.npz', '0916.npz', '0537.npz', '1949.npz', '2990.npz', '0046.npz', '1774.npz', '0552.npz', '0865.npz', '2978.npz', '2666.npz', '0583.npz', '0976.npz', '1065.npz', '1941.npz', '1090.npz', '0958.npz', '1946.npz', '1089.npz', '1561.npz', '1823.npz', '1379.npz', '2797.npz', '1907.npz', '1861.npz', '0209.npz', '1794.npz', '1435.npz', '0714.npz', '1313.npz', '2131.npz', '0467.npz', '1729.npz', '1783.npz', '2616.npz', '1579.npz', '2745.npz', '1179.npz', '2685.npz', '1911.npz', '1461.npz', '2039.npz', '1464.npz', '0631.npz', '0809.npz', '0787.npz', '2554.npz', '0184.npz', '1613.npz', '1354.npz', '2013.npz', '1098.npz', '0403.npz', '0450.npz', '1681.npz', '2591.npz', '2552.npz', '2143.npz', '2817.npz', '2632.npz', '1152.npz', '1832.npz', '1197.npz', '2061.npz', '0167.npz', '1339.npz', '1741.npz', '2082.npz', '2448.npz', '1034.npz', '2231.npz', '0275.npz', '1703.npz', '2882.npz', '1871.npz', '1961.npz', '1134.npz', '2198.npz', '1977.npz', '0241.npz', '1721.npz', '2976.npz', '1840.npz', '0709.npz', '1285.npz', '0178.npz', '2086.npz', '0717.npz', '1024.npz', '1828.npz', '2366.npz', '2941.npz', '0345.npz', '1373.npz', '1187.npz', '0421.npz', '0536.npz', '1931.npz', '2759.npz', '1676.npz', '2161.npz', '2256.npz', '0294.npz', '0861.npz', '0996.npz', '0863.npz', '0637.npz', '1438.npz', '1723.npz', '2729.npz', '1611.npz', '0521.npz', '1064.npz', '0342.npz', '0145.npz', '2669.npz', '0633.npz', '2867.npz', '1074.npz', '2188.npz', '0833.npz', '1120.npz', '1904.npz', '1269.npz', '0179.npz', '0577.npz', '1259.npz', '2852.npz', '2054.npz', '1624.npz', '2504.npz', '2032.npz', '1995.npz', '2280.npz', '1589.npz', '1178.npz', '0250.npz', '1369.npz', '0608.npz', '2278.npz', '0885.npz', '0889.npz', '2330.npz', '1991.npz', '2736.npz', '1482.npz', '0096.npz', '0788.npz', '0190.npz', '1245.npz', '2008.npz', '1109.npz', '2770.npz', '1218.npz', '1576.npz', '1193.npz', '0905.npz', '2765.npz', '1952.npz', '2779.npz', '1445.npz', '2324.npz', '2946.npz', '0343.npz', '2972.npz', '0965.npz', '1564.npz', '0562.npz', '1781.npz', '0388.npz', '2200.npz', '0660.npz', '2481.npz', '0726.npz', '2030.npz', '0358.npz', '2356.npz', '2254.npz', '2145.npz', '0892.npz', '0662.npz', '1857.npz', '2555.npz', '2429.npz', '2088.npz', '0469.npz', '0072.npz', '2730.npz', '2658.npz', '1988.npz', '0277.npz', '2991.npz', '0849.npz', '2173.npz', '2424.npz', '1731.npz', '2483.npz', '0428.npz', '0150.npz', '0031.npz', '1312.npz', '2109.npz', '0468.npz', '0368.npz', '0769.npz', '2711.npz', '1102.npz', '1661.npz', '2629.npz', '2553.npz', '0142.npz', '1524.npz', '2377.npz', '0317.npz', '0697.npz', '0246.npz', '2786.npz', '0794.npz', '0793.npz', '1167.npz', '1076.npz', '2461.npz', '2989.npz', '1097.npz', '1237.npz', '2250.npz', '0555.npz', '2328.npz', '1925.npz', '0984.npz', '1875.npz', '1330.npz', '2072.npz', '1095.npz', '1251.npz', '2724.npz', '1913.npz', '0357.npz', '0365.npz', '2227.npz', '0581.npz', '0937.npz', '1610.npz', '2403.npz', '2635.npz', '1352.npz', '0783.npz', '0360.npz', '0766.npz', '0894.npz', '2661.npz', '2244.npz', '0432.npz', '2205.npz', '0765.npz', '1319.npz', '2159.npz', '1241.npz', '1505.npz', '2787.npz', '0239.npz', '2493.npz', '2782.npz', '2898.npz', '1746.npz', '1701.npz', '0116.npz', '0485.npz', '1553.npz', '1427.npz', '1899.npz', '2810.npz', '0323.npz', '2079.npz', '2527.npz', '1762.npz', '0372.npz', '2889.npz', '1384.npz', '2073.npz', '0790.npz', '2067.npz', '1643.npz', '0619.npz', '1116.npz', '2755.npz', '0375.npz', '1189.npz', '2586.npz', '2416.npz', '0629.npz', '1825.npz', '2351.npz', '0820.npz', '2017.npz', '0285.npz', '1450.npz', '2931.npz', '2177.npz', '2812.npz', '1015.npz', '1328.npz', '1558.npz', '0155.npz', '0988.npz', '0576.npz', '0893.npz', '0433.npz', '0859.npz', '1764.npz', '0094.npz', '1151.npz', '2680.npz', '2248.npz', '1740.npz', '1071.npz', '1836.npz', '2292.npz', '0616.npz', '2486.npz', '0749.npz', '1750.npz', '0542.npz', '0346.npz', '0784.npz', '2938.npz', '0197.npz', '0312.npz', '1550.npz', '1220.npz', '0731.npz', '0075.npz', '0482.npz', '2573.npz', '1421.npz', '2080.npz', '2464.npz', '0875.npz', '2167.npz', '1169.npz', '1758.npz', '2437.npz', '1103.npz', '2398.npz', '1798.npz', '1347.npz', '0873.npz', '2301.npz', '0997.npz', '2093.npz', '1593.npz', '0832.npz', '0971.npz', '2950.npz', '1827.npz', '1519.npz', '1917.npz', '0991.npz', '2221.npz', '0287.npz', '0792.npz', '1601.npz', '0136.npz', '1535.npz', '2241.npz', '1388.npz', '1881.npz', '2479.npz', '0110.npz', '0023.npz', '0253.npz', '2502.npz', '0720.npz', '0127.npz', '2691.npz', '2865.npz', '1011.npz', '1921.npz', '0206.npz', '2069.npz', '1357.npz', '1964.npz', '1521.npz', '2422.npz', '1583.npz', '0314.npz', '1303.npz', '0461.npz', '2153.npz', '1942.npz', '2936.npz', '1778.npz', '2550.npz', '2771.npz', '2806.npz', '1714.npz', '2272.npz', '0995.npz', '1194.npz', '2335.npz', '2499.npz', '2794.npz', '1937.npz', '1966.npz', '2092.npz', '1394.npz', '2942.npz', '0308.npz', '2296.npz', '1887.npz', '1343.npz', '2447.npz', '2308.npz', '0328.npz', '0981.npz', '2789.npz', '2601.npz', '0389.npz', '2659.npz', '0664.npz', '2402.npz', '1846.npz', '1883.npz', '1140.npz', '2068.npz', '2698.npz', '1897.npz', '1002.npz', '2489.npz', '0006.npz', '1922.npz', '1331.npz', '0401.npz', '1353.npz', '2262.npz', '0141.npz', '0817.npz', '1195.npz', '2480.npz', '0869.npz', '2949.npz', '1424.npz', '2948.npz', '0780.npz', '2708.npz', '2443.npz', '1471.npz', '2007.npz', '1324.npz', '2037.npz', '1088.npz', '2559.npz', '0044.npz', '0696.npz', '2485.npz', '2058.npz', '2435.npz', '1736.npz', '0195.npz', '0227.npz', '2223.npz', '2528.npz', '0918.npz', '0437.npz', '0456.npz', '2681.npz', '1999.npz', '1296.npz', '0851.npz', '0258.npz', '1615.npz', '1935.npz', '1882.npz', '2055.npz', '1403.npz', '0505.npz', '1175.npz', '2043.npz', '1239.npz', '1003.npz', '1585.npz', '1646.npz', '2818.npz', '0652.npz', '1043.npz', '1725.npz', '2570.npz', '2825.npz', '1221.npz', '0814.npz', '1885.npz', '2451.npz', '0666.npz', '2312.npz', '1575.npz', '2743.npz', '2918.npz', '1710.npz', '0380.npz', '0445.npz', '0573.npz', '2959.npz', '0643.npz', '2932.npz', '2192.npz', '0291.npz', '0825.npz', '1662.npz', '2723.npz', '0429.npz', '1107.npz', '0125.npz', '2667.npz', '2804.npz', '2011.npz', '1650.npz', '2291.npz', '0248.npz', '0344.npz', '0761.npz', '0853.npz', '1853.npz', '1395.npz', '1249.npz', '0390.npz', '2909.npz', '0847.npz', '1666.npz', '2910.npz', '2509.npz', '1507.npz', '1423.npz', '2027.npz', '2956.npz', '2599.npz', '2450.npz', '2116.npz', '1668.npz', '1580.npz', '1976.npz', '2220.npz', '1214.npz', '2295.npz', '2846.npz', '0175.npz', '0091.npz', '1031.npz', '2703.npz', '0093.npz', '2057.npz', '0928.npz', '1433.npz', '1556.npz', '2580.npz', '2871.npz', '0690.npz', '0706.npz', '0347.npz', '0085.npz', '1618.npz', '2997.npz', '0539.npz', '0607.npz', '0954.npz', '2458.npz', '2075.npz', '2310.npz', '2282.npz', '0989.npz', '1544.npz', '1472.npz', '2826.npz', '0759.npz', '0304.npz', '1873.npz', '2618.npz', '2900.npz', '0708.npz', '0711.npz', '0262.npz', '2376.npz', '1517.npz', '2224.npz', '0903.npz', '1027.npz', '2009.npz', '0289.npz', '0417.npz', '2148.npz', '0961.npz', '1540.npz', '2123.npz', '2418.npz', '1291.npz', '2393.npz', '2285.npz', '2264.npz', '2533.npz', '2099.npz', '2025.npz', '1329.npz', '1631.npz', '1582.npz', '0735.npz', '2498.npz', '1149.npz', '1040.npz', '2873.npz', '1205.npz', '1222.npz', '1978.npz', '2943.npz', '2653.npz', '2117.npz', '0097.npz', '1387.npz', '1594.npz', '1716.npz', '1713.npz', '1338.npz', '2650.npz', '1452.npz', '0837.npz', '1928.npz', '1392.npz', '0603.npz', '1502.npz', '0462.npz', '2472.npz', '2998.npz', '2283.npz', '2361.npz', '1893.npz', '1627.npz', '2561.npz', '0862.npz', '0752.npz', '0311.npz', '2979.npz', '2165.npz', '1456.npz', '0990.npz', '0082.npz', '0163.npz', '0756.npz', '1289.npz', '0032.npz', '2795.npz', '1933.npz', '2660.npz', '2628.npz', '2222.npz', '1657.npz', '0009.npz', '0595.npz', '0383.npz', '0821.npz', '0698.npz', '0079.npz', '0528.npz', '0687.npz', '1292.npz', '2512.npz', '0691.npz', '1525.npz', '0963.npz', '1274.npz', '1639.npz', '0405.npz', '0038.npz', '1137.npz', '1698.npz', '0980.npz', '0266.npz', '1981.npz', '2793.npz', '2574.npz', '2836.npz', '2044.npz', '2097.npz', '2763.npz', '1969.npz', '1437.npz', '1432.npz', '0907.npz', '2968.npz', '1132.npz', '0207.npz', '0967.npz', '1765.npz', '2686.npz', '1844.npz', '1901.npz', '2038.npz', '0474.npz', '0827.npz', '2594.npz', '0911.npz', '0496.npz', '2985.npz', '1581.npz', '2684.npz', '2575.npz', '1391.npz', '2505.npz', '1567.npz', '1326.npz', '1552.npz', '1045.npz', '1522.npz', '1767.npz', '2719.npz', '0138.npz', '0665.npz', '1390.npz', '0005.npz', '2414.npz', '2999.npz', '2357.npz', '1415.npz', '0771.npz', '2958.npz', '2337.npz', '0881.npz', '1895.npz', '1290.npz', '1419.npz', '2345.npz', '2823.npz', '0153.npz', '1159.npz', '2277.npz', '2864.npz', '1293.npz', '0604.npz', '0015.npz', '0459.npz', '1793.npz', '2752.npz', '2623.npz', '1571.npz', '0679.npz', '2848.npz', '2833.npz', '0341.npz', '2346.npz', '2243.npz', '1161.npz', '1653.npz', '2314.npz', '0973.npz', '0236.npz', '0545.npz', '1378.npz', '2273.npz', '0067.npz', '0431.npz', '0509.npz', '0435.npz', '1951.npz', '1188.npz', '0109.npz', '0508.npz', '0898.npz', '1679.npz', '1818.npz', '0776.npz', '0532.npz', '1473.npz', '0935.npz', '0908.npz', '0229.npz', '2433.npz', '0806.npz', '0106.npz', '1997.npz', '1566.npz', '0353.npz', '2004.npz', '0729.npz', '1588.npz', '0135.npz', '2207.npz', '0718.npz', '0901.npz', '1872.npz', '1603.npz', '1455.npz', '1909.npz', '0732.npz', '2350.npz', '2203.npz', '0107.npz', '1906.npz', '0802.npz', '2495.npz', '0910.npz', '1468.npz', '2412.npz', '0897.npz', '1563.npz', '1814.npz', '0630.npz', '0472.npz', '1086.npz', '0895.npz', '2945.npz', '2604.npz', '0033.npz', '2854.npz', '2970.npz', '2028.npz', '2737.npz', '2005.npz', '2520.npz', '1063.npz', '1380.npz', '1987.npz', '0551.npz', '2742.npz', '0591.npz', '1310.npz', '0553.npz', '1449.npz', '0171.npz', '1802.npz', '0723.npz', '1335.npz', '2822.npz', '2392.npz', '1422.npz', '0270.npz', '1402.npz', '0331.npz', '2100.npz', '1021.npz', '2835.npz', '0087.npz', '2636.npz', '2607.npz', '2617.npz', '0534.npz', '2994.npz', '0362.npz', '1443.npz', '2878.npz', '2701.npz', '2712.npz', '2315.npz', '2108.npz', '2612.npz', '1462.npz', '1711.npz', '2506.npz', '2215.npz', '1730.npz', '2287.npz', '1830.npz', '1632.npz', '1447.npz', '2431.npz', '2834.npz', '0001.npz', '0243.npz', '2249.npz', '2178.npz', '1747.npz', '1277.npz', '2934.npz', '2655.npz', '2860.npz', '0028.npz', '1534.npz', '1824.npz', '1772.npz', '2255.npz', '1702.npz', '0278.npz', '2595.npz', '0054.npz', '1786.npz', '2841.npz', '2261.npz', '2139.npz', '1453.npz', '0218.npz', '1077.npz', '0543.npz', '0587.npz', '2239.npz', '2492.npz', '0404.npz', '0589.npz', '1514.npz', '0906.npz', '0835.npz', '2981.npz', '0549.npz', '1407.npz', '2926.npz', '1784.npz', '0300.npz', '0452.npz', '0932.npz', '0293.npz', '2401.npz', '2869.npz', '1053.npz', '0920.npz', '1785.npz', '1759.npz', '1797.npz', '2713.npz', '0100.npz', '0649.npz', '0758.npz', '2339.npz', '2863.npz', '1775.npz', '2560.npz', '0159.npz', '2954.npz', '1100.npz', '2348.npz', '1224.npz', '2984.npz', '0826.npz', '0332.npz', '2311.npz', '1691.npz', '1153.npz', '2095.npz', '1232.npz', '1418.npz', '2634.npz', '1341.npz', '1294.npz', '2912.npz', '1305.npz', '1734.npz', '1131.npz', '0322.npz', '2465.npz', '0672.npz', '1795.npz', '1518.npz', '1539.npz', '2626.npz', '1530.npz', '2063.npz', '1160.npz', '2045.npz', '2838.npz', '2883.npz', '0029.npz', '2015.npz', '0204.npz', '1817.npz', '1429.npz', '0597.npz', '1655.npz', '1036.npz', '1712.npz', '0063.npz', '2144.npz', '1677.npz', '2615.npz', '1940.npz', '2468.npz', '2546.npz', '0914.npz', '2190.npz', '1010.npz', '1548.npz', '1154.npz', '1669.npz', '0880.npz', '0412.npz', '0296.npz', '2267.npz', '2775.npz', '0951.npz', '2851.npz', '2975.npz', '0680.npz', '1708.npz', '0040.npz', '2352.npz', '2078.npz', '2640.npz', '1923.npz', '2021.npz', '0507.npz', '2395.npz', '1543.npz', '1565.npz', '0866.npz', '0074.npz', '0157.npz', '1865.npz', '0762.npz', '1066.npz', '0027.npz', '2302.npz', '1138.npz', '2895.npz', '0272.npz', '2048.npz', '0925.npz', '1787.npz', '1671.npz', '1982.npz', '2040.npz', '0045.npz', '0594.npz', '2556.npz', '0281.npz', '2578.npz', '0305.npz', '2820.npz', '0014.npz', '0974.npz', '0492.npz', '1119.npz', '2514.npz', '2716.npz', '2127.npz', '1056.npz', '1284.npz', '0086.npz', '1016.npz', '0913.npz', '1308.npz', '0491.npz', '1737.npz', '2180.npz', '1163.npz', '1454.npz', '2413.npz', '2156.npz', '1022.npz', '2076.npz', '1680.npz', '2230.npz', '0601.npz', '0026.npz', '0685.npz', '1612.npz', '1678.npz', '2695.npz', '0590.npz', '1105.npz', '2927.npz', '0398.npz', '1739.npz', '2488.npz', '0727.npz', '2026.npz', '1230.npz', '0301.npz', '2426.npz', '1551.npz', '2387.npz', '2951.npz', '0598.npz', '0361.npz', '2454.npz', '2929.npz', '2083.npz', '0755.npz', '2390.npz', '1275.npz', '1531.npz', '2856.npz', '2536.npz', '0334.npz', '2212.npz', '0493.npz', '0181.npz', '1496.npz', '1434.npz', '1173.npz', '2284.npz', '1956.npz', '0292.npz', '1117.npz', '0994.npz', '0902.npz', '0969.npz', '1248.npz', '1157.npz', '0065.npz', '1054.npz', '0340.npz', '0446.npz', '2487.npz', '2275.npz', '0377.npz', '0454.npz', '0561.npz', '0671.npz', '1276.npz', '2518.npz', '2583.npz', '1426.npz', '1934.npz', '1820.npz', '0923.npz', '1892.npz', '2585.npz', '1605.npz', '1972.npz', '1280.npz', '2389.npz', '1398.npz', '2257.npz', '0215.npz', '1234.npz', '0261.npz', '2476.npz', '1866.npz', '2925.npz', '2304.npz', '1345.npz', '1727.npz', '2832.npz', '1634.npz', '2830.npz', '0400.npz', '1880.npz', '0436.npz', '1376.npz', '1572.npz', '0634.npz', '0722.npz', '1501.npz', '1412.npz', '2571.npz', '2360.npz', '1177.npz', '0149.npz', '2689.npz', '2041.npz', '0177.npz', '0036.npz', '2233.npz', '0025.npz', '0810.npz', '2582.npz', '0768.npz', '2065.npz', '2074.npz', '1776.npz', '0734.npz', '0057.npz', '1333.npz', '0221.npz', '0420.npz', '1958.npz', '0255.npz', '1009.npz', '0288.npz', '1060.npz', '0449.npz', '2809.npz', '2717.npz', '2647.npz', '1542.npz', '2453.npz', '1719.npz', '0168.npz', '1261.npz', '2306.npz', '1263.npz', '2494.npz', '0083.npz', '2566.npz', '0464.npz', '1888.npz', '1559.npz', '0786.npz', '2756.npz', '2002.npz', '2415.npz', '2130.npz', '2977.npz', '0455.npz', '2625.npz', '2857.npz', '0992.npz', '0356.npz', '0478.npz', '1628.npz', '1512.npz', '2694.npz', '1914.npz', '1302.npz', '1264.npz', '1400.npz', '0210.npz', '2894.npz', '1478.npz', '2648.npz', '0422.npz', '0677.npz', '2603.npz', '2446.npz', '1993.npz', '0540.npz', '2534.npz', '0699.npz', '2102.npz', '2758.npz', '0744.npz', '2307.npz', '1586.npz', '1073.npz', '1320.npz', '0249.npz', '0448.npz', '2375.npz', '1959.npz', '0337.npz', '0525.npz', '0701.npz', '2772.npz', '0268.npz', '1812.npz', '1592.npz', '0475.npz', '2064.npz', '1325.npz', '2529.npz', '0022.npz', '0904.npz', '2899.npz', '1286.npz', '2242.npz', '2726.npz', '1025.npz', '1856.npz', '1630.npz', '1417.npz', '2645.npz', '1908.npz', '0751.npz', '2947.npz', '1144.npz', '2438.npz', '2216.npz', '0043.npz', '0876.npz', '1638.npz', '2921.npz', '0922.npz', '2235.npz', '1749.npz', '2098.npz', '1578.npz', '1529.npz', '0625.npz', '1475.npz', '0516.npz', '1715.npz', '0102.npz', '1446.npz', '2176.npz', '1370.npz', '1801.npz', '0673.npz', '2171.npz', '0807.npz', '1953.npz', '1755.npz', '1225.npz', '1091.npz', '0453.npz', '2463.npz', '2140.npz', '0818.npz', '0378.npz', '2006.npz', '0481.npz', '0329.npz', '1476.npz', '1855.npz', '1256.npz', '0775.npz', '2814.npz', '2326.npz', '1560.npz', '1135.npz', '2441.npz', '0777.npz', '2319.npz', '0351.npz', '0510.npz', '1686.npz', '1101.npz', '1510.npz', '1059.npz', '1014.npz', '1859.npz', '0789.npz', '0692.npz', '1805.npz', '2799.npz', '1503.npz', '0269.npz', '2162.npz', '1545.npz', '0953.npz', '1334.npz', '2630.npz', '0620.npz', '1393.npz', '0186.npz', '0668.npz', '2861.npz', '2367.npz', '1490.npz', '0069.npz', '1504.npz', '0265.npz', '1383.npz', '0280.npz', '1156.npz', '1038.npz', '2933.npz', '2347.npz', '2363.npz', '1281.npz', '2423.npz', '2769.npz', '1515.npz', '1348.npz', '1196.npz', '0133.npz', '0812.npz', '2611.npz', '2421.npz', '2815.npz', '0174.npz', '0076.npz', '0956.npz', '0975.npz', '1704.npz', '1439.npz', '2208.npz', '2516.npz', '0479.npz', '2342.npz', '0238.npz', '0782.npz', '2915.npz', '1692.npz', '0836.npz', '1705.npz', '2110.npz', '2029.npz', '0870.npz', '2620.npz', '0414.npz', '1554.npz', '0736.npz', '0161.npz', '0563.npz', '2675.npz', '0143.npz', '1771.npz', '0092.npz', '1696.npz', '2734.npz', '1364.npz', '1155.npz', '0819.npz', '0187.npz', '0533.npz', '0115.npz', '0425.npz', '2035.npz', '1215.npz', '0724.npz', '2023.npz', '2519.npz', '0941.npz', '1971.npz', '2179.npz', '1745.npz', '2467.npz', '2047.npz', '2760.npz', '0993.npz', '1486.npz', '2678.npz', '2705.npz', '0952.npz', '2322.npz', '0636.npz', '1483.npz', '1258.npz', '0886.npz', '0252.npz', '1850.npz', '1158.npz', '1965.npz', '2828.npz', '0008.npz', '2784.npz', '2368.npz', '2333.npz', '2749.npz', '1271.npz', '2186.npz', '2808.npz', '2539.npz', '2168.npz', '2182.npz', '1810.npz', '0112.npz', '0165.npz', '0864.npz', '2728.npz', '2107.npz', '0927.npz', '1905.npz', '2062.npz', '1183.npz', '2407.npz', '0121.npz', '0052.npz', '0371.npz', '0498.npz', '2992.npz', '0848.npz', '1200.npz', '2693.npz', '0147.npz', '1927.npz', '1837.npz', '0058.npz', '1495.npz', '0191.npz', '2500.npz', '1030.npz', '2791.npz', '0352.npz', '1252.npz', '2731.npz', '2191.npz', '1549.npz', '2042.npz', '0571.npz', '2372.npz', '2988.npz', '2748.npz', '1480.npz', '2245.npz', '2321.npz', '0211.npz', '2843.npz', '0824.npz', '2750.npz', '1489.npz', '2924.npz', '0612.npz', '0042.npz', '2796.npz', '0707.npz', '2687.npz', '1070.npz', '1242.npz', '1366.npz', '1848.npz', '2741.npz', '0232.npz', '2532.npz', '0354.npz', '1164.npz', '1209.npz', '0402.npz', '2816.npz', '0162.npz', '2491.npz', '2430.npz', '1748.npz', '1742.npz', '2046.npz', '2845.npz', '0180.npz', '1879.npz', '1526.npz', '2568.npz', '0770.npz', '0214.npz', '0089.npz', '2503.npz', '0764.npz', '0921.npz', '1600.npz', '1420.npz', '0030.npz', '1485.npz', '2637.npz', '1768.npz', '2138.npz', '2663.npz', '0166.npz', '1026.npz', '0682.npz', '2596.npz', '1207.npz', '1279.npz', '0743.npz', '2964.npz', '0486.npz', '1642.npz', '2870.npz', '0366.npz', '1984.npz', '2908.npz', '1050.npz', '1186.npz', '0959.npz', '0728.npz', '2537.npz', '0801.npz', '2456.npz', '1647.npz', '1199.npz', '2868.npz', '2158.npz', '2885.npz', '1272.npz', '1523.npz', '2732.npz', '2526.npz', '2916.npz', '1150.npz', '1833.npz', '2592.npz', '2739.npz', '0808.npz', '1939.npz', '1260.npz', '1629.npz', '1168.npz', '0702.npz', '1986.npz', '1842.npz', '1083.npz', '1665.npz', '0071.npz', '1804.npz', '0592.npz', '2427.npz', '1867.npz', '0843.npz', '0176.npz', '0140.npz', '1967.npz', '2260.npz', '1884.npz', '2627.npz', '0050.npz', '2024.npz', '2238.npz', '2332.npz', '2967.npz', '0622.npz', '0548.npz', '0012.npz', '2411.npz', '0641.npz', '0223.npz', '1052.npz', '1697.npz', '1048.npz', '2473.npz', '2120.npz', '0318.npz', '0681.npz', '0618.npz', '0900.npz', '1336.npz', '1950.npz', '1377.npz', '2714.npz', '1273.npz', '0813.npz', '1910.npz', '1148.npz', '0888.npz', '2146.npz', '2125.npz', '0754.npz', '2581.npz', '2670.npz', '0834.npz', '0196.npz', '0750.npz', '1128.npz', '0663.npz', '2774.npz', '1491.npz', '0979.npz', '2484.npz', '0585.npz', '1288.npz', '1902.npz', '1371.npz', '1780.npz', '2290.npz', '2094.npz', '1688.npz', '0306.npz', '1287.npz', '0394.npz', '1115.npz', '1667.npz', '0678.npz', '1915.npz', '0703.npz', '2136.npz', '2012.npz', '2380.npz', '1877.npz', '0219.npz', '2890.npz', '1635.npz', '1637.npz', '2872.npz', '1360.npz', '1401.npz', '0399.npz', '1006.npz', '0945.npz', '2605.npz', '1492.npz', '0134.npz', '2160.npz', '0550.npz', '2778.npz', '2344.npz', '1078.npz', '2121.npz', '1796.npz', '0423.npz', '1174.npz', '1250.npz', '1477.npz', '0416.npz', '1406.npz', '0192.npz', '1094.npz', '2184.npz', '0276.npz', '2897.npz', '1111.npz', '1058.npz', '0822.npz', '0222.npz', '2150.npz', '1791.npz', '2874.npz', '0645.npz', '2317.npz', '2209.npz', '0137.npz', '2940.npz', '1938.npz', '1317.npz', '0066.npz', '0738.npz', '0419.npz', '0998.npz', '0872.npz', '0879.npz', '0930.npz', '0575.npz', '0156.npz', '1831.npz', '0715.npz', '2589.npz', '0896.npz', '1314.npz', '1223.npz', '1807.npz', '2166.npz', '0313.npz', '0391.npz', '2294.npz', '0487.npz', '2349.npz', '2679.npz', '0968.npz', '2112.npz', '0977.npz', '2562.npz', '0473.npz', '2744.npz', '0774.npz', '1127.npz', '2531.npz', '2439.npz', '0934.npz', '1926.npz', '2206.npz', '0506.npz', '2513.npz', '0883.npz', '2085.npz', '1996.npz', '2849.npz', '2721.npz', '0778.npz', '2747.npz', '1019.npz', '1084.npz', '2511.npz', '1970.npz', '0193.npz', '2903.npz', '1257.npz', '2715.npz', '0844.npz', '0160.npz', '1641.npz', '1211.npz', '1047.npz', '2417.npz', '2551.npz', '0444.npz', '0324.npz', '1864.npz', '0957.npz', '1968.npz', '1463.npz', '1228.npz', '1533.npz', '1930.npz', '0396.npz', '0831.npz', '0188.npz', '2355.npz', '2587.npz', '1682.npz', '0183.npz', '0185.npz', '0674.npz', '0640.npz', '2195.npz', '2923.npz', '1172.npz', '2299.npz', '0095.npz', '0964.npz', '0558.npz', '2409.npz', '2466.npz', '1365.npz', '0623.npz', '1028.npz', '2397.npz', '0693.npz', '2383.npz', '1008.npz', '2320.npz', '0899.npz', '0650.npz', '2309.npz', '2644.npz', '2384.npz', '1180.npz', '0675.npz', '2183.npz', '0251.npz', '1112.npz', '0330.npz', '1247.npz', '2362.npz', '0201.npz', '2096.npz', '2579.npz', '1238.npz', '1441.npz', '1752.npz', '1145.npz', '1891.npz', '2340.npz', '2987.npz', '1165.npz', '2105.npz', '2544.npz', '0298.npz', '1316.npz', '2727.npz', '1597.npz', '2247.npz', '0397.npz', '2018.npz', '1018.npz', '0090.npz', '0838.npz', '1689.npz', '0117.npz', '1104.npz', '0940.npz', '2649.npz', '1191.npz', '0767.npz', '2777.npz', '2785.npz', '0978.npz', '1442.npz', '0471.npz', '2881.npz', '2893.npz', '2101.npz', '0119.npz', '2676.npz', '2517.npz', '0686.npz', '0169.npz', '2700.npz', '1674.npz', '2490.npz', '2564.npz', '0683.npz', '2141.npz', '1075.npz', '1469.npz', '2753.npz', '1591.npz', '0049.npz', '0568.npz', '0648.npz', '0582.npz', '0386.npz', '1408.npz', '2152.npz', '0661.npz', '2428.npz', '0948.npz', '1973.npz', '2325.npz', '1541.npz', '2656.npz', '0644.npz', '1751.npz', '1516.npz', '0504.npz', '1240.npz', '0355.npz', '1900.npz', '0199.npz', '1129.npz', '2338.npz', '0350.npz', '1049.npz', '1944.npz', '1322.npz', '1860.npz', '0198.npz', '1664.npz', '0938.npz', '0546.npz', '2000.npz', '0868.npz', '1141.npz', '2359.npz', '1231.npz', '1265.npz', '0369.npz', '2913.npz', '0647.npz', '1858.npz', '1659.npz', '1766.npz', '0621.npz', '2225.npz', '0336.npz', '1082.npz', '2801.npz', '2543.npz', '1602.npz', '2952.npz', '0541.npz', '1349.npz', '2300.npz', '0297.npz', '1410.npz', '0564.npz', '1649.npz', '0730.npz', '1176.npz', '0264.npz', '1470.npz', '1219.npz', '0599.npz', '2113.npz', '1695.npz', '1037.npz', '2646.npz', '0061.npz', '2776.npz', '2955.npz', '2930.npz', '0740.npz', '1057.npz', '0124.npz', '2084.npz', '1945.npz', '0983.npz', '2569.npz', '0565.npz', '1118.npz', '0451.npz', '0653.npz', '0606.npz', '2343.npz', '1413.npz', '2269.npz', '0626.npz', '0011.npz', '2056.npz', '2963.npz', '0651.npz', '1363.npz', '0632.npz', '2735.npz', '1444.npz', '2880.npz', '2600.npz', '2460.npz', '0395.npz', '2792.npz', '2639.npz', '2740.npz', '0799.npz', '1307.npz', '1826.npz', '2891.npz', '0745.npz', '2318.npz', '1816.npz', '1652.npz', '1355.npz', '1584.npz', '2542.npz', '1536.npz', '2993.npz', '1663.npz', '2126.npz', '1608.npz', '1690.npz', '1948.npz', '2174.npz', '1396.npz', '1206.npz', '2720.npz', '2788.npz', '1358.npz', '2066.npz', '0712.npz', '0489.npz', '2202.npz', '1852.npz', '0447.npz', '0588.npz', '0273.npz', '1125.npz', '1113.npz', '0118.npz', '2258.npz', '2565.npz', '1918.npz', '2334.npz', '1803.npz', '0858.npz', '2053.npz', '1598.npz', '1595.npz', '2369.npz', '1822.npz', '1458.npz', '2059.npz', '2199.npz', '2507.npz', '0319.npz', '0382.npz', '1493.npz', '2906.npz', '0684.npz', '0384.npz', '0426.npz', '0189.npz', '1162.npz', '1340.npz', '0048.npz', '0719.npz', '2365.npz', '1960.npz', '1869.npz', '1087.npz', '0614.npz', '2246.npz', '0010.npz', '0912.npz', '1645.npz', '1894.npz', '1481.npz', '2496.npz', '1282.npz', '0024.npz', '0217.npz', '1069.npz', '2973.npz', '0519.npz', '2229.npz', '1147.npz', '0518.npz', '0741.npz', '2115.npz', '1283.npz', '2608.npz', '0760.npz', '1733.npz', '1146.npz', '1625.npz', '2436.npz', '0773.npz', '1896.npz', '1185.npz', '1046.npz', '1717.npz', '0035.npz', '2462.npz', '0098.npz', '1067.npz', '2031.npz', '1055.npz', '0370.npz', '2643.npz', '2535.npz', '2313.npz', '2175.npz', '1672.npz', '0034.npz', '1538.npz', '0263.npz', '1466.npz', '1673.npz', '0523.npz', '0225.npz', '2590.npz', '0882.npz', '2547.npz', '1929.npz', '1617.npz', '1813.npz', '2329.npz', '1947.npz', '1761.npz', '2875.npz', '1032.npz', '1728.npz', '0274.npz', '1989.npz', '2181.npz', '0970.npz', '0646.npz', '2896.npz', '1309.npz', '2837.npz', '1465.npz', '2232.npz', '0490.npz', '1201.npz', '2034.npz', '0430.npz', '0224.npz', '2652.npz', '0733.npz', '2773.npz', '2400.npz', '3000.npz', '0460.npz', '0890.npz', '2839.npz', '1744.npz', '0470.npz', '0919.npz', '2751.npz', '1849.npz', '1509.npz', '2866.npz', '0410.npz', '2052.npz', '0488.npz', '0327.npz', '1557.npz', '2563.npz', '0557.npz', '0408.npz', '0047.npz', '1304.npz', '2888.npz', '2957.npz', '2288.npz', '2971.npz', '2298.npz', '1318.npz', '2859.npz', '2986.npz', '2201.npz', '1903.npz', '0874.npz', '1788.npz', '0657.npz', '1919.npz', '1777.npz', '2440.npz', '0182.npz', '1035.npz', '1722.npz', '0122.npz', '0497.npz', '0613.npz', '1301.npz', '2641.npz', '2358.npz', '2089.npz', '1724.npz', '2341.npz', '1644.npz', '0465.npz', '0237.npz', '1253.npz', '2847.npz', '0737.npz', '1278.npz', '1399.npz', '0080.npz', '2394.npz', '2236.npz', '2962.npz', '2353.npz', '1110.npz', '2060.npz', '1041.npz', '0299.npz', '2327.npz', '2892.npz', '2033.npz', '2522.npz', '2567.npz', '0307.npz', '2477.npz', '1656.npz', '0111.npz', '1460.npz', '0495.npz', '0302.npz', '1267.npz', '2077.npz', '1448.npz', '0667.npz', '0003.npz', '2406.npz', '1555.npz', '1770.npz', '0547.npz', '0529.npz', '2905.npz', '0320.npz', '2722.npz', '0037.npz', '1835.npz', '2189.npz', '0427.npz', '0530.npz', '0917.npz', '0348.npz', '0126.npz', '2303.npz', '1385.npz', '0611.npz', '1720.npz', '2642.npz', '1431.npz', '2455.npz', '1616.npz', '0016.npz', '0146.npz', '1508.npz', '0411.npz', '2702.npz', '1013.npz', '1342.npz', '0062.npz', '0202.npz', '0407.npz', '1130.npz', '1819.npz', '1229.npz', '0466.npz', '1537.npz', '2572.npz', '2665.npz', '2548.npz', '1428.npz', '0579.npz', '1800.npz', '1246.npz', '2382.npz', '0710.npz', '1216.npz', '2051.npz', '1577.npz', '0845.npz', '1619.npz', '0457.npz', '1769.npz', '0950.npz', '1235.npz', '1633.npz', '2276.npz', '1562.npz', '1955.npz', '1916.npz', '0235.npz', '2707.npz', '2960.npz', '0439.npz', '0855.npz', '1182.npz', '1898.npz', '1121.npz', '2783.npz', '2022.npz', '2471.npz', '2780.npz', '1851.npz', '2163.npz', '2457.npz', '2829.npz', '2710.npz', '2370.npz', '0560.npz', '2850.npz', '2876.npz', '0936.npz', '0871.npz', '1757.npz', '1547.npz', '0580.npz', '0669.npz', '2157.npz', '0500.npz', '2983.npz', '2840.npz', '0670.npz', '0415.npz', '2445.npz', '2251.npz', '0982.npz', '0602.npz', '1000.npz', '0725.npz', '1498.npz', '0517.npz', '1136.npz', '2373.npz', '1546.npz', '1847.npz', '0757.npz', '2172.npz', '0527.npz', '0260.npz', '2226.npz', '0424.npz', '2149.npz', '1815.npz', '0418.npz', '2442.npz', '1181.npz', '2194.npz', '1007.npz', '0200.npz', '2399.npz', '0798.npz', '2016.npz', '1779.npz', '0791.npz', '0257.npz', '0947.npz', '1753.npz', '1675.npz', '0891.npz', '0515.npz', '1718.npz', '2683.npz', '2265.npz', '1300.npz', '0173.npz', '0321.npz', '2452.npz', '0056.npz', '0785.npz', '1821.npz', '0114.npz', '0234.npz', '0158.npz', '2087.npz', '0962.npz', '0689.npz', '2253.npz', '1359.npz', '2336.npz', '1932.npz', '0747.npz', '2657.npz', '2803.npz', '0797.npz', '2297.npz', '0688.npz', '2154.npz', '1126.npz', '2961.npz', '2907.npz', '1687.npz', '2764.npz', '0627.npz', '2621.npz', '0830.npz', '0676.npz', '0503.npz', '0572.npz', '2668.npz', '2106.npz', '2122.npz', '2609.npz', '2944.npz', '0284.npz', '2853.npz', '2911.npz', '0443.npz', '0205.npz', '2185.npz', '0915.npz', '2071.npz', '2706.npz', '2219.npz', '1654.npz', '2619.npz', '2937.npz', '0638.npz', '1936.npz', '0463.npz', '1306.npz', '0569.npz', '2014.npz', '1436.npz', '2279.npz', '1430.npz', '0338.npz', '2478.npz', '0007.npz', '0290.npz', '0458.npz', '2855.npz', '0499.npz', '0078.npz', '2638.npz', '0779.npz', '1684.npz', '1870.npz', '0502.npz', '0113.npz', '0129.npz', '2577.npz', '0213.npz', '1506.npz', '1004.npz', '0144.npz', '0815.npz', '0409.npz', '0856.npz', '0746.npz', '2210.npz', '1080.npz', '2070.npz', '0857.npz', '1321.npz', '2155.npz', '2549.npz', '1994.npz', '1114.npz', '0795.npz', '1943.npz', '0846.npz', '2523.npz', '0501.npz', '0203.npz', '1184.npz', '2677.npz', '2379.npz', '0440.npz', '0829.npz', '1092.npz', '2902.npz', '0152.npz', '0108.npz', '1809.npz', '0704.npz', '2469.npz', '0385.npz', '1451.npz', '2995.npz', '1266.npz', '2386.npz', '0955.npz', '2688.npz', '1683.npz', '2673.npz', '2928.npz', '0282.npz', '1044.npz', '1626.npz', '2746.npz', '1979.npz', '0721.npz', '2001.npz', '2135.npz', '0101.npz', '2263.npz', '0811.npz', '1139.npz', '2790.npz', '2114.npz', '0256.npz', '2286.npz', '0617.npz', '2781.npz', '2982.npz', '2444.npz', '2766.npz', '2821.npz', '1811.npz', '1124.npz', '2204.npz', '0596.npz', '0099.npz', '1311.npz', '2270.npz', '2922.npz', '2697.npz', '0939.npz', '2050.npz', '0639.npz', '1123.npz', '0816.npz', '2142.npz', '2879.npz', '2692.npz', '1621.npz', '1528.npz', '2521.npz', '0524.npz', '1005.npz', '0909.npz', '2434.npz', '1699.npz', '0658.npz', '1790.npz', '0208.npz', '2289.npz', '2196.npz', '1609.npz', '2293.npz', '2391.npz', '2316.npz', '0511.npz', '2049.npz', '0438.npz', '2118.npz', '1604.npz', '1210.npz', '0943.npz', '1411.npz', '1061.npz', '1375.npz', '2805.npz', '0434.npz', '2374.npz', '0148.npz', '1799.npz', '2593.npz', '0654.npz', '0279.npz', '1957.npz', '1878.npz', '1773.npz', '2515.npz', '0931.npz', '2914.npz', '2610.npz', '2704.npz', '1351.npz', '0884.npz', '0610.npz', '0084.npz', '0055.npz', '1992.npz', '2405.npz', '2323.npz', '1660.npz', '2696.npz', '2410.npz', '2474.npz', '1374.npz', '0002.npz', '1099.npz', '1079.npz', '1693.npz', '0073.npz', '1726.npz', '0986.npz', '1096.npz', '0480.npz', '2111.npz', '1337.npz', '1033.npz', '0867.npz', '0628.npz', '2381.npz', '0635.npz', '1457.npz', '0800.npz', '0742.npz', '0584.npz', '0259.npz', '2234.npz', '1356.npz', '0705.npz', '0476.npz', '1754.npz', '1122.npz', '2187.npz', '1405.npz', '1912.npz', '0363.npz', '2858.npz', '0531.npz', '1204.npz', '2576.npz', '0781.npz', '1298.npz', '0303.npz', '2364.npz', '0154.npz', '0929.npz', '0231.npz', '1213.npz', '1270.npz', '2631.npz', '2538.npz', '0624.npz', '0484.npz', '0593.npz', '1487.npz', '1208.npz', '2768.npz', '1315.npz', '2132.npz', '1985.npz', '1017.npz', '0286.npz', '1344.npz', '1190.npz', '2844.npz', '2919.npz', '2901.npz', '1651.npz', '0655.npz', '2674.npz', '2274.npz', '1171.npz', '1520.npz', '0359.npz', '0556.npz', '0946.npz', '0772.npz', '0878.npz', '0483.npz', '0379.npz', '0605.npz', '1382.npz', '1039.npz', '0960.npz', '1789.npz', '0987.npz', '2953.npz', '2475.npz', '1243.npz', '0254.npz', '2137.npz', '0267.npz', '1404.npz', '0059.npz', '0841.npz', '2824.npz', '2419.npz', '1297.npz', '0441.npz', '2709.npz', '0349.npz', '2624.npz', '0367.npz', '1268.npz', '1706.npz', '1622.npz', '1574.npz', '0578.npz', '1709.npz', '0713.npz', '2331.npz', '0522.npz', '1980.npz', '1568.npz', '2003.npz', '0020.npz', '0247.npz', '2385.npz', '0999.npz', '2211.npz', '0753.npz', '0823.npz', '0513.npz', '2671.npz', '1829.npz', '0944.npz', '0839.npz', '0942.npz', '0228.npz', '2597.npz', '1081.npz', '2798.npz', '1414.npz', '0373.npz', '2862.npz', '2508.npz', '2281.npz', '1685.npz', '0972.npz', '1890.npz', '2974.npz', '2228.npz', '2104.npz', '0926.npz', '0131.npz', '2762.npz', '0544.npz', '0477.npz', '1416.npz', '0600.npz', '1732.npz', '2305.npz', '0120.npz', '1203.npz', '2252.npz', '1743.npz', '0520.npz', '2214.npz', '0335.npz', '1782.npz', '1409.npz', '0413.npz', '2354.npz', '2432.npz', '1658.npz', '2996.npz', '1862.npz', '2588.npz', '1397.npz', '2614.npz', '2119.npz', '2887.npz', '0226.npz', '1990.npz', '1362.npz', '0924.npz', '2133.npz', '2664.npz', '0103.npz', '1001.npz', '0828.npz', '0194.npz', '0566.npz', '1386.npz', '2606.npz', '1372.npz', '2540.npz', '2420.npz', '2920.npz', '2525.npz', '1573.npz', '0609.npz', '1367.npz', '2904.npz', '0374.npz', '0283.npz', '1042.npz', '1068.npz', '0081.npz', '1299.npz', '1499.npz', '1874.npz', '1133.npz', '2240.npz', '1072.npz', '1707.npz', '1607.npz', '0805.npz', '2266.npz', '2738.npz', '1346.npz', '0393.npz', '2662.npz', '2584.npz', '0271.npz', '0325.npz', '0244.npz', '1051.npz', '1700.npz', '2622.npz', '2831.npz', '0567.npz', '1792.npz', '0850.npz', '0803.npz', '1889.npz', '0695.npz', '1497.npz', '2164.npz', '1854.npz', '1029.npz', '2807.npz', '1513.npz', '1255.npz', '2654.npz', '0840.npz', '0130.npz', '0535.npz', '2036.npz', '0748.npz', '1459.npz', '0128.npz', '1640.npz', '2754.npz', '0700.npz', '2090.npz', '0494.npz', '2602.npz', '2019.npz', '2510.npz', '2193.npz', '0132.npz', '1227.npz', '2819.npz', '2010.npz', '1599.npz', '1845.npz', '1974.npz', '1012.npz', '0164.npz', '1648.npz', '1886.npz', '2378.npz', '0512.npz', '2259.npz', '1694.npz', '0172.npz', '0514.npz', '0538.npz', '0406.npz', '0339.npz', '1244.npz', '0088.npz', '1500.npz', '1975.npz', '1212.npz', '1020.npz', '2459.npz', '2147.npz', '2217.npz', '0316.npz', '1093.npz', '1467.npz', '2396.npz', '1106.npz', '1868.npz', '0656.npz', '0051.npz', '2213.npz', '2690.npz', '0077.npz', '0021.npz', '2470.npz', '1062.npz', '2613.npz', '0642.npz', '1233.npz']\n"
     ]
    }
   ],
   "source": [
    "print(os.listdir(os.path.join(preprocess.getoutputdir(),str(15))))"
   ]
  },
  {
   "cell_type": "code",
   "execution_count": null,
   "id": "c47fff4c",
   "metadata": {},
   "outputs": [],
   "source": [
    "model.metrics_names"
   ]
  },
  {
   "cell_type": "code",
   "execution_count": null,
   "id": "fedd1aad3ed6ed7c",
   "metadata": {},
   "outputs": [],
   "source": []
  }
 ],
 "metadata": {
  "kernelspec": {
   "display_name": "slr",
   "language": "python",
   "name": "python3"
  },
  "language_info": {
   "codemirror_mode": {
    "name": "ipython",
    "version": 3
   },
   "file_extension": ".py",
   "mimetype": "text/x-python",
   "name": "python",
   "nbconvert_exporter": "python",
   "pygments_lexer": "ipython3",
   "version": "3.9.20"
  }
 },
 "nbformat": 4,
 "nbformat_minor": 5
}
