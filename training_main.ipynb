{
 "cells": [
  {
   "cell_type": "code",
   "execution_count": 3,
   "id": "initial_id",
   "metadata": {
    "collapsed": true
   },
   "outputs": [],
   "source": [
    "# import preprocess as prep\n",
    "import model\n",
    "import numpy as np\n",
    "from datetime import datetime\n",
    "import os\n",
    "import importlib\n",
    "\n",
    "# preprocess / load preprocessed data (preprocess.py)\n",
    "# mini batching\n",
    "\n",
    "# load model(can quickly change model by changing imported model)\n",
    "# train / log\n",
    "# generate checkpoints\n",
    "\n",
    "# this will output 15 results/sec, how are we gonna handle it?"
   ]
  },
  {
   "cell_type": "code",
   "execution_count": 43,
   "id": "6787d32d",
   "metadata": {},
   "outputs": [
    {
     "data": {
      "text/plain": [
       "<module 'model' from 'c:\\\\Users\\\\jerry\\\\Desktop\\\\hly\\\\2024-2\\\\cap\\\\BN_SLR\\\\BomNae-SLR\\\\model.py'>"
      ]
     },
     "execution_count": 43,
     "metadata": {},
     "output_type": "execute_result"
    }
   ],
   "source": [
    "importlib.reload(model)"
   ]
  },
  {
   "cell_type": "code",
   "execution_count": 80,
   "id": "24152fba",
   "metadata": {},
   "outputs": [],
   "source": [
    "# utility functions\n",
    "\n",
    "def bin2num(bin_arr):\n",
    "    # big endian\n",
    "    # lower index > higher exponent\n",
    "    num = 0\n",
    "    for val in bin_arr:\n",
    "        num = (num << 1) | val\n",
    "    return num\n",
    "\n",
    "def num2bin(num, arr_len = -1):\n",
    "    # big endian\n",
    "    # lower index > higher exponent\n",
    "    bin_arr = [int(x) for x in bin(num)[2:]]\n",
    "    diff = arr_len - len(bin_arr)\n",
    "    if diff < 1:\n",
    "        return bin_arr\n",
    "    else:\n",
    "        pad = [0] * diff\n",
    "        return pad+bin_arr"
   ]
  },
  {
   "cell_type": "code",
   "execution_count": 196,
   "id": "b110c248",
   "metadata": {},
   "outputs": [],
   "source": [
    "def num_arr2bin(num_arr, out_len = -1):\n",
    "    # big endian\n",
    "    # lower index > higher exponent\n",
    "    res = []\n",
    "    for num in num_arr:\n",
    "        str_list = list(np.binary_repr(num).zfill(out_len))\n",
    "        bin_arr = np.array(str_list, dtype=np.float32)\n",
    "        res.append(bin_arr)\n",
    "    return np.array(res)"
   ]
  },
  {
   "cell_type": "code",
   "execution_count": 3,
   "id": "000d0485",
   "metadata": {},
   "outputs": [],
   "source": [
    "# Configurations\n",
    "checkpoint_size = 256 # number of data to be loaded at once\n",
    "epochs = 8\n",
    "save_dir = \"C:/Users/jerry/Desktop/hly/2024-2/cap/BN_SLR/BomNae-SLR/checkpoints\"\n",
    "load_dir = \"C:/Users/jerry/Desktop/hly/2024-2/cap/BN_SLR/BomNae-SLR/checkpoints\"\n"
   ]
  },
  {
   "cell_type": "code",
   "execution_count": 199,
   "id": "57ebc580",
   "metadata": {},
   "outputs": [
    {
     "data": {
      "text/plain": [
       "array([[1., 0., 1., 0., 0., 0., 0., 1., 0., 0., 0., 1.],\n",
       "       [1., 0., 1., 0., 0., 0., 0., 1., 0., 0., 0., 1.],\n",
       "       [1., 0., 1., 0., 0., 0., 0., 1., 0., 0., 0., 1.],\n",
       "       [0., 0., 0., 1., 0., 0., 1., 1., 1., 0., 0., 0.],\n",
       "       [0., 0., 0., 1., 0., 0., 1., 1., 1., 0., 0., 0.],\n",
       "       [0., 0., 0., 0., 0., 0., 0., 0., 0., 0., 1., 1.],\n",
       "       [0., 0., 0., 0., 0., 0., 0., 0., 0., 0., 1., 1.],\n",
       "       [0., 0., 0., 0., 0., 0., 0., 0., 0., 0., 1., 1.],\n",
       "       [0., 0., 0., 0., 0., 0., 0., 0., 0., 0., 1., 1.],\n",
       "       [0., 0., 0., 0., 0., 0., 0., 0., 0., 0., 1., 1.]], dtype=float32)"
      ]
     },
     "execution_count": 199,
     "metadata": {},
     "output_type": "execute_result"
    }
   ],
   "source": [
    "# x_train, y_raw = perp.load_data(something)\n",
    "# y would be word number (index) for each x input\n",
    "# example proof of concept\n",
    "y_raw = np.array([2577, 2577, 2577,  312,312, 3, 3, 3, 3, 3])\n",
    "y_train = num_arr2bin(y_raw, 12)\n",
    "y_train"
   ]
  },
  {
   "cell_type": "code",
   "execution_count": 200,
   "id": "7a547f4d",
   "metadata": {},
   "outputs": [
    {
     "data": {
      "text/plain": [
       "(10, 12)"
      ]
     },
     "execution_count": 200,
     "metadata": {},
     "output_type": "execute_result"
    }
   ],
   "source": [
    "y_train.shape"
   ]
  },
  {
   "cell_type": "code",
   "execution_count": 4,
   "id": "a5bfbc39",
   "metadata": {},
   "outputs": [],
   "source": [
    "# dummy data for model testing\n",
    "# hand input shape: (batch, time, h, w, channels)\n",
    "# pose input shape: (batch, time, channel, features)\n",
    "hand_l_dummy = np.zeros(shape=(256, 63, 4, 5, 3))\n",
    "hand_r_dummy = np.zeros(shape=(256, 63, 4, 5, 3))\n",
    "pose_dummy = np.zeros(shape=(256, 32, 3, 10))\n",
    "x_dummy = (hand_l_dummy, hand_r_dummy, pose_dummy)"
   ]
  },
  {
   "cell_type": "code",
   "execution_count": 5,
   "id": "51a4a345",
   "metadata": {},
   "outputs": [
    {
     "data": {
      "text/plain": [
       "(256, 32, 3, 10)"
      ]
     },
     "execution_count": 5,
     "metadata": {},
     "output_type": "execute_result"
    }
   ],
   "source": [
    "x_dummy[2].shape"
   ]
  },
  {
   "cell_type": "code",
   "execution_count": 6,
   "id": "0d18b064",
   "metadata": {},
   "outputs": [],
   "source": [
    "y_dummy1 = np.ones(shape=(256, 12))"
   ]
  },
  {
   "cell_type": "code",
   "execution_count": 7,
   "id": "1a7a5ad1",
   "metadata": {},
   "outputs": [],
   "source": [
    "y_dummy0 = np.zeros(shape=(256, 12))"
   ]
  },
  {
   "cell_type": "code",
   "execution_count": 40,
   "id": "2c2723cf",
   "metadata": {},
   "outputs": [],
   "source": [
    "model.reinit_model()"
   ]
  },
  {
   "cell_type": "code",
   "execution_count": 32,
   "id": "0397a4ab",
   "metadata": {},
   "outputs": [
    {
     "name": "stdout",
     "output_type": "stream",
     "text": [
      "Epoch 1/8\n",
      "16/16 [==============================] - 0s 11ms/step - loss: 0.0238\n",
      "Epoch 2/8\n",
      "16/16 [==============================] - 0s 10ms/step - loss: 0.0147\n",
      "Epoch 3/8\n",
      "16/16 [==============================] - 0s 12ms/step - loss: 0.0101\n",
      "Epoch 4/8\n",
      "16/16 [==============================] - 0s 13ms/step - loss: 0.0074\n",
      "Epoch 5/8\n",
      "16/16 [==============================] - 0s 15ms/step - loss: 0.0057\n",
      "Epoch 6/8\n",
      "16/16 [==============================] - 0s 9ms/step - loss: 0.0046\n",
      "Epoch 7/8\n",
      "16/16 [==============================] - 0s 11ms/step - loss: 0.0038\n",
      "Epoch 8/8\n",
      "16/16 [==============================] - 0s 12ms/step - loss: 0.0031\n"
     ]
    },
    {
     "data": {
      "text/plain": [
       "<keras.callbacks.History at 0x1ca921d8708>"
      ]
     },
     "execution_count": 32,
     "metadata": {},
     "output_type": "execute_result"
    }
   ],
   "source": [
    "model.train(x_dummy, y_dummy1, 8)"
   ]
  },
  {
   "cell_type": "code",
   "execution_count": 47,
   "id": "76aeaa74",
   "metadata": {},
   "outputs": [
    {
     "name": "stdout",
     "output_type": "stream",
     "text": [
      "8/8 [==============================] - 0s 6ms/step\n"
     ]
    }
   ],
   "source": [
    "pred = model.predict(x_dummy)"
   ]
  },
  {
   "cell_type": "code",
   "execution_count": 48,
   "id": "335022c6",
   "metadata": {},
   "outputs": [
    {
     "data": {
      "text/plain": [
       "array([0.99877626, 0.9979128 , 0.9985296 , 0.9986358 , 0.9960804 ,\n",
       "       0.995518  , 0.9969029 , 0.9925207 , 0.99776715, 0.9995015 ,\n",
       "       0.996898  , 0.9965179 ], dtype=float32)"
      ]
     },
     "execution_count": 48,
     "metadata": {},
     "output_type": "execute_result"
    }
   ],
   "source": [
    "pred[0]"
   ]
  },
  {
   "cell_type": "code",
   "execution_count": 13,
   "id": "87506a31",
   "metadata": {},
   "outputs": [],
   "source": [
    "save_name = \"asdf_test.keras\"\n",
    "save_path = os.path.join(save_dir, save_name)"
   ]
  },
  {
   "cell_type": "code",
   "execution_count": 35,
   "id": "a120d651",
   "metadata": {},
   "outputs": [],
   "source": [
    "model.save_model(save_path)"
   ]
  },
  {
   "cell_type": "code",
   "execution_count": 46,
   "id": "126a721e",
   "metadata": {},
   "outputs": [
    {
     "name": "stdout",
     "output_type": "stream",
     "text": [
      "Restored from C:/Users/jerry/Desktop/hly/2024-2/cap/BN_SLR/BomNae-SLR/checkpoints\\asdf_test.keras\\ckpt-1\n"
     ]
    }
   ],
   "source": [
    "model.load_model(save_path)"
   ]
  }
 ],
 "metadata": {
  "kernelspec": {
   "display_name": "Python 3",
   "language": "python",
   "name": "python3"
  },
  "language_info": {
   "codemirror_mode": {
    "name": "ipython",
    "version": 3
   },
   "file_extension": ".py",
   "mimetype": "text/x-python",
   "name": "python",
   "nbconvert_exporter": "python",
   "pygments_lexer": "ipython3",
   "version": "3.9.19"
  }
 },
 "nbformat": 4,
 "nbformat_minor": 5
}
