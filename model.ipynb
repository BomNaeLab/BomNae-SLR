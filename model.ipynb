{
 "cells": [
  {
   "cell_type": "code",
   "execution_count": 1,
   "id": "initial_id",
   "metadata": {
    "collapsed": true,
    "jupyter": {
     "outputs_hidden": true
    }
   },
   "outputs": [
    {
     "name": "stderr",
     "output_type": "stream",
     "text": [
      "2024-09-23 23:19:00.070995: I tensorflow/core/util/port.cc:153] oneDNN custom operations are on. You may see slightly different numerical results due to floating-point round-off errors from different computation orders. To turn them off, set the environment variable `TF_ENABLE_ONEDNN_OPTS=0`.\n",
      "2024-09-23 23:19:00.140068: E external/local_xla/xla/stream_executor/cuda/cuda_fft.cc:485] Unable to register cuFFT factory: Attempting to register factory for plugin cuFFT when one has already been registered\n",
      "2024-09-23 23:19:00.168956: E external/local_xla/xla/stream_executor/cuda/cuda_dnn.cc:8454] Unable to register cuDNN factory: Attempting to register factory for plugin cuDNN when one has already been registered\n",
      "2024-09-23 23:19:00.177659: E external/local_xla/xla/stream_executor/cuda/cuda_blas.cc:1452] Unable to register cuBLAS factory: Attempting to register factory for plugin cuBLAS when one has already been registered\n",
      "2024-09-23 23:19:00.224048: I tensorflow/core/platform/cpu_feature_guard.cc:210] This TensorFlow binary is optimized to use available CPU instructions in performance-critical operations.\n",
      "To enable the following instructions: AVX2 AVX_VNNI FMA, in other operations, rebuild TensorFlow with the appropriate compiler flags.\n",
      "2024-09-23 23:19:00.833838: W tensorflow/compiler/tf2tensorrt/utils/py_utils.cc:38] TF-TRT Warning: Could not find TensorRT\n"
     ]
    }
   ],
   "source": [
    "import tensorflow as tf\n",
    "import keras\n",
    "from keras import Model\n",
    "from keras import layers"
   ]
  },
  {
   "cell_type": "markdown",
   "id": "464274c8",
   "metadata": {},
   "source": [
    "\n",
    "#------------------------------------------------------------------------------------#\n",
    "##  THIS IS A TRAINING MODEL, IMPLEMENTION DETAIL MAY DIFFER FROM PRODUCTION MODEL  ##\n",
    "#------------------------------------------------------------------------------------#\n",
    "\n",
    "\n",
    "# TODO\n",
    "# THIS IS AN ABSTRACT BACKBONE SCRIPT, ADD ACTUAL IMPLEMENTATION LATER\n",
    "\n",
    "# NOTE\n",
    "# model detail"
   ]
  },
  {
   "cell_type": "code",
   "execution_count": null,
   "id": "5d3eafc2",
   "metadata": {},
   "outputs": [],
   "source": [
    "# global variables\n",
    "model = None # public"
   ]
  },
  {
   "cell_type": "code",
   "execution_count": null,
   "id": "dec35377",
   "metadata": {},
   "outputs": [],
   "source": [
    "# custom layer definition\n",
    "class Conv2Plus1D(layers.Layer):\n",
    "    def __init__(self, filters, kernel_size, strides, padding):\n",
    "        super().__init__()\n",
    "        self.seq = keras.Sequential([  \n",
    "        # Spatial decomposition\n",
    "        layers.Conv3D(filters=filters,\n",
    "                      kernel_size=(1, kernel_size[0], kernel_size[1]),\n",
    "                      padding=padding),\n",
    "        # Temporal decomposition\n",
    "        layers.Conv3D(filters=filters, \n",
    "                      kernel_size=(kernel_size[2], 1, 1),\n",
    "                      padding=padding)\n",
    "        ])\n",
    "\n",
    "    def call(self, x):\n",
    "        return self.seq(x)"
   ]
  },
  {
   "cell_type": "code",
   "execution_count": null,
   "id": "376af06b",
   "metadata": {},
   "outputs": [],
   "source": [
    "# the main model class\n",
    "class SLR_model(Model):\n",
    "    def __init__(self):\n",
    "        super().__init__()\n",
    "        pass\n",
    "\n",
    "    def call(self, x):\n",
    "        pass\n",
    "\n",
    "\n",
    "# the part that doesnt get executed when imported\n",
    "if __name__ == \"__main__\":\n",
    "    pass\n",
    "\n",
    "\n",
    "def get_model():\n",
    "    return model\n",
    "\n",
    "def set_model(new_model):\n",
    "    global model\n",
    "    model = new_model\n",
    "\n",
    "def train_or_fit():\n",
    "    pass"
   ]
  }
 ],
 "metadata": {
  "kernelspec": {
   "display_name": "Python 3 (ipykernel)",
   "language": "python",
   "name": "python3"
  },
  "language_info": {
   "codemirror_mode": {
    "name": "ipython",
    "version": 3
   },
   "file_extension": ".py",
   "mimetype": "text/x-python",
   "name": "python",
   "nbconvert_exporter": "python",
   "pygments_lexer": "ipython3",
   "version": "3.12.4"
  }
 },
 "nbformat": 4,
 "nbformat_minor": 5
}
