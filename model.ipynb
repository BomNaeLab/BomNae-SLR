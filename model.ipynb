{
 "cells": [
  {
   "cell_type": "code",
   "execution_count": 1,
   "id": "initial_id",
   "metadata": {
    "collapsed": true,
    "jupyter": {
     "outputs_hidden": true
    }
   },
   "outputs": [
    {
     "ename": "ModuleNotFoundError",
     "evalue": "No module named 'tensorflow'",
     "output_type": "error",
     "traceback": [
      "\u001b[1;31m---------------------------------------------------------------------------\u001b[0m",
      "\u001b[1;31mModuleNotFoundError\u001b[0m                       Traceback (most recent call last)",
      "Cell \u001b[1;32mIn[1], line 1\u001b[0m\n\u001b[1;32m----> 1\u001b[0m \u001b[38;5;28;01mimport\u001b[39;00m \u001b[38;5;21;01mtensorflow\u001b[39;00m \u001b[38;5;28;01mas\u001b[39;00m \u001b[38;5;21;01mtf\u001b[39;00m\n\u001b[0;32m      2\u001b[0m \u001b[38;5;28;01mimport\u001b[39;00m \u001b[38;5;21;01mkeras\u001b[39;00m\n\u001b[0;32m      3\u001b[0m \u001b[38;5;28;01mfrom\u001b[39;00m \u001b[38;5;21;01mkeras\u001b[39;00m \u001b[38;5;28;01mimport\u001b[39;00m Model\n",
      "\u001b[1;31mModuleNotFoundError\u001b[0m: No module named 'tensorflow'"
     ]
    }
   ],
   "source": [
    "import tensorflow as tf\n",
    "import keras\n",
    "from keras import Model\n",
    "from keras import layers\n",
    "import numpy as np"
   ]
  },
  {
   "cell_type": "markdown",
   "id": "464274c8",
   "metadata": {},
   "source": [
    "\n",
    "#------------------------------------------------------------------------------------#\n",
    "##  THIS IS A TRAINING MODEL, IMPLEMENTION DETAIL MAY DIFFER FROM PRODUCTION MODEL  ##\n",
    "#------------------------------------------------------------------------------------#\n",
    "\n",
    "\n",
    "# TODO\n",
    "# THIS IS AN ABSTRACT BACKBONE SCRIPT, ADD ACTUAL IMPLEMENTATION LATER\n",
    "\n",
    "# NOTE\n",
    "# model detail"
   ]
  },
  {
   "cell_type": "code",
   "execution_count": null,
   "id": "5d3eafc2",
   "metadata": {},
   "outputs": [],
   "source": [
    "# global variables\n",
    "model = None # public"
   ]
  },
  {
   "cell_type": "code",
   "execution_count": 2,
   "id": "dec35377",
   "metadata": {},
   "outputs": [],
   "source": [
    "# custom layer definition\n",
    "class Conv2Plus1D(layers.Layer):\n",
    "    def __init__(self, kernel_size, filters = 1, strides = (1,1,1), padding = 'valid'):\n",
    "        \"\"\"kernel_size is depth width height\"\"\"\n",
    "        super().__init__()\n",
    "        wh_stride = (1, strides[1], strides[2])\n",
    "        t_stride = (strides[0], 1, 1)\n",
    "        self.seq = keras.Sequential([  \n",
    "        # Spatial decomposition\n",
    "        layers.Conv3D(filters=filters,\n",
    "                      kernel_size=(1, kernel_size[1], kernel_size[2]), strides = wh_stride,\n",
    "                      padding=padding),\n",
    "        # Temporal decomposition\n",
    "        layers.Conv3D(filters=filters, \n",
    "                      kernel_size=(kernel_size[0], 1, 1), strides = t_stride,\n",
    "                      padding=padding)\n",
    "        ])\n",
    "\n",
    "    def call(self, x):\n",
    "        return self.seq(x)"
   ]
  },
  {
   "cell_type": "code",
   "execution_count": 3,
   "id": "376af06b",
   "metadata": {},
   "outputs": [],
   "source": [
    "# hand model\n",
    "class HandModel(Model):\n",
    "    # run it every 2 frames in order to give it 2 temporal stride\n",
    "    def __init__(self):\n",
    "        super().__init__()\n",
    "        self.conv21 = Conv2Plus1D(kernel_size = (25,3,3))\n",
    "        self.ln = layers.LayerNormalization()\n",
    "\n",
    "    def call(self, x, training= False):\n",
    "        x = self.conv21(x)\n",
    "        return self.ln(x, training= training)\n"
   ]
  },
  {
   "cell_type": "code",
   "execution_count": null,
   "id": "df2e3329",
   "metadata": {},
   "outputs": [],
   "source": [
    "# pose model\n",
    "class PoseModel(Model):\n",
    "    def __init__(self, kernel_size = (17,3)):\n",
    "        super().__init__()\n",
    "        self.kernel_size = kernel_size\n",
    "        self.dense_td = layers.TimeDistributed(layers.Dense(3, activation='relu'))\n",
    "        self.conv2_td = layers.TimeDistributed(layers.Conv2D(filters=1, kernel_size = kernel_size))\n",
    "        self.ln = layers.LayerNormalization()\n",
    "\n",
    "    def call(self, input, training= False):\n",
    "        # input shape:  batch time channel features\n",
    "        # output shape: batch channel conv_slide\n",
    "        x = self.dense_td(input, training = training)\n",
    "        # time channel FC_result -> channel time FC_result\n",
    "        x = layers.Permute((2, 1, 3))(x)\n",
    "        # force add required \"channel\" input for 2dCNN (not to confuse with xyz channel)\n",
    "        # shape to: xyz_channel, time, FC_result, 1\n",
    "        x = tf.expand_dims(x, axis=4)\n",
    "        x = self.conv2_td(x)\n",
    "        x = tf.squeeze(x)\n",
    "        #TODO ln axis\n",
    "        return self.ln(x, training = training)\n",
    "        "
   ]
  },
  {
   "cell_type": "code",
   "execution_count": null,
   "id": "2c48691e",
   "metadata": {},
   "outputs": [],
   "source": [
    "# the main model class\n",
    "class SLRModel(Model):\n",
    "    def __init__(self):\n",
    "        super().__init__()\n",
    "        pass\n",
    "\n",
    "    def call(self, inputs):\n",
    "        # inputs 0: L, 1: R, 2: Pose\n",
    "        \n",
    "        pass\n",
    "\n",
    "\n",
    "# the part that doesnt get executed when imported\n",
    "if __name__ == \"__main__\":\n",
    "    pass\n",
    "\n",
    "\n",
    "def get_model():\n",
    "    return model\n",
    "\n",
    "def set_model(new_model):\n",
    "    global model\n",
    "    model = new_model\n",
    "\n",
    "def train_or_fit():\n",
    "    pass"
   ]
  }
 ],
 "metadata": {
  "kernelspec": {
   "display_name": "Python 3 (ipykernel)",
   "language": "python",
   "name": "python3"
  },
  "language_info": {
   "codemirror_mode": {
    "name": "ipython",
    "version": 3
   },
   "file_extension": ".py",
   "mimetype": "text/x-python",
   "name": "python",
   "nbconvert_exporter": "python",
   "pygments_lexer": "ipython3",
   "version": "3.11.7"
  }
 },
 "nbformat": 4,
 "nbformat_minor": 5
}
